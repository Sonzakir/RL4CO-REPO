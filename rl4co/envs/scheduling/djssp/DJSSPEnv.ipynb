{
 "cells": [
  {
   "cell_type": "code",
   "execution_count": 1,
   "id": "8dc16610de7d7a77",
   "metadata": {
    "ExecuteTime": {
     "end_time": "2024-12-01T13:48:30.523450Z",
     "start_time": "2024-12-01T13:48:23.426041Z"
    }
   },
   "outputs": [
    {
     "name": "stderr",
     "output_type": "stream",
     "text": [
      "C:\\Users\\soner\\anaconda3\\envs\\env_rl4co\\lib\\site-packages\\tqdm\\auto.py:21: TqdmWarning: IProgress not found. Please update jupyter and ipywidgets. See https://ipywidgets.readthedocs.io/en/stable/user_install.html\n",
      "  from .autonotebook import tqdm as notebook_tqdm\n"
     ]
    }
   ],
   "source": [
    "import torch\n",
    "\n",
    "from rl4co.envs.scheduling.djssp.env import DJSSPEnv\n",
    "\n",
    "generator_params = {\"num_jobs\":5 ,\n",
    "    \"num_machines\": 6 ,\n",
    "    \"min_processing_time\":1 ,\n",
    "    \"max_processing_time\": 200 ,\n",
    "    \"mtbf\" : 17 ,\n",
    "    \"mttr\" : 4}\n",
    "env = DJSSPEnv(generator_params=generator_params)"
   ]
  },
  {
   "cell_type": "code",
   "execution_count": 2,
   "id": "378983c3bd2b32da",
   "metadata": {
    "ExecuteTime": {
     "end_time": "2024-12-01T13:48:30.648456Z",
     "start_time": "2024-12-01T13:48:30.523450Z"
    }
   },
   "outputs": [
    {
     "name": "stdout",
     "output_type": "stream",
     "text": [
      "JOB WITH ID 2 not arrived yet\n",
      "JOB WITH ID 3 not arrived yet\n",
      "JOB WITH ID 4 not arrived yet\n"
     ]
    }
   ],
   "source": [
    "td  = env.reset(batch_size=[1])"
   ]
  },
  {
   "cell_type": "code",
   "execution_count": 3,
   "id": "c35a5d64619cc4e9",
   "metadata": {
    "ExecuteTime": {
     "end_time": "2024-12-01T13:48:30.789073Z",
     "start_time": "2024-12-01T13:48:30.773461Z"
    },
    "scrolled": true
   },
   "outputs": [
    {
     "data": {
      "text/plain": [
       "TensorDict(\n",
       "    fields={\n",
       "        action_mask: Tensor(shape=torch.Size([1, 6]), device=cpu, dtype=torch.bool, is_shared=False),\n",
       "        actual_proc_times: Tensor(shape=torch.Size([1, 6, 30]), device=cpu, dtype=torch.float32, is_shared=False),\n",
       "        adjacency: Tensor(shape=torch.Size([1, 30, 30]), device=cpu, dtype=torch.float32, is_shared=False),\n",
       "        busy_until: Tensor(shape=torch.Size([1, 6]), device=cpu, dtype=torch.float32, is_shared=False),\n",
       "        done: Tensor(shape=torch.Size([1, 1]), device=cpu, dtype=torch.bool, is_shared=False),\n",
       "        end_op_per_job: Tensor(shape=torch.Size([1, 5]), device=cpu, dtype=torch.int64, is_shared=False),\n",
       "        finish_times: Tensor(shape=torch.Size([1, 30]), device=cpu, dtype=torch.float32, is_shared=False),\n",
       "        is_ready: Tensor(shape=torch.Size([1, 30]), device=cpu, dtype=torch.bool, is_shared=False),\n",
       "        job_arrival_times: Tensor(shape=torch.Size([1, 5]), device=cpu, dtype=torch.float32, is_shared=False),\n",
       "        job_done: Tensor(shape=torch.Size([1, 5]), device=cpu, dtype=torch.bool, is_shared=False),\n",
       "        job_in_process: Tensor(shape=torch.Size([1, 5]), device=cpu, dtype=torch.bool, is_shared=False),\n",
       "        job_ops_adj: Tensor(shape=torch.Size([1, 5, 30]), device=cpu, dtype=torch.int64, is_shared=False),\n",
       "        lbs: Tensor(shape=torch.Size([1, 30]), device=cpu, dtype=torch.float32, is_shared=False),\n",
       "        ma_assignment: Tensor(shape=torch.Size([1, 6, 30]), device=cpu, dtype=torch.float32, is_shared=False),\n",
       "        machine_breakdowns: NonTensorData(data=[{0: [{'TIME': 3.000  ...  3713805675506592}]}], batch_size=torch.Size([1]), device=None),\n",
       "        next_ma: Tensor(shape=torch.Size([1, 5]), device=cpu, dtype=torch.int64, is_shared=False),\n",
       "        next_op: Tensor(shape=torch.Size([1, 5]), device=cpu, dtype=torch.int64, is_shared=False),\n",
       "        num_eligible: Tensor(shape=torch.Size([1, 30]), device=cpu, dtype=torch.float32, is_shared=False),\n",
       "        op_scheduled: Tensor(shape=torch.Size([1, 30]), device=cpu, dtype=torch.bool, is_shared=False),\n",
       "        ops_adj: Tensor(shape=torch.Size([1, 30, 30, 2]), device=cpu, dtype=torch.float32, is_shared=False),\n",
       "        ops_job_map: Tensor(shape=torch.Size([1, 30]), device=cpu, dtype=torch.int64, is_shared=False),\n",
       "        ops_ma_adj: Tensor(shape=torch.Size([1, 6, 30]), device=cpu, dtype=torch.float32, is_shared=False),\n",
       "        ops_sequence_order: Tensor(shape=torch.Size([1, 30]), device=cpu, dtype=torch.int64, is_shared=False),\n",
       "        pad_mask: Tensor(shape=torch.Size([1, 30]), device=cpu, dtype=torch.bool, is_shared=False),\n",
       "        proc_times: Tensor(shape=torch.Size([1, 6, 30]), device=cpu, dtype=torch.float32, is_shared=False),\n",
       "        reward: Tensor(shape=torch.Size([1]), device=cpu, dtype=torch.float32, is_shared=False),\n",
       "        start_op_per_job: Tensor(shape=torch.Size([1, 5]), device=cpu, dtype=torch.int64, is_shared=False),\n",
       "        start_times: Tensor(shape=torch.Size([1, 30]), device=cpu, dtype=torch.float32, is_shared=False),\n",
       "        terminated: Tensor(shape=torch.Size([1, 1]), device=cpu, dtype=torch.bool, is_shared=False),\n",
       "        time: Tensor(shape=torch.Size([1]), device=cpu, dtype=torch.float32, is_shared=False)},\n",
       "    batch_size=torch.Size([1]),\n",
       "    device=None,\n",
       "    is_shared=False)"
      ]
     },
     "execution_count": 3,
     "metadata": {},
     "output_type": "execute_result"
    }
   ],
   "source": [
    "td"
   ]
  },
  {
   "cell_type": "code",
   "execution_count": 4,
   "id": "aba8700e1d59bb03",
   "metadata": {
    "ExecuteTime": {
     "end_time": "2024-12-01T13:48:30.835948Z",
     "start_time": "2024-12-01T13:48:30.804698Z"
    }
   },
   "outputs": [
    {
     "data": {
      "text/plain": [
       "tensor([[  0.,   0.,   0.,   0.,   0., 145.,   0.,   0.,   0., 130.,   0.,   0.,\n",
       "           0.,   0.,   0.,   0.,  26.,   0.,   0.,   0., 150.,   0.,   0.,   0.,\n",
       "         136.,   0.,   0.,   0.,   0.,   0.],\n",
       "        [ 11.,   0.,   0.,   0.,   0.,   0.,   0.,   0.,   0.,   0.,   0.,  37.,\n",
       "           0.,   0.,   0.,   0.,   0., 126.,   0.,  26.,   0.,   0.,   0.,   0.,\n",
       "           0.,   0.,   0.,  37.,   0.,   0.],\n",
       "        [  0.,   0.,   0.,   0., 120.,   0.,   0.,   0.,  62.,   0.,   0.,   0.,\n",
       "           0.,   0.,  40.,   0.,   0.,   0., 199.,   0.,   0.,   0.,   0.,   0.,\n",
       "           0.,   0.,  76.,   0.,   0.,   0.],\n",
       "        [  0.,   0.,   0., 126.,   0.,   0.,   0.,   0.,   0.,   0., 117.,   0.,\n",
       "           0.,   0.,   0.,  31.,   0.,   0.,   0.,   0.,   0.,   0.,   0.,  67.,\n",
       "           0.,   0.,   0.,   0., 168.,   0.],\n",
       "        [  0.,   0., 176.,   0.,   0.,   0., 170.,   0.,   0.,   0.,   0.,   0.,\n",
       "         135.,   0.,   0.,   0.,   0.,   0.,   0.,   0.,   0.,   0., 194.,   0.,\n",
       "           0.,   0.,   0.,   0.,   0., 144.],\n",
       "        [  0., 136.,   0.,   0.,   0.,   0.,   0.,  95.,   0.,   0.,   0.,   0.,\n",
       "           0., 157.,   0.,   0.,   0.,   0.,   0.,   0.,   0., 172.,   0.,   0.,\n",
       "           0.,  84.,   0.,   0.,   0.,   0.]])"
      ]
     },
     "execution_count": 4,
     "metadata": {},
     "output_type": "execute_result"
    }
   ],
   "source": [
    "td[\"proc_times\"][0]"
   ]
  },
  {
   "cell_type": "code",
   "execution_count": 5,
   "id": "e70cbfdc50b7ac11",
   "metadata": {
    "ExecuteTime": {
     "end_time": "2024-12-01T13:48:30.884418Z",
     "start_time": "2024-12-01T13:48:30.868788Z"
    }
   },
   "outputs": [
    {
     "data": {
      "text/plain": [
       "6"
      ]
     },
     "execution_count": 5,
     "metadata": {},
     "output_type": "execute_result"
    }
   ],
   "source": [
    "env.num_mas"
   ]
  },
  {
   "cell_type": "code",
   "execution_count": 6,
   "id": "4a93826a28915b85",
   "metadata": {
    "ExecuteTime": {
     "end_time": "2024-12-01T13:48:30.993794Z",
     "start_time": "2024-12-01T13:48:30.978172Z"
    },
    "scrolled": true
   },
   "outputs": [
    {
     "data": {
      "text/plain": [
       "tensor([[0., 0., 0., 0., 0., 0., 0., 0., 0., 0., 0., 0., 0., 0., 0., 0., 0., 0., 0., 0., 0., 0., 0., 0.,\n",
       "         0., 0., 0., 0., 0., 0.],\n",
       "        [0., 0., 0., 0., 0., 0., 0., 0., 0., 0., 0., 0., 0., 0., 0., 0., 0., 0., 0., 0., 0., 0., 0., 0.,\n",
       "         0., 0., 0., 0., 0., 0.],\n",
       "        [0., 0., 0., 0., 0., 0., 0., 0., 0., 0., 0., 0., 0., 0., 0., 0., 0., 0., 0., 0., 0., 0., 0., 0.,\n",
       "         0., 0., 0., 0., 0., 0.],\n",
       "        [0., 0., 0., 0., 0., 0., 0., 0., 0., 0., 0., 0., 0., 0., 0., 0., 0., 0., 0., 0., 0., 0., 0., 0.,\n",
       "         0., 0., 0., 0., 0., 0.],\n",
       "        [0., 0., 0., 0., 0., 0., 0., 0., 0., 0., 0., 0., 0., 0., 0., 0., 0., 0., 0., 0., 0., 0., 0., 0.,\n",
       "         0., 0., 0., 0., 0., 0.],\n",
       "        [0., 0., 0., 0., 0., 0., 0., 0., 0., 0., 0., 0., 0., 0., 0., 0., 0., 0., 0., 0., 0., 0., 0., 0.,\n",
       "         0., 0., 0., 0., 0., 0.]])"
      ]
     },
     "execution_count": 6,
     "metadata": {},
     "output_type": "execute_result"
    }
   ],
   "source": [
    "td[\"ma_assignment\"][0]"
   ]
  },
  {
   "cell_type": "code",
   "execution_count": 7,
   "id": "f183d7deaa40f1d3",
   "metadata": {
    "ExecuteTime": {
     "end_time": "2024-12-01T13:48:31.324216Z",
     "start_time": "2024-12-01T13:48:31.292974Z"
    },
    "scrolled": true
   },
   "outputs": [
    {
     "data": {
      "text/plain": [
       "tensor([[  0.0000,   0.0000,   0.0000,   0.0000,   0.0000, 170.0129,   0.0000,\n",
       "           0.0000,   0.0000, 127.1407,   0.0000,   0.0000,   0.0000,   0.0000,\n",
       "           0.0000,   0.0000,  25.3751,   0.0000,   0.0000,   0.0000, 155.8332,\n",
       "           0.0000,   0.0000,   0.0000, 157.3247,   0.0000,   0.0000,   0.0000,\n",
       "           0.0000,   0.0000],\n",
       "        [ 10.8153,   0.0000,   0.0000,   0.0000,   0.0000,   0.0000,   0.0000,\n",
       "           0.0000,   0.0000,   0.0000,   0.0000,  24.2006,   0.0000,   0.0000,\n",
       "           0.0000,   0.0000,   0.0000, 114.4445,   0.0000,  30.0945,   0.0000,\n",
       "           0.0000,   0.0000,   0.0000,   0.0000,   0.0000,   0.0000,  33.6600,\n",
       "           0.0000,   0.0000],\n",
       "        [  0.0000,   0.0000,   0.0000,   0.0000, 113.8439,   0.0000,   0.0000,\n",
       "           0.0000,  58.6793,   0.0000,   0.0000,   0.0000,   0.0000,   0.0000,\n",
       "          44.2891,   0.0000,   0.0000,   0.0000, 206.5757,   0.0000,   0.0000,\n",
       "           0.0000,   0.0000,   0.0000,   0.0000,   0.0000,  69.3452,   0.0000,\n",
       "           0.0000,   0.0000],\n",
       "        [  0.0000,   0.0000,   0.0000, 124.5234,   0.0000,   0.0000,   0.0000,\n",
       "           0.0000,   0.0000,   0.0000, 108.6772,   0.0000,   0.0000,   0.0000,\n",
       "           0.0000,  26.9856,   0.0000,   0.0000,   0.0000,   0.0000,   0.0000,\n",
       "           0.0000,   0.0000,  70.4332,   0.0000,   0.0000,   0.0000,   0.0000,\n",
       "         176.5905,   0.0000],\n",
       "        [  0.0000,   0.0000, 176.0300,   0.0000,   0.0000,   0.0000, 142.5049,\n",
       "           0.0000,   0.0000,   0.0000,   0.0000,   0.0000, 117.3728,   0.0000,\n",
       "           0.0000,   0.0000,   0.0000,   0.0000,   0.0000,   0.0000,   0.0000,\n",
       "           0.0000, 205.6543,   0.0000,   0.0000,   0.0000,   0.0000,   0.0000,\n",
       "           0.0000, 150.5234],\n",
       "        [  0.0000, 134.4395,   0.0000,   0.0000,   0.0000,   0.0000,   0.0000,\n",
       "          81.6560,   0.0000,   0.0000,   0.0000,   0.0000,   0.0000, 166.7260,\n",
       "           0.0000,   0.0000,   0.0000,   0.0000,   0.0000,   0.0000,   0.0000,\n",
       "         175.7618,   0.0000,   0.0000,   0.0000, 104.6681,   0.0000,   0.0000,\n",
       "           0.0000,   0.0000]])"
      ]
     },
     "execution_count": 7,
     "metadata": {},
     "output_type": "execute_result"
    }
   ],
   "source": [
    "td[\"actual_proc_times\"][0]"
   ]
  },
  {
   "cell_type": "code",
   "execution_count": 8,
   "id": "4d743582da37b704",
   "metadata": {
    "ExecuteTime": {
     "end_time": "2024-12-01T13:48:31.875941Z",
     "start_time": "2024-12-01T13:48:31.860313Z"
    }
   },
   "outputs": [
    {
     "data": {
      "text/plain": [
       "5"
      ]
     },
     "execution_count": 8,
     "metadata": {},
     "output_type": "execute_result"
    }
   ],
   "source": [
    "env.num_jobs"
   ]
  },
  {
   "cell_type": "code",
   "execution_count": 9,
   "id": "daf15435-8dd4-42f1-a3b2-1b14de6b47f7",
   "metadata": {},
   "outputs": [
    {
     "name": "stdout",
     "output_type": "stream",
     "text": [
      "JOB WITH ID 2 not arrived yet\n",
      "JOB WITH ID 3 not arrived yet\n",
      "JOB WITH ID 4 not arrived yet\n"
     ]
    },
    {
     "data": {
      "text/plain": [
       "tensor([[[ True, False,  True,  True,  True,  True],\n",
       "         [ True,  True,  True,  True, False,  True],\n",
       "         [False, False, False, False, False, False],\n",
       "         [False, False, False, False, False, False],\n",
       "         [False, False, False, False, False, False]]])"
      ]
     },
     "execution_count": 9,
     "metadata": {},
     "output_type": "execute_result"
    }
   ],
   "source": [
    "get_job_ma_avail = env._get_job_machine_availability(td)\n",
    "get_job_ma_avail"
   ]
  },
  {
   "cell_type": "code",
   "execution_count": 10,
   "id": "5715d686-5e31-4986-a941-6e0887c2b05d",
   "metadata": {},
   "outputs": [
    {
     "data": {
      "text/plain": [
       "torch.Size([1, 5, 6])"
      ]
     },
     "execution_count": 10,
     "metadata": {},
     "output_type": "execute_result"
    }
   ],
   "source": [
    "get_job_ma_avail.shape #5 jobs 6 machines"
   ]
  },
  {
   "cell_type": "code",
   "execution_count": 11,
   "id": "3d1af6a5-d9d1-4030-abd3-626319a4ad65",
   "metadata": {},
   "outputs": [
    {
     "data": {
      "text/plain": [
       "tensor([ True, False,  True,  True,  True,  True])"
      ]
     },
     "execution_count": 11,
     "metadata": {},
     "output_type": "execute_result"
    }
   ],
   "source": [
    "job=0\n",
    "get_job_ma_avail[0][job]"
   ]
  },
  {
   "cell_type": "code",
   "execution_count": 12,
   "id": "b73bd65e-196e-42b7-9f39-f8e757a71bbf",
   "metadata": {},
   "outputs": [
    {
     "data": {
      "text/plain": [
       "tensor([False, False, False, False, False, False])"
      ]
     },
     "execution_count": 12,
     "metadata": {},
     "output_type": "execute_result"
    }
   ],
   "source": [
    "job=0\n",
    "get_job_ma_avail[0][job].fill_(False)"
   ]
  },
  {
   "cell_type": "code",
   "execution_count": 13,
   "id": "1dd97ccb-fe08-4520-b779-f2253b7484c7",
   "metadata": {},
   "outputs": [
    {
     "data": {
      "text/plain": [
       "tensor([[13.7706, 36.8782, 63.9507, 72.1633, 73.9766]])"
      ]
     },
     "execution_count": 13,
     "metadata": {},
     "output_type": "execute_result"
    }
   ],
   "source": [
    "td[\"job_arrival_times\"]"
   ]
  },
  {
   "cell_type": "code",
   "execution_count": 14,
   "id": "59ad5cad-3d1b-4666-9130-9a30e741d231",
   "metadata": {},
   "outputs": [
    {
     "data": {
      "text/plain": [
       "torch.Size([5])"
      ]
     },
     "execution_count": 14,
     "metadata": {},
     "output_type": "execute_result"
    }
   ],
   "source": [
    "td[\"job_arrival_times\"].squeeze(0).shape"
   ]
  },
  {
   "cell_type": "code",
   "execution_count": 15,
   "id": "452fd6bb-150a-44a2-b30a-e6834035060e",
   "metadata": {},
   "outputs": [
    {
     "data": {
      "text/plain": [
       "tensor([False, False,  True,  True,  True])"
      ]
     },
     "execution_count": 15,
     "metadata": {},
     "output_type": "execute_result"
    }
   ],
   "source": [
    "time = 38\n",
    "boo = td[\"job_arrival_times\"].squeeze(0).ge(time)\n",
    "boo"
   ]
  },
  {
   "cell_type": "code",
   "execution_count": 16,
   "id": "94631eaf-9f68-442d-9b24-ee3fb34014da",
   "metadata": {},
   "outputs": [
    {
     "data": {
      "text/plain": [
       "tensor([[[False, False, False, False, False, False],\n",
       "         [False, False, False, False, False, False],\n",
       "         [False, False, False, False, False, False],\n",
       "         [False, False, False, False, False, False],\n",
       "         [False, False, False, False, False, False]]])"
      ]
     },
     "execution_count": 16,
     "metadata": {},
     "output_type": "execute_result"
    }
   ],
   "source": [
    "for i in range(env.num_jobs):\n",
    "    if(not boo[i]):\n",
    "        get_job_ma_avail[0][i].fill_(False)\n",
    "get_job_ma_avail"
   ]
  },
  {
   "cell_type": "code",
   "execution_count": 17,
   "id": "37ae1062-2c9e-4af4-8e1f-ce5a1fcf71eb",
   "metadata": {},
   "outputs": [
    {
     "data": {
      "text/plain": [
       "tensor([False, False, False, False, False, False])"
      ]
     },
     "execution_count": 17,
     "metadata": {},
     "output_type": "execute_result"
    }
   ],
   "source": [
    "job=1\n",
    "get_job_ma_avail[0][job].fill_(False)"
   ]
  },
  {
   "cell_type": "code",
   "execution_count": 18,
   "id": "e8ca6bac-66d2-43d4-ad19-74a854307feb",
   "metadata": {},
   "outputs": [
    {
     "data": {
      "text/plain": [
       "tensor([[False, False, False, False, False, False],\n",
       "        [False, False, False, False, False, False],\n",
       "        [False, False, False, False, False, False],\n",
       "        [False, False, False, False, False, False],\n",
       "        [False, False, False, False, False, False]])"
      ]
     },
     "execution_count": 18,
     "metadata": {},
     "output_type": "execute_result"
    }
   ],
   "source": [
    "get_job_ma_avail.squeeze(0)"
   ]
  },
  {
   "cell_type": "code",
   "execution_count": 19,
   "id": "978e29788ec44a57",
   "metadata": {},
   "outputs": [
    {
     "name": "stdout",
     "output_type": "stream",
     "text": [
      "JOB WITH ID 2 not arrived yet\n",
      "JOB WITH ID 3 not arrived yet\n",
      "JOB WITH ID 4 not arrived yet\n"
     ]
    },
    {
     "data": {
      "text/plain": [
       "tensor([[[ True, False,  True,  True,  True,  True],\n",
       "         [ True,  True,  True,  True, False,  True],\n",
       "         [False, False, False, False, False, False],\n",
       "         [False, False, False, False, False, False],\n",
       "         [False, False, False, False, False, False]]])"
      ]
     },
     "execution_count": 19,
     "metadata": {},
     "output_type": "execute_result"
    }
   ],
   "source": [
    "env._get_job_machine_availability(td)"
   ]
  },
  {
   "cell_type": "code",
   "execution_count": 20,
   "id": "60cb1f66-9827-4012-91da-8d69bf4dabfd",
   "metadata": {},
   "outputs": [
    {
     "name": "stdout",
     "output_type": "stream",
     "text": [
      "JOB WITH ID 2 not arrived yet\n",
      "JOB WITH ID 3 not arrived yet\n",
      "JOB WITH ID 4 not arrived yet\n"
     ]
    },
    {
     "data": {
      "text/plain": [
       "tensor([[[ True, False,  True,  True,  True,  True],\n",
       "         [ True,  True,  True,  True, False,  True],\n",
       "         [False, False, False, False, False, False],\n",
       "         [False, False, False, False, False, False],\n",
       "         [False, False, False, False, False, False]]])"
      ]
     },
     "execution_count": 20,
     "metadata": {},
     "output_type": "execute_result"
    }
   ],
   "source": [
    "env._get_job_machine_availability(td)"
   ]
  },
  {
   "cell_type": "code",
   "execution_count": 21,
   "id": "5e36505f-15c4-4786-88bb-cb3f9232c894",
   "metadata": {},
   "outputs": [
    {
     "data": {
      "text/plain": [
       "tensor([46.])"
      ]
     },
     "execution_count": 21,
     "metadata": {},
     "output_type": "execute_result"
    }
   ],
   "source": [
    "td[\"time\"]"
   ]
  },
  {
   "cell_type": "code",
   "execution_count": 22,
   "id": "948e3010-8afc-410b-8e9c-70ce4f2d7158",
   "metadata": {},
   "outputs": [
    {
     "data": {
      "text/plain": [
       "tensor([12.])"
      ]
     },
     "execution_count": 22,
     "metadata": {},
     "output_type": "execute_result"
    }
   ],
   "source": [
    "torch.Tensor([12.])"
   ]
  },
  {
   "cell_type": "markdown",
   "id": "5ba4188b-a94f-49a4-8653-e9914c332e8a",
   "metadata": {},
   "source": [
    "# JSSP"
   ]
  },
  {
   "cell_type": "code",
   "execution_count": 23,
   "id": "423031c89904e597",
   "metadata": {
    "ExecuteTime": {
     "end_time": "2024-12-01T13:48:32.070513Z",
     "start_time": "2024-12-01T13:48:32.054887Z"
    }
   },
   "outputs": [],
   "source": [
    "from rl4co.envs.scheduling.jssp.env import JSSPEnv\n",
    "jssp_gen_params = {\"num_jobs\":5 ,\n",
    "    \"num_machines\": 6 ,\n",
    "    \"min_processing_time\":1 ,\n",
    "    \"max_processing_time\": 200 }\n",
    "jssp = JSSPEnv(generator_params=jssp_gen_params)\n",
    "jssp_td = jssp.reset(batch_size=[2])"
   ]
  },
  {
   "cell_type": "code",
   "execution_count": 24,
   "id": "8dedd8e8266d0de0",
   "metadata": {
    "ExecuteTime": {
     "end_time": "2024-12-01T13:48:32.572937Z",
     "start_time": "2024-12-01T13:48:32.557313Z"
    }
   },
   "outputs": [
    {
     "data": {
      "text/plain": [
       "tensor([[  0.,   0.,   0.,   0.,   0., 162.,   0.,   0., 124.,   0.,   0.,   0.,\n",
       "           0.,   0., 188.,   0.,   0.,   0.,   0.,   0.,   0.,   0.,   0.,  75.,\n",
       "          31.,   0.,   0.,   0.,   0.,   0.],\n",
       "        [  0.,   0.,   0.,  56.,   0.,   0.,   0.,   0.,   0.,   0., 183.,   0.,\n",
       "           0., 100.,   0.,   0.,   0.,   0.,   0.,   0., 156.,   0.,   0.,   0.,\n",
       "           0.,   0.,   0.,  98.,   0.,   0.],\n",
       "        [  0., 138.,   0.,   0.,   0.,   0.,   0.,   0.,   0.,   0.,   0.,  93.,\n",
       "           0.,   0.,   0.,  55.,   0.,   0.,  90.,   0.,   0.,   0.,   0.,   0.,\n",
       "           0., 139.,   0.,   0.,   0.,   0.],\n",
       "        [ 64.,   0.,   0.,   0.,   0.,   0.,   0., 164.,   0.,   0.,   0.,   0.,\n",
       "           0.,   0.,   0.,   0.,   0.,   7.,   0., 119.,   0.,   0.,   0.,   0.,\n",
       "           0.,   0.,  81.,   0.,   0.,   0.],\n",
       "        [  0.,   0.,   0.,   0.,   6.,   0.,   0.,   0.,   0., 158.,   0.,   0.,\n",
       "           6.,   0.,   0.,   0.,   0.,   0.,   0.,   0.,   0.,  78.,   0.,   0.,\n",
       "           0.,   0.,   0.,   0.,   0., 172.],\n",
       "        [  0.,   0., 137.,   0.,   0.,   0.,  84.,   0.,   0.,   0.,   0.,   0.,\n",
       "           0.,   0.,   0.,   0.,   3.,   0.,   0.,   0.,   0.,   0., 122.,   0.,\n",
       "           0.,   0.,   0.,   0.,  25.,   0.]])"
      ]
     },
     "execution_count": 24,
     "metadata": {},
     "output_type": "execute_result"
    }
   ],
   "source": [
    "jssp_td[\"proc_times\"][0]"
   ]
  },
  {
   "cell_type": "code",
   "execution_count": 25,
   "id": "4175a6a46940beba",
   "metadata": {
    "ExecuteTime": {
     "end_time": "2024-12-01T13:48:32.763632Z",
     "start_time": "2024-12-01T13:48:32.748008Z"
    }
   },
   "outputs": [
    {
     "data": {
      "text/plain": [
       "tensor([[False,  True,  True,  True,  True,  True],\n",
       "        [False,  True,  True,  True,  True,  True]])"
      ]
     },
     "execution_count": 25,
     "metadata": {},
     "output_type": "execute_result"
    }
   ],
   "source": [
    "action_mask_table =jssp.get_action_mask(jssp_td)\n",
    "action_mask_table"
   ]
  },
  {
   "cell_type": "code",
   "execution_count": 26,
   "id": "427ac2cee0564b97",
   "metadata": {
    "ExecuteTime": {
     "end_time": "2024-12-01T13:48:33.739547Z",
     "start_time": "2024-12-01T13:48:32.985785Z"
    }
   },
   "outputs": [
    {
     "name": "stdout",
     "output_type": "stream",
     "text": [
      "torch.Size([2, 30, 64])\n",
      "torch.Size([2, 6, 64])\n"
     ]
    }
   ],
   "source": [
    "from rl4co.models.nn.graph.hgnn import HetGNNEncoder\n",
    "\n",
    "encoder = HetGNNEncoder(embed_dim=64, num_layers=2)\n",
    "(ma_emb, op_emb), init = encoder(jssp_td)\n",
    "print(ma_emb.shape)\n",
    "print(op_emb.shape)"
   ]
  },
  {
   "cell_type": "code",
   "execution_count": 27,
   "id": "891e302ee03e7b5e",
   "metadata": {
    "ExecuteTime": {
     "end_time": "2024-12-01T13:48:33.848937Z",
     "start_time": "2024-12-01T13:48:33.817674Z"
    }
   },
   "outputs": [
    {
     "data": {
      "text/plain": [
       "tensor([[ 0,  6, 12, 18, 24],\n",
       "        [ 0,  6, 12, 18, 24]])"
      ]
     },
     "execution_count": 27,
     "metadata": {},
     "output_type": "execute_result"
    }
   ],
   "source": [
    "jssp_td[\"next_op\"]"
   ]
  },
  {
   "cell_type": "code",
   "execution_count": 28,
   "id": "d227d426934f1d4c",
   "metadata": {
    "ExecuteTime": {
     "end_time": "2024-12-01T13:48:33.973927Z",
     "start_time": "2024-12-01T13:48:33.958300Z"
    }
   },
   "outputs": [
    {
     "name": "stdout",
     "output_type": "stream",
     "text": [
      "torch.Size([2, 6])\n"
     ]
    },
    {
     "data": {
      "text/plain": [
       "tensor([[ 0.0428,  0.1844,  0.1832,  0.0908,  0.0502, -0.0605],\n",
       "        [ 0.0428,  0.3434,  0.2670,  0.2131,  0.2765,  0.1645]],\n",
       "       grad_fn=<SqueezeBackward1>)"
      ]
     },
     "execution_count": 28,
     "metadata": {},
     "output_type": "execute_result"
    }
   ],
   "source": [
    "from rl4co.models.zoo.l2d.decoder import L2DDecoder\n",
    "\n",
    "decoder = L2DDecoder(env_name=\"jssp\", embed_dim=128)\n",
    "logits, mask = decoder(jssp_td, (ma_emb, op_emb), num_starts=0)\n",
    "# (1 + num_jobs * num_machines)\n",
    "print(logits.shape)\n",
    "logits"
   ]
  },
  {
   "cell_type": "code",
   "execution_count": 29,
   "id": "8e787c8301363a91",
   "metadata": {
    "ExecuteTime": {
     "end_time": "2024-12-01T13:48:34.239550Z",
     "start_time": "2024-12-01T13:48:34.223925Z"
    }
   },
   "outputs": [],
   "source": [
    "def make_step(td):\n",
    "    logits, mask = decoder(td, (ma_emb, op_emb), num_starts=0)\n",
    "    action = logits.masked_fill(~mask, -torch.inf).argmax(1)\n",
    "    td[\"action\"] = action\n",
    "    td = env.step(td)[\"next\"]\n",
    "    return td"
   ]
  },
  {
   "cell_type": "code",
   "execution_count": 30,
   "id": "47acdf7c9642b2c4",
   "metadata": {
    "ExecuteTime": {
     "end_time": "2024-12-01T13:48:34.446301Z",
     "start_time": "2024-12-01T13:48:34.430650Z"
    }
   },
   "outputs": [
    {
     "data": {
      "text/plain": [
       "tensor([1, 1])"
      ]
     },
     "execution_count": 30,
     "metadata": {},
     "output_type": "execute_result"
    }
   ],
   "source": [
    "action = logits.masked_fill(~mask, -torch.inf).argmax(1)\n",
    "action"
   ]
  },
  {
   "cell_type": "code",
   "execution_count": 31,
   "id": "b530f3110dfc8c9",
   "metadata": {
    "ExecuteTime": {
     "end_time": "2024-12-01T13:48:34.669791Z",
     "start_time": "2024-12-01T13:48:34.654153Z"
    }
   },
   "outputs": [
    {
     "data": {
      "text/plain": [
       "tensor(1)"
      ]
     },
     "execution_count": 31,
     "metadata": {},
     "output_type": "execute_result"
    }
   ],
   "source": [
    "jssp_td[\"action\"] = action\n",
    "action[0]"
   ]
  },
  {
   "cell_type": "code",
   "execution_count": 32,
   "id": "3983fcf5b0d0102e",
   "metadata": {
    "ExecuteTime": {
     "end_time": "2024-12-01T13:48:34.857534Z",
     "start_time": "2024-12-01T13:48:34.841909Z"
    }
   },
   "outputs": [
    {
     "data": {
      "text/plain": [
       "tensor(1)"
      ]
     },
     "execution_count": 32,
     "metadata": {},
     "output_type": "execute_result"
    }
   ],
   "source": [
    "action[1]"
   ]
  },
  {
   "cell_type": "code",
   "execution_count": 33,
   "id": "c2cf6cac8b9f93ea",
   "metadata": {
    "ExecuteTime": {
     "end_time": "2024-12-01T13:48:35.110179Z",
     "start_time": "2024-12-01T13:48:35.078878Z"
    }
   },
   "outputs": [
    {
     "data": {
      "text/plain": [
       "tensor([[  0.,   0.,  81.,   0.,   0.,   0.,   0.,   0.,   0.,   0., 198.,   0.,\n",
       "           0.,   0.,   0.,  95.,   0.,   0.,   0.,   0.,   0.,  34.,   0.,   0.,\n",
       "           0.,   0.,  60.,   0.,   0.,   0.],\n",
       "        [  0.,   0.,   0., 198.,   0.,   0.,   0.,   0.,   0., 134.,   0.,   0.,\n",
       "           0.,   0.,   0.,   0.,   0., 141.,   0.,   0.,   0.,   0.,   0., 156.,\n",
       "           0.,   0.,   0.,   0.,   9.,   0.],\n",
       "        [  0.,   0.,   0.,   0.,   0.,   0., 127.,   0.,   0.,   0.,   0.,   0.,\n",
       "           0.,   0.,   0.,   0.,  38.,   0.,   3.,   0.,   0.,   0.,   0.,   0.,\n",
       "          89.,   0.,   0.,   0.,   0.,   0.],\n",
       "        [  0.,   0.,   0.,   0.,  10.,   0.,   0.,   0., 108.,   0.,   0.,   0.,\n",
       "           0.,   0.,  77.,   0.,   0.,   0.,   0.,   0.,  80.,   0.,   0.,   0.,\n",
       "           0.,   0.,   0.,   0.,   0.,  34.],\n",
       "        [  0., 134.,   0.,   0.,   0.,   0.,   0.,   0.,   0.,   0.,   0., 147.,\n",
       "           0., 115.,   0.,   0.,   0.,   0.,   0.,  20.,   0.,   0.,   0.,   0.,\n",
       "           0.,   0.,   0., 194.,   0.,   0.],\n",
       "        [  0.,   0.,   0.,   0.,   0.,  20.,   0.,   3.,   0.,   0.,   0.,   0.,\n",
       "          89.,   0.,   0.,   0.,   0.,   0.,   0.,   0.,   0.,   0.,  46.,   0.,\n",
       "           0.,  65.,   0.,   0.,   0.,   0.]])"
      ]
     },
     "execution_count": 33,
     "metadata": {},
     "output_type": "execute_result"
    }
   ],
   "source": [
    "stepten_sonra = jssp.step(jssp_td)[\"next\"]\n",
    "stepten_sonra[\"proc_times\"][1]\n",
    "# J1'in ilk operation'ini yapmis -> yani action == 1 demek -> ilk operasyonu yap demek -> yani su mantik J0[yok] J1[0-5] J2[6-11] J3[12-17] J4[18-23] J5[24-29]\n",
    "# get_action_mask'in bir tane fazla x_achse'sinin olma sebebi ve bunun hep false olma sebebi-> J0'in olmamasi ya da en azindan secilememsi aksiyon olarak\n",
    "# aksiyon olarka secilebilecek joblarin indexi hep 1'den basliyor"
   ]
  },
  {
   "cell_type": "code",
   "execution_count": 34,
   "id": "4c463eadaa266fce",
   "metadata": {
    "ExecuteTime": {
     "end_time": "2024-12-01T13:48:35.235153Z",
     "start_time": "2024-12-01T13:48:35.219528Z"
    }
   },
   "outputs": [
    {
     "data": {
      "text/plain": [
       "tensor([[  0.,   0.,   0.,   0.,   0., 162.,   0.,   0., 124.,   0.,   0.,   0.,\n",
       "           0.,   0., 188.,   0.,   0.,   0.,   0.,   0.,   0.,   0.,   0.,  75.,\n",
       "          31.,   0.,   0.,   0.,   0.,   0.],\n",
       "        [  0.,   0.,   0.,  56.,   0.,   0.,   0.,   0.,   0.,   0., 183.,   0.,\n",
       "           0., 100.,   0.,   0.,   0.,   0.,   0.,   0., 156.,   0.,   0.,   0.,\n",
       "           0.,   0.,   0.,  98.,   0.,   0.],\n",
       "        [  0., 138.,   0.,   0.,   0.,   0.,   0.,   0.,   0.,   0.,   0.,  93.,\n",
       "           0.,   0.,   0.,  55.,   0.,   0.,  90.,   0.,   0.,   0.,   0.,   0.,\n",
       "           0., 139.,   0.,   0.,   0.,   0.],\n",
       "        [  0.,   0.,   0.,   0.,   0.,   0.,   0., 164.,   0.,   0.,   0.,   0.,\n",
       "           0.,   0.,   0.,   0.,   0.,   7.,   0., 119.,   0.,   0.,   0.,   0.,\n",
       "           0.,   0.,  81.,   0.,   0.,   0.],\n",
       "        [  0.,   0.,   0.,   0.,   6.,   0.,   0.,   0.,   0., 158.,   0.,   0.,\n",
       "           6.,   0.,   0.,   0.,   0.,   0.,   0.,   0.,   0.,  78.,   0.,   0.,\n",
       "           0.,   0.,   0.,   0.,   0., 172.],\n",
       "        [  0.,   0., 137.,   0.,   0.,   0.,  84.,   0.,   0.,   0.,   0.,   0.,\n",
       "           0.,   0.,   0.,   0.,   3.,   0.,   0.,   0.,   0.,   0., 122.,   0.,\n",
       "           0.,   0.,   0.,   0.,  25.,   0.]])"
      ]
     },
     "execution_count": 34,
     "metadata": {},
     "output_type": "execute_result"
    }
   ],
   "source": [
    "stepten_sonra[\"proc_times\"][0]\n",
    "# J2'nin ilk operasyonunu yapmasi gerekiyor -> cünkü secilen action 2 == job2 --> action_mask table'da neden hala ilk column full yanlis anlamiyorum\n",
    "# yani yapmis olmasi gerekn operation 12"
   ]
  },
  {
   "cell_type": "code",
   "execution_count": null,
   "id": "33620efa820f1691",
   "metadata": {
    "ExecuteTime": {
     "end_time": "2024-12-01T13:48:35.392254Z",
     "start_time": "2024-12-01T13:48:35.376646Z"
    }
   },
   "outputs": [],
   "source": []
  },
  {
   "cell_type": "code",
   "execution_count": null,
   "id": "fd62e9798f4b5cff",
   "metadata": {},
   "outputs": [],
   "source": []
  }
 ],
 "metadata": {
  "kernelspec": {
   "display_name": "Python 3 (ipykernel)",
   "language": "python",
   "name": "python3"
  },
  "language_info": {
   "codemirror_mode": {
    "name": "ipython",
    "version": 3
   },
   "file_extension": ".py",
   "mimetype": "text/x-python",
   "name": "python",
   "nbconvert_exporter": "python",
   "pygments_lexer": "ipython3",
   "version": "3.10.15"
  }
 },
 "nbformat": 4,
 "nbformat_minor": 5
}
