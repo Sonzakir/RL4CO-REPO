{
 "cells": [
  {
   "cell_type": "markdown",
   "id": "3e8ae1241d1fed00",
   "metadata": {},
   "source": [
    "# Integrating machine breakdowns in the environment"
   ]
  },
  {
   "cell_type": "markdown",
   "id": "ea82bcc54f6382e0",
   "metadata": {},
   "source": [
    "- To manage the machine breakdowns within the environmnet, i have implemented the`` _check_machine_breakdowns(td)`` method in the environment."
   ]
  },
  {
   "cell_type": "markdown",
   "id": "6bd1a1411ac3fbf",
   "metadata": {},
   "source": []
  },
  {
   "cell_type": "markdown",
   "id": "1473f2f18d50651c",
   "metadata": {},
   "source": [
    "### Documentation of the ``_check_machine_breakdowns(td)`` method"
   ]
  },
  {
   "cell_type": "markdown",
   "id": "e77b1bf63f551c59",
   "metadata": {},
   "source": [
    "- INPUT: td\n",
    "    - this method takes a tensordict representing the state of the environment as an input and follows following process"
   ]
  },
  {
   "cell_type": "markdown",
   "id": "a5219ad27cecbfd3",
   "metadata": {},
   "source": [
    "- Our main logic in here is that, we iterate over each machine in each batch\n",
    "    - 1. we firstly get the breakdowns of the machine\n",
    "      2. then we check all the machine breakdowns if this machine has a breakdown at the current time\n",
    "      3. If machine has a breakdown\n",
    "            - Then we mark machine busy_until the from this time till machine is repaired, therefore machine can not process any operation\n",
    "            - Then we give the tensordict with the updated busy_until enties back"
   ]
  },
  {
   "cell_type": "markdown",
   "id": "aa3500f08f3813c1",
   "metadata": {},
   "source": [
    "- Since, according to our assomptions a job cannot be preempted or interrupted,\n",
    "- we need to check at each decision step whether a job has a machine breakdown or not"
   ]
  },
  {
   "cell_type": "markdown",
   "id": "d34c43c3b9819819",
   "metadata": {},
   "source": [
    "- In case a machine has a breakdown right at the beginning\n",
    "    - we reset'e ekleseydik daha mi olurdu acba a"
   ]
  },
  {
   "cell_type": "markdown",
   "id": "6c3b70de2b9eeb28",
   "metadata": {},
   "source": [
    "peki her decision step'inde bunu nasil kullanacagiz"
   ]
  },
  {
   "cell_type": "markdown",
   "id": "72b2bcde0af5d682",
   "metadata": {},
   "source": [
    "# Manually chekcing if the ``_check_machine_breakdowns()`` method correct functions"
   ]
  },
  {
   "cell_type": "markdown",
   "id": "748e9779cd1cda85",
   "metadata": {},
   "source": [
    "## 1. Implementing the environment"
   ]
  },
  {
   "cell_type": "code",
   "execution_count": 2,
   "id": "ba74f85b72454976",
   "metadata": {
    "ExecuteTime": {
     "end_time": "2024-12-09T16:53:23.895072Z",
     "start_time": "2024-12-09T16:53:09.363234Z"
    }
   },
   "outputs": [
    {
     "name": "stderr",
     "output_type": "stream",
     "text": [
      "C:\\Users\\soner\\anaconda3\\envs\\env_rl4co\\lib\\site-packages\\tqdm\\auto.py:21: TqdmWarning: IProgress not found. Please update jupyter and ipywidgets. See https://ipywidgets.readthedocs.io/en/stable/user_install.html\n",
      "  from .autonotebook import tqdm as notebook_tqdm\n"
     ]
    }
   ],
   "source": [
    "from rl4co.envs.scheduling.djssp.env import DJSSPEnv\n",
    "from rl4co.models import L2DPolicy, L2DModel\n",
    "from rl4co.utils import RL4COTrainer\n",
    "import gc\n",
    "from rl4co.envs import JSSPEnv\n",
    "from rl4co.models.zoo.l2d.model import L2DPPOModel\n",
    "from rl4co.models.zoo.l2d.policy import L2DPolicy4PPO\n",
    "from torch.utils.data import DataLoader\n",
    "import json\n",
    "import os\n",
    "import torch\n",
    "import numpy as np\n",
    "import matplotlib.pyplot as plt\n",
    "import numpy as np\n",
    "from IPython.display import display, clear_output\n",
    "import time\n",
    "import networkx as nx\n",
    "import matplotlib.pyplot as plt\n",
    "from rl4co.envs import FJSPEnv\n",
    "from rl4co.models.zoo.l2d import L2DModel\n",
    "from rl4co.models.zoo.l2d.policy import L2DPolicy\n",
    "from rl4co.models.zoo.l2d.decoder import L2DDecoder\n",
    "from rl4co.models.nn.graph.hgnn import HetGNNEncoder\n",
    "from rl4co.utils.trainer import RL4COTrainer\n",
    "generator_params = {\n",
    "\"num_jobs\" : 6 ,\n",
    "\"num_machines\": 6 ,\n",
    "\"min_processing_time\": 1 ,\n",
    "\"max_processing_time\": 99 ,\n",
    "\"mtbf\" : 17 ,\n",
    "\"mttr\" : 4\n",
    "}\n",
    "env = DJSSPEnv(generator_params=generator_params,\n",
    "_torchrl_mode=True,\n",
    "stepwise_reward=True)"
   ]
  },
  {
   "cell_type": "markdown",
   "id": "9c5ee48403841123",
   "metadata": {},
   "source": [
    "## 2. Reset the environment and get the generated machine_breakdowns"
   ]
  },
  {
   "cell_type": "code",
   "execution_count": 3,
   "id": "e89b6a81bf2bc191",
   "metadata": {
    "ExecuteTime": {
     "end_time": "2024-12-09T16:54:15.729323Z",
     "start_time": "2024-12-09T16:54:15.494649Z"
    }
   },
   "outputs": [
    {
     "data": {
      "text/plain": [
       "array([{0: [{'TIME': 3.000108480453491, 'DURATION': 10.950005531311035}, {'TIME': 35.32599139213562, 'DURATION': 1.3882921934127808}], 1: [{'TIME': 21.723852157592773, 'DURATION': 1.9373793601989746}, {'TIME': 53.32680654525757, 'DURATION': 1.5291308164596558}], 2: [{'TIME': 7.263213157653809, 'DURATION': 2.711613416671753}, {'TIME': 52.46433997154236, 'DURATION': 3.8198349475860596}], 3: [{'TIME': 40.77605056762695, 'DURATION': 1.205381989479065}, {'TIME': 45.75132215023041, 'DURATION': 0.6587216854095459}], 4: [{'TIME': 6.723081111907959, 'DURATION': 2.6919376850128174}, {'TIME': 38.85593867301941, 'DURATION': 0.6645970344543457}], 5: [{'TIME': 9.79523754119873, 'DURATION': 0.2698454260826111}, {'TIME': 25.17279475927353, 'DURATION': 8.416229248046875}, {'TIME': 46.51334512233734, 'DURATION': 3.2661590576171875}]}],\n",
       "      dtype=object)"
      ]
     },
     "execution_count": 3,
     "metadata": {},
     "output_type": "execute_result"
    }
   ],
   "source": [
    "td = env.reset(batch_size=[1])\n",
    "td[\"machine_breakdowns\"]"
   ]
  },
  {
   "cell_type": "markdown",
   "id": "18523ec1-7f9b-4ea9-9b19-bc1819b05bd6",
   "metadata": {},
   "source": [
    "### Machine 0 has its first breakdown at time 3.000108480453491. However since the we do not check the machine breakdowns yet, our tensordict entry which indicates if machines are busy (td[\"busy_until\"]) should be full with the 0's"
   ]
  },
  {
   "cell_type": "code",
   "execution_count": 4,
   "id": "74a2de2204887775",
   "metadata": {
    "ExecuteTime": {
     "end_time": "2024-12-09T16:54:31.506327Z",
     "start_time": "2024-12-09T16:54:31.475084Z"
    }
   },
   "outputs": [
    {
     "data": {
      "text/plain": [
       "tensor([[0., 0., 0., 0., 0., 0.]])"
      ]
     },
     "execution_count": 4,
     "metadata": {},
     "output_type": "execute_result"
    }
   ],
   "source": [
    "td[\"busy_until\"]"
   ]
  },
  {
   "cell_type": "markdown",
   "id": "6e9c1d07-778b-4990-8ef9-dabb709102fd",
   "metadata": {},
   "source": [
    "## 3. After that to ensure our method works correctly\n",
    "    We manually advance the time to the first machine breakdown occurence time and overwrite the tensordict"
   ]
  },
  {
   "cell_type": "code",
   "execution_count": 25,
   "id": "9fd33eb45e0242bd",
   "metadata": {
    "ExecuteTime": {
     "end_time": "2024-12-09T16:54:48.303545Z",
     "start_time": "2024-12-09T16:54:48.287921Z"
    }
   },
   "outputs": [],
   "source": [
    "# advance the time\n",
    "td[\"time\"] = torch.Tensor([3.000108480453491])\n",
    "\n",
    "# check the machine breakdowns and overwrite the tensordict\n",
    "td = env._check_machine_breakdowns(td)"
   ]
  },
  {
   "cell_type": "markdown",
   "id": "527e5202-f707-43e1-a40a-cc0011cb474e",
   "metadata": {},
   "source": [
    "### Now, in td[\"busy_until\"] entry -> machine 0 must be shown as busy until it is being repaired"
   ]
  },
  {
   "cell_type": "code",
   "execution_count": 24,
   "id": "9d6ba379ec5ecf1e",
   "metadata": {
    "ExecuteTime": {
     "end_time": "2024-12-09T16:54:58.570110Z",
     "start_time": "2024-12-09T16:54:58.554485Z"
    }
   },
   "outputs": [
    {
     "data": {
      "text/plain": [
       "tensor([[13.9501,  0.0000,  0.0000,  0.0000,  0.0000,  0.0000]])"
      ]
     },
     "execution_count": 24,
     "metadata": {},
     "output_type": "execute_result"
    }
   ],
   "source": [
    "td[\"busy_until\"]"
   ]
  }
 ],
 "metadata": {
  "kernelspec": {
   "display_name": "Python 3 (ipykernel)",
   "language": "python",
   "name": "python3"
  },
  "language_info": {
   "codemirror_mode": {
    "name": "ipython",
    "version": 3
   },
   "file_extension": ".py",
   "mimetype": "text/x-python",
   "name": "python",
   "nbconvert_exporter": "python",
   "pygments_lexer": "ipython3",
   "version": "3.10.15"
  }
 },
 "nbformat": 4,
 "nbformat_minor": 5
}
