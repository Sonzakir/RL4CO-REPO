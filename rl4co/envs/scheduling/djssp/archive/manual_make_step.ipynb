{
 "cells": [
  {
   "cell_type": "code",
   "id": "initial_id",
   "metadata": {
    "ExecuteTime": {
     "end_time": "2024-12-10T18:49:46.739077Z",
     "start_time": "2024-12-10T18:49:46.470105Z"
    }
   },
   "source": [
    "import time\n",
    "\n",
    "from rl4co.envs.scheduling.djssp.env import DJSSPEnv\n",
    "from rl4co.models import L2DPolicy, L2DModel\n",
    "from rl4co.utils import RL4COTrainer\n",
    "import gc\n",
    "from rl4co.envs import JSSPEnv\n",
    "from rl4co.models.zoo.l2d.model import L2DPPOModel\n",
    "from rl4co.models.zoo.l2d.policy import L2DPolicy4PPO\n",
    "from torch.utils.data import DataLoader\n",
    "import json\n",
    "import os\n",
    "%load_ext autoreload\n",
    "%autoreload 2\n",
    "generator_params = {\n",
    "\"num_jobs\" : 5 ,\n",
    "\"num_machines\": 5 ,\n",
    "\"min_processing_time\": 1 ,\n",
    "\"max_processing_time\": 99 ,\n",
    "\"mtbf\" : 17 ,\n",
    "\"mttr\" : 4\n",
    "}\n",
    "env = DJSSPEnv(generator_params=generator_params,\n",
    "_torchrl_mode=True,\n",
    "stepwise_reward=True)\n"
   ],
   "outputs": [
    {
     "name": "stdout",
     "output_type": "stream",
     "text": [
      "The autoreload extension is already loaded. To reload it, use:\n",
      "  %reload_ext autoreload\n"
     ]
    }
   ],
   "execution_count": 15
  },
  {
   "cell_type": "code",
   "id": "5a2f19a8485a776",
   "metadata": {
    "ExecuteTime": {
     "end_time": "2024-12-10T18:49:46.942228Z",
     "start_time": "2024-12-10T18:49:46.754489Z"
    }
   },
   "source": [
    "import torch\n",
    "if torch.cuda.is_available():\n",
    "    accelerator = \"gpu\"\n",
    "    batch_size = 4\n",
    "    train_data_size = 2_000\n",
    "    embed_dim = 128\n",
    "    num_encoder_layers = 4\n",
    "else:\n",
    "    accelerator = \"cpu\"\n",
    "    batch_size = 2\n",
    "    train_data_size = 1_000\n",
    "    embed_dim = 64\n",
    "    num_encoder_layers = 2"
   ],
   "outputs": [],
   "execution_count": 16
  },
  {
   "cell_type": "code",
   "id": "cf4dd6ae7779946c",
   "metadata": {
    "ExecuteTime": {
     "end_time": "2024-12-10T18:49:49.275899Z",
     "start_time": "2024-12-10T18:49:47.020074Z"
    }
   },
   "source": [
    "# Policy: neural network, in this case with encoder-decoder architecture\n",
    "policy = L2DPolicy4PPO(\n",
    "    embed_dim=embed_dim,\n",
    "    num_encoder_layers=num_encoder_layers,\n",
    "    env_name=\"jssp\",\n",
    "    het_emb=False\n",
    ")"
   ],
   "outputs": [
    {
     "name": "stderr",
     "output_type": "stream",
     "text": [
      "C:\\Program Files\\JetBrains\\PyCharm 2024.2\\plugins\\python-ce\\helpers\\pydev\\pydevd_plugins\\__init__.py:2: DeprecationWarning: Deprecated call to `pkg_resources.declare_namespace('pydevd_plugins')`.\n",
      "Implementing implicit namespace packages (as specified in PEP 420) is preferred to `pkg_resources.declare_namespace`. See https://setuptools.pypa.io/en/latest/references/keywords.html#keyword-namespace-packages\n",
      "  __import__('pkg_resources').declare_namespace(__name__)\n",
      "C:\\Program Files\\JetBrains\\PyCharm 2024.2\\plugins\\python-ce\\helpers\\pydev\\pydevd_plugins\\extensions\\__init__.py:2: DeprecationWarning: Deprecated call to `pkg_resources.declare_namespace('pydevd_plugins.extensions')`.\n",
      "Implementing implicit namespace packages (as specified in PEP 420) is preferred to `pkg_resources.declare_namespace`. See https://setuptools.pypa.io/en/latest/references/keywords.html#keyword-namespace-packages\n",
      "  __import__('pkg_resources').declare_namespace(__name__)\n",
      "C:\\Program Files\\JetBrains\\PyCharm 2024.2\\plugins\\python-ce\\helpers\\pydev\\pydevd_plugins\\extensions\\types\\__init__.py:2: DeprecationWarning: Deprecated call to `pkg_resources.declare_namespace('pydevd_plugins.extensions.types')`.\n",
      "Implementing implicit namespace packages (as specified in PEP 420) is preferred to `pkg_resources.declare_namespace`. See https://setuptools.pypa.io/en/latest/references/keywords.html#keyword-namespace-packages\n",
      "  __import__('pkg_resources').declare_namespace(__name__)\n"
     ]
    }
   ],
   "execution_count": 17
  },
  {
   "cell_type": "code",
   "id": "a2ef97ec81cf2389",
   "metadata": {
    "ExecuteTime": {
     "end_time": "2024-12-10T18:49:50.381119Z",
     "start_time": "2024-12-10T18:49:50.209298Z"
    }
   },
   "source": [
    "# default decoder\n",
    "policy.decoder"
   ],
   "outputs": [
    {
     "data": {
      "text/plain": [
       "L2DDecoder(\n",
       "  (feature_extractor): GCN4JSSP(\n",
       "    (init_embedding): JSSPInitEmbedding(\n",
       "      (init_ops_embed): Linear(in_features=5, out_features=64, bias=True)\n",
       "      (pos_encoder): PositionalEncoding(\n",
       "        (dropout): Dropout(p=0.0, inplace=False)\n",
       "      )\n",
       "    )\n",
       "    (gcn_layers): ModuleList(\n",
       "      (0-1): 2 x GCNConv(64, 64)\n",
       "    )\n",
       "  )\n",
       "  (actor): JSSPActor(\n",
       "    (mlp): MLP(\n",
       "      (hidden_act): ReLU()\n",
       "      (out_act): Identity()\n",
       "      (lins): ModuleList(\n",
       "        (0-1): 2 x Linear(in_features=64, out_features=64, bias=True)\n",
       "        (2): Linear(in_features=64, out_features=1, bias=True)\n",
       "      )\n",
       "      (input_norm): Identity()\n",
       "      (output_norm): Identity()\n",
       "    )\n",
       "  )\n",
       ")"
      ]
     },
     "execution_count": 18,
     "metadata": {},
     "output_type": "execute_result"
    }
   ],
   "execution_count": 18
  },
  {
   "cell_type": "code",
   "id": "2056158d492e1a3",
   "metadata": {
    "ExecuteTime": {
     "end_time": "2024-12-10T18:49:50.605597Z",
     "start_time": "2024-12-10T18:49:50.427938Z"
    }
   },
   "source": [
    "# default encoder\n",
    "policy.encoder"
   ],
   "outputs": [
    {
     "data": {
      "text/plain": [
       "NoEncoder()"
      ]
     },
     "execution_count": 19,
     "metadata": {},
     "output_type": "execute_result"
    }
   ],
   "execution_count": 19
  },
  {
   "cell_type": "code",
   "id": "c9b8e56d20556a70",
   "metadata": {
    "ExecuteTime": {
     "end_time": "2024-12-10T18:49:50.824341Z",
     "start_time": "2024-12-10T18:49:50.652684Z"
    }
   },
   "source": [
    "def make_step(td, decoder):\n",
    "    \"\"\"\n",
    "    Equivalent to FJSP make_step(), adapted for JSSP where no encoder is used.\n",
    "    td: TensorDict representing the current state of the environment.\n",
    "    decoder: The L2DDecoder or policy that generates action logits.\n",
    "    env: The JSSP environment instance.\n",
    "    \"\"\"\n",
    "    # Directly decode logits and mask from the raw input state `td`\n",
    "    hidden, _ = decoder.feature_extractor(td)\n",
    "\n",
    "    logits, mask = decoder(td, num_starts=0 , hidden = hidden)\n",
    "\n",
    "    # Mask invalid actions by setting their logits to -inf\n",
    "    action = logits.masked_fill(~mask, -torch.inf).argmax(1)\n",
    "\n",
    "    # Update the state with the selected action\n",
    "    td[\"action\"] = action\n",
    "\n",
    "    # Step the environment with the selected action\n",
    "    td = env.step(td)[\"next\"]\n",
    "\n",
    "    return td"
   ],
   "outputs": [],
   "execution_count": 20
  },
  {
   "cell_type": "code",
   "id": "9195c9c7ee66626e",
   "metadata": {
    "ExecuteTime": {
     "end_time": "2024-12-10T18:49:51.043135Z",
     "start_time": "2024-12-10T18:49:50.855654Z"
    }
   },
   "source": [
    "td = env.reset(batch_size = [1])"
   ],
   "outputs": [],
   "execution_count": 21
  },
  {
   "cell_type": "code",
   "id": "dfa06d7f-ddb5-4d13-a0fb-3843582fc33c",
   "metadata": {
    "ExecuteTime": {
     "end_time": "2024-12-10T18:49:51.270766Z",
     "start_time": "2024-12-10T18:49:51.093578Z"
    }
   },
   "source": [
    "td[\"proc_times\"][0]"
   ],
   "outputs": [
    {
     "data": {
      "text/plain": [
       "tensor([[ 17.9812,   0.0000,   0.0000,   0.0000,   0.0000,   0.0000,   0.0000,\n",
       "           0.0000,  89.4566,   0.0000,   0.0000,   0.0000,   0.0000,   0.0000,\n",
       "          82.2788,   0.0000,   0.0000,   0.0000,   9.4663,   0.0000,   5.4745,\n",
       "           0.0000,   0.0000,   0.0000,   0.0000],\n",
       "        [  0.0000,   0.0000,   0.0000,   0.0000,  74.4607,   0.0000,   0.0000,\n",
       "          20.5570,   0.0000,   0.0000,   0.0000,   0.0000,   0.0000,  24.7182,\n",
       "           0.0000,   0.0000,   0.0000,  25.2249,   0.0000,   0.0000,   0.0000,\n",
       "           0.0000,   0.0000,   0.0000,  33.7829],\n",
       "        [  0.0000,   0.0000,   0.0000,  68.9108,   0.0000,  18.2110,   0.0000,\n",
       "           0.0000,   0.0000,   0.0000,   0.0000,   0.0000,  43.6149,   0.0000,\n",
       "           0.0000,   0.0000,   0.0000,   0.0000,   0.0000,  94.6562,   0.0000,\n",
       "           0.0000,   0.0000,  31.3497,   0.0000],\n",
       "        [  0.0000,  19.5372,   0.0000,   0.0000,   0.0000,   0.0000,   0.0000,\n",
       "           0.0000,   0.0000,  48.1835,   5.0748,   0.0000,   0.0000,   0.0000,\n",
       "           0.0000,   6.6333,   0.0000,   0.0000,   0.0000,   0.0000,   0.0000,\n",
       "          80.9371,   0.0000,   0.0000,   0.0000],\n",
       "        [  0.0000,   0.0000,   5.2317,   0.0000,   0.0000,   0.0000,  60.9438,\n",
       "           0.0000,   0.0000,   0.0000,   0.0000,  11.7327,   0.0000,   0.0000,\n",
       "           0.0000,   0.0000, 106.2814,   0.0000,   0.0000,   0.0000,   0.0000,\n",
       "           0.0000,  31.5739,   0.0000,   0.0000]])"
      ]
     },
     "execution_count": 22,
     "metadata": {},
     "output_type": "execute_result"
    }
   ],
   "execution_count": 22
  },
  {
   "cell_type": "code",
   "id": "49f20ca87eb825be",
   "metadata": {},
   "source": [
    "from matplotlib import pyplot as plt\n",
    "from IPython.core.display_functions import clear_output\n",
    "\n",
    "env.render(td, 0)\n",
    "# Update plot within a for loop\n",
    "while not td[\"done\"].all():\n",
    "    # Clear the previous output for the next iteration\n",
    "    clear_output(wait=True)\n",
    "\n",
    "    td = make_step(td=td ,decoder = policy.decoder)\n",
    "    env.render(td, 0)\n",
    "    # Display updated plot\n",
    "    display(plt.gcf())\n",
    "\n",
    "    # Pause for a moment to see the changes\n",
    "    time.sleep(.4)"
   ],
   "execution_count": 23,
   "outputs": [
    {
     "data": {
      "text/plain": [
       "<Figure size 640x480 with 0 Axes>"
      ]
     },
     "metadata": {},
     "output_type": "display_data"
    },
    {
     "data": {
      "text/plain": [
       "<Figure size 640x480 with 1 Axes>"
      ],
      "image/png": "[encoded data removed]"
     },
     "metadata": {},
     "output_type": "display_data"
    },
    {
     "data": {
      "text/plain": [
       "<Figure size 640x480 with 0 Axes>"
      ]
     },
     "metadata": {},
     "output_type": "display_data"
    },
    {
     "data": {
      "text/plain": [
       "<Figure size 640x480 with 0 Axes>"
      ]
     },
     "metadata": {},
     "output_type": "display_data"
    }
   ]
  },
  {
   "cell_type": "code",
   "id": "bd00aafe-f3fe-4686-b270-92f54e7d03b1",
   "metadata": {
    "ExecuteTime": {
     "end_time": "2024-12-10T18:50:07.297725Z",
     "start_time": "2024-12-10T18:50:07.110195Z"
    }
   },
   "source": [
    "td[\"machine_breakdowns\"][0]"
   ],
   "outputs": [
    {
     "data": {
      "text/plain": [
       "{0: [{'TIME': 3.000108480453491, 'DURATION': 10.950005531311035},\n",
       "  {'TIME': 35.32599139213562, 'DURATION': 1.3882921934127808}],\n",
       " 1: [{'TIME': 21.723852157592773, 'DURATION': 1.9373793601989746},\n",
       "  {'TIME': 53.32680654525757, 'DURATION': 1.5291308164596558}],\n",
       " 2: [{'TIME': 7.263213157653809, 'DURATION': 2.711613416671753},\n",
       "  {'TIME': 52.46433997154236, 'DURATION': 3.8198349475860596}],\n",
       " 3: [{'TIME': 40.77605056762695, 'DURATION': 1.205381989479065},\n",
       "  {'TIME': 45.75132215023041, 'DURATION': 0.6587216854095459}],\n",
       " 4: [{'TIME': 6.723081111907959, 'DURATION': 2.6919376850128174},\n",
       "  {'TIME': 38.85593867301941, 'DURATION': 0.6645970344543457}]}"
      ]
     },
     "execution_count": 24,
     "metadata": {},
     "output_type": "execute_result"
    }
   ],
   "execution_count": 24
  },
  {
   "cell_type": "code",
   "id": "2ef9e8b25b62dc3e",
   "metadata": {
    "ExecuteTime": {
     "end_time": "2024-12-10T18:50:07.521205Z",
     "start_time": "2024-12-10T18:50:07.344569Z"
    }
   },
   "source": [
    "td[\"finish_times\"]"
   ],
   "outputs": [
    {
     "data": {
      "text/plain": [
       "tensor([[ 29.5050,  49.0422, 139.8444, 208.7552, 295.8059,  29.7348, 200.7882,\n",
       "         221.3452, 310.8018, 358.9853,  16.5986,  28.3313,  73.3497,  98.0679,\n",
       "         180.3467,  23.2319, 134.6127, 159.8376, 189.8130, 303.4113,  34.9795,\n",
       "         129.9793, 232.3621, 334.7610, 368.5439]])"
      ]
     },
     "execution_count": 25,
     "metadata": {},
     "output_type": "execute_result"
    }
   ],
   "execution_count": 25
  },
  {
   "cell_type": "code",
   "id": "c19750d3-408d-403d-bc71-6a313dada0e7",
   "metadata": {
    "ExecuteTime": {
     "end_time": "2024-12-10T18:50:07.946945Z",
     "start_time": "2024-12-10T18:50:07.755919Z"
    }
   },
   "source": [
    "td[\"start_times\"][0]"
   ],
   "outputs": [
    {
     "data": {
      "text/plain": [
       "tensor([ 11.5238,  29.5050, 134.6127, 139.8444, 221.3452,  11.5238, 139.8444,\n",
       "        200.7882, 221.3452, 310.8018,  11.5238,  16.5986,  29.7348,  73.3497,\n",
       "         98.0679,  16.5986,  28.3313, 134.6127, 180.3467, 208.7552,  29.5050,\n",
       "         49.0422, 200.7882, 303.4113, 334.7610])"
      ]
     },
     "execution_count": 26,
     "metadata": {},
     "output_type": "execute_result"
    }
   ],
   "execution_count": 26
  },
  {
   "cell_type": "code",
   "id": "9aa231bf-bbef-4dce-bfd2-7d0d5a0cac1d",
   "metadata": {
    "ExecuteTime": {
     "end_time": "2024-12-10T18:50:08.172903Z",
     "start_time": "2024-12-10T18:50:07.993840Z"
    }
   },
   "source": [
    "td[\"job_arrival_times\"]"
   ],
   "outputs": [
    {
     "data": {
      "text/plain": [
       "tensor([[11.5238, 14.0567, 20.9220, 37.6722, 41.4592]])"
      ]
     },
     "execution_count": 27,
     "metadata": {},
     "output_type": "execute_result"
    }
   ],
   "execution_count": 27
  },
  {
   "cell_type": "code",
   "id": "64fc089c-a331-47c0-957d-17eb1690887b",
   "metadata": {
    "ExecuteTime": {
     "end_time": "2024-12-10T18:50:08.433885Z",
     "start_time": "2024-12-10T18:50:08.235408Z"
    }
   },
   "source": [
    "job_arr_time = torch.tensor([[11.5238, 14.0567, 20.9220, 37.6722, 41.4592] , [0, 14.0567, 20.9220, 37.6722, 41.4592]])\n",
    "a = torch.tensor([[0] , [9]])\n",
    "a = torch.min(job_arr_time , dim = 1)\n",
    "a"
   ],
   "outputs": [
    {
     "data": {
      "text/plain": [
       "torch.return_types.min(\n",
       "values=tensor([11.5238,  0.0000]),\n",
       "indices=tensor([0, 0]))"
      ]
     },
     "execution_count": 28,
     "metadata": {},
     "output_type": "execute_result"
    }
   ],
   "execution_count": 28
  }
 ],
 "metadata": {
  "kernelspec": {
   "display_name": "Python 3 (ipykernel)",
   "language": "python",
   "name": "python3"
  },
  "language_info": {
   "codemirror_mode": {
    "name": "ipython",
    "version": 3
   },
   "file_extension": ".py",
   "mimetype": "text/x-python",
   "name": "python",
   "nbconvert_exporter": "python",
   "pygments_lexer": "ipython3",
   "version": "3.10.15"
  }
 },
 "nbformat": 4,
 "nbformat_minor": 5
}
