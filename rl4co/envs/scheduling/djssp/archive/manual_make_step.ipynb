{
 "cells": [
  {
   "cell_type": "code",
   "id": "initial_id",
   "metadata": {
    "ExecuteTime": {
     "end_time": "2024-12-15T12:16:12.012814Z",
     "start_time": "2024-12-15T12:16:06.175124Z"
    }
   },
   "source": [
    "import time\n",
    "\n",
    "from rl4co.envs.scheduling.djssp.env import DJSSPEnv\n",
    "from rl4co.models import L2DPolicy, L2DModel\n",
    "from rl4co.utils import RL4COTrainer\n",
    "import gc\n",
    "from rl4co.envs import JSSPEnv\n",
    "from rl4co.models.zoo.l2d.model import L2DPPOModel\n",
    "from rl4co.models.zoo.l2d.policy import L2DPolicy4PPO\n",
    "from torch.utils.data import DataLoader\n",
    "import json\n",
    "import os\n",
    "%load_ext autoreload\n",
    "%autoreload 2\n",
    "generator_params = {\n",
    "\"num_jobs\" : 5 ,\n",
    "\"num_machines\": 5 ,\n",
    "\"min_processing_time\": 1 ,\n",
    "\"max_processing_time\": 99 ,\n",
    "\"mtbf\" : 17 ,\n",
    "\"mttr\" : 4\n",
    "}\n",
    "env = DJSSPEnv(generator_params=generator_params,\n",
    "_torchrl_mode=True,\n",
    "stepwise_reward=True)\n"
   ],
   "outputs": [
    {
     "name": "stderr",
     "output_type": "stream",
     "text": [
      "C:\\Users\\soner\\anaconda3\\envs\\env_rl4co\\lib\\site-packages\\tqdm\\auto.py:21: TqdmWarning: IProgress not found. Please update jupyter and ipywidgets. See https://ipywidgets.readthedocs.io/en/stable/user_install.html\n",
      "  from .autonotebook import tqdm as notebook_tqdm\n"
     ]
    }
   ],
   "execution_count": 1
  },
  {
   "cell_type": "code",
   "id": "5a2f19a8485a776",
   "metadata": {
    "ExecuteTime": {
     "end_time": "2024-12-15T12:16:12.207129Z",
     "start_time": "2024-12-15T12:16:12.028340Z"
    }
   },
   "source": [
    "import torch\n",
    "if torch.cuda.is_available():\n",
    "    accelerator = \"gpu\"\n",
    "    batch_size = 4\n",
    "    train_data_size = 2_000\n",
    "    embed_dim = 128\n",
    "    num_encoder_layers = 4\n",
    "else:\n",
    "    accelerator = \"cpu\"\n",
    "    batch_size = 2\n",
    "    train_data_size = 1_000\n",
    "    embed_dim = 64\n",
    "    num_encoder_layers = 2"
   ],
   "outputs": [],
   "execution_count": 2
  },
  {
   "cell_type": "code",
   "id": "cf4dd6ae7779946c",
   "metadata": {
    "ExecuteTime": {
     "end_time": "2024-12-15T12:16:14.544222Z",
     "start_time": "2024-12-15T12:16:12.300967Z"
    }
   },
   "source": [
    "# Policy: neural network, in this case with encoder-decoder architecture\n",
    "policy = L2DPolicy4PPO(\n",
    "    embed_dim=embed_dim,\n",
    "    num_encoder_layers=num_encoder_layers,\n",
    "    env_name=\"jssp\",\n",
    "    het_emb=False\n",
    ")"
   ],
   "outputs": [
    {
     "name": "stderr",
     "output_type": "stream",
     "text": [
      "C:\\Program Files\\JetBrains\\PyCharm 2024.2\\plugins\\python-ce\\helpers\\pydev\\pydevd_plugins\\__init__.py:2: DeprecationWarning: Deprecated call to `pkg_resources.declare_namespace('pydevd_plugins')`.\n",
      "Implementing implicit namespace packages (as specified in PEP 420) is preferred to `pkg_resources.declare_namespace`. See https://setuptools.pypa.io/en/latest/references/keywords.html#keyword-namespace-packages\n",
      "  __import__('pkg_resources').declare_namespace(__name__)\n",
      "C:\\Program Files\\JetBrains\\PyCharm 2024.2\\plugins\\python-ce\\helpers\\pydev\\pydevd_plugins\\extensions\\__init__.py:2: DeprecationWarning: Deprecated call to `pkg_resources.declare_namespace('pydevd_plugins.extensions')`.\n",
      "Implementing implicit namespace packages (as specified in PEP 420) is preferred to `pkg_resources.declare_namespace`. See https://setuptools.pypa.io/en/latest/references/keywords.html#keyword-namespace-packages\n",
      "  __import__('pkg_resources').declare_namespace(__name__)\n",
      "C:\\Program Files\\JetBrains\\PyCharm 2024.2\\plugins\\python-ce\\helpers\\pydev\\pydevd_plugins\\extensions\\types\\__init__.py:2: DeprecationWarning: Deprecated call to `pkg_resources.declare_namespace('pydevd_plugins.extensions.types')`.\n",
      "Implementing implicit namespace packages (as specified in PEP 420) is preferred to `pkg_resources.declare_namespace`. See https://setuptools.pypa.io/en/latest/references/keywords.html#keyword-namespace-packages\n",
      "  __import__('pkg_resources').declare_namespace(__name__)\n"
     ]
    }
   ],
   "execution_count": 3
  },
  {
   "cell_type": "code",
   "id": "a2ef97ec81cf2389",
   "metadata": {
    "ExecuteTime": {
     "end_time": "2024-12-15T12:16:15.714906Z",
     "start_time": "2024-12-15T12:16:15.543089Z"
    }
   },
   "source": [
    "# default decoder\n",
    "policy.decoder"
   ],
   "outputs": [
    {
     "data": {
      "text/plain": [
       "L2DDecoder(\n",
       "  (feature_extractor): GCN4JSSP(\n",
       "    (init_embedding): JSSPInitEmbedding(\n",
       "      (init_ops_embed): Linear(in_features=5, out_features=64, bias=True)\n",
       "      (pos_encoder): PositionalEncoding(\n",
       "        (dropout): Dropout(p=0.0, inplace=False)\n",
       "      )\n",
       "    )\n",
       "    (gcn_layers): ModuleList(\n",
       "      (0-1): 2 x GCNConv(64, 64)\n",
       "    )\n",
       "  )\n",
       "  (actor): JSSPActor(\n",
       "    (mlp): MLP(\n",
       "      (hidden_act): ReLU()\n",
       "      (out_act): Identity()\n",
       "      (lins): ModuleList(\n",
       "        (0-1): 2 x Linear(in_features=64, out_features=64, bias=True)\n",
       "        (2): Linear(in_features=64, out_features=1, bias=True)\n",
       "      )\n",
       "      (input_norm): Identity()\n",
       "      (output_norm): Identity()\n",
       "    )\n",
       "  )\n",
       ")"
      ]
     },
     "execution_count": 4,
     "metadata": {},
     "output_type": "execute_result"
    }
   ],
   "execution_count": 4
  },
  {
   "cell_type": "code",
   "id": "2056158d492e1a3",
   "metadata": {
    "ExecuteTime": {
     "end_time": "2024-12-15T12:16:15.949281Z",
     "start_time": "2024-12-15T12:16:15.777453Z"
    }
   },
   "source": [
    "# default encoder\n",
    "policy.encoder"
   ],
   "outputs": [
    {
     "data": {
      "text/plain": [
       "NoEncoder()"
      ]
     },
     "execution_count": 5,
     "metadata": {},
     "output_type": "execute_result"
    }
   ],
   "execution_count": 5
  },
  {
   "cell_type": "code",
   "id": "c9b8e56d20556a70",
   "metadata": {
    "ExecuteTime": {
     "end_time": "2024-12-15T12:16:16.239901Z",
     "start_time": "2024-12-15T12:16:16.058659Z"
    }
   },
   "source": [
    "def make_step(td, decoder):\n",
    "    \"\"\"\n",
    "    Equivalent to FJSP make_step(), adapted for DJSSP where no encoder is used.\n",
    "    td: TensorDict representing the current state of the environment.\n",
    "    decoder: The L2DDecoder or policy that generates action logits.\n",
    "    env: The DJSSP environment instance.\n",
    "    \"\"\"\n",
    "    # Directly decode logits and mask from the raw input state `td`\n",
    "    hidden, _ = decoder.feature_extractor(td)\n",
    "\n",
    "    logits, mask = decoder(td, num_starts=0 , hidden = hidden)\n",
    "\n",
    "    # Mask invalid actions by setting their logits to -inf\n",
    "    action = logits.masked_fill(~mask, -torch.inf).argmax(1)\n",
    "\n",
    "    # Update the state with the selected action\n",
    "    td[\"action\"] = action\n",
    "\n",
    "    # Step the environment with the selected action\n",
    "    td = env.step(td)[\"next\"]\n",
    "\n",
    "    return td"
   ],
   "outputs": [],
   "execution_count": 6
  },
  {
   "cell_type": "code",
   "id": "9195c9c7ee66626e",
   "metadata": {
    "ExecuteTime": {
     "end_time": "2024-12-15T12:16:16.458588Z",
     "start_time": "2024-12-15T12:16:16.271098Z"
    }
   },
   "source": [
    "td = env.reset(batch_size = [1])"
   ],
   "outputs": [],
   "execution_count": 7
  },
  {
   "cell_type": "code",
   "id": "dfa06d7f-ddb5-4d13-a0fb-3843582fc33c",
   "metadata": {
    "ExecuteTime": {
     "end_time": "2024-12-15T12:16:16.692973Z",
     "start_time": "2024-12-15T12:16:16.505463Z"
    }
   },
   "source": [
    "td[\"proc_times\"][0]"
   ],
   "outputs": [
    {
     "data": {
      "text/plain": [
       "tensor([[  0.0000,  54.9912,   0.0000,   0.0000,   0.0000,  79.3627,   0.0000,\n",
       "           0.0000,   0.0000,   0.0000,   0.0000,  60.0097,   0.0000,   0.0000,\n",
       "           0.0000,   0.0000,   0.0000,   0.0000,   0.0000,  10.3857,   0.0000,\n",
       "           0.0000,   0.0000,   0.0000, 101.5012],\n",
       "        [  0.0000,   0.0000,   0.0000,   0.0000,  21.8255,   0.0000,   0.0000,\n",
       "           0.0000,   8.2070,   0.0000,   0.0000,   0.0000,  62.2497,   0.0000,\n",
       "           0.0000,   0.0000,   0.0000,  61.6660,   0.0000,   0.0000,   0.0000,\n",
       "           0.0000,  85.3975,   0.0000,   0.0000],\n",
       "        [  0.0000,   0.0000,  10.3437,   0.0000,   0.0000,   0.0000,   0.0000,\n",
       "           0.0000,   0.0000,  71.0981,  36.7497,   0.0000,   0.0000,   0.0000,\n",
       "           0.0000,   0.0000,   0.0000,   0.0000,  77.2204,   0.0000,   0.0000,\n",
       "          47.5633,   0.0000,   0.0000,   0.0000],\n",
       "        [ 61.3948,   0.0000,   0.0000,   0.0000,   0.0000,   0.0000,   0.0000,\n",
       "          36.5223,   0.0000,   0.0000,   0.0000,   0.0000,   0.0000,   0.0000,\n",
       "         112.9538,  70.5107,   0.0000,   0.0000,   0.0000,   0.0000,  19.0672,\n",
       "           0.0000,   0.0000,   0.0000,   0.0000],\n",
       "        [  0.0000,   0.0000,   0.0000,  21.9617,   0.0000,   0.0000,  13.4086,\n",
       "           0.0000,   0.0000,   0.0000,   0.0000,   0.0000,   0.0000,  24.9301,\n",
       "           0.0000,   0.0000,  44.7168,   0.0000,   0.0000,   0.0000,   0.0000,\n",
       "           0.0000,   0.0000,  82.2933,   0.0000]])"
      ]
     },
     "execution_count": 8,
     "metadata": {},
     "output_type": "execute_result"
    }
   ],
   "execution_count": 8
  },
  {
   "cell_type": "code",
   "id": "49f20ca87eb825be",
   "metadata": {},
   "source": [
    "from matplotlib import pyplot as plt\n",
    "from IPython.core.display_functions import clear_output\n",
    "\n",
    "env.render(td, 0)\n",
    "# Update plot within a for loop\n",
    "while not td[\"done\"].all():\n",
    "    # Clear the previous output for the next iteration\n",
    "    clear_output(wait=True)\n",
    "\n",
    "    td = make_step(td=td ,decoder = policy.decoder)\n",
    "    env.render(td, 0)\n",
    "    # Display updated plot\n",
    "    display(plt.gcf())\n",
    "\n",
    "    # Pause for a moment to see the changes\n",
    "    time.sleep(.4)"
   ],
   "execution_count": 9,
   "outputs": [
    {
     "name": "stderr",
     "output_type": "stream",
     "text": [
      "C:\\Users\\soner\\anaconda3\\envs\\env_rl4co\\lib\\site-packages\\matplotlib\\axes\\_axes.py:2316: DeprecationWarning: __array_wrap__ must accept context and return_scalar arguments (positionally) in the future. (Deprecated NumPy 2.0)\n",
      "  dx = [convert(x0 + ddx) - x for ddx in dx]\n"
     ]
    },
    {
     "data": {
      "text/plain": [
       "<Figure size 640x480 with 0 Axes>"
      ]
     },
     "metadata": {},
     "output_type": "display_data"
    },
    {
     "data": {
      "text/plain": [
       "<Figure size 640x480 with 1 Axes>"
      ],
      "image/png": "[encoded data removed]"
     },
     "metadata": {},
     "output_type": "display_data"
    },
    {
     "data": {
      "text/plain": [
       "<Figure size 640x480 with 0 Axes>"
      ]
     },
     "metadata": {},
     "output_type": "display_data"
    },
    {
     "data": {
      "text/plain": [
       "<Figure size 640x480 with 0 Axes>"
      ]
     },
     "metadata": {},
     "output_type": "display_data"
    }
   ]
  },
  {
   "cell_type": "code",
   "id": "bd00aafe-f3fe-4686-b270-92f54e7d03b1",
   "metadata": {
    "ExecuteTime": {
     "end_time": "2024-12-15T12:16:33.341388Z",
     "start_time": "2024-12-15T12:16:33.146848Z"
    }
   },
   "source": [
    "td[\"machine_breakdowns\"][0]"
   ],
   "outputs": [
    {
     "data": {
      "text/plain": [
       "{0: [{'TIME': 3.5295393466949463, 'DURATION': 8.212503433227539},\n",
       "  {'TIME': 36.89013314247131, 'DURATION': 1.0412191152572632}],\n",
       " 1: [{'TIME': 25.557472229003906, 'DURATION': 1.453034520149231},\n",
       "  {'TIME': 61.91118347644806, 'DURATION': 1.1468480825424194}],\n",
       " 2: [{'TIME': 8.54495620727539, 'DURATION': 2.03371000289917},\n",
       "  {'TIME': 60.56632947921753, 'DURATION': 2.8648760318756104}],\n",
       " 3: [{'TIME': 47.971824645996094, 'DURATION': 0.9040364623069763}],\n",
       " 4: [{'TIME': 16.861560821533203, 'DURATION': 2.8291196823120117},\n",
       "  {'TIME': 27.6001877784729, 'DURATION': 2.0189530849456787}]}"
      ]
     },
     "execution_count": 10,
     "metadata": {},
     "output_type": "execute_result"
    }
   ],
   "execution_count": 10
  },
  {
   "cell_type": "code",
   "id": "2ef9e8b25b62dc3e",
   "metadata": {
    "ExecuteTime": {
     "end_time": "2024-12-15T12:16:33.519258Z",
     "start_time": "2024-12-15T12:16:33.347379Z"
    }
   },
   "source": [
    "td[\"finish_times\"]"
   ],
   "outputs": [
    {
     "data": {
      "text/plain": [
       "tensor([[ 73.8226, 268.1862, 278.5298, 347.7882, 389.2744, 153.1853, 166.5940,\n",
       "         203.1163, 397.4814, 468.5795, 110.5723, 213.1950, 367.4489, 392.3790,\n",
       "         505.3328, 163.4006, 211.3108, 305.1992, 382.4196, 437.7134,  92.8899,\n",
       "         158.1357, 243.5332, 325.8265, 427.3277]])"
      ]
     },
     "execution_count": 11,
     "metadata": {},
     "output_type": "execute_result"
    }
   ],
   "execution_count": 11
  },
  {
   "cell_type": "code",
   "id": "c19750d3-408d-403d-bc71-6a313dada0e7",
   "metadata": {
    "ExecuteTime": {
     "end_time": "2024-12-15T12:16:33.785288Z",
     "start_time": "2024-12-15T12:16:33.613042Z"
    }
   },
   "source": [
    "td[\"start_times\"][0]"
   ],
   "outputs": [
    {
     "data": {
      "text/plain": [
       "tensor([ 11.5238, 213.1950, 268.1862, 325.8265, 367.4489,  73.8226, 153.1853,\n",
       "        166.5940, 389.2744, 397.4814,  73.8226, 153.1853, 305.1992, 367.4489,\n",
       "        392.3790,  92.8899, 166.5940, 243.5332, 305.1992, 427.3277,  73.8226,\n",
       "        110.5723, 158.1357, 243.5332, 325.8265])"
      ]
     },
     "execution_count": 12,
     "metadata": {},
     "output_type": "execute_result"
    }
   ],
   "execution_count": 12
  },
  {
   "cell_type": "code",
   "id": "9aa231bf-bbef-4dce-bfd2-7d0d5a0cac1d",
   "metadata": {
    "ExecuteTime": {
     "end_time": "2024-12-15T12:16:34.042722Z",
     "start_time": "2024-12-15T12:16:33.839576Z"
    }
   },
   "source": [
    "td[\"job_arrival_times\"]"
   ],
   "outputs": [
    {
     "data": {
      "text/plain": [
       "tensor([[11.5238, 14.0567, 20.9220, 37.6722, 41.4592]])"
      ]
     },
     "execution_count": 13,
     "metadata": {},
     "output_type": "execute_result"
    }
   ],
   "execution_count": 13
  },
  {
   "cell_type": "code",
   "id": "64fc089c-a331-47c0-957d-17eb1690887b",
   "metadata": {
    "ExecuteTime": {
     "end_time": "2024-12-15T12:16:34.346980Z",
     "start_time": "2024-12-15T12:16:34.136462Z"
    }
   },
   "source": [
    "job_arr_time = torch.tensor([[11.5238, 14.0567, 20.9220, 37.6722, 41.4592] , [0, 14.0567, 20.9220, 37.6722, 41.4592]])\n",
    "a = torch.tensor([[0] , [9]])\n",
    "a = torch.min(job_arr_time , dim = 1)\n",
    "a"
   ],
   "outputs": [
    {
     "data": {
      "text/plain": [
       "torch.return_types.min(\n",
       "values=tensor([11.5238,  0.0000]),\n",
       "indices=tensor([0, 0]))"
      ]
     },
     "execution_count": 14,
     "metadata": {},
     "output_type": "execute_result"
    }
   ],
   "execution_count": 14
  }
 ],
 "metadata": {
  "kernelspec": {
   "display_name": "Python 3 (ipykernel)",
   "language": "python",
   "name": "python3"
  },
  "language_info": {
   "codemirror_mode": {
    "name": "ipython",
    "version": 3
   },
   "file_extension": ".py",
   "mimetype": "text/x-python",
   "name": "python",
   "nbconvert_exporter": "python",
   "pygments_lexer": "ipython3",
   "version": "3.10.15"
  }
 },
 "nbformat": 4,
 "nbformat_minor": 5
}
