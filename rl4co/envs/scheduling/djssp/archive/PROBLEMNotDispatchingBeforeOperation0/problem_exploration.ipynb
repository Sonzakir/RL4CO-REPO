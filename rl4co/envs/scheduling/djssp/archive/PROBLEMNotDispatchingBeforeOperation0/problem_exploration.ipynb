{
 "cells": [
  {
   "cell_type": "code",
   "id": "initial_id",
   "metadata": {
    "ExecuteTime": {
     "end_time": "2024-12-15T22:35:35.300139Z",
     "start_time": "2024-12-15T22:35:29.598914Z"
    }
   },
   "source": [
    "import time\n",
    "\n",
    "from rl4co.envs.scheduling.djssp.env import DJSSPEnv\n",
    "from rl4co.models import L2DPolicy, L2DModel\n",
    "from rl4co.utils import RL4COTrainer\n",
    "import gc\n",
    "from rl4co.envs import JSSPEnv\n",
    "from rl4co.models.zoo.l2d.model import L2DPPOModel\n",
    "from rl4co.models.zoo.l2d.policy import L2DPolicy4PPO\n",
    "from torch.utils.data import DataLoader\n",
    "import json\n",
    "import os\n",
    "%load_ext autoreload\n",
    "%autoreload 2\n",
    "generator_params = {\n",
    "\"num_jobs\" : 8 ,\n",
    "\"num_machines\": 8 ,\n",
    "\"min_processing_time\": 1 ,\n",
    "\"max_processing_time\": 99 ,\n",
    "\"mtbf\" : 17 ,\n",
    "\"mttr\" : 4\n",
    "}\n",
    "env = DJSSPEnv(generator_params=generator_params,\n",
    "_torchrl_mode=True,\n",
    "stepwise_reward=True)\n"
   ],
   "outputs": [
    {
     "name": "stderr",
     "output_type": "stream",
     "text": [
      "C:\\Users\\soner\\anaconda3\\envs\\env_rl4co\\lib\\site-packages\\tqdm\\auto.py:21: TqdmWarning: IProgress not found. Please update jupyter and ipywidgets. See https://ipywidgets.readthedocs.io/en/stable/user_install.html\n",
      "  from .autonotebook import tqdm as notebook_tqdm\n"
     ]
    }
   ],
   "execution_count": 1
  },
  {
   "cell_type": "code",
   "id": "94fa71d61b57a0f3",
   "metadata": {
    "ExecuteTime": {
     "end_time": "2024-12-15T22:35:35.475626Z",
     "start_time": "2024-12-15T22:35:35.306069Z"
    }
   },
   "source": [
    "import torch\n",
    "if torch.cuda.is_available():\n",
    "    accelerator = \"gpu\"\n",
    "    batch_size = 4\n",
    "    train_data_size = 2_000\n",
    "    embed_dim = 128\n",
    "    num_encoder_layers = 4\n",
    "else:\n",
    "    accelerator = \"cpu\"\n",
    "    batch_size = 4\n",
    "    train_data_size = 1_000\n",
    "    embed_dim = 64\n",
    "    num_encoder_layers = 2"
   ],
   "outputs": [],
   "execution_count": 2
  },
  {
   "cell_type": "code",
   "id": "6c0f605d7bad15b4",
   "metadata": {
    "ExecuteTime": {
     "end_time": "2024-12-15T22:35:37.882864Z",
     "start_time": "2024-12-15T22:35:35.555692Z"
    }
   },
   "source": [
    "# Policy: neural network, in this case with encoder-decoder architecture\n",
    "policy = L2DPolicy4PPO(\n",
    "    embed_dim=embed_dim,\n",
    "    num_encoder_layers=num_encoder_layers,\n",
    "    env_name=\"jssp\",\n",
    "    het_emb=False\n",
    ")"
   ],
   "outputs": [
    {
     "name": "stderr",
     "output_type": "stream",
     "text": [
      "C:\\Program Files\\JetBrains\\PyCharm 2024.2\\plugins\\python-ce\\helpers\\pydev\\pydevd_plugins\\__init__.py:2: DeprecationWarning: Deprecated call to `pkg_resources.declare_namespace('pydevd_plugins')`.\n",
      "Implementing implicit namespace packages (as specified in PEP 420) is preferred to `pkg_resources.declare_namespace`. See https://setuptools.pypa.io/en/latest/references/keywords.html#keyword-namespace-packages\n",
      "  __import__('pkg_resources').declare_namespace(__name__)\n",
      "C:\\Program Files\\JetBrains\\PyCharm 2024.2\\plugins\\python-ce\\helpers\\pydev\\pydevd_plugins\\extensions\\__init__.py:2: DeprecationWarning: Deprecated call to `pkg_resources.declare_namespace('pydevd_plugins.extensions')`.\n",
      "Implementing implicit namespace packages (as specified in PEP 420) is preferred to `pkg_resources.declare_namespace`. See https://setuptools.pypa.io/en/latest/references/keywords.html#keyword-namespace-packages\n",
      "  __import__('pkg_resources').declare_namespace(__name__)\n",
      "C:\\Program Files\\JetBrains\\PyCharm 2024.2\\plugins\\python-ce\\helpers\\pydev\\pydevd_plugins\\extensions\\types\\__init__.py:2: DeprecationWarning: Deprecated call to `pkg_resources.declare_namespace('pydevd_plugins.extensions.types')`.\n",
      "Implementing implicit namespace packages (as specified in PEP 420) is preferred to `pkg_resources.declare_namespace`. See https://setuptools.pypa.io/en/latest/references/keywords.html#keyword-namespace-packages\n",
      "  __import__('pkg_resources').declare_namespace(__name__)\n"
     ]
    }
   ],
   "execution_count": 3
  },
  {
   "cell_type": "code",
   "id": "a163fb81b4f2d996",
   "metadata": {
    "ExecuteTime": {
     "end_time": "2024-12-15T22:35:38.998227Z",
     "start_time": "2024-12-15T22:35:38.828346Z"
    }
   },
   "source": [
    "def make_step(td, decoder):\n",
    "    \"\"\"\n",
    "    Equivalent to FJSP make_step(), adapted for DJSSP where no encoder is used.\n",
    "    td: TensorDict representing the current state of the environment.\n",
    "    decoder: The L2DDecoder or policy that generates action logits.\n",
    "    env: The DJSSP environment instance.\n",
    "    \"\"\"\n",
    "    # Directly decode logits and mask from the raw input state `td`\n",
    "    hidden, _ = decoder.feature_extractor(td)\n",
    "\n",
    "    logits, mask = decoder(td, num_starts=0 , hidden = hidden)\n",
    "\n",
    "    # Mask invalid actions by setting their logits to -inf\n",
    "    action = logits.masked_fill(~mask, -torch.inf).argmax(1)\n",
    "\n",
    "    # Update the state with the selected action\n",
    "    td[\"action\"] = action\n",
    "\n",
    "    # Step the environment with the selected action\n",
    "    td = env.step(td)[\"next\"]\n",
    "\n",
    "    return td"
   ],
   "outputs": [],
   "execution_count": 4
  },
  {
   "cell_type": "markdown",
   "id": "bf1bed1bafe45a1c",
   "metadata": {},
   "source": [
    "# Reset the environment"
   ]
  },
  {
   "cell_type": "code",
   "id": "c3a6c61f1b8d29e8",
   "metadata": {
    "ExecuteTime": {
     "end_time": "2024-12-15T22:35:39.249014Z",
     "start_time": "2024-12-15T22:35:39.031082Z"
    }
   },
   "source": [
    "td = env.reset(batch_size = [1])\n"
   ],
   "outputs": [],
   "execution_count": 5
  },
  {
   "cell_type": "markdown",
   "id": "b592dd0bf69f3073",
   "metadata": {},
   "source": [
    "## Job Arrrival Times"
   ]
  },
  {
   "cell_type": "code",
   "id": "dbbd366a989fb951",
   "metadata": {
    "ExecuteTime": {
     "end_time": "2024-12-15T22:35:39.468971Z",
     "start_time": "2024-12-15T22:35:39.300839Z"
    }
   },
   "source": [
    "td[\"job_arrival_times\"]\n"
   ],
   "outputs": [
    {
     "data": {
      "text/plain": [
       "tensor([[ 41.1860, 100.0653, 146.0286, 193.4865, 215.6472, 231.1843, 231.3826,\n",
       "         266.9544]])"
      ]
     },
     "execution_count": 6,
     "metadata": {},
     "output_type": "execute_result"
    }
   ],
   "execution_count": 6
  },
  {
   "cell_type": "markdown",
   "id": "71039d220fd75c9d",
   "metadata": {},
   "source": [
    "## Processing Times of the operations"
   ]
  },
  {
   "cell_type": "code",
   "id": "5fcd5afd8f6b1c4",
   "metadata": {
    "ExecuteTime": {
     "end_time": "2024-12-15T22:35:39.735529Z",
     "start_time": "2024-12-15T22:35:39.546917Z"
    }
   },
   "source": [
    "td[\"proc_times\"][0]\n"
   ],
   "outputs": [
    {
     "data": {
      "text/plain": [
       "tensor([[ 35.1385,   0.0000,   0.0000,   0.0000,   0.0000,   0.0000,   0.0000,\n",
       "           0.0000,   0.0000,   0.0000,  63.5489,   0.0000,   0.0000,   0.0000,\n",
       "           0.0000,   0.0000,   0.0000,  48.3656,   0.0000,   0.0000,   0.0000,\n",
       "           0.0000,   0.0000,   0.0000,   0.0000,   0.0000,   0.0000,   0.0000,\n",
       "          76.7984,   0.0000,   0.0000,   0.0000,   0.0000,   0.0000,   0.0000,\n",
       "          28.4331,   0.0000,   0.0000,   0.0000,   0.0000,   0.0000,   0.0000,\n",
       "           0.0000,   0.0000,  43.5756,   0.0000,   0.0000,   0.0000,   0.0000,\n",
       "           0.0000,   0.0000,   0.0000,  50.8614,   0.0000,   0.0000,   0.0000,\n",
       "           0.0000,   0.0000,   0.0000,   0.0000,   0.0000,  75.7046,   0.0000,\n",
       "           0.0000],\n",
       "        [  0.0000,  72.2587,   0.0000,   0.0000,   0.0000,   0.0000,   0.0000,\n",
       "           0.0000,   0.0000,   0.0000,   0.0000,   0.0000,  82.5121,   0.0000,\n",
       "           0.0000,   0.0000,   0.0000,   0.0000,   0.0000,   0.0000,   0.0000,\n",
       "           0.0000,  99.7133,   0.0000,   0.0000,   0.0000,  58.7867,   0.0000,\n",
       "           0.0000,   0.0000,   0.0000,   0.0000,   0.0000,   0.0000,  27.8547,\n",
       "           0.0000,   0.0000,   0.0000,   0.0000,   0.0000,   0.0000,   0.0000,\n",
       "          79.2880,   0.0000,   0.0000,   0.0000,   0.0000,   0.0000,   0.0000,\n",
       "           0.0000,  16.8352,   0.0000,   0.0000,   0.0000,   0.0000,   0.0000,\n",
       "           0.0000,   0.0000,   0.0000,  70.0503,   0.0000,   0.0000,   0.0000,\n",
       "           0.0000],\n",
       "        [  0.0000,   0.0000,   0.0000,   0.0000,  99.1355,   0.0000,   0.0000,\n",
       "           0.0000,   0.0000,   0.0000,   0.0000,   0.0000,   0.0000,   0.0000,\n",
       "          43.5150,   0.0000,   0.0000,   0.0000,  26.5195,   0.0000,   0.0000,\n",
       "           0.0000,   0.0000,   0.0000,   0.0000,   0.0000,   0.0000,   0.0000,\n",
       "           0.0000,  24.5435,   0.0000,   0.0000,   0.0000,   0.0000,   0.0000,\n",
       "           0.0000,   0.0000,  73.5798,   0.0000,   0.0000,   0.0000,   0.0000,\n",
       "           0.0000,  64.9630,   0.0000,   0.0000,   0.0000,   0.0000,  34.2024,\n",
       "           0.0000,   0.0000,   0.0000,   0.0000,   0.0000,   0.0000,   0.0000,\n",
       "           0.0000,   0.0000,  18.1251,   0.0000,   0.0000,   0.0000,   0.0000,\n",
       "           0.0000],\n",
       "        [  0.0000,   0.0000,   0.0000,   0.0000,   0.0000,  13.9554,   0.0000,\n",
       "           0.0000,   0.0000,   0.0000,   0.0000,   0.0000,   0.0000,  26.1665,\n",
       "           0.0000,   0.0000,   0.0000,   0.0000,   0.0000,  53.1262,   0.0000,\n",
       "           0.0000,   0.0000,   0.0000,   0.0000,   0.0000,   0.0000,   0.0000,\n",
       "           0.0000,   0.0000,  16.2623,   0.0000,   0.0000,   0.0000,   0.0000,\n",
       "           0.0000,   0.0000,   0.0000,  47.2369,   0.0000,  53.2650,   0.0000,\n",
       "           0.0000,   0.0000,   0.0000,   0.0000,   0.0000,   0.0000,   0.0000,\n",
       "           0.0000,   0.0000,   0.0000,   0.0000,  96.1877,   0.0000,   0.0000,\n",
       "           4.6680,   0.0000,   0.0000,   0.0000,   0.0000,   0.0000,   0.0000,\n",
       "           0.0000],\n",
       "        [  0.0000,   0.0000,   0.0000,  51.6184,   0.0000,   0.0000,   0.0000,\n",
       "           0.0000,  59.8743,   0.0000,   0.0000,   0.0000,   0.0000,   0.0000,\n",
       "           0.0000,   0.0000,   0.0000,   0.0000,   0.0000,   0.0000,  41.8772,\n",
       "           0.0000,   0.0000,   0.0000,   0.0000,   0.0000,   0.0000,  34.4954,\n",
       "           0.0000,   0.0000,   0.0000,   0.0000,   0.0000,   0.0000,   0.0000,\n",
       "           0.0000,   0.0000,   0.0000,   0.0000,  56.7432,   0.0000,   0.0000,\n",
       "           0.0000,   0.0000,   0.0000,  77.4169,   0.0000,   0.0000,   0.0000,\n",
       "          40.2808,   0.0000,   0.0000,   0.0000,   0.0000,   0.0000,   0.0000,\n",
       "           0.0000,   0.0000,   0.0000,   0.0000,   0.0000,   0.0000,   0.0000,\n",
       "          37.9338],\n",
       "        [  0.0000,   0.0000, 115.9907,   0.0000,   0.0000,   0.0000,   0.0000,\n",
       "           0.0000,   0.0000,   0.0000,   0.0000,  30.0783,   0.0000,   0.0000,\n",
       "           0.0000,   0.0000,   0.0000,   0.0000,   0.0000,   0.0000,   0.0000,\n",
       "           0.0000,   0.0000,  85.5290,   8.6950,   0.0000,   0.0000,   0.0000,\n",
       "           0.0000,   0.0000,   0.0000,   0.0000,   0.0000,  67.3844,   0.0000,\n",
       "           0.0000,   0.0000,   0.0000,   0.0000,   0.0000,   0.0000,   0.0000,\n",
       "           0.0000,   0.0000,   0.0000,   0.0000,   0.0000,  21.2049,   0.0000,\n",
       "           0.0000,   0.0000,   0.0000,   0.0000,   0.0000,   0.0000,  40.2460,\n",
       "           0.0000,   0.0000,   0.0000,   0.0000,  53.7114,   0.0000,   0.0000,\n",
       "           0.0000],\n",
       "        [  0.0000,   0.0000,   0.0000,   0.0000,   0.0000,   0.0000,   0.0000,\n",
       "          29.4013,   0.0000,   0.0000,   0.0000,   0.0000,   0.0000,   0.0000,\n",
       "           0.0000,  12.9796,  18.9739,   0.0000,   0.0000,   0.0000,   0.0000,\n",
       "           0.0000,   0.0000,   0.0000,   0.0000,   0.0000,   0.0000,   0.0000,\n",
       "           0.0000,   0.0000,   0.0000,  10.3308,   0.0000,   0.0000,   0.0000,\n",
       "           0.0000,  29.5718,   0.0000,   0.0000,   0.0000,   0.0000,   0.0000,\n",
       "           0.0000,   0.0000,   0.0000,   0.0000,  79.1134,   0.0000,   0.0000,\n",
       "           0.0000,   0.0000,   0.0000,   0.0000,   0.0000,   2.8069,   0.0000,\n",
       "           0.0000,  91.8240,   0.0000,   0.0000,   0.0000,   0.0000,   0.0000,\n",
       "           0.0000],\n",
       "        [  0.0000,   0.0000,   0.0000,   0.0000,   0.0000,   0.0000,  28.9936,\n",
       "           0.0000,   0.0000,  24.9893,   0.0000,   0.0000,   0.0000,   0.0000,\n",
       "           0.0000,   0.0000,   0.0000,   0.0000,   0.0000,   0.0000,   0.0000,\n",
       "          72.8870,   0.0000,   0.0000,   0.0000,  43.4792,   0.0000,   0.0000,\n",
       "           0.0000,   0.0000,   0.0000,   0.0000,  93.8743,   0.0000,   0.0000,\n",
       "           0.0000,   0.0000,   0.0000,   0.0000,   0.0000,   0.0000,  41.3683,\n",
       "           0.0000,   0.0000,   0.0000,   0.0000,   0.0000,   0.0000,   0.0000,\n",
       "           0.0000,   0.0000, 117.2555,   0.0000,   0.0000,   0.0000,   0.0000,\n",
       "           0.0000,   0.0000,   0.0000,   0.0000,   0.0000,   0.0000,  22.7376,\n",
       "           0.0000]])"
      ]
     },
     "execution_count": 7,
     "metadata": {},
     "output_type": "execute_result"
    }
   ],
   "execution_count": 7
  },
  {
   "cell_type": "markdown",
   "id": "a62307cc17bedb35",
   "metadata": {},
   "source": [
    "## Times in batch before make_step is executed"
   ]
  },
  {
   "cell_type": "code",
   "id": "b7b76fdbe0dbed4d",
   "metadata": {
    "ExecuteTime": {
     "end_time": "2024-12-15T22:35:39.972749Z",
     "start_time": "2024-12-15T22:35:39.785492Z"
    }
   },
   "source": [
    "td[\"time\"]"
   ],
   "outputs": [
    {
     "data": {
      "text/plain": [
       "tensor([41.1860])"
      ]
     },
     "execution_count": 8,
     "metadata": {},
     "output_type": "execute_result"
    }
   ],
   "execution_count": 8
  },
  {
   "cell_type": "markdown",
   "id": "bc9a65bed5f85d9",
   "metadata": {},
   "source": [
    "## Start Times"
   ]
  },
  {
   "cell_type": "code",
   "id": "b9ccd39db3e0a2e4",
   "metadata": {
    "ExecuteTime": {
     "end_time": "2024-12-15T22:35:40.223457Z",
     "start_time": "2024-12-15T22:35:40.034744Z"
    }
   },
   "source": [
    "td[\"start_times\"]"
   ],
   "outputs": [
    {
     "data": {
      "text/plain": [
       "tensor([[0., 0., 0., 0., 0., 0., 0., 0., 0., 0., 0., 0., 0., 0., 0., 0., 0., 0., 0., 0., 0., 0., 0., 0.,\n",
       "         0., 0., 0., 0., 0., 0., 0., 0., 0., 0., 0., 0., 0., 0., 0., 0., 0., 0., 0., 0., 0., 0., 0., 0.,\n",
       "         0., 0., 0., 0., 0., 0., 0., 0., 0., 0., 0., 0., 0., 0., 0., 0.]])"
      ]
     },
     "execution_count": 9,
     "metadata": {},
     "output_type": "execute_result"
    }
   ],
   "execution_count": 9
  },
  {
   "cell_type": "markdown",
   "id": "3c648319d17d4544",
   "metadata": {},
   "source": [
    "## Finish Times"
   ]
  },
  {
   "cell_type": "code",
   "id": "1d3971a81e0fa2f4",
   "metadata": {
    "ExecuteTime": {
     "end_time": "2024-12-15T22:35:40.475773Z",
     "start_time": "2024-12-15T22:35:40.288786Z"
    }
   },
   "source": [
    "td[\"finish_times\"]"
   ],
   "outputs": [
    {
     "data": {
      "text/plain": [
       "tensor([[9999., 9999., 9999., 9999., 9999., 9999., 9999., 9999., 9999., 9999.,\n",
       "         9999., 9999., 9999., 9999., 9999., 9999., 9999., 9999., 9999., 9999.,\n",
       "         9999., 9999., 9999., 9999., 9999., 9999., 9999., 9999., 9999., 9999.,\n",
       "         9999., 9999., 9999., 9999., 9999., 9999., 9999., 9999., 9999., 9999.,\n",
       "         9999., 9999., 9999., 9999., 9999., 9999., 9999., 9999., 9999., 9999.,\n",
       "         9999., 9999., 9999., 9999., 9999., 9999., 9999., 9999., 9999., 9999.,\n",
       "         9999., 9999., 9999., 9999.]])"
      ]
     },
     "execution_count": 10,
     "metadata": {},
     "output_type": "execute_result"
    }
   ],
   "execution_count": 10
  },
  {
   "cell_type": "markdown",
   "id": "bffeb1c7a88192d9",
   "metadata": {},
   "source": [
    "## Make Manuel STEP in the Environment"
   ]
  },
  {
   "cell_type": "code",
   "id": "fb59d9e135fa9a30",
   "metadata": {},
   "source": [
    "from matplotlib import pyplot as plt\n",
    "from IPython.core.display_functions import clear_output\n",
    "\n",
    "env.render(td, 0)\n",
    "# Update plot within a for loop\n",
    "while not td[\"done\"].all():\n",
    "    # Clear the previous output for the next iteration\n",
    "    clear_output(wait=True)\n",
    "\n",
    "    td = make_step(td=td ,decoder = policy.decoder)\n",
    "    env.render(td, 0)\n",
    "    # Display updated plot\n",
    "    display(plt.gcf())\n",
    "\n",
    "    # Pause for a moment to see the changes\n",
    "    time.sleep(.4)"
   ],
   "execution_count": 11,
   "outputs": [
    {
     "data": {
      "text/plain": [
       "<Figure size 640x480 with 0 Axes>"
      ]
     },
     "metadata": {},
     "output_type": "display_data"
    },
    {
     "data": {
      "text/plain": [
       "<Figure size 640x480 with 1 Axes>"
      ],
      "image/png": "[encoded data removed]"
     },
     "metadata": {},
     "output_type": "display_data"
    },
    {
     "data": {
      "text/plain": [
       "<Figure size 640x480 with 0 Axes>"
      ]
     },
     "metadata": {},
     "output_type": "display_data"
    },
    {
     "data": {
      "text/plain": [
       "<Figure size 640x480 with 0 Axes>"
      ]
     },
     "metadata": {},
     "output_type": "display_data"
    }
   ]
  },
  {
   "cell_type": "markdown",
   "id": "c533f80d9e1a7e0b",
   "metadata": {},
   "source": [
    "## Job Arrival Times"
   ]
  },
  {
   "cell_type": "code",
   "id": "5ee1d80b8a770e2",
   "metadata": {
    "ExecuteTime": {
     "end_time": "2024-12-15T22:36:26.261055Z",
     "start_time": "2024-12-15T22:36:26.088196Z"
    }
   },
   "source": [
    "td[\"job_arrival_times\"]   # Unchanged"
   ],
   "outputs": [
    {
     "data": {
      "text/plain": [
       "tensor([[ 41.1860, 100.0653, 146.0286, 193.4865, 215.6472, 231.1843, 231.3826,\n",
       "         266.9544]])"
      ]
     },
     "execution_count": 12,
     "metadata": {},
     "output_type": "execute_result"
    }
   ],
   "execution_count": 12
  },
  {
   "cell_type": "markdown",
   "id": "b7e72f95afff42b",
   "metadata": {},
   "source": [
    "## Start Times\n"
   ]
  },
  {
   "cell_type": "code",
   "id": "50b6ad1ab2cb8f6d",
   "metadata": {
    "ExecuteTime": {
     "end_time": "2024-12-15T22:36:26.524814Z",
     "start_time": "2024-12-15T22:36:26.325643Z"
    }
   },
   "source": [
    "td[\"start_times\"] #0-4 Job 0"
   ],
   "outputs": [
    {
     "data": {
      "text/plain": [
       "tensor([[ 41.1860,  76.3246, 148.5833, 264.5740, 316.1924, 415.6739, 471.2375,\n",
       "         500.2311, 100.0653, 159.9395, 213.3681, 276.9169, 306.9953, 389.5074,\n",
       "         433.4530, 476.9680, 146.0286, 165.0024, 213.3681, 289.1172, 356.4733,\n",
       "         398.3505, 642.3224, 742.0358, 264.5740, 309.5215, 389.5074, 448.2941,\n",
       "         482.7895, 559.5880, 584.1315, 600.3937, 215.6472, 309.5215, 614.4677,\n",
       "         647.7606, 676.1937, 705.7655, 779.3453, 835.1199, 231.1843, 353.0007,\n",
       "         518.3445, 597.6325, 676.1937, 719.7692, 797.1862, 876.2996, 239.8876,\n",
       "         316.1924, 597.6325, 614.4677, 731.7233, 826.5822, 922.7698, 925.5768,\n",
       "         284.4493, 289.1172, 415.3280, 448.2941, 518.3445, 572.0559, 731.7233,\n",
       "         797.1862]])"
      ]
     },
     "execution_count": 13,
     "metadata": {},
     "output_type": "execute_result"
    }
   ],
   "execution_count": 13
  },
  {
   "cell_type": "markdown",
   "id": "3560c3643cd94766",
   "metadata": {},
   "source": [
    "## Finish Times"
   ]
  },
  {
   "cell_type": "code",
   "id": "312a617b97729be6",
   "metadata": {
    "ExecuteTime": {
     "end_time": "2024-12-15T22:36:26.761822Z",
     "start_time": "2024-12-15T22:36:26.574832Z"
    }
   },
   "source": [
    "td[\"finish_times\"]"
   ],
   "outputs": [
    {
     "data": {
      "text/plain": [
       "tensor([[ 76.3246, 148.5833, 264.5740, 316.1924, 415.3280, 429.6293, 500.2311,\n",
       "         529.6325, 159.9395, 184.9289, 276.9169, 306.9953, 389.5074, 415.6739,\n",
       "         476.9680, 489.9476, 165.0024, 213.3681, 239.8876, 342.2435, 398.3505,\n",
       "         471.2375, 742.0358, 827.5648, 273.2690, 353.0007, 448.2941, 482.7895,\n",
       "         559.5880, 584.1315, 600.3937, 610.7245, 309.5215, 376.9059, 642.3224,\n",
       "         676.1937, 705.7655, 779.3453, 826.5822, 891.8632, 284.4493, 394.3690,\n",
       "         597.6325, 662.5955, 719.7692, 797.1862, 876.2996, 897.5045, 274.0900,\n",
       "         356.4733, 614.4677, 731.7233, 782.5847, 922.7698, 925.5768, 965.8228,\n",
       "         289.1172, 380.9413, 433.4530, 518.3445, 572.0559, 647.7606, 754.4609,\n",
       "         835.1199]])"
      ]
     },
     "execution_count": 14,
     "metadata": {},
     "output_type": "execute_result"
    }
   ],
   "execution_count": 14
  },
  {
   "cell_type": "code",
   "id": "1d7395a5539be70e",
   "metadata": {
    "ExecuteTime": {
     "end_time": "2024-12-15T22:53:36.976765Z",
     "start_time": "2024-12-15T22:36:26.919251Z"
    }
   },
   "source": [
    "# Policy: neural network, in this case with encoder-decoder architecture\n",
    "policy = L2DPolicy4PPO(\n",
    "    embed_dim=embed_dim,\n",
    "    num_encoder_layers=num_encoder_layers,\n",
    "    env_name=\"djssp\",\n",
    "    het_emb=False\n",
    ")\n",
    "\n",
    "model = L2DPPOModel(\n",
    "    env=env,\n",
    "    policy=policy,\n",
    "    batch_size=batch_size,\n",
    "    train_data_size=train_data_size,\n",
    "    val_data_size=1,\n",
    "    optimizer_kwargs={\"lr\": 1e-4}\n",
    ")\n",
    "device = \"cuda\" if torch.cuda.is_available() else \"cpu\"\n",
    "\n",
    "\n",
    "trainer = RL4COTrainer(\n",
    "    max_epochs=1,\n",
    "    accelerator=accelerator,\n",
    "    devices=1,\n",
    "    logger=None,\n",
    ")\n",
    "\n",
    "trainer.fit(model)\n",
    "\n",
    "model = model.to(device)"
   ],
   "outputs": [
    {
     "name": "stderr",
     "output_type": "stream",
     "text": [
      "C:\\Users\\soner\\anaconda3\\envs\\env_rl4co\\lib\\site-packages\\lightning\\pytorch\\utilities\\parsing.py:208: Attribute 'env' is an instance of `nn.Module` and is already saved during checkpointing. It is recommended to ignore them using `self.save_hyperparameters(ignore=['env'])`.\n",
      "C:\\Users\\soner\\anaconda3\\envs\\env_rl4co\\lib\\site-packages\\lightning\\pytorch\\utilities\\parsing.py:208: Attribute 'policy' is an instance of `nn.Module` and is already saved during checkpointing. It is recommended to ignore them using `self.save_hyperparameters(ignore=['policy'])`.\n",
      "C:\\Users\\soner\\anaconda3\\envs\\env_rl4co\\lib\\site-packages\\lightning\\pytorch\\trainer\\connectors\\accelerator_connector.py:512: You passed `Trainer(accelerator='cpu', precision='16-mixed')` but AMP with fp16 is not supported on CPU. Using `precision='bf16-mixed'` instead.\n",
      "Using bfloat16 Automatic Mixed Precision (AMP)\n",
      "GPU available: False, used: False\n",
      "TPU available: False, using: 0 TPU cores\n",
      "HPU available: False, using: 0 HPUs\n",
      "C:\\Users\\soner\\anaconda3\\envs\\env_rl4co\\lib\\site-packages\\lightning\\pytorch\\trainer\\connectors\\logger_connector\\logger_connector.py:75: Starting from v1.9.0, `tensorboardX` has been removed as a dependency of the `lightning.pytorch` package, due to potential conflicts with other packages in the ML ecosystem. For this reason, `logger=True` will use `CSVLogger` as the default logger, unless the `tensorboard` or `tensorboardX` packages are found. Please `pip install lightning[extra]` or one of them to enable TensorBoard support by default\n",
      "Overriding gradient_clip_val to None for 'automatic_optimization=False' models\n",
      "C:\\Users\\soner\\anaconda3\\envs\\env_rl4co\\lib\\site-packages\\lightning\\pytorch\\utilities\\parsing.py:44: Attribute 'policy' removed from hparams because it cannot be pickled. You can suppress this warning by setting `self.save_hyperparameters(ignore=['policy'])`.\n",
      "val_file not set. Generating dataset instead\n",
      "test_file not set. Generating dataset instead\n",
      "\n",
      "  | Name       | Type          | Params | Mode \n",
      "-----------------------------------------------------\n",
      "0 | env        | DJSSPEnv      | 0      | train\n",
      "1 | policy     | L2DPolicy4PPO | 25.5 K | train\n",
      "2 | policy_old | L2DPolicy4PPO | 25.5 K | train\n",
      "-----------------------------------------------------\n",
      "51.1 K    Trainable params\n",
      "0         Non-trainable params\n",
      "51.1 K    Total params\n",
      "0.204     Total estimated model params size (MB)\n",
      "69        Modules in train mode\n",
      "0         Modules in eval mode\n"
     ]
    },
    {
     "name": "stdout",
     "output_type": "stream",
     "text": [
      "Sanity Checking DataLoader 0:   0%|          | 0/1 [00:00<?, ?it/s]"
     ]
    },
    {
     "name": "stderr",
     "output_type": "stream",
     "text": [
      "C:\\Users\\soner\\anaconda3\\envs\\env_rl4co\\lib\\site-packages\\lightning\\pytorch\\trainer\\connectors\\data_connector.py:424: The 'val_dataloader' does not have many workers which may be a bottleneck. Consider increasing the value of the `num_workers` argument` to `num_workers=15` in the `DataLoader` to improve performance.\n"
     ]
    },
    {
     "name": "stdout",
     "output_type": "stream",
     "text": [
      "                                                                           "
     ]
    },
    {
     "name": "stderr",
     "output_type": "stream",
     "text": [
      "C:\\Users\\soner\\anaconda3\\envs\\env_rl4co\\lib\\site-packages\\lightning\\pytorch\\utilities\\data.py:78: Trying to infer the `batch_size` from an ambiguous collection. The batch size we found is 1. To avoid any miscalculations, use `self.log(..., batch_size=batch_size)`.\n",
      "C:\\Users\\soner\\anaconda3\\envs\\env_rl4co\\lib\\site-packages\\lightning\\pytorch\\trainer\\connectors\\data_connector.py:424: The 'train_dataloader' does not have many workers which may be a bottleneck. Consider increasing the value of the `num_workers` argument` to `num_workers=15` in the `DataLoader` to improve performance.\n"
     ]
    },
    {
     "name": "stdout",
     "output_type": "stream",
     "text": [
      "Epoch 0: 100%|██████████| 250/250 [10:24<00:00,  0.40it/s, v_num=9, train/loss=118.0, train/surrogate_loss=0.297, train/value_loss=236.0, train/entropy=0.152]   \n",
      "Validation: |          | 0/? [00:00<?, ?it/s]\u001B[A\n",
      "Validation:   0%|          | 0/1 [00:00<?, ?it/s]\u001B[A\n",
      "Validation DataLoader 0:   0%|          | 0/1 [00:00<?, ?it/s]\u001B[A\n",
      "Validation DataLoader 0: 100%|██████████| 1/1 [00:00<00:00,  1.65it/s]\u001B[A\n",
      "Epoch 0: 100%|██████████| 250/250 [10:25<00:00,  0.40it/s, v_num=9, train/loss=118.0, train/surrogate_loss=0.297, train/value_loss=236.0, train/entropy=0.152, val/reward=-1.05e+3]"
     ]
    },
    {
     "name": "stderr",
     "output_type": "stream",
     "text": [
      "`Trainer.fit` stopped: `max_epochs=1` reached.\n"
     ]
    },
    {
     "name": "stdout",
     "output_type": "stream",
     "text": [
      "Epoch 0: 100%|██████████| 250/250 [10:25<00:00,  0.40it/s, v_num=9, train/loss=118.0, train/surrogate_loss=0.297, train/value_loss=236.0, train/entropy=0.152, val/reward=-1.05e+3]\n"
     ]
    }
   ],
   "execution_count": 15
  }
 ],
 "metadata": {
  "kernelspec": {
   "display_name": "Python 3 (ipykernel)",
   "language": "python",
   "name": "python3"
  },
  "language_info": {
   "codemirror_mode": {
    "name": "ipython",
    "version": 3
   },
   "file_extension": ".py",
   "mimetype": "text/x-python",
   "name": "python",
   "nbconvert_exporter": "python",
   "pygments_lexer": "ipython3",
   "version": "3.10.15"
  }
 },
 "nbformat": 4,
 "nbformat_minor": 5
}
