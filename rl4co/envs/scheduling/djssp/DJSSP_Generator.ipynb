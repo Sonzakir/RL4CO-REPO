{
 "cells": [
  {
   "cell_type": "markdown",
   "id": "fd4fd6ccebc6eb1b",
   "metadata": {},
   "source": [
    "# Generator"
   ]
  },
  {
   "cell_type": "markdown",
   "id": "29fb11ffae6aa6cd",
   "metadata": {},
   "source": [
    "## To create Generator following attributes must be given\n",
    "1. Number of Jobs\n",
    "2. Number of Machines\n",
    "3. Minimum Time required for a amachine to process an operation\n",
    "4. Maximum Time required for a machine to process an operation\n",
    "5. Mean Time Between Failures to simulate machine breakdowns\n",
    "6. Mean Time To Repair to simulate machine breakdowns"
   ]
  },
  {
   "cell_type": "code",
   "id": "72b1c2d1a0a7b12",
   "metadata": {
    "ExecuteTime": {
     "end_time": "2024-11-30T20:51:25.127914Z",
     "start_time": "2024-11-30T20:51:19.664932Z"
    }
   },
   "source": [
    "from rl4co.envs.scheduling.djssp.generator import DJSSPGenerator\n",
    "\n",
    "djssp_generator = DJSSPGenerator(\n",
    "    num_jobs=6 ,\n",
    "    num_machines= 6 ,\n",
    "    min_processing_time= 1 ,\n",
    "    max_processing_time= 200 ,\n",
    "    mtbf = 17 ,\n",
    "    mttr = 4\n",
    ")"
   ],
   "outputs": [
    {
     "name": "stderr",
     "output_type": "stream",
     "text": [
      "C:\\Users\\soner\\anaconda3\\envs\\env_rl4co\\lib\\site-packages\\tqdm\\auto.py:21: TqdmWarning: IProgress not found. Please update jupyter and ipywidgets. See https://ipywidgets.readthedocs.io/en/stable/user_install.html\n",
      "  from .autonotebook import tqdm as notebook_tqdm\n"
     ]
    }
   ],
   "execution_count": 1
  },
  {
   "cell_type": "markdown",
   "id": "c999c6d8-e92c-4d61-a973-47ad4c42db86",
   "metadata": {},
   "source": [
    "## _generate()\n",
    "- INPUT: takes iterable batch_size as an input\n",
    "- OUTPUT: Tensor dict containing\n",
    "    - Start operation per Job\n",
    "    - Last operation per Job\n",
    "    - Estimated processing times (td[\"proc_times\"])\n",
    "    - Stochastic/actual processing times (td[\"actual_proc_times\"])\n",
    "    - pad_mask"
   ]
  },
  {
   "cell_type": "code",
   "id": "c0a986a8bf172cc",
   "metadata": {
    "ExecuteTime": {
     "end_time": "2024-11-30T20:51:25.298415Z",
     "start_time": "2024-11-30T20:51:25.150169Z"
    }
   },
   "source": [
    "td =djssp_generator._generate(batch_size=[6,])"
   ],
   "outputs": [],
   "execution_count": 2
  },
  {
   "cell_type": "markdown",
   "id": "ba0a7e67-d3a6-40c9-8ca2-c7785be7dd5c",
   "metadata": {},
   "source": [
    "### td[\"start_op_per_job\"]\n",
    "- `[batch_size, num_jobs]`: first operation of each job"
   ]
  },
  {
   "cell_type": "code",
   "id": "0dceb8cb-4292-4604-9595-adb7d6774aeb",
   "metadata": {
    "ExecuteTime": {
     "end_time": "2024-11-30T20:51:25.408042Z",
     "start_time": "2024-11-30T20:51:25.393044Z"
    }
   },
   "source": [
    "td[\"start_op_per_job\"]"
   ],
   "outputs": [
    {
     "data": {
      "text/plain": [
       "tensor([[ 0,  6, 12, 18, 24, 30],\n",
       "        [ 0,  6, 12, 18, 24, 30],\n",
       "        [ 0,  6, 12, 18, 24, 30],\n",
       "        [ 0,  6, 12, 18, 24, 30],\n",
       "        [ 0,  6, 12, 18, 24, 30],\n",
       "        [ 0,  6, 12, 18, 24, 30]])"
      ]
     },
     "execution_count": 3,
     "metadata": {},
     "output_type": "execute_result"
    }
   ],
   "execution_count": 3
  },
  {
   "cell_type": "raw",
   "id": "f41c94f2-1c23-47d1-8a09-8092ef57f47d",
   "metadata": {},
   "source": [
    "In batch 0 => Start operation ID of job 0 is 0 ; Start Operation ID of job 1 is 6 ...."
   ]
  },
  {
   "cell_type": "code",
   "id": "5008a2af-c52c-40a0-b72f-e183cfd34f04",
   "metadata": {
    "ExecuteTime": {
     "end_time": "2024-11-30T20:51:25.517003Z",
     "start_time": "2024-11-30T20:51:25.502703Z"
    }
   },
   "source": [
    "td[\"start_op_per_job\"].shape"
   ],
   "outputs": [
    {
     "data": {
      "text/plain": [
       "torch.Size([6, 6])"
      ]
     },
     "execution_count": 4,
     "metadata": {},
     "output_type": "execute_result"
    }
   ],
   "execution_count": 4
  },
  {
   "cell_type": "markdown",
   "id": "bc1a1ce0-7e87-46e9-a5ee-6d2a68dd18a8",
   "metadata": {},
   "source": [
    "- Start Operation of Jobs in batch 0"
   ]
  },
  {
   "cell_type": "code",
   "id": "fdd04d4e-c2a9-4c58-9d9b-dac582a79320",
   "metadata": {
    "ExecuteTime": {
     "end_time": "2024-11-30T20:51:25.660071Z",
     "start_time": "2024-11-30T20:51:25.646316Z"
    }
   },
   "source": [
    "td[\"start_op_per_job\"][0]"
   ],
   "outputs": [
    {
     "data": {
      "text/plain": [
       "tensor([ 0,  6, 12, 18, 24, 30])"
      ]
     },
     "execution_count": 5,
     "metadata": {},
     "output_type": "execute_result"
    }
   ],
   "execution_count": 5
  },
  {
   "cell_type": "markdown",
   "id": "7223c637-5c1a-4ef2-9e08-7ed99bbd3c75",
   "metadata": {},
   "source": [
    "### td[\"end_op_per_job\"]\n",
    "- [batch_size, num_jobs]: last operation of each job"
   ]
  },
  {
   "cell_type": "code",
   "id": "427e4571-5b4c-4be5-8842-93a4bed6bbea",
   "metadata": {
    "ExecuteTime": {
     "end_time": "2024-11-30T20:51:25.814935Z",
     "start_time": "2024-11-30T20:51:25.802623Z"
    }
   },
   "source": [
    "td[\"end_op_per_job\"]"
   ],
   "outputs": [
    {
     "data": {
      "text/plain": [
       "tensor([[ 5, 11, 17, 23, 29, 35],\n",
       "        [ 5, 11, 17, 23, 29, 35],\n",
       "        [ 5, 11, 17, 23, 29, 35],\n",
       "        [ 5, 11, 17, 23, 29, 35],\n",
       "        [ 5, 11, 17, 23, 29, 35],\n",
       "        [ 5, 11, 17, 23, 29, 35]])"
      ]
     },
     "execution_count": 6,
     "metadata": {},
     "output_type": "execute_result"
    }
   ],
   "execution_count": 6
  },
  {
   "cell_type": "code",
   "id": "fd6a93e8-0502-4b0c-96a1-4f2543fcd633",
   "metadata": {
    "ExecuteTime": {
     "end_time": "2024-11-30T20:51:25.994184Z",
     "start_time": "2024-11-30T20:51:25.981661Z"
    }
   },
   "source": [
    "td[\"end_op_per_job\"].shape"
   ],
   "outputs": [
    {
     "data": {
      "text/plain": [
       "torch.Size([6, 6])"
      ]
     },
     "execution_count": 7,
     "metadata": {},
     "output_type": "execute_result"
    }
   ],
   "execution_count": 7
  },
  {
   "cell_type": "code",
   "id": "43294806-49e3-4612-8753-13b165a81ece",
   "metadata": {
    "ExecuteTime": {
     "end_time": "2024-11-30T20:51:26.222469Z",
     "start_time": "2024-11-30T20:51:26.213365Z"
    }
   },
   "source": [
    "td[\"end_op_per_job\"][2]"
   ],
   "outputs": [
    {
     "data": {
      "text/plain": [
       "tensor([ 5, 11, 17, 23, 29, 35])"
      ]
     },
     "execution_count": 8,
     "metadata": {},
     "output_type": "execute_result"
    }
   ],
   "execution_count": 8
  },
  {
   "cell_type": "markdown",
   "id": "b935ff7b-bff7-4f75-9454-ef871261af1d",
   "metadata": {},
   "source": [
    "### td[\"proc_times\"]\n",
    "-`[batch_size, num_machines , total_n_ops]`: estimated processing time of operations on machines"
   ]
  },
  {
   "cell_type": "code",
   "id": "aa5e015a-6215-4e82-b854-e8db320c9571",
   "metadata": {
    "ExecuteTime": {
     "end_time": "2024-11-30T20:51:26.334869Z",
     "start_time": "2024-11-30T20:51:26.326248Z"
    }
   },
   "source": [
    "td[\"proc_times\"].shape"
   ],
   "outputs": [
    {
     "data": {
      "text/plain": [
       "torch.Size([6, 6, 36])"
      ]
     },
     "execution_count": 9,
     "metadata": {},
     "output_type": "execute_result"
    }
   ],
   "execution_count": 9
  },
  {
   "cell_type": "code",
   "id": "768983aa1128f7e3",
   "metadata": {
    "scrolled": true,
    "ExecuteTime": {
     "end_time": "2024-11-30T20:51:26.502745Z",
     "start_time": "2024-11-30T20:51:26.483138Z"
    }
   },
   "source": [
    "td[\"proc_times\"]"
   ],
   "outputs": [
    {
     "data": {
      "text/plain": [
       "tensor([[[  0.,   0., 123.,  ...,  90.,   0.,   0.],\n",
       "         [  0.,   0.,   0.,  ...,   0.,   0.,   0.],\n",
       "         [  0., 105.,   0.,  ...,   0.,   0.,   0.],\n",
       "         [164.,   0.,   0.,  ...,   0.,   0., 126.],\n",
       "         [  0.,   0.,   0.,  ...,   0.,   0.,   0.],\n",
       "         [  0.,   0.,   0.,  ...,   0.,  86.,   0.]],\n",
       "\n",
       "        [[  0.,   0.,   0.,  ...,   0.,   0.,   0.],\n",
       "         [ 95.,   0.,   0.,  ...,  19.,   0.,   0.],\n",
       "         [  0.,  37.,   0.,  ...,   0.,   0.,   0.],\n",
       "         [  0.,   0.,   0.,  ...,   0.,   0.,   0.],\n",
       "         [  0.,   0.,  74.,  ...,   0., 167.,   0.],\n",
       "         [  0.,   0.,   0.,  ...,   0.,   0., 178.]],\n",
       "\n",
       "        [[  0.,   0.,   0.,  ...,   0., 130.,   0.],\n",
       "         [ 10.,   0.,   0.,  ..., 127.,   0.,   0.],\n",
       "         [  0.,   0.,   0.,  ...,   0.,   0.,   0.],\n",
       "         [  0.,   0.,   0.,  ...,   0.,   0.,   0.],\n",
       "         [  0.,   0.,  82.,  ...,   0.,   0.,  32.],\n",
       "         [  0., 148.,   0.,  ...,   0.,   0.,   0.]],\n",
       "\n",
       "        [[  0.,   0.,   0.,  ...,  88.,   0.,   0.],\n",
       "         [  0.,  19.,   0.,  ...,   0.,  65.,   0.],\n",
       "         [  0.,   0.,  39.,  ...,   0.,   0.,   0.],\n",
       "         [  0.,   0.,   0.,  ...,   0.,   0.,   0.],\n",
       "         [ 20.,   0.,   0.,  ...,   0.,   0.,  29.],\n",
       "         [  0.,   0.,   0.,  ...,   0.,   0.,   0.]],\n",
       "\n",
       "        [[  0.,   0.,   0.,  ...,   0.,   0.,   0.],\n",
       "         [ 54.,   0.,   0.,  ...,   0.,   0., 159.],\n",
       "         [  0.,   0.,   0.,  ...,   0.,  11.,   0.],\n",
       "         [  0.,   0., 115.,  ...,   0.,   0.,   0.],\n",
       "         [  0.,  78.,   0.,  ..., 121.,   0.,   0.],\n",
       "         [  0.,   0.,   0.,  ...,   0.,   0.,   0.]],\n",
       "\n",
       "        [[  0.,   0., 168.,  ...,   0.,  48.,   0.],\n",
       "         [  0.,  15.,   0.,  ...,   0.,   0.,   0.],\n",
       "         [  0.,   0.,   0.,  ...,   0.,   0.,   0.],\n",
       "         [  0.,   0.,   0.,  ..., 164.,   0.,   0.],\n",
       "         [ 32.,   0.,   0.,  ...,   0.,   0.,   0.],\n",
       "         [  0.,   0.,   0.,  ...,   0.,   0., 197.]]])"
      ]
     },
     "execution_count": 10,
     "metadata": {},
     "output_type": "execute_result"
    }
   ],
   "execution_count": 10
  },
  {
   "cell_type": "markdown",
   "id": "140ea444-789d-4deb-aba8-2e4181380286",
   "metadata": {},
   "source": [
    "- Estimated Processing time of operations on machines in Batch 0\n",
    "  - EX: in batch 0; machine 0 can process operation 0 on 7 time units => td[\"proc_times\"][0][machine_no][operation_no]"
   ]
  },
  {
   "cell_type": "code",
   "id": "bfb158a3-894b-4761-9834-f04b9d36f1f2",
   "metadata": {
    "ExecuteTime": {
     "end_time": "2024-11-30T20:51:26.575793Z",
     "start_time": "2024-11-30T20:51:26.556417Z"
    }
   },
   "source": [
    "td[\"proc_times\"][0]"
   ],
   "outputs": [
    {
     "data": {
      "text/plain": [
       "tensor([[  0.,   0., 123.,   0.,   0.,   0.,   0.,   0.,   0.,   0.,   0., 142.,\n",
       "           0.,   0.,   0.,   0.,   0., 163.,   0.,   0.,   0.,   0.,   0.,   5.,\n",
       "           0.,   0.,   0.,   0.,   0.,  10.,   0.,   0.,   0.,  90.,   0.,   0.],\n",
       "        [  0.,   0.,   0.,  55.,   0.,   0.,   0.,   0.,   0., 144.,   0.,   0.,\n",
       "           0.,   0.,   0.,   0., 125.,   0., 100.,   0.,   0.,   0.,   0.,   0.,\n",
       "          39.,   0.,   0.,   0.,   0.,   0.,   0.,   0.,  78.,   0.,   0.,   0.],\n",
       "        [  0., 105.,   0.,   0.,   0.,   0.,   0.,   0.,   0.,   0.,  66.,   0.,\n",
       "           0.,   0., 122.,   0.,   0.,   0.,   0.,   0.,   0.,   0., 164.,   0.,\n",
       "           0.,   0.,   0.,   0.,  84.,   0.,   0.,  46.,   0.,   0.,   0.,   0.],\n",
       "        [164.,   0.,   0.,   0.,   0.,   0., 192.,   0.,   0.,   0.,   0.,   0.,\n",
       "           0.,   0.,   0.,  55.,   0.,   0.,   0.,   0.,  53.,   0.,   0.,   0.,\n",
       "           0.,   0.,   0.,  76.,   0.,   0.,   0.,   0.,   0.,   0.,   0., 126.],\n",
       "        [  0.,   0.,   0.,   0.,  28.,   0.,   0.,   0., 156.,   0.,   0.,   0.,\n",
       "           0., 145.,   0.,   0.,   0.,   0.,   0.,   0.,   0.,  14.,   0.,   0.,\n",
       "           0.,   4.,   0.,   0.,   0.,   0.,  74.,   0.,   0.,   0.,   0.,   0.],\n",
       "        [  0.,   0.,   0.,   0.,   0., 140.,   0., 136.,   0.,   0.,   0.,   0.,\n",
       "         197.,   0.,   0.,   0.,   0.,   0.,   0., 189.,   0.,   0.,   0.,   0.,\n",
       "           0.,   0., 134.,   0.,   0.,   0.,   0.,   0.,   0.,   0.,  86.,   0.]])"
      ]
     },
     "execution_count": 11,
     "metadata": {},
     "output_type": "execute_result"
    }
   ],
   "execution_count": 11
  },
  {
   "cell_type": "markdown",
   "id": "d1762d6a-8acd-4472-b87c-4736cd8a1809",
   "metadata": {},
   "source": [
    "### td[\"actual_proc_times\"]\n",
    "- `[batch_size, num_machines , total_n_ops]`: actual processing time of operations on machines\n",
    "- calculated by : `_simulate_actual_processing_times()`"
   ]
  },
  {
   "cell_type": "code",
   "id": "eb20d4e8-3c1b-4835-8509-1e1cc4f59658",
   "metadata": {
    "ExecuteTime": {
     "end_time": "2024-11-30T20:51:26.716030Z",
     "start_time": "2024-11-30T20:51:26.695773Z"
    }
   },
   "source": [
    "td[\"actual_proc_times\"]"
   ],
   "outputs": [
    {
     "data": {
      "text/plain": [
       "tensor([[[  0.0000,   0.0000, 117.6933,  ...,  86.7888,   0.0000,   0.0000],\n",
       "         [  0.0000,   0.0000,   0.0000,  ...,   0.0000,   0.0000,   0.0000],\n",
       "         [  0.0000, 112.9930,   0.0000,  ...,   0.0000,   0.0000,   0.0000],\n",
       "         [182.3142,   0.0000,   0.0000,  ...,   0.0000,   0.0000, 145.8596],\n",
       "         [  0.0000,   0.0000,   0.0000,  ...,   0.0000,   0.0000,   0.0000],\n",
       "         [  0.0000,   0.0000,   0.0000,  ...,   0.0000,  80.6574,   0.0000]],\n",
       "\n",
       "        [[  0.0000,   0.0000,   0.0000,  ...,   0.0000,   0.0000,   0.0000],\n",
       "         [ 91.2300,   0.0000,   0.0000,  ...,  21.4536,   0.0000,   0.0000],\n",
       "         [  0.0000,  36.9711,   0.0000,  ...,   0.0000,   0.0000,   0.0000],\n",
       "         [  0.0000,   0.0000,   0.0000,  ...,   0.0000,   0.0000,   0.0000],\n",
       "         [  0.0000,   0.0000,  85.3339,  ...,   0.0000, 180.0727,   0.0000],\n",
       "         [  0.0000,   0.0000,   0.0000,  ...,   0.0000,   0.0000, 177.9814]],\n",
       "\n",
       "        [[  0.0000,   0.0000,   0.0000,  ...,   0.0000, 118.8961,   0.0000],\n",
       "         [ 11.3334,   0.0000,   0.0000,  ..., 107.7099,   0.0000,   0.0000],\n",
       "         [  0.0000,   0.0000,   0.0000,  ...,   0.0000,   0.0000,   0.0000],\n",
       "         [  0.0000,   0.0000,   0.0000,  ...,   0.0000,   0.0000,   0.0000],\n",
       "         [  0.0000,   0.0000,  85.0674,  ...,   0.0000,   0.0000,  29.2309],\n",
       "         [  0.0000, 119.0091,   0.0000,  ...,   0.0000,   0.0000,   0.0000]],\n",
       "\n",
       "        [[  0.0000,   0.0000,   0.0000,  ...,  92.5096,   0.0000,   0.0000],\n",
       "         [  0.0000,  17.3042,   0.0000,  ...,   0.0000,  68.1240,   0.0000],\n",
       "         [  0.0000,   0.0000,  36.3975,  ...,   0.0000,   0.0000,   0.0000],\n",
       "         [  0.0000,   0.0000,   0.0000,  ...,   0.0000,   0.0000,   0.0000],\n",
       "         [ 20.9494,   0.0000,   0.0000,  ...,   0.0000,   0.0000,  31.1815],\n",
       "         [  0.0000,   0.0000,   0.0000,  ...,   0.0000,   0.0000,   0.0000]],\n",
       "\n",
       "        [[  0.0000,   0.0000,   0.0000,  ...,   0.0000,   0.0000,   0.0000],\n",
       "         [ 60.0635,   0.0000,   0.0000,  ...,   0.0000,   0.0000, 145.4564],\n",
       "         [  0.0000,   0.0000,   0.0000,  ...,   0.0000,  12.0773,   0.0000],\n",
       "         [  0.0000,   0.0000, 118.8674,  ...,   0.0000,   0.0000,   0.0000],\n",
       "         [  0.0000,  63.2345,   0.0000,  ..., 104.8990,   0.0000,   0.0000],\n",
       "         [  0.0000,   0.0000,   0.0000,  ...,   0.0000,   0.0000,   0.0000]],\n",
       "\n",
       "        [[  0.0000,   0.0000, 176.0636,  ...,   0.0000,  46.9410,   0.0000],\n",
       "         [  0.0000,  15.0760,   0.0000,  ...,   0.0000,   0.0000,   0.0000],\n",
       "         [  0.0000,   0.0000,   0.0000,  ...,   0.0000,   0.0000,   0.0000],\n",
       "         [  0.0000,   0.0000,   0.0000,  ..., 168.2621,   0.0000,   0.0000],\n",
       "         [ 32.9774,   0.0000,   0.0000,  ...,   0.0000,   0.0000,   0.0000],\n",
       "         [  0.0000,   0.0000,   0.0000,  ...,   0.0000,   0.0000, 209.8302]]])"
      ]
     },
     "execution_count": 12,
     "metadata": {},
     "output_type": "execute_result"
    }
   ],
   "execution_count": 12
  },
  {
   "cell_type": "markdown",
   "id": "501e82dc-6e07-4a7c-9eb6-84bec00a7426",
   "metadata": {},
   "source": [
    "- Shape"
   ]
  },
  {
   "cell_type": "code",
   "id": "b414b648cf19f572",
   "metadata": {
    "ExecuteTime": {
     "end_time": "2024-11-30T20:51:26.988196Z",
     "start_time": "2024-11-30T20:51:26.978802Z"
    }
   },
   "source": [
    "td[\"actual_proc_times\"].shape"
   ],
   "outputs": [
    {
     "data": {
      "text/plain": [
       "torch.Size([6, 6, 36])"
      ]
     },
     "execution_count": 13,
     "metadata": {},
     "output_type": "execute_result"
    }
   ],
   "execution_count": 13
  },
  {
   "cell_type": "markdown",
   "id": "14be9044-25f6-4e30-8b89-d92b2e954557",
   "metadata": {},
   "source": [
    "- Example : Actual processing time of operation 6 on machine 3 in batch 0"
   ]
  },
  {
   "cell_type": "code",
   "id": "18e7f08d-a57a-4a0a-b752-414d1b757f38",
   "metadata": {
    "ExecuteTime": {
     "end_time": "2024-11-30T20:51:27.404112Z",
     "start_time": "2024-11-30T20:51:27.390519Z"
    }
   },
   "source": [
    "td[\"actual_proc_times\"][0][3][6].item()"
   ],
   "outputs": [
    {
     "data": {
      "text/plain": [
       "184.41258239746094"
      ]
     },
     "execution_count": 14,
     "metadata": {},
     "output_type": "execute_result"
    }
   ],
   "execution_count": 14
  },
  {
   "cell_type": "markdown",
   "id": "710b29fc-af58-44f4-9c57-1b4694a4f300",
   "metadata": {},
   "source": [
    "### td[\"machine_breakdowns\"]\n",
    "- Index: Represents machine ID's\n",
    "- TIME: The timestamp when the breakdown occurred\n",
    "- DURATION: The duration of the breakdown"
   ]
  },
  {
   "cell_type": "code",
   "id": "33742e5a-ea4d-4970-a564-bce713e74d59",
   "metadata": {
    "ExecuteTime": {
     "end_time": "2024-11-30T20:51:27.499579Z",
     "start_time": "2024-11-30T20:51:27.479519Z"
    }
   },
   "source": [
    "td[\"machine_breakdowns\"]"
   ],
   "outputs": [
    {
     "data": {
      "text/plain": [
       "array([{0: [{'TIME': 3.000108480453491, 'DURATION': 10.950005531311035}, {'TIME': 35.32599139213562, 'DURATION': 1.3882921934127808}, {'TIME': 62.19732415676117, 'DURATION': 10.096503257751465}], 1: [{'TIME': 29.66557502746582, 'DURATION': 1.5291308164596558}, {'TIME': 40.57259452342987, 'DURATION': 1.0042990446090698}, {'TIME': 80.03481256961823, 'DURATION': 2.711613416671753}], 2: [{'TIME': 12.460824966430664, 'DURATION': 0.07522933185100555}, {'TIME': 53.31210486590862, 'DURATION': 1.205381989479065}, {'TIME': 70.82343074679375, 'DURATION': 0.6587216854095459}], 3: [{'TIME': 6.723081111907959, 'DURATION': 2.6919376850128174}, {'TIME': 38.85593867301941, 'DURATION': 0.6645970344543457}, {'TIME': 57.83890724182129, 'DURATION': 3.2587645053863525}], 4: [{'TIME': 15.107711791992188, 'DURATION': 8.416229248046875}, {'TIME': 26.383179187774658, 'DURATION': 3.2661590576171875}, {'TIME': 89.99576234817505, 'DURATION': 1.8107106685638428}], 5: [{'TIME': 1.7039726972579956, 'DURATION': 0.353985995054245}, {'TIME': 19.8298417031765, 'DURATION': 0.1769818216562271}, {'TIME': 61.421883657574654, 'DURATION': 4.472452163696289}, {'TIME': 97.07498851418495, 'DURATION': 0.3713805675506592}]},\n",
       "       {0: [{'TIME': 11.705042839050293, 'DURATION': 0.6765862703323364}, {'TIME': 47.389750599861145, 'DURATION': 7.685488224029541}, {'TIME': 69.9455795288086, 'DURATION': 1.5930095911026}], 1: [{'TIME': 20.245553970336914, 'DURATION': 0.9010913968086243}, {'TIME': 61.44757157564163, 'DURATION': 4.296965599060059}, {'TIME': 88.93759310245514, 'DURATION': 1.4818929433822632}], 2: [{'TIME': 7.433869361877441, 'DURATION': 14.449528694152832}, {'TIME': 32.152499198913574, 'DURATION': 16.191186904907227}, {'TIME': 88.6686315536499, 'DURATION': 3.7381722927093506}], 3: [{'TIME': 26.124500274658203, 'DURATION': 2.561415433883667}, {'TIME': 34.59249711036682, 'DURATION': 0.028786521404981613}, {'TIME': 67.71935735270381, 'DURATION': 4.232213497161865}], 4: [{'TIME': 0.7986807227134705, 'DURATION': 1.3811064958572388}, {'TIME': 15.425627291202545, 'DURATION': 3.4329028129577637}, {'TIME': 29.04279863834381, 'DURATION': 5.352917671203613}, {'TIME': 59.451849699020386, 'DURATION': 1.6121419668197632}], 5: [{'TIME': 10.986457824707031, 'DURATION': 9.279200553894043}, {'TIME': 28.420631408691406, 'DURATION': 6.441053867340088}, {'TIME': 78.09958791732788, 'DURATION': 0.7334785461425781}]},\n",
       "       {0: [{'TIME': 2.182248115539551, 'DURATION': 1.459298014640808}, {'TIME': 8.896746039390564, 'DURATION': 14.245135307312012}, {'TIME': 29.159679889678955, 'DURATION': 12.021700859069824}, {'TIME': 71.04686713218689, 'DURATION': 3.113908290863037}], 1: [{'TIME': 11.461999893188477, 'DURATION': 2.7994229793548584}, {'TIME': 29.03294539451599, 'DURATION': 2.1493353843688965}, {'TIME': 84.59567737579346, 'DURATION': 15.197989463806152}], 2: [{'TIME': 73.81217956542969, 'DURATION': 0.8698483109474182}, {'TIME': 104.00978285074234, 'DURATION': 0.045737892389297485}], 3: [{'TIME': 21.065631866455078, 'DURATION': 3.259366750717163}, {'TIME': 35.59686064720154, 'DURATION': 1.7462272644042969}, {'TIME': 67.37369632720947, 'DURATION': 12.200052261352539}], 4: [{'TIME': 0.04655495285987854, 'DURATION': 4.5730485916137695}, {'TIME': 12.235427290201187, 'DURATION': 5.247312545776367}, {'TIME': 23.76520174741745, 'DURATION': 10.750965118408203}, {'TIME': 61.846900939941406, 'DURATION': 0.3044280409812927}], 5: [{'TIME': 6.966558456420898, 'DURATION': 3.4162485599517822}, {'TIME': 52.499815225601196, 'DURATION': 0.04629886895418167}, {'TIME': 88.31369818001986, 'DURATION': 0.6698631048202515}]},\n",
       "       {0: [{'TIME': 13.884830474853516, 'DURATION': 5.840516567230225}, {'TIME': 79.36601781845093, 'DURATION': 2.8687844276428223}], 1: [{'TIME': 10.03459644317627, 'DURATION': 3.25901460647583}, {'TIME': 16.90020442008972, 'DURATION': 1.5685702562332153}, {'TIME': 34.70911920070648, 'DURATION': 3.4986743927001953}, {'TIME': 71.79857873916626, 'DURATION': 0.5424591302871704}], 2: [{'TIME': 0.6392756700515747, 'DURATION': 1.9766968488693237}, {'TIME': 66.13240242004395, 'DURATION': 1.5887047052383423}], 3: [{'TIME': 7.285806655883789, 'DURATION': 4.763010025024414}, {'TIME': 15.646318674087524, 'DURATION': 6.573118209838867}, {'TIME': 72.37259316444397, 'DURATION': 0.23611992597579956}], 4: [{'TIME': 9.787195205688477, 'DURATION': 0.3977712392807007}, {'TIME': 12.230992913246155, 'DURATION': 0.10624849796295166}, {'TIME': 26.58857834339142, 'DURATION': 1.7447669506072998}, {'TIME': 66.23901224136353, 'DURATION': 4.823314189910889}], 5: [{'TIME': 32.70050048828125, 'DURATION': 2.011552572250366}, {'TIME': 46.81283640861511, 'DURATION': 4.536108016967773}, {'TIME': 113.29264879226685, 'DURATION': 0.011085120029747486}]},\n",
       "       {0: [{'TIME': 2.2282063961029053, 'DURATION': 1.7568918466567993}, {'TIME': 39.591543555259705, 'DURATION': 4.690336227416992}, {'TIME': 52.45460867881775, 'DURATION': 1.3162860870361328}], 1: [{'TIME': 10.408960342407227, 'DURATION': 2.236107110977173}, {'TIME': 27.099583864212036, 'DURATION': 0.9050562381744385}, {'TIME': 50.00740027427673, 'DURATION': 2.69926118850708}], 2: [{'TIME': 11.885760307312012, 'DURATION': 24.40688705444336}, {'TIME': 96.5103406906128, 'DURATION': 4.451340675354004}], 3: [{'TIME': 5.497628211975098, 'DURATION': 9.330181121826172}, {'TIME': 26.000843048095703, 'DURATION': 0.12948989868164062}, {'TIME': 46.22159194946289, 'DURATION': 2.1977779865264893}, {'TIME': 92.07925009727478, 'DURATION': 0.3891167640686035}], 4: [{'TIME': 37.05673599243164, 'DURATION': 4.93612003326416}, {'TIME': 44.84361791610718, 'DURATION': 1.078365683555603}, {'TIME': 100.67832171916962, 'DURATION': 2.160679817199707}], 5: [{'TIME': 15.517607688903809, 'DURATION': 4.782680511474609}, {'TIME': 23.01595187187195, 'DURATION': 0.4675147235393524}, {'TIME': 45.47377881407738, 'DURATION': 2.885148048400879}, {'TIME': 96.288469851017, 'DURATION': 7.387821674346924}]},\n",
       "       {0: [{'TIME': 2.933868408203125, 'DURATION': 4.118069648742676}, {'TIME': 56.16361713409424, 'DURATION': 2.513967275619507}, {'TIME': 78.56559443473816, 'DURATION': 2.509326696395874}], 1: [{'TIME': 34.47880935668945, 'DURATION': 0.4608508348464966}, {'TIME': 43.91584026813507, 'DURATION': 1.3197870254516602}, {'TIME': 94.18017220497131, 'DURATION': 3.98632550239563}], 2: [{'TIME': 49.733055114746094, 'DURATION': 3.5932974815368652}, {'TIME': 68.74836111068726, 'DURATION': 0.5215455293655396}], 3: [{'TIME': 4.743048667907715, 'DURATION': 1.7906246185302734}, {'TIME': 18.50022029876709, 'DURATION': 0.8165810704231262}, {'TIME': 36.78626948595047, 'DURATION': 3.642871141433716}, {'TIME': 66.33363481983542, 'DURATION': 0.6323645710945129}], 4: [{'TIME': 14.062149047851562, 'DURATION': 5.340317249298096}, {'TIME': 45.04081583023071, 'DURATION': 8.433713912963867}, {'TIME': 107.64651203155518, 'DURATION': 4.326238632202148}], 5: [{'TIME': 1.0430794954299927, 'DURATION': 2.460306167602539}, {'TIME': 4.500297844409943, 'DURATION': 0.9425948262214661}, {'TIME': 21.914398908615112, 'DURATION': 0.5598912239074707}, {'TIME': 46.11171627044678, 'DURATION': 13.342395782470703}]}],\n",
       "      dtype=object)"
      ]
     },
     "execution_count": 15,
     "metadata": {},
     "output_type": "execute_result"
    }
   ],
   "execution_count": 15
  },
  {
   "cell_type": "markdown",
   "id": "7bfbd7f2-b876-431d-b58a-763138fe984d",
   "metadata": {},
   "source": [
    "- Type = numpy.ndarray\n",
    "- Size = number of batches "
   ]
  },
  {
   "cell_type": "code",
   "id": "a20f200f-fa4b-4064-99ef-46f45e7b56df",
   "metadata": {
    "ExecuteTime": {
     "end_time": "2024-11-30T20:51:27.567698Z",
     "start_time": "2024-11-30T20:51:27.561184Z"
    }
   },
   "source": [
    "print(type(td[\"machine_breakdowns\"]))\n",
    "print(len(td[\"machine_breakdowns\"]))"
   ],
   "outputs": [
    {
     "name": "stdout",
     "output_type": "stream",
     "text": [
      "<class 'numpy.ndarray'>\n",
      "6\n"
     ]
    }
   ],
   "execution_count": 16
  },
  {
   "cell_type": "markdown",
   "id": "0f51482f-9156-4e76-a533-220534bf3c04",
   "metadata": {},
   "source": [
    "- Breakdown of the machine 4 in batch 0"
   ]
  },
  {
   "cell_type": "code",
   "id": "1b5ed6ed-a376-4f4e-881f-bba3f71382a1",
   "metadata": {
    "ExecuteTime": {
     "end_time": "2024-11-30T20:51:27.634135Z",
     "start_time": "2024-11-30T20:51:27.626073Z"
    }
   },
   "source": [
    "td[\"machine_breakdowns\"][0][4]"
   ],
   "outputs": [
    {
     "data": {
      "text/plain": [
       "[{'TIME': 15.107711791992188, 'DURATION': 8.416229248046875},\n",
       " {'TIME': 26.383179187774658, 'DURATION': 3.2661590576171875},\n",
       " {'TIME': 89.99576234817505, 'DURATION': 1.8107106685638428}]"
      ]
     },
     "execution_count": 17,
     "metadata": {},
     "output_type": "execute_result"
    }
   ],
   "execution_count": 17
  },
  {
   "cell_type": "markdown",
   "id": "cac369dd-3617-4680-8bbc-10ff76263091",
   "metadata": {},
   "source": [
    "- Extracting Breakdown occurence time and breakdown duration"
   ]
  },
  {
   "cell_type": "code",
   "id": "d7181d28-7282-4280-acec-fe169fb60b2d",
   "metadata": {
    "ExecuteTime": {
     "end_time": "2024-11-30T20:51:27.681362Z",
     "start_time": "2024-11-30T20:51:27.669793Z"
    }
   },
   "source": [
    "# breakdowns of the machine 5 in batch 3\n",
    "b5 = td[\"machine_breakdowns\"][3][5]\n",
    "print(f\"BREAKDOWNS OF MACHINE 5 IN BATCH 3{b5}\")\n",
    "\n",
    "print(\"--------------------------------------------\")\n",
    "\n",
    "# first breakdown occurence time of machine 5 in batch 3\n",
    "first_b5 = td[\"machine_breakdowns\"][3][5][0][\"TIME\"]\n",
    "print(f\"BREAKDOWN OCCURENCE : {first_b5}\")\n",
    "\n",
    "print(\"--------------------------------------------\")\n",
    "\n",
    "# first breakdown duration of machine 5 in batch 3\n",
    "first_b5_duration = td[\"machine_breakdowns\"][3][5][0][\"DURATION\"]\n",
    "print(f\"BREAKDOWN DURATION : {first_b5_duration}\")"
   ],
   "outputs": [
    {
     "name": "stdout",
     "output_type": "stream",
     "text": [
      "BREAKDOWNS OF MACHINE 5 IN BATCH 3[{'TIME': 32.70050048828125, 'DURATION': 2.011552572250366}, {'TIME': 46.81283640861511, 'DURATION': 4.536108016967773}, {'TIME': 113.29264879226685, 'DURATION': 0.011085120029747486}]\n",
      "--------------------------------------------\n",
      "BREAKDOWN OCCURENCE : 32.70050048828125\n",
      "--------------------------------------------\n",
      "BREAKDOWN DURATION : 2.011552572250366\n"
     ]
    }
   ],
   "execution_count": 18
  },
  {
   "cell_type": "markdown",
   "id": "7b8d1dcf-6045-465a-b1cd-2073727b3b07",
   "metadata": {
    "jp-MarkdownHeadingCollapsed": true
   },
   "source": [
    "#### documentation of `._simulate_machine_breakdowns_with_mtbf_mttr()` method "
   ]
  },
  {
   "cell_type": "code",
   "id": "7ab33739-01f3-4377-b757-e23651a202ba",
   "metadata": {
    "scrolled": true,
    "ExecuteTime": {
     "end_time": "2024-11-30T20:51:27.776062Z",
     "start_time": "2024-11-30T20:51:27.752918Z"
    }
   },
   "source": [
    "import numpy as np\n",
    "\n",
    "machine_breakdowns = djssp_generator._simulate_machine_breakdowns_with_mtbf_mttr(bs = [4,] , \n",
    "                                                           lambda_mtbf = 12 , \n",
    "                                                            lambda_mttr = 5)\n",
    "machine_breakdowns"
   ],
   "outputs": [
    {
     "data": {
      "text/plain": [
       "[{0: [{'TIME': 2.1177234649658203, 'DURATION': 13.687506675720215},\n",
       "   {'TIME': 30.894084930419922, 'DURATION': 1.7353652715682983},\n",
       "   {'TIME': 56.5755695104599, 'DURATION': 12.62062931060791}],\n",
       "  1: [{'TIME': 20.940404891967773, 'DURATION': 1.911413550376892},\n",
       "   {'TIME': 29.47150456905365, 'DURATION': 1.2553738355636597},\n",
       "   {'TIME': 58.70567047595978, 'DURATION': 3.389516830444336}],\n",
       "  2: [{'TIME': 8.795876502990723, 'DURATION': 0.09403666108846664},\n",
       "   {'TIME': 37.67300757020712, 'DURATION': 1.5067274570465088},\n",
       "   {'TIME': 50.73074667155743, 'DURATION': 0.8234021067619324}],\n",
       "  3: [{'TIME': 4.745704174041748, 'DURATION': 3.364922046661377},\n",
       "   {'TIME': 28.8924503326416, 'DURATION': 0.8307462930679321},\n",
       "   {'TIME': 44.118542313575745, 'DURATION': 4.073455333709717},\n",
       "   {'TIME': 92.94010615348816, 'DURATION': 0.33730676770210266}],\n",
       "  4: [{'TIME': 2.0182857513427734, 'DURATION': 4.082698822021484},\n",
       "   {'TIME': 32.093326568603516, 'DURATION': 2.2633883953094482},\n",
       "   {'TIME': 48.91900992393494, 'DURATION': 1.6398956775665283},\n",
       "   {'TIME': 92.2194093465805, 'DURATION': 0.44248250126838684}],\n",
       "  5: [{'TIME': 27.781482696533203, 'DURATION': 5.590565204620361},\n",
       "   {'TIME': 39.80678033828735, 'DURATION': 0.464225709438324},\n",
       "   {'TIME': 97.79806989431381, 'DURATION': 7.686977386474609}]},\n",
       " {0: [{'TIME': 24.71161651611328, 'DURATION': 9.606860160827637},\n",
       "   {'TIME': 36.07521426677704, 'DURATION': 1.9912619590759277},\n",
       "   {'TIME': 76.18872153759003, 'DURATION': 0.7239920496940613}],\n",
       "  1: [{'TIME': 28.447711944580078, 'DURATION': 5.371206760406494},\n",
       "   {'TIME': 35.26344382762909, 'DURATION': 1.8523662090301514},\n",
       "   {'TIME': 102.48737728595734, 'DURATION': 8.184332847595215}],\n",
       "  2: [{'TIME': 7.248776912689209, 'DURATION': 20.238983154296875},\n",
       "   {'TIME': 40.50532293319702, 'DURATION': 4.672715187072754},\n",
       "   {'TIME': 87.57256317138672, 'DURATION': 0.3177175521850586}],\n",
       "  3: [{'TIME': 4.169351577758789, 'DURATION': 0.03598315268754959},\n",
       "   {'TIME': 7.31979925185442, 'DURATION': 5.290266990661621},\n",
       "   {'TIME': 18.198825851082802, 'DURATION': 0.6470773220062256},\n",
       "   {'TIME': 36.225078731775284, 'DURATION': 1.726383090019226},\n",
       "   {'TIME': 82.96277016401291, 'DURATION': 4.291128635406494}],\n",
       "  4: [{'TIME': 2.8361055850982666, 'DURATION': 2.0151774883270264},\n",
       "   {'TIME': 11.669621467590332, 'DURATION': 1.830440640449524},\n",
       "   {'TIME': 26.106491684913635, 'DURATION': 11.599000930786133},\n",
       "   {'TIME': 61.813289403915405, 'DURATION': 8.05131721496582}],\n",
       "  5: [{'TIME': 2.0303618907928467, 'DURATION': 3.2628777027130127},\n",
       "   {'TIME': 6.8336501121521, 'DURATION': 1.8241225481033325},\n",
       "   {'TIME': 17.66056525707245, 'DURATION': 17.806419372558594},\n",
       "   {'TIME': 51.095351457595825, 'DURATION': 15.02712631225586}]},\n",
       " {0: [{'TIME': 1.3367067575454712, 'DURATION': 2.1554038524627686},\n",
       "   {'TIME': 11.582933783531189, 'DURATION': 3.4992787837982178},\n",
       "   {'TIME': 29.001280307769775, 'DURATION': 2.686669111251831},\n",
       "   {'TIME': 77.8989589214325, 'DURATION': 18.997486114501953}],\n",
       "  1: [{'TIME': 52.10271072387695, 'DURATION': 1.0873103141784668},\n",
       "   {'TIME': 73.89196538925171, 'DURATION': 0.05717236548662186}],\n",
       "  2: [{'TIME': 14.869857788085938, 'DURATION': 4.0742082595825195},\n",
       "   {'TIME': 26.90067434310913, 'DURATION': 2.182784080505371},\n",
       "   {'TIME': 52.05501365661621, 'DURATION': 15.250064849853516}],\n",
       "  3: [{'TIME': 0.03286231681704521, 'DURATION': 5.716310501098633},\n",
       "   {'TIME': 11.125048290938139, 'DURATION': 6.559140682220459},\n",
       "   {'TIME': 24.60714413970709, 'DURATION': 13.438706398010254},\n",
       "   {'TIME': 65.16984109580517, 'DURATION': 0.3805350363254547}],\n",
       "  4: [{'TIME': 4.9175705909729, 'DURATION': 4.270310401916504},\n",
       "   {'TIME': 38.91753339767456, 'DURATION': 0.05787358433008194},\n",
       "   {'TIME': 66.08195481449366, 'DURATION': 0.8373288512229919}],\n",
       "  5: [{'TIME': 9.801056861877441, 'DURATION': 7.30064582824707},\n",
       "   {'TIME': 59.20099925994873, 'DURATION': 3.5859804153442383},\n",
       "   {'TIME': 115.32637691497803, 'DURATION': 0.6453795433044434}]},\n",
       " {0: [{'TIME': 2.545830488204956, 'DURATION': 1.9607127904891968},\n",
       "   {'TIME': 6.58659040927887, 'DURATION': 4.373342990875244},\n",
       "   {'TIME': 16.75711154937744, 'DURATION': 0.6780738830566406},\n",
       "   {'TIME': 39.58530354499817, 'DURATION': 6.385173797607422},\n",
       "   {'TIME': 79.32339286804199, 'DURATION': 2.4708709716796875}],\n",
       "  1: [{'TIME': 25.49913787841797, 'DURATION': 30.23916244506836},\n",
       "   {'TIME': 60.88122224807739, 'DURATION': 5.953762531280518}],\n",
       "  2: [{'TIME': 26.897180557250977, 'DURATION': 0.29514989256858826},\n",
       "   {'TIME': 35.056118577718735, 'DURATION': 6.005198955535889},\n",
       "   {'TIME': 75.16225641965866, 'DURATION': 0.49721404910087585}],\n",
       "  3: [{'TIME': 2.8703792095184326, 'DURATION': 2.1809587478637695},\n",
       "   {'TIME': 15.910250425338745, 'DURATION': 6.0291428565979},\n",
       "   {'TIME': 46.26076793670654, 'DURATION': 3.913447141647339},\n",
       "   {'TIME': 100.24765086174011, 'DURATION': 2.5144407749176025}],\n",
       "  4: [{'TIME': 19.222341537475586, 'DURATION': 0.013856399804353714},\n",
       "   {'TIME': 21.63988732174039, 'DURATION': 5.8777546882629395},\n",
       "   {'TIME': 48.3266916051507, 'DURATION': 2.1961147785186768}],\n",
       "  5: [{'TIME': 2.955974578857422, 'DURATION': 1.645357608795166},\n",
       "   {'TIME': 10.242210388183594, 'DURATION': 3.939683437347412},\n",
       "   {'TIME': 26.130727767944336, 'DURATION': 2.7951338291168213},\n",
       "   {'TIME': 57.912275552749634, 'DURATION': 1.1313202381134033}]}]"
      ]
     },
     "execution_count": 19,
     "metadata": {},
     "output_type": "execute_result"
    }
   ],
   "execution_count": 19
  },
  {
   "cell_type": "markdown",
   "id": "80182493-9585-4cb7-8669-a876210a32d7",
   "metadata": {},
   "source": [
    "- Breakdown of the machine 4 in batch 0"
   ]
  },
  {
   "cell_type": "code",
   "id": "8b88b96a-9e8c-49db-ab99-f7981478ca29",
   "metadata": {
    "ExecuteTime": {
     "end_time": "2024-11-30T20:51:27.837491Z",
     "start_time": "2024-11-30T20:51:27.813669Z"
    }
   },
   "source": [
    "machine_breakdowns[0][4]"
   ],
   "outputs": [
    {
     "data": {
      "text/plain": [
       "[{'TIME': 2.0182857513427734, 'DURATION': 4.082698822021484},\n",
       " {'TIME': 32.093326568603516, 'DURATION': 2.2633883953094482},\n",
       " {'TIME': 48.91900992393494, 'DURATION': 1.6398956775665283},\n",
       " {'TIME': 92.2194093465805, 'DURATION': 0.44248250126838684}]"
      ]
     },
     "execution_count": 20,
     "metadata": {},
     "output_type": "execute_result"
    }
   ],
   "execution_count": 20
  },
  {
   "cell_type": "markdown",
   "id": "3b5b5cce-ea72-4da1-bb95-5fc3d25376b8",
   "metadata": {},
   "source": [
    "- Extracting Breakdown occurence time and breakdown duration"
   ]
  },
  {
   "cell_type": "code",
   "id": "6567da2e-5342-478b-b8d8-33240f21f11d",
   "metadata": {
    "ExecuteTime": {
     "end_time": "2024-11-30T20:51:27.916202Z",
     "start_time": "2024-11-30T20:51:27.893674Z"
    }
   },
   "source": [
    "# breakdowns of the machine 5 in batch 3\n",
    "b5 = td[\"machine_breakdowns\"][3][5]\n",
    "print(f\"BREAKDOWNS OF MACHINE 5 IN BATCH 3{b5}\")\n",
    "\n",
    "print(\"--------------------------------------------\")\n",
    "\n",
    "# first breakdown occurence time of machine 5 in batch 3\n",
    "first_b5 = td[\"machine_breakdowns\"][3][5][0][\"TIME\"]\n",
    "print(f\"BREAKDOWN OCCURENCE : {first_b5}\")\n",
    "\n",
    "print(\"--------------------------------------------\")\n",
    "\n",
    "# first breakdown duration of machine 5 in batch 3\n",
    "first_b5_duration = td[\"machine_breakdowns\"][3][5][0][\"DURATION\"]\n",
    "print(f\"BREAKDOWN DURATION : {first_b5_duration}\")"
   ],
   "outputs": [
    {
     "name": "stdout",
     "output_type": "stream",
     "text": [
      "BREAKDOWNS OF MACHINE 5 IN BATCH 3[{'TIME': 32.70050048828125, 'DURATION': 2.011552572250366}, {'TIME': 46.81283640861511, 'DURATION': 4.536108016967773}, {'TIME': 113.29264879226685, 'DURATION': 0.011085120029747486}]\n",
      "--------------------------------------------\n",
      "BREAKDOWN OCCURENCE : 32.70050048828125\n",
      "--------------------------------------------\n",
      "BREAKDOWN DURATION : 2.011552572250366\n"
     ]
    }
   ],
   "execution_count": 21
  },
  {
   "cell_type": "code",
   "id": "8c0df2b1-5606-4ed9-9cde-10f37286dbf1",
   "metadata": {
    "ExecuteTime": {
     "end_time": "2024-11-30T20:51:27.993636Z",
     "start_time": "2024-11-30T20:51:27.968604Z"
    }
   },
   "source": [
    "type(machine_breakdowns)\n",
    "len(machine_breakdowns)"
   ],
   "outputs": [
    {
     "data": {
      "text/plain": [
       "4"
      ]
     },
     "execution_count": 22,
     "metadata": {},
     "output_type": "execute_result"
    }
   ],
   "execution_count": 22
  },
  {
   "cell_type": "markdown",
   "id": "eb4d1bb9-a960-4e86-8c38-ada106203f2f",
   "metadata": {},
   "source": [
    "### td[\"job_arrival_times\"]"
   ]
  },
  {
   "cell_type": "code",
   "id": "648030b0-41d3-46ca-9c12-ba433bca3c07",
   "metadata": {
    "ExecuteTime": {
     "end_time": "2024-11-30T20:51:28.074177Z",
     "start_time": "2024-11-30T20:51:28.056057Z"
    }
   },
   "source": [
    "td[\"job_arrival_times\"]"
   ],
   "outputs": [
    {
     "data": {
      "text/plain": [
       "tensor([[  3.8915,  30.6388,  40.9094,  53.8382,  77.3067, 113.0761],\n",
       "        [ 40.7505,  41.2100, 102.8515, 105.7987, 106.1392, 141.7041],\n",
       "        [ 53.4563,  78.0810,  83.6696,  84.9191,  93.6855,  99.1691],\n",
       "        [ 35.2858,  95.5298, 119.5022, 150.5760, 229.0147, 233.7219],\n",
       "        [ 20.7289,  54.7562, 177.7038, 207.4180, 223.8273, 229.0612],\n",
       "        [ 23.4265,  30.5009,  42.4133,  46.6411,  75.6858,  76.3683]])"
      ]
     },
     "execution_count": 23,
     "metadata": {},
     "output_type": "execute_result"
    }
   ],
   "execution_count": 23
  },
  {
   "cell_type": "markdown",
   "id": "8fa3a350-945b-4001-9caf-b23f72d06531",
   "metadata": {},
   "source": [
    "- Each entry is a arrival time of the job at the index\n",
    "    - meaning [batch_no][arr_time_job1 , arr_time_job2,  ........  ]\n",
    "- In this method, we assumed that jobs are processed sequentially, one after another, starting with Job 0, followed by Job 1, then Job 2, and so on, as outlined in the paper.\n"
   ]
  },
  {
   "cell_type": "markdown",
   "id": "371c3f06f06bcf1e",
   "metadata": {},
   "source": [
    "- Arrival Time of the Job 3 in batch 2"
   ]
  },
  {
   "cell_type": "code",
   "id": "b4a0ea1e5a326d09",
   "metadata": {
    "ExecuteTime": {
     "end_time": "2024-11-30T20:51:28.201089Z",
     "start_time": "2024-11-30T20:51:28.188091Z"
    }
   },
   "source": [
    "td[\"job_arrival_times\"][2][3]"
   ],
   "outputs": [
    {
     "data": {
      "text/plain": [
       "tensor(84.9191)"
      ]
     },
     "execution_count": 24,
     "metadata": {},
     "output_type": "execute_result"
    }
   ],
   "execution_count": 24
  },
  {
   "cell_type": "markdown",
   "id": "78461082-7607-4680-93dc-5a9a2a1990ab",
   "metadata": {},
   "source": [
    "#### documentation of `_generate_random_job_arrivals( number_of_jobs, E_new):`"
   ]
  },
  {
   "cell_type": "code",
   "id": "02b09dc0-e220-4baa-9481-b438a5612ef9",
   "metadata": {
    "ExecuteTime": {
     "end_time": "2024-11-30T20:51:28.386672Z",
     "start_time": "2024-11-30T20:51:28.368208Z"
    }
   },
   "source": [
    "num_jobs = 15\n",
    "E_new = 12\n",
    "a= djssp_generator._generate_random_job_arrivals(bs =[3,] ,number_of_jobs = num_jobs , E_new = E_new)\n",
    "a"
   ],
   "outputs": [
    {
     "data": {
      "text/plain": [
       "tensor([[  7.2422,  13.2761,  36.0765,  50.5037,  59.2018,  73.3834,  83.6091,\n",
       "          90.3859, 120.2968, 123.0010, 141.3152, 142.7501, 165.3776, 196.9968,\n",
       "         214.0367],\n",
       "        [ 10.4858,  24.5059,  25.0573,  27.3160,  35.3940,  36.8057,  42.5863,\n",
       "          43.0033,  73.9759,  76.2267,  88.3991, 103.7436, 131.1781, 160.1398,\n",
       "         160.4701],\n",
       "        [  8.3899,   8.9146,  14.3046,  17.8727,  18.6272,  42.7945,  64.1988,\n",
       "          89.5424, 120.0149, 127.6458, 149.5568, 170.0984, 170.9025, 188.6912,\n",
       "         190.6532]])"
      ]
     },
     "execution_count": 25,
     "metadata": {},
     "output_type": "execute_result"
    }
   ],
   "execution_count": 25
  }
 ],
 "metadata": {
  "kernelspec": {
   "display_name": "Python 3 (ipykernel)",
   "language": "python",
   "name": "python3"
  },
  "language_info": {
   "codemirror_mode": {
    "name": "ipython",
    "version": 3
   },
   "file_extension": ".py",
   "mimetype": "text/x-python",
   "name": "python",
   "nbconvert_exporter": "python",
   "pygments_lexer": "ipython3",
   "version": "3.10.15"
  }
 },
 "nbformat": 4,
 "nbformat_minor": 5
}
