{
 "cells": [
  {
   "cell_type": "markdown",
   "id": "a472f0f5-8212-443e-8e7a-41356eb24f48",
   "metadata": {},
   "source": [
    "## This is the training the model after i have defined _make_spec() method in DJSSP and after i have defined machine_breakdowns shape there."
   ]
  },
  {
   "cell_type": "code",
   "execution_count": 6,
   "id": "initial_id",
   "metadata": {
    "ExecuteTime": {
     "end_time": "2024-12-14T12:41:48.819739Z",
     "start_time": "2024-12-14T12:41:48.409589Z"
    }
   },
   "outputs": [
    {
     "name": "stdout",
     "output_type": "stream",
     "text": [
      "The autoreload extension is already loaded. To reload it, use:\n",
      "  %reload_ext autoreload\n"
     ]
    }
   ],
   "source": [
    "import time\n",
    "\n",
    "from rl4co.envs.scheduling.djssp.env import DJSSPEnv\n",
    "from rl4co.models import L2DPolicy, L2DModel\n",
    "from rl4co.utils import RL4COTrainer\n",
    "import gc\n",
    "from rl4co.envs import JSSPEnv\n",
    "from rl4co.models.zoo.l2d.model import L2DPPOModel\n",
    "from rl4co.models.zoo.l2d.policy import L2DPolicy4PPO\n",
    "from torch.utils.data import DataLoader\n",
    "import json\n",
    "import os\n",
    "%load_ext autoreload\n",
    "%autoreload 2\n",
    "generator_params = {\n",
    "\"num_jobs\" : 8 ,\n",
    "\"num_machines\": 8 ,\n",
    "\"min_processing_time\": 1 ,\n",
    "\"max_processing_time\": 99 ,\n",
    "\"mtbf\" : 17 ,\n",
    "\"mttr\" : 4\n",
    "}\n",
    "env = DJSSPEnv(generator_params=generator_params,\n",
    "_torchrl_mode=True,\n",
    "stepwise_reward=True)"
   ]
  },
  {
   "cell_type": "code",
   "execution_count": 7,
   "id": "c0ff5272ae5bd347",
   "metadata": {
    "ExecuteTime": {
     "end_time": "2024-12-14T12:41:49.108402Z",
     "start_time": "2024-12-14T12:41:48.913486Z"
    }
   },
   "outputs": [],
   "source": [
    "import torch\n",
    "if torch.cuda.is_available():\n",
    "    accelerator = \"gpu\"\n",
    "    batch_size = 4\n",
    "    train_data_size = 2_000\n",
    "    embed_dim = 128\n",
    "    num_encoder_layers = 4\n",
    "else:\n",
    "    accelerator = \"cpu\"\n",
    "    batch_size = 4\n",
    "    train_data_size = 1_000\n",
    "    embed_dim = 64\n",
    "    num_encoder_layers = 2"
   ]
  },
  {
   "cell_type": "code",
   "execution_count": 8,
   "id": "9dfa97fbc5a5cd76",
   "metadata": {
    "ExecuteTime": {
     "end_time": "2024-12-14T12:41:49.315782Z",
     "start_time": "2024-12-14T12:41:49.139648Z"
    }
   },
   "outputs": [],
   "source": [
    "# Policy: neural network, in this case with encoder-decoder architecture\n",
    "policy = L2DPolicy4PPO(\n",
    "    embed_dim=embed_dim,\n",
    "    num_encoder_layers=num_encoder_layers,\n",
    "    env_name=\"djssp\",\n",
    "    het_emb=False\n",
    ")"
   ]
  },
  {
   "cell_type": "code",
   "execution_count": 9,
   "id": "42d79e1a8d88b95c",
   "metadata": {
    "ExecuteTime": {
     "end_time": "2024-12-14T12:41:49.610837Z",
     "start_time": "2024-12-14T12:41:49.354496Z"
    }
   },
   "outputs": [],
   "source": [
    "model = L2DPPOModel(\n",
    "    env=env,\n",
    "    policy=policy,\n",
    "    batch_size=batch_size,\n",
    "    train_data_size=train_data_size,\n",
    "    val_data_size=1,\n",
    "    optimizer_kwargs={\"lr\": 1e-4}\n",
    ")"
   ]
  },
  {
   "cell_type": "code",
   "execution_count": 10,
   "id": "9a020a00e594b1dd",
   "metadata": {
    "ExecuteTime": {
     "end_time": "2024-12-14T13:03:51.740528Z",
     "start_time": "2024-12-14T12:41:49.657704Z"
    }
   },
   "outputs": [
    {
     "name": "stderr",
     "output_type": "stream",
     "text": [
      "Using bfloat16 Automatic Mixed Precision (AMP)\n",
      "GPU available: False, used: False\n",
      "TPU available: False, using: 0 TPU cores\n",
      "HPU available: False, using: 0 HPUs\n",
      "Overriding gradient_clip_val to None for 'automatic_optimization=False' models\n",
      "val_file not set. Generating dataset instead\n",
      "test_file not set. Generating dataset instead\n"
     ]
    },
    {
     "name": "stdout",
     "output_type": "stream",
     "text": [
      "Epoch 0:   0%|          | 0/334 [08:02<?, ?it/s]\n"
     ]
    },
    {
     "name": "stderr",
     "output_type": "stream",
     "text": [
      "\n",
      "  | Name       | Type          | Params | Mode \n",
      "-----------------------------------------------------\n",
      "0 | env        | DJSSPEnv      | 0      | train\n",
      "1 | policy     | L2DPolicy4PPO | 25.5 K | train\n",
      "2 | policy_old | L2DPolicy4PPO | 25.5 K | train\n",
      "-----------------------------------------------------\n",
      "51.1 K    Trainable params\n",
      "0         Non-trainable params\n",
      "51.1 K    Total params\n",
      "0.204     Total estimated model params size (MB)\n",
      "69        Modules in train mode\n",
      "0         Modules in eval mode\n"
     ]
    },
    {
     "name": "stdout",
     "output_type": "stream",
     "text": [
      "Epoch 0: 100%|██████████| 250/250 [14:23<00:00,  0.29it/s, v_num=17, train/loss=208.0, train/surrogate_loss=-0.567, train/value_loss=417.0, train/entropy=0.230] \n",
      "Validation: |          | 0/? [00:00<?, ?it/s]\u001b[A\n",
      "Validation:   0%|          | 0/1 [00:00<?, ?it/s]\u001b[A\n",
      "Validation DataLoader 0:   0%|          | 0/1 [00:00<?, ?it/s]\u001b[A\n",
      "Validation DataLoader 0: 100%|██████████| 1/1 [00:00<00:00,  1.28it/s]\u001b[A\n",
      "Epoch 0: 100%|██████████| 250/250 [14:24<00:00,  0.29it/s, v_num=17, train/loss=208.0, train/surrogate_loss=-0.567, train/value_loss=417.0, train/entropy=0.230, val/reward=-926.]"
     ]
    },
    {
     "name": "stderr",
     "output_type": "stream",
     "text": [
      "`Trainer.fit` stopped: `max_epochs=1` reached.\n"
     ]
    },
    {
     "name": "stdout",
     "output_type": "stream",
     "text": [
      "Epoch 0: 100%|██████████| 250/250 [14:24<00:00,  0.29it/s, v_num=17, train/loss=208.0, train/surrogate_loss=-0.567, train/value_loss=417.0, train/entropy=0.230, val/reward=-926.]\n"
     ]
    }
   ],
   "source": [
    "# CHECKPOINT_PATH = \"last.ckpt\"\n",
    "device = \"cuda\" if torch.cuda.is_available() else \"cpu\"\n",
    "\n",
    "trainer = RL4COTrainer(\n",
    "    max_epochs=1,\n",
    "    accelerator=accelerator,\n",
    "    devices=1,\n",
    "    logger=None,\n",
    ")\n",
    "\n",
    "trainer.fit(model)\n",
    "\n",
    "model = model.to(device)"
   ]
  },
  {
   "cell_type": "code",
   "execution_count": null,
   "id": "138c95d8ed8687a2",
   "metadata": {
    "ExecuteTime": {
     "end_time": "2024-12-14T13:03:51.881154Z",
     "start_time": "2024-12-14T13:03:51.865533Z"
    }
   },
   "outputs": [],
   "source": []
  }
 ],
 "metadata": {
  "kernelspec": {
   "display_name": "Python 3 (ipykernel)",
   "language": "python",
   "name": "python3"
  },
  "language_info": {
   "codemirror_mode": {
    "name": "ipython",
    "version": 3
   },
   "file_extension": ".py",
   "mimetype": "text/x-python",
   "name": "python",
   "nbconvert_exporter": "python",
   "pygments_lexer": "ipython3",
   "version": "3.10.15"
  }
 },
 "nbformat": 4,
 "nbformat_minor": 5
}
