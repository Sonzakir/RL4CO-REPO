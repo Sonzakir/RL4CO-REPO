{
 "cells": [
  {
   "cell_type": "code",
   "id": "initial_id",
   "metadata": {
    "collapsed": true,
    "ExecuteTime": {
     "end_time": "2024-12-12T18:41:59.603689Z",
     "start_time": "2024-12-12T18:41:49.758245Z"
    }
   },
   "source": [
    "from rl4co.envs.scheduling.jssp.env import JSSPEnv\n",
    "\n",
    "generator_params = {\n",
    "\"num_jobs\" : 3 ,\n",
    "\"num_machines\": 5 ,\n",
    "\"min_processing_time\": 1 ,\n",
    "\"max_processing_time\": 99\n",
    "}\n",
    "\n",
    "env = JSSPEnv(generator_params = generator_params)\n"
   ],
   "outputs": [
    {
     "name": "stderr",
     "output_type": "stream",
     "text": [
      "C:\\Users\\soner\\anaconda3\\envs\\env_rl4co\\lib\\site-packages\\tqdm\\auto.py:21: TqdmWarning: IProgress not found. Please update jupyter and ipywidgets. See https://ipywidgets.readthedocs.io/en/stable/user_install.html\n",
      "  from .autonotebook import tqdm as notebook_tqdm\n"
     ]
    }
   ],
   "execution_count": 1
  },
  {
   "metadata": {
    "ExecuteTime": {
     "end_time": "2024-12-12T18:41:59.688227Z",
     "start_time": "2024-12-12T18:41:59.658398Z"
    }
   },
   "cell_type": "code",
   "source": "td = env.reset(batch_size=[3])",
   "id": "8fd1b5301add9a83",
   "outputs": [
    {
     "name": "stdout",
     "output_type": "stream",
     "text": [
      "------this is action mask---------------\n",
      "tensor([[[ True,  True,  True, False,  True],\n",
      "         [ True, False,  True,  True,  True],\n",
      "         [False,  True,  True,  True,  True]],\n",
      "\n",
      "        [[False,  True,  True,  True,  True],\n",
      "         [False,  True,  True,  True,  True],\n",
      "         [ True,  True,  True,  True, False]],\n",
      "\n",
      "        [[ True,  True,  True,  True, False],\n",
      "         [False,  True,  True,  True,  True],\n",
      "         [ True,  True,  True, False,  True]]])\n",
      "------this is action mask---------------\n"
     ]
    }
   ],
   "execution_count": 2
  },
  {
   "metadata": {
    "ExecuteTime": {
     "end_time": "2024-12-12T18:41:59.902195Z",
     "start_time": "2024-12-12T18:41:59.889539Z"
    }
   },
   "cell_type": "code",
   "source": "# get_action_mask is the problem\n",
   "id": "2ec56938f248e257",
   "outputs": [],
   "execution_count": 3
  },
  {
   "metadata": {
    "ExecuteTime": {
     "end_time": "2024-12-12T18:41:59.932920Z",
     "start_time": "2024-12-12T18:41:59.919709Z"
    }
   },
   "cell_type": "code",
   "source": [
    "import torch\n",
    "if torch.cuda.is_available():\n",
    "    accelerator = \"gpu\"\n",
    "    batch_size = 4\n",
    "    train_data_size = 2_000\n",
    "    embed_dim = 128\n",
    "    num_encoder_layers = 4\n",
    "else:\n",
    "    accelerator = \"cpu\"\n",
    "    batch_size = 4\n",
    "    train_data_size = 1_000\n",
    "    embed_dim = 64\n",
    "    num_encoder_layers = 2"
   ],
   "id": "16de24427d817935",
   "outputs": [],
   "execution_count": 4
  },
  {
   "metadata": {
    "ExecuteTime": {
     "end_time": "2024-12-12T18:42:00.812249Z",
     "start_time": "2024-12-12T18:41:59.950586Z"
    }
   },
   "cell_type": "code",
   "source": [
    "from rl4co.models import L2DPolicy4PPO\n",
    "\n",
    "# Policy: neural network, in this case with encoder-decoder architecture\n",
    "policy = L2DPolicy4PPO(\n",
    "    embed_dim=embed_dim,\n",
    "    num_encoder_layers=num_encoder_layers,\n",
    "    env_name=\"jssp\",\n",
    "    het_emb=False\n",
    ")"
   ],
   "id": "80c82c3f1218a844",
   "outputs": [],
   "execution_count": 5
  },
  {
   "metadata": {
    "ExecuteTime": {
     "end_time": "2024-12-12T18:42:00.863583Z",
     "start_time": "2024-12-12T18:42:00.850925Z"
    }
   },
   "cell_type": "code",
   "source": [
    "import torch\n",
    "\n",
    "\n",
    "def make_step(td, decoder):\n",
    "    \"\"\"\n",
    "    Equivalent to FJSP make_step(), adapted for JSSP where no encoder is used.\n",
    "    td: TensorDict representing the current state of the environment.\n",
    "    decoder: The L2DDecoder or policy that generates action logits.\n",
    "    env: The JSSP environment instance.\n",
    "    \"\"\"\n",
    "    # Directly decode logits and mask from the raw input state `td`\n",
    "    hidden, _ = decoder.feature_extractor(td)\n",
    "\n",
    "    logits, mask = decoder(td, num_starts=0 , hidden = hidden)\n",
    "\n",
    "    # Mask invalid actions by setting their logits to -inf\n",
    "    action = logits.masked_fill(~mask, -torch.inf).argmax(1)\n",
    "\n",
    "    # Update the state with the selected action\n",
    "    td[\"action\"] = action\n",
    "\n",
    "    # Step the environment with the selected action\n",
    "    td = env.step(td)[\"next\"]\n",
    "\n",
    "    return td"
   ],
   "id": "a7bfccf5d53e677e",
   "outputs": [],
   "execution_count": 6
  },
  {
   "metadata": {
    "ExecuteTime": {
     "end_time": "2024-12-12T19:42:20.052795Z",
     "start_time": "2024-12-12T19:42:20.037129Z"
    }
   },
   "cell_type": "code",
   "source": [
    "# import time\n",
    "# from matplotlib import pyplot as plt\n",
    "# from IPython.core.display_functions import clear_output\n",
    "#\n",
    "# env.render(td, 0)\n",
    "# # Update plot within a for loop\n",
    "# while not td[\"done\"].all():\n",
    "#     # Clear the previous output for the next iteration\n",
    "#     #clear_output(wait=True)\n",
    "#\n",
    "#     td = make_step(td=td ,decoder = policy.decoder)\n",
    "#     env.render(td, 0)\n",
    "#     # Display updated plot\n",
    "#     display(plt.gcf())\n",
    "#\n",
    "#     # Pause for a moment to see the changes\n",
    "#     time.sleep(.4)"
   ],
   "id": "69f90cbb00d42b80",
   "outputs": [],
   "execution_count": 19
  },
  {
   "metadata": {
    "ExecuteTime": {
     "end_time": "2024-12-12T19:39:30.131963Z",
     "start_time": "2024-12-12T19:39:30.100693Z"
    }
   },
   "cell_type": "code",
   "source": [
    "from rl4co.envs.scheduling.djssp.env import DJSSPEnv\n",
    "\n",
    "generator_params = {\n",
    "\"num_jobs\" : 3 ,\n",
    "\"num_machines\": 5 ,\n",
    "\"min_processing_time\": 1 ,\n",
    "\"max_processing_time\": 99 ,\n",
    "\"mtbf\": 17 ,\n",
    "    \"mttr\":2\n",
    "}\n",
    "djssp_env = DJSSPEnv(generator_params=  generator_params)"
   ],
   "id": "31a8601b65f3708a",
   "outputs": [],
   "execution_count": 10
  },
  {
   "metadata": {
    "ExecuteTime": {
     "end_time": "2024-12-12T19:41:52.558301Z",
     "start_time": "2024-12-12T19:41:52.495805Z"
    }
   },
   "cell_type": "code",
   "source": "td = djssp_env.reset(batch_size = [2])",
   "id": "e4fb4c9cc96f0db7",
   "outputs": [],
   "execution_count": 15
  },
  {
   "metadata": {
    "ExecuteTime": {
     "end_time": "2024-12-12T19:41:54.756337Z",
     "start_time": "2024-12-12T19:41:54.743517Z"
    }
   },
   "cell_type": "code",
   "source": "td[\"time\"]",
   "id": "d6b02451ff8b302",
   "outputs": [
    {
     "data": {
      "text/plain": [
       "tensor([52.5877, 32.7373])"
      ]
     },
     "execution_count": 16,
     "metadata": {},
     "output_type": "execute_result"
    }
   ],
   "execution_count": 16
  },
  {
   "metadata": {
    "ExecuteTime": {
     "end_time": "2024-12-12T19:42:03.740387Z",
     "start_time": "2024-12-12T19:42:03.709119Z"
    }
   },
   "cell_type": "code",
   "source": "td[\"job_arrival_times\"]",
   "id": "a9411e33c3756a71",
   "outputs": [
    {
     "data": {
      "text/plain": [
       "tensor([[52.5877, 55.3098, 66.6287],\n",
       "        [32.7373, 44.9308, 46.9802]])"
      ]
     },
     "execution_count": 18,
     "metadata": {},
     "output_type": "execute_result"
    }
   ],
   "execution_count": 18
  },
  {
   "metadata": {
    "ExecuteTime": {
     "end_time": "2024-12-12T19:42:44.482130Z",
     "start_time": "2024-12-12T19:42:44.466495Z"
    }
   },
   "cell_type": "code",
   "source": "td[\"action_mask\"]",
   "id": "e6d7a45d39d5c0c8",
   "outputs": [
    {
     "data": {
      "text/plain": [
       "tensor([[False,  True, False, False],\n",
       "        [False,  True, False, False]])"
      ]
     },
     "execution_count": 20,
     "metadata": {},
     "output_type": "execute_result"
    }
   ],
   "execution_count": 20
  },
  {
   "metadata": {
    "ExecuteTime": {
     "end_time": "2024-12-12T19:43:30.499678Z",
     "start_time": "2024-12-12T19:43:30.484050Z"
    }
   },
   "cell_type": "code",
   "source": "djssp_env._get_job_machine_availability(td)[0]",
   "id": "2a396ea344ad111c",
   "outputs": [
    {
     "data": {
      "text/plain": [
       "tensor([[ True,  True, False,  True,  True],\n",
       "        [ True,  True,  True,  True,  True],\n",
       "        [ True,  True,  True,  True,  True]])"
      ]
     },
     "execution_count": 22,
     "metadata": {},
     "output_type": "execute_result"
    }
   ],
   "execution_count": 22
  }
 ],
 "metadata": {
  "kernelspec": {
   "display_name": "Python 3",
   "language": "python",
   "name": "python3"
  },
  "language_info": {
   "codemirror_mode": {
    "name": "ipython",
    "version": 2
   },
   "file_extension": ".py",
   "mimetype": "text/x-python",
   "name": "python",
   "nbconvert_exporter": "python",
   "pygments_lexer": "ipython2",
   "version": "2.7.6"
  }
 },
 "nbformat": 4,
 "nbformat_minor": 5
}
