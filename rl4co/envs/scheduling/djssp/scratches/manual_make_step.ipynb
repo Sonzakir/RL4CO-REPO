{
 "cells": [
  {
   "cell_type": "code",
   "id": "initial_id",
   "metadata": {
    "ExecuteTime": {
     "end_time": "2024-12-09T20:20:42.062026Z",
     "start_time": "2024-12-09T20:20:41.889816Z"
    }
   },
   "source": [
    "import time\n",
    "\n",
    "from rl4co.envs.scheduling.djssp.env import DJSSPEnv\n",
    "from rl4co.models import L2DPolicy, L2DModel\n",
    "from rl4co.utils import RL4COTrainer\n",
    "import gc\n",
    "from rl4co.envs import JSSPEnv\n",
    "from rl4co.models.zoo.l2d.model import L2DPPOModel\n",
    "from rl4co.models.zoo.l2d.policy import L2DPolicy4PPO\n",
    "from torch.utils.data import DataLoader\n",
    "import json\n",
    "import os\n",
    "%load_ext autoreload\n",
    "%autoreload 2\n",
    "generator_params = {\n",
    "\"num_jobs\" : 6 ,\n",
    "\"num_machines\": 6 ,\n",
    "\"min_processing_time\": 1 ,\n",
    "\"max_processing_time\": 99 ,\n",
    "\"mtbf\" : 17 ,\n",
    "\"mttr\" : 4\n",
    "}\n",
    "env = DJSSPEnv(generator_params=generator_params,\n",
    "_torchrl_mode=True,\n",
    "stepwise_reward=True)\n"
   ],
   "outputs": [
    {
     "name": "stdout",
     "output_type": "stream",
     "text": [
      "The autoreload extension is already loaded. To reload it, use:\n",
      "  %reload_ext autoreload\n"
     ]
    }
   ],
   "execution_count": 20
  },
  {
   "cell_type": "code",
   "id": "5a2f19a8485a776",
   "metadata": {
    "ExecuteTime": {
     "end_time": "2024-12-09T20:20:42.238995Z",
     "start_time": "2024-12-09T20:20:42.062026Z"
    }
   },
   "source": [
    "import torch\n",
    "if torch.cuda.is_available():\n",
    "    accelerator = \"gpu\"\n",
    "    batch_size = 4\n",
    "    train_data_size = 2_000\n",
    "    embed_dim = 128\n",
    "    num_encoder_layers = 4\n",
    "else:\n",
    "    accelerator = \"cpu\"\n",
    "    batch_size = 2\n",
    "    train_data_size = 1_000\n",
    "    embed_dim = 64\n",
    "    num_encoder_layers = 2"
   ],
   "outputs": [],
   "execution_count": 21
  },
  {
   "cell_type": "code",
   "id": "cf4dd6ae7779946c",
   "metadata": {
    "ExecuteTime": {
     "end_time": "2024-12-09T20:20:42.449681Z",
     "start_time": "2024-12-09T20:20:42.270247Z"
    }
   },
   "source": [
    "# Policy: neural network, in this case with encoder-decoder architecture\n",
    "policy = L2DPolicy4PPO(\n",
    "    embed_dim=embed_dim,\n",
    "    num_encoder_layers=num_encoder_layers,\n",
    "    env_name=\"jssp\",\n",
    "    het_emb=False\n",
    ")"
   ],
   "outputs": [],
   "execution_count": 22
  },
  {
   "cell_type": "code",
   "id": "a2ef97ec81cf2389",
   "metadata": {
    "ExecuteTime": {
     "end_time": "2024-12-09T20:20:42.684206Z",
     "start_time": "2024-12-09T20:20:42.496529Z"
    }
   },
   "source": [
    "# default decoder\n",
    "policy.decoder"
   ],
   "outputs": [
    {
     "data": {
      "text/plain": [
       "L2DDecoder(\n",
       "  (feature_extractor): GCN4JSSP(\n",
       "    (init_embedding): JSSPInitEmbedding(\n",
       "      (init_ops_embed): Linear(in_features=5, out_features=64, bias=True)\n",
       "      (pos_encoder): PositionalEncoding(\n",
       "        (dropout): Dropout(p=0.0, inplace=False)\n",
       "      )\n",
       "    )\n",
       "    (gcn_layers): ModuleList(\n",
       "      (0-1): 2 x GCNConv(64, 64)\n",
       "    )\n",
       "  )\n",
       "  (actor): JSSPActor(\n",
       "    (mlp): MLP(\n",
       "      (hidden_act): ReLU()\n",
       "      (out_act): Identity()\n",
       "      (lins): ModuleList(\n",
       "        (0-1): 2 x Linear(in_features=64, out_features=64, bias=True)\n",
       "        (2): Linear(in_features=64, out_features=1, bias=True)\n",
       "      )\n",
       "      (input_norm): Identity()\n",
       "      (output_norm): Identity()\n",
       "    )\n",
       "  )\n",
       ")"
      ]
     },
     "execution_count": 23,
     "metadata": {},
     "output_type": "execute_result"
    }
   ],
   "execution_count": 23
  },
  {
   "cell_type": "code",
   "id": "2056158d492e1a3",
   "metadata": {
    "ExecuteTime": {
     "end_time": "2024-12-09T20:20:42.897181Z",
     "start_time": "2024-12-09T20:20:42.715459Z"
    }
   },
   "source": [
    "# default encoder\n",
    "policy.encoder"
   ],
   "outputs": [
    {
     "data": {
      "text/plain": [
       "NoEncoder()"
      ]
     },
     "execution_count": 24,
     "metadata": {},
     "output_type": "execute_result"
    }
   ],
   "execution_count": 24
  },
  {
   "cell_type": "code",
   "id": "c9b8e56d20556a70",
   "metadata": {
    "ExecuteTime": {
     "end_time": "2024-12-09T20:20:43.100340Z",
     "start_time": "2024-12-09T20:20:42.928433Z"
    }
   },
   "source": [
    "def make_step(td, decoder):\n",
    "    \"\"\"\n",
    "    Equivalent to FJSP make_step(), adapted for JSSP where no encoder is used.\n",
    "    td: TensorDict representing the current state of the environment.\n",
    "    decoder: The L2DDecoder or policy that generates action logits.\n",
    "    env: The JSSP environment instance.\n",
    "    \"\"\"\n",
    "    # Directly decode logits and mask from the raw input state `td`\n",
    "    hidden, _ = decoder.feature_extractor(td)\n",
    "\n",
    "    logits, mask = decoder(td, num_starts=0 , hidden = hidden)\n",
    "\n",
    "    # Mask invalid actions by setting their logits to -inf\n",
    "    action = logits.masked_fill(~mask, -torch.inf).argmax(1)\n",
    "\n",
    "    # Update the state with the selected action\n",
    "    td[\"action\"] = action\n",
    "\n",
    "    # Step the environment with the selected action\n",
    "    td = env.step(td)[\"next\"]\n",
    "\n",
    "    return td"
   ],
   "outputs": [],
   "execution_count": 25
  },
  {
   "cell_type": "code",
   "id": "9195c9c7ee66626e",
   "metadata": {
    "ExecuteTime": {
     "end_time": "2024-12-09T20:20:43.325450Z",
     "start_time": "2024-12-09T20:20:43.131594Z"
    }
   },
   "source": [
    "td = env.reset(batch_size = [1])"
   ],
   "outputs": [],
   "execution_count": 26
  },
  {
   "cell_type": "code",
   "id": "dfa06d7f-ddb5-4d13-a0fb-3843582fc33c",
   "metadata": {
    "ExecuteTime": {
     "end_time": "2024-12-09T20:20:43.544809Z",
     "start_time": "2024-12-09T20:20:43.357335Z"
    }
   },
   "source": "td[\"proc_times\"][0]",
   "outputs": [
    {
     "data": {
      "text/plain": [
       "tensor([[ 0.0000, 12.4968,  0.0000,  0.0000,  0.0000,  0.0000,  0.0000, 74.5410,\n",
       "          0.0000,  0.0000,  0.0000,  0.0000,  0.0000,  0.0000,  0.0000,  0.0000,\n",
       "          0.0000, 63.3621,  0.0000,  0.0000, 64.7743,  0.0000,  0.0000,  0.0000,\n",
       "          0.0000,  0.0000,  4.1750,  0.0000,  0.0000,  0.0000,  0.0000,  9.6894,\n",
       "          0.0000,  0.0000,  0.0000,  0.0000],\n",
       "        [ 0.0000,  0.0000,  0.0000,  0.0000,  0.0000, 64.2171,  0.0000,  0.0000,\n",
       "          0.0000,  0.0000,  3.5711,  0.0000, 53.0482,  0.0000,  0.0000,  0.0000,\n",
       "          0.0000,  0.0000,  0.0000,  0.0000,  0.0000,  0.0000, 77.7648,  0.0000,\n",
       "          0.0000, 42.7038,  0.0000,  0.0000,  0.0000,  0.0000, 24.6818,  0.0000,\n",
       "          0.0000,  0.0000,  0.0000,  0.0000],\n",
       "        [ 0.0000,  0.0000,  0.0000,  0.0000, 65.1333,  0.0000,  0.0000,  0.0000,\n",
       "          0.0000,  0.0000,  0.0000, 68.4423,  0.0000,  0.0000, 72.5489,  0.0000,\n",
       "          0.0000,  0.0000, 35.5019,  0.0000,  0.0000,  0.0000,  0.0000,  0.0000,\n",
       "          0.0000,  0.0000,  0.0000, 50.2729,  0.0000,  0.0000,  0.0000,  0.0000,\n",
       "          0.0000, 26.1508,  0.0000,  0.0000],\n",
       "        [ 0.0000,  0.0000, 11.9404,  0.0000,  0.0000,  0.0000, 65.7042,  0.0000,\n",
       "          0.0000,  0.0000,  0.0000,  0.0000,  0.0000, 48.6653,  0.0000,  0.0000,\n",
       "          0.0000,  0.0000,  0.0000,  0.0000,  0.0000,  0.0000,  0.0000, 46.4193,\n",
       "          0.0000,  0.0000,  0.0000,  0.0000, 65.3193,  0.0000,  0.0000,  0.0000,\n",
       "          8.3354,  0.0000,  0.0000,  0.0000],\n",
       "        [39.6674,  0.0000,  0.0000,  0.0000,  0.0000,  0.0000,  0.0000,  0.0000,\n",
       "          0.0000, 64.2912,  0.0000,  0.0000,  0.0000,  0.0000,  0.0000,  0.0000,\n",
       "         48.3996,  0.0000,  0.0000, 32.6122,  0.0000,  0.0000,  0.0000,  0.0000,\n",
       "          0.0000,  0.0000,  0.0000,  0.0000,  0.0000, 91.9026,  0.0000,  0.0000,\n",
       "          0.0000,  0.0000,  0.0000, 56.5373],\n",
       "        [ 0.0000,  0.0000,  0.0000, 15.0455,  0.0000,  0.0000,  0.0000,  0.0000,\n",
       "         34.4870,  0.0000,  0.0000,  0.0000,  0.0000,  0.0000,  0.0000, 66.2880,\n",
       "          0.0000,  0.0000,  0.0000,  0.0000,  0.0000, 86.3713,  0.0000,  0.0000,\n",
       "         73.0508,  0.0000,  0.0000,  0.0000,  0.0000,  0.0000,  0.0000,  0.0000,\n",
       "          0.0000,  0.0000, 22.9633,  0.0000]])"
      ]
     },
     "execution_count": 27,
     "metadata": {},
     "output_type": "execute_result"
    }
   ],
   "execution_count": 27
  },
  {
   "cell_type": "code",
   "id": "49f20ca87eb825be",
   "metadata": {},
   "source": [
    "from matplotlib import pyplot as plt\n",
    "from IPython.core.display_functions import clear_output\n",
    "\n",
    "env.render(td, 0)\n",
    "# Update plot within a for loop\n",
    "while not td[\"done\"].all():\n",
    "    # Clear the previous output for the next iteration\n",
    "    clear_output(wait=True)\n",
    "\n",
    "    td = make_step(td=td ,decoder = policy.decoder)\n",
    "    env.render(td, 0)\n",
    "    # Display updated plot\n",
    "    display(plt.gcf())\n",
    "\n",
    "    # Pause for a moment to see the changes\n",
    "    time.sleep(.4)"
   ],
   "execution_count": 28,
   "outputs": [
    {
     "data": {
      "text/plain": [
       "<Figure size 640x480 with 0 Axes>"
      ]
     },
     "metadata": {},
     "output_type": "display_data"
    },
    {
     "data": {
      "text/plain": [
       "<Figure size 640x480 with 1 Axes>"
      ],
      "image/png": "[encoded data removed]"
     },
     "metadata": {},
     "output_type": "display_data"
    },
    {
     "data": {
      "text/plain": [
       "<Figure size 640x480 with 0 Axes>"
      ]
     },
     "metadata": {},
     "output_type": "display_data"
    },
    {
     "data": {
      "text/plain": [
       "<Figure size 640x480 with 0 Axes>"
      ]
     },
     "metadata": {},
     "output_type": "display_data"
    }
   ]
  },
  {
   "cell_type": "code",
   "id": "bd00aafe-f3fe-4686-b270-92f54e7d03b1",
   "metadata": {
    "ExecuteTime": {
     "end_time": "2024-12-09T20:21:07.180385Z",
     "start_time": "2024-12-09T20:21:06.999876Z"
    }
   },
   "source": "td[\"machine_breakdowns\"][0]",
   "outputs": [
    {
     "data": {
      "text/plain": [
       "{0: [{'TIME': 3.000108480453491, 'DURATION': 10.950005531311035},\n",
       "  {'TIME': 35.32599139213562, 'DURATION': 1.3882921934127808}],\n",
       " 1: [{'TIME': 21.723852157592773, 'DURATION': 1.9373793601989746},\n",
       "  {'TIME': 53.32680654525757, 'DURATION': 1.5291308164596558}],\n",
       " 2: [{'TIME': 7.263213157653809, 'DURATION': 2.711613416671753},\n",
       "  {'TIME': 52.46433997154236, 'DURATION': 3.8198349475860596}],\n",
       " 3: [{'TIME': 40.77605056762695, 'DURATION': 1.205381989479065},\n",
       "  {'TIME': 45.75132215023041, 'DURATION': 0.6587216854095459}],\n",
       " 4: [{'TIME': 6.723081111907959, 'DURATION': 2.6919376850128174},\n",
       "  {'TIME': 38.85593867301941, 'DURATION': 0.6645970344543457}],\n",
       " 5: [{'TIME': 9.79523754119873, 'DURATION': 0.2698454260826111},\n",
       "  {'TIME': 25.17279475927353, 'DURATION': 8.416229248046875},\n",
       "  {'TIME': 46.51334512233734, 'DURATION': 3.2661590576171875}]}"
      ]
     },
     "execution_count": 29,
     "metadata": {},
     "output_type": "execute_result"
    }
   ],
   "execution_count": 29
  },
  {
   "metadata": {
    "ExecuteTime": {
     "end_time": "2024-12-09T20:21:07.380506Z",
     "start_time": "2024-12-09T20:21:07.196008Z"
    }
   },
   "cell_type": "code",
   "source": "td[\"finish_times\"]",
   "id": "2ef9e8b25b62dc3e",
   "outputs": [
    {
     "data": {
      "text/plain": [
       "tensor([[ 53.7696,  66.2665, 131.4142, 154.3628, 219.4961, 283.7133, 119.4738,\n",
       "         194.0148, 228.5018, 292.7931, 296.3642, 410.7602, 106.8178, 180.0794,\n",
       "         292.0450, 411.4483, 547.9395, 611.3016, 101.7684, 134.3805, 258.7891,\n",
       "         345.1604, 422.9251, 469.3445, 139.3173, 182.0211, 262.9641, 342.3179,\n",
       "         407.6372, 499.5399, 131.4996, 272.6535, 280.9889, 436.9110, 459.8743,\n",
       "         604.4768]])"
      ]
     },
     "execution_count": 30,
     "metadata": {},
     "output_type": "execute_result"
    }
   ],
   "execution_count": 30
  },
  {
   "cell_type": "code",
   "id": "c19750d3-408d-403d-bc71-6a313dada0e7",
   "metadata": {
    "ExecuteTime": {
     "end_time": "2024-12-09T20:29:31.847725Z",
     "start_time": "2024-12-09T20:29:31.676292Z"
    }
   },
   "source": "td[\"start_times\"][0]",
   "outputs": [
    {
     "data": {
      "text/plain": [
       "tensor([ 14.1022,  53.7696, 119.4738, 139.3173, 154.3628, 219.4961,  53.7696,\n",
       "        119.4738, 194.0148, 228.5018, 292.7931, 342.3179,  53.7696, 131.4142,\n",
       "        219.4961, 345.1604, 499.5399, 547.9395,  66.2665, 101.7684, 194.0148,\n",
       "        258.7891, 345.1604, 422.9251,  66.2665, 139.3173, 258.7891, 292.0450,\n",
       "        342.3179, 407.6372, 106.8178, 262.9641, 272.6535, 410.7602, 436.9110,\n",
       "        547.9395])"
      ]
     },
     "execution_count": 38,
     "metadata": {},
     "output_type": "execute_result"
    }
   ],
   "execution_count": 38
  },
  {
   "cell_type": "code",
   "id": "9aa231bf-bbef-4dce-bfd2-7d0d5a0cac1d",
   "metadata": {
    "ExecuteTime": {
     "end_time": "2024-12-09T20:21:07.888728Z",
     "start_time": "2024-12-09T20:21:07.708799Z"
    }
   },
   "source": [
    "td[\"job_arrival_times\"]"
   ],
   "outputs": [
    {
     "data": {
      "text/plain": [
       "tensor([[14.1022, 33.9009, 47.4694, 55.5201, 60.0937, 79.5455]])"
      ]
     },
     "execution_count": 32,
     "metadata": {},
     "output_type": "execute_result"
    }
   ],
   "execution_count": 32
  },
  {
   "cell_type": "code",
   "id": "64fc089c-a331-47c0-957d-17eb1690887b",
   "metadata": {
    "ExecuteTime": {
     "end_time": "2024-12-09T20:21:07.982475Z",
     "start_time": "2024-12-09T20:21:07.966874Z"
    }
   },
   "source": [],
   "outputs": [],
   "execution_count": null
  }
 ],
 "metadata": {
  "kernelspec": {
   "display_name": "Python 3 (ipykernel)",
   "language": "python",
   "name": "python3"
  },
  "language_info": {
   "codemirror_mode": {
    "name": "ipython",
    "version": 3
   },
   "file_extension": ".py",
   "mimetype": "text/x-python",
   "name": "python",
   "nbconvert_exporter": "python",
   "pygments_lexer": "ipython3",
   "version": "3.10.15"
  }
 },
 "nbformat": 4,
 "nbformat_minor": 5
}
