{
 "cells": [
  {
   "cell_type": "markdown",
   "id": "8d04028a-c3cf-4b71-b877-5957ef6f733f",
   "metadata": {},
   "source": [
    "# Introducing Machine Breakdowns in DJJSP Environment"
   ]
  },
  {
   "cell_type": "markdown",
   "id": "f8369306-2c83-4221-bf99-c1c4a5646d5a",
   "metadata": {},
   "source": [
    "## JSSP Environment"
   ]
  },
  {
   "cell_type": "code",
   "execution_count": 2,
   "id": "208b04d91738efb3",
   "metadata": {
    "ExecuteTime": {
     "end_time": "2024-12-02T16:44:33.711193Z",
     "start_time": "2024-12-02T16:44:33.664296Z"
    }
   },
   "outputs": [],
   "source": [
    "from rl4co.envs.scheduling.jssp.env import JSSPEnv\n",
    "generator_params = {\"num_jobs\":5 ,\n",
    "    \"num_machines\": 6 ,\n",
    "    \"min_processing_time\":1 ,\n",
    "    \"max_processing_time\": 200\n",
    "    }\n",
    "jsspEnv =JSSPEnv(generator_params = generator_params)"
   ]
  },
  {
   "cell_type": "code",
   "execution_count": 3,
   "id": "8af63011-53f0-4316-8e40-0b76782b4274",
   "metadata": {
    "ExecuteTime": {
     "end_time": "2024-12-02T16:45:14.782582Z",
     "start_time": "2024-12-02T16:45:14.735686Z"
    },
    "scrolled": true
   },
   "outputs": [
    {
     "data": {
      "text/plain": [
       "TensorDict(\n",
       "    fields={\n",
       "        action_mask: Tensor(shape=torch.Size([3, 6]), device=cpu, dtype=torch.bool, is_shared=False),\n",
       "        adjacency: Tensor(shape=torch.Size([3, 30, 30]), device=cpu, dtype=torch.float32, is_shared=False),\n",
       "        busy_until: Tensor(shape=torch.Size([3, 6]), device=cpu, dtype=torch.float32, is_shared=False),\n",
       "        done: Tensor(shape=torch.Size([3, 1]), device=cpu, dtype=torch.bool, is_shared=False),\n",
       "        end_op_per_job: Tensor(shape=torch.Size([3, 5]), device=cpu, dtype=torch.int64, is_shared=False),\n",
       "        finish_times: Tensor(shape=torch.Size([3, 30]), device=cpu, dtype=torch.float32, is_shared=False),\n",
       "        is_ready: Tensor(shape=torch.Size([3, 30]), device=cpu, dtype=torch.bool, is_shared=False),\n",
       "        job_done: Tensor(shape=torch.Size([3, 5]), device=cpu, dtype=torch.bool, is_shared=False),\n",
       "        job_in_process: Tensor(shape=torch.Size([3, 5]), device=cpu, dtype=torch.bool, is_shared=False),\n",
       "        job_ops_adj: Tensor(shape=torch.Size([3, 5, 30]), device=cpu, dtype=torch.int64, is_shared=False),\n",
       "        lbs: Tensor(shape=torch.Size([3, 30]), device=cpu, dtype=torch.float32, is_shared=False),\n",
       "        ma_assignment: Tensor(shape=torch.Size([3, 6, 30]), device=cpu, dtype=torch.float32, is_shared=False),\n",
       "        next_ma: Tensor(shape=torch.Size([3, 5]), device=cpu, dtype=torch.int64, is_shared=False),\n",
       "        next_op: Tensor(shape=torch.Size([3, 5]), device=cpu, dtype=torch.int64, is_shared=False),\n",
       "        num_eligible: Tensor(shape=torch.Size([3, 30]), device=cpu, dtype=torch.float32, is_shared=False),\n",
       "        op_scheduled: Tensor(shape=torch.Size([3, 30]), device=cpu, dtype=torch.bool, is_shared=False),\n",
       "        ops_adj: Tensor(shape=torch.Size([3, 30, 30, 2]), device=cpu, dtype=torch.float32, is_shared=False),\n",
       "        ops_job_map: Tensor(shape=torch.Size([3, 30]), device=cpu, dtype=torch.int64, is_shared=False),\n",
       "        ops_ma_adj: Tensor(shape=torch.Size([3, 6, 30]), device=cpu, dtype=torch.float32, is_shared=False),\n",
       "        ops_sequence_order: Tensor(shape=torch.Size([3, 30]), device=cpu, dtype=torch.int64, is_shared=False),\n",
       "        pad_mask: Tensor(shape=torch.Size([3, 30]), device=cpu, dtype=torch.bool, is_shared=False),\n",
       "        proc_times: Tensor(shape=torch.Size([3, 6, 30]), device=cpu, dtype=torch.float32, is_shared=False),\n",
       "        reward: Tensor(shape=torch.Size([3]), device=cpu, dtype=torch.float32, is_shared=False),\n",
       "        start_op_per_job: Tensor(shape=torch.Size([3, 5]), device=cpu, dtype=torch.int64, is_shared=False),\n",
       "        start_times: Tensor(shape=torch.Size([3, 30]), device=cpu, dtype=torch.float32, is_shared=False),\n",
       "        terminated: Tensor(shape=torch.Size([3, 1]), device=cpu, dtype=torch.bool, is_shared=False),\n",
       "        time: Tensor(shape=torch.Size([3]), device=cpu, dtype=torch.float32, is_shared=False)},\n",
       "    batch_size=torch.Size([3]),\n",
       "    device=None,\n",
       "    is_shared=False)"
      ]
     },
     "execution_count": 3,
     "metadata": {},
     "output_type": "execute_result"
    }
   ],
   "source": [
    "jssp_td = jsspEnv.reset(batch_size=[3])\n",
    "jssp_td "
   ]
  },
  {
   "cell_type": "code",
   "execution_count": 4,
   "id": "6816070c-f250-433f-b36c-52abb76f6fb1",
   "metadata": {},
   "outputs": [
    {
     "data": {
      "text/plain": [
       "tensor([0., 0., 0.])"
      ]
     },
     "execution_count": 4,
     "metadata": {},
     "output_type": "execute_result"
    }
   ],
   "source": [
    "jssp_td [\"time\"]  # td[time] = [time in batch 0 , time in batch 1 , time in batch 2  ]"
   ]
  },
  {
   "cell_type": "code",
   "execution_count": 6,
   "id": "69a1fe28-f331-441f-b310-fa32e927e680",
   "metadata": {},
   "outputs": [
    {
     "data": {
      "text/plain": [
       "torch.Size([3, 6])"
      ]
     },
     "execution_count": 6,
     "metadata": {},
     "output_type": "execute_result"
    }
   ],
   "source": [
    "jssp_td [\"busy_until\"].shape   #[batch, machine]"
   ]
  },
  {
   "cell_type": "markdown",
   "id": "b169b83b-1eae-40cd-ba02-8b49629c7609",
   "metadata": {},
   "source": [
    "## To find till when the machine 3 in batch 1 is busy "
   ]
  },
  {
   "cell_type": "code",
   "execution_count": 8,
   "id": "522d3893-3621-4622-9532-67dab2de1321",
   "metadata": {},
   "outputs": [
    {
     "data": {
      "text/plain": [
       "tensor(0.)"
      ]
     },
     "execution_count": 8,
     "metadata": {},
     "output_type": "execute_result"
    }
   ],
   "source": [
    "\n",
    "batch_no = 1\n",
    "machine_no = 3\n",
    "jssp_td [\"busy_until\"][batch_no] [machine_no]"
   ]
  },
  {
   "cell_type": "markdown",
   "id": "6c5bf586-b7ba-4de0-b437-03a53a516350",
   "metadata": {},
   "source": [
    "## DJSSP Environment"
   ]
  },
  {
   "cell_type": "markdown",
   "id": "47731522da970958",
   "metadata": {},
   "source": [
    "- We still do not need change anything"
   ]
  },
  {
   "cell_type": "markdown",
   "id": "e5c71285f4aa1fe5",
   "metadata": {},
   "source": [
    "busy_until: specifies until when the machine will be busy-"
   ]
  },
  {
   "cell_type": "code",
   "execution_count": 1,
   "id": "9e58b91a-39f5-479e-a681-9bb0c5aa77ca",
   "metadata": {
    "ExecuteTime": {
     "end_time": "2024-12-01T17:04:00.197358Z",
     "start_time": "2024-12-01T17:04:00.173681Z"
    }
   },
   "outputs": [
    {
     "name": "stderr",
     "output_type": "stream",
     "text": [
      "C:\\Users\\soner\\anaconda3\\envs\\env_rl4co\\lib\\site-packages\\tqdm\\auto.py:21: TqdmWarning: IProgress not found. Please update jupyter and ipywidgets. See https://ipywidgets.readthedocs.io/en/stable/user_install.html\n",
      "  from .autonotebook import tqdm as notebook_tqdm\n"
     ]
    }
   ],
   "source": [
    "import torch\n",
    "\n",
    "from rl4co.envs.scheduling.djssp.env import DJSSPEnv\n",
    "\n",
    "generator_params = {\"num_jobs\":5 ,\n",
    "    \"num_machines\": 6 ,\n",
    "    \"min_processing_time\":1 ,\n",
    "    \"max_processing_time\": 200 ,\n",
    "    \"mtbf\" : 17 ,\n",
    "    \"mttr\" : 4}\n",
    "env = DJSSPEnv(generator_params=generator_params)"
   ]
  },
  {
   "cell_type": "code",
   "execution_count": 3,
   "id": "1ab987a9-ccb2-400a-a237-05ddaface7c2",
   "metadata": {
    "ExecuteTime": {
     "end_time": "2024-12-01T17:04:02.604484Z",
     "start_time": "2024-12-01T17:04:02.369729Z"
    },
    "scrolled": true
   },
   "outputs": [
    {
     "name": "stdout",
     "output_type": "stream",
     "text": [
      "IN BATCH 0 JOB WITH ID 0 not arrived yet\n",
      "IN BATCH 0 JOB WITH ID 1 not arrived yet\n",
      "IN BATCH 0 JOB WITH ID 2 not arrived yet\n",
      "IN BATCH 0 JOB WITH ID 3 not arrived yet\n",
      "IN BATCH 0 JOB WITH ID 4 not arrived yet\n",
      "IN BATCH 1 JOB WITH ID 0 not arrived yet\n",
      "IN BATCH 1 JOB WITH ID 1 not arrived yet\n",
      "IN BATCH 1 JOB WITH ID 2 not arrived yet\n",
      "IN BATCH 1 JOB WITH ID 3 not arrived yet\n",
      "IN BATCH 1 JOB WITH ID 4 not arrived yet\n",
      "IN BATCH 2 JOB WITH ID 0 not arrived yet\n",
      "IN BATCH 2 JOB WITH ID 1 not arrived yet\n",
      "IN BATCH 2 JOB WITH ID 2 not arrived yet\n",
      "IN BATCH 2 JOB WITH ID 3 not arrived yet\n",
      "IN BATCH 2 JOB WITH ID 4 not arrived yet\n"
     ]
    },
    {
     "data": {
      "text/plain": [
       "TensorDict(\n",
       "    fields={\n",
       "        action_mask: Tensor(shape=torch.Size([3, 6]), device=cpu, dtype=torch.bool, is_shared=False),\n",
       "        actual_proc_times: Tensor(shape=torch.Size([3, 6, 30]), device=cpu, dtype=torch.float32, is_shared=False),\n",
       "        adjacency: Tensor(shape=torch.Size([3, 30, 30]), device=cpu, dtype=torch.float32, is_shared=False),\n",
       "        busy_until: Tensor(shape=torch.Size([3, 6]), device=cpu, dtype=torch.float32, is_shared=False),\n",
       "        done: Tensor(shape=torch.Size([3, 1]), device=cpu, dtype=torch.bool, is_shared=False),\n",
       "        end_op_per_job: Tensor(shape=torch.Size([3, 5]), device=cpu, dtype=torch.int64, is_shared=False),\n",
       "        finish_times: Tensor(shape=torch.Size([3, 30]), device=cpu, dtype=torch.float32, is_shared=False),\n",
       "        is_ready: Tensor(shape=torch.Size([3, 30]), device=cpu, dtype=torch.bool, is_shared=False),\n",
       "        job_arrival_times: Tensor(shape=torch.Size([3, 5]), device=cpu, dtype=torch.float32, is_shared=False),\n",
       "        job_done: Tensor(shape=torch.Size([3, 5]), device=cpu, dtype=torch.bool, is_shared=False),\n",
       "        job_in_process: Tensor(shape=torch.Size([3, 5]), device=cpu, dtype=torch.bool, is_shared=False),\n",
       "        job_ops_adj: Tensor(shape=torch.Size([3, 5, 30]), device=cpu, dtype=torch.int64, is_shared=False),\n",
       "        lbs: Tensor(shape=torch.Size([3, 30]), device=cpu, dtype=torch.float32, is_shared=False),\n",
       "        ma_assignment: Tensor(shape=torch.Size([3, 6, 30]), device=cpu, dtype=torch.float32, is_shared=False),\n",
       "        machine_breakdowns: NonTensorData(data=[{0: [{'TIME': 3.000  ...  6698631048202515}]}], batch_size=torch.Size([3]), device=None),\n",
       "        next_ma: Tensor(shape=torch.Size([3, 5]), device=cpu, dtype=torch.int64, is_shared=False),\n",
       "        next_op: Tensor(shape=torch.Size([3, 5]), device=cpu, dtype=torch.int64, is_shared=False),\n",
       "        num_eligible: Tensor(shape=torch.Size([3, 30]), device=cpu, dtype=torch.float32, is_shared=False),\n",
       "        op_scheduled: Tensor(shape=torch.Size([3, 30]), device=cpu, dtype=torch.bool, is_shared=False),\n",
       "        ops_adj: Tensor(shape=torch.Size([3, 30, 30, 2]), device=cpu, dtype=torch.float32, is_shared=False),\n",
       "        ops_job_map: Tensor(shape=torch.Size([3, 30]), device=cpu, dtype=torch.int64, is_shared=False),\n",
       "        ops_ma_adj: Tensor(shape=torch.Size([3, 6, 30]), device=cpu, dtype=torch.float32, is_shared=False),\n",
       "        ops_sequence_order: Tensor(shape=torch.Size([3, 30]), device=cpu, dtype=torch.int64, is_shared=False),\n",
       "        pad_mask: Tensor(shape=torch.Size([3, 30]), device=cpu, dtype=torch.bool, is_shared=False),\n",
       "        proc_times: Tensor(shape=torch.Size([3, 6, 30]), device=cpu, dtype=torch.float32, is_shared=False),\n",
       "        reward: Tensor(shape=torch.Size([3]), device=cpu, dtype=torch.float32, is_shared=False),\n",
       "        start_op_per_job: Tensor(shape=torch.Size([3, 5]), device=cpu, dtype=torch.int64, is_shared=False),\n",
       "        start_times: Tensor(shape=torch.Size([3, 30]), device=cpu, dtype=torch.float32, is_shared=False),\n",
       "        terminated: Tensor(shape=torch.Size([3, 1]), device=cpu, dtype=torch.bool, is_shared=False),\n",
       "        time: Tensor(shape=torch.Size([3]), device=cpu, dtype=torch.float32, is_shared=False)},\n",
       "    batch_size=torch.Size([3]),\n",
       "    device=None,\n",
       "    is_shared=False)"
      ]
     },
     "execution_count": 3,
     "metadata": {},
     "output_type": "execute_result"
    }
   ],
   "source": [
    "td = env.reset(batch_size=[3])\n",
    "td"
   ]
  },
  {
   "cell_type": "code",
   "execution_count": 9,
   "id": "7288b853-7b4b-4b19-8263-33e811f9f434",
   "metadata": {},
   "outputs": [
    {
     "data": {
      "text/plain": [
       "tensor([0., 0., 0., 0., 0., 0.])"
      ]
     },
     "execution_count": 9,
     "metadata": {},
     "output_type": "execute_result"
    }
   ],
   "source": [
    "td[\"busy_until\"][1]"
   ]
  },
  {
   "cell_type": "code",
   "execution_count": 7,
   "id": "b3e13d7a-c30e-4faf-8b57-ccea355e7925",
   "metadata": {},
   "outputs": [],
   "source": [
    "check_machine_breakdowns_td = env._check_machine_breakdowns(td)"
   ]
  },
  {
   "cell_type": "code",
   "execution_count": 10,
   "id": "1aa2e776-5dc6-4265-b4fe-ca81c019b2d4",
   "metadata": {},
   "outputs": [
    {
     "data": {
      "text/plain": [
       "tensor([[0., 0., 0., 0., 0., 0.],\n",
       "        [0., 0., 0., 0., 0., 0.],\n",
       "        [0., 0., 0., 0., 0., 0.]])"
      ]
     },
     "execution_count": 10,
     "metadata": {},
     "output_type": "execute_result"
    }
   ],
   "source": [
    "check_machine_breakdowns_td[\"busy_until\"]"
   ]
  },
  {
   "cell_type": "code",
   "execution_count": 3,
   "id": "4bb7c89e-6f62-4be8-b31e-e80c54a04066",
   "metadata": {
    "ExecuteTime": {
     "end_time": "2024-12-01T17:04:07.002557Z",
     "start_time": "2024-12-01T17:04:06.986933Z"
    }
   },
   "outputs": [
    {
     "data": {
      "text/plain": [
       "[{'TIME': 2.182248115539551, 'DURATION': 1.459298014640808},\n",
       " {'TIME': 8.896746039390564, 'DURATION': 14.245135307312012},\n",
       " {'TIME': 29.159679889678955, 'DURATION': 12.021700859069824},\n",
       " {'TIME': 71.04686713218689, 'DURATION': 3.113908290863037}]"
      ]
     },
     "execution_count": 3,
     "metadata": {},
     "output_type": "execute_result"
    }
   ],
   "source": [
    "#                       batch    machine_idx\n",
    "td[\"machine_breakdowns\"][2]       [0]"
   ]
  },
  {
   "cell_type": "code",
   "execution_count": 7,
   "id": "2173459f0405f5d2",
   "metadata": {
    "ExecuteTime": {
     "end_time": "2024-12-01T17:03:49.537197Z",
     "start_time": "2024-12-01T17:03:49.521542Z"
    }
   },
   "outputs": [
    {
     "data": {
      "text/plain": [
       "torch.Size([3, 6])"
      ]
     },
     "execution_count": 7,
     "metadata": {},
     "output_type": "execute_result"
    }
   ],
   "source": [
    "td[\"busy_until\"].shape #[batch_no , machine ]"
   ]
  },
  {
   "cell_type": "code",
   "execution_count": 8,
   "id": "3a478dda3fb315b4",
   "metadata": {
    "ExecuteTime": {
     "end_time": "2024-12-01T17:04:08.892990Z",
     "start_time": "2024-12-01T17:04:08.861739Z"
    }
   },
   "outputs": [
    {
     "data": {
      "text/plain": [
       "tensor(0.)"
      ]
     },
     "execution_count": 8,
     "metadata": {},
     "output_type": "execute_result"
    }
   ],
   "source": [
    "batch_no = 1\n",
    "machine_idx=2\n",
    "td[\"busy_until\"][batch_no][machine_idx]"
   ]
  },
  {
   "cell_type": "markdown",
   "id": "73ac59a6-602f-4e63-b9cd-33d7bc7088fc",
   "metadata": {},
   "source": [
    "## Understanding td[\"machine_breakdowns\"]"
   ]
  },
  {
   "cell_type": "code",
   "execution_count": 13,
   "id": "f59979ea-c438-4210-8ae7-b156578932fc",
   "metadata": {},
   "outputs": [
    {
     "data": {
      "text/plain": [
       "[{'TIME': 10.986457824707031, 'DURATION': 9.279200553894043},\n",
       " {'TIME': 28.420631408691406, 'DURATION': 6.441053867340088},\n",
       " {'TIME': 78.09958791732788, 'DURATION': 0.7334785461425781}]"
      ]
     },
     "execution_count": 13,
     "metadata": {},
     "output_type": "execute_result"
    }
   ],
   "source": [
    "batch_no = 1\n",
    "machine_no = 5\n",
    "td[\"machine_breakdowns\"][batch_no][machine_no]"
   ]
  },
  {
   "cell_type": "code",
   "execution_count": 16,
   "id": "5ca32b19-ba44-49b3-a3b3-bbec6438ca4b",
   "metadata": {},
   "outputs": [
    {
     "name": "stdout",
     "output_type": "stream",
     "text": [
      "10.986457824707031\n",
      "9.279200553894043\n"
     ]
    }
   ],
   "source": [
    "batch_no = 1\n",
    "machine_no = 5\n",
    "breakdown_no = 0\n",
    "print(td[\"machine_breakdowns\"][batch_no][machine_no][breakdown_no][\"TIME\"])\n",
    "print(td[\"machine_breakdowns\"][batch_no][machine_no][breakdown_no][\"DURATION\"])"
   ]
  },
  {
   "cell_type": "raw",
   "id": "15650a63-b9ba-4363-8c39-a2a4d70d68e6",
   "metadata": {
    "ExecuteTime": {
     "end_time": "2024-12-01T17:07:58.793058Z",
     "start_time": "2024-12-01T17:07:58.762031Z"
    }
   },
   "source": [
    "td[\"time\"]=torch.Tensor([2.182248115539551 , 2.182248115539551 , 2.182248115539551])\n",
    "batch_idx = 0\n",
    "for bs in range (batch_idx+1):\n",
    "    for machine_idx in range(env.num_mas):\n",
    "        m_idx_breakdowns = td[\"machine_breakdowns\"][bs-1][machine_idx]\n",
    "        for breakdown_no in range (len(m_idx_breakdowns)):\n",
    "\n",
    "            if m_idx_breakdowns[breakdown_no][\"TIME\"] == td[\"time\"][0]:\n",
    "                print(2.182248115539551)\n",
    "                print(f\"Machine {machine_idx} - with TIME {m_idx_breakdowns[breakdown_no]['TIME']} \")\n",
    "                print(td[\"busy_until\"][bs][machine_idx])\n",
    "                td[\"busy_until\"][bs][machine_idx] = td[\"time\"][0] + m_idx_breakdowns[breakdown_no][\"DURATION\"]\n",
    "                print(td[\"busy_until\"][bs][machine_idx])"
   ]
  },
  {
   "cell_type": "code",
   "execution_count": null,
   "id": "89a7070c170f972b",
   "metadata": {
    "ExecuteTime": {
     "end_time": "2024-12-01T17:03:50.110365Z",
     "start_time": "2024-12-01T17:03:50.094694Z"
    }
   },
   "outputs": [],
   "source": [
    "len(td[\"machine_breakdowns\"][0][1])"
   ]
  },
  {
   "cell_type": "raw",
   "id": "a77aa87f-b7b9-45ae-a7ce-52e2c1cf9ccb",
   "metadata": {},
   "source": [
    "Temel düsünce su\n",
    "bizim busy_until diye bir seyimiz zaten var\n",
    "biz makine bozuk oldugu zaman onu busy diye gösterecegiz"
   ]
  },
  {
   "cell_type": "code",
   "execution_count": null,
   "id": "94892c3d-9b47-45ef-9ed0-a0dc8cc5f13f",
   "metadata": {
    "ExecuteTime": {
     "end_time": "2024-12-01T17:03:50.266586Z",
     "start_time": "2024-12-01T17:03:50.250948Z"
    }
   },
   "outputs": [],
   "source": [
    "env._check_machine_breakdowns(td)"
   ]
  },
  {
   "cell_type": "markdown",
   "id": "302caae5-c6ed-44f1-afa9-fcbf7efd8262",
   "metadata": {},
   "source": [
    "# TESTING `_check_machine_breakdowns(td)`"
   ]
  },
  {
   "cell_type": "code",
   "execution_count": 1,
   "id": "e6367bea-a3cf-43db-8be1-3c5f90de6f39",
   "metadata": {},
   "outputs": [
    {
     "name": "stderr",
     "output_type": "stream",
     "text": [
      "C:\\Users\\soner\\anaconda3\\envs\\env_rl4co\\lib\\site-packages\\tqdm\\auto.py:21: TqdmWarning: IProgress not found. Please update jupyter and ipywidgets. See https://ipywidgets.readthedocs.io/en/stable/user_install.html\n",
      "  from .autonotebook import tqdm as notebook_tqdm\n"
     ]
    }
   ],
   "source": [
    "import torch\n",
    "\n",
    "from rl4co.envs.scheduling.djssp.env import DJSSPEnv\n",
    "\n",
    "generator_params = {\"num_jobs\":5 ,\n",
    "    \"num_machines\": 6 ,\n",
    "    \"min_processing_time\":1 ,\n",
    "    \"max_processing_time\": 200 ,\n",
    "    \"mtbf\" : 17 ,\n",
    "    \"mttr\" : 4}\n",
    "env = DJSSPEnv(generator_params=generator_params)"
   ]
  },
  {
   "cell_type": "code",
   "execution_count": 2,
   "id": "88323d4e-55e8-4424-85e5-588f91b55683",
   "metadata": {},
   "outputs": [
    {
     "name": "stdout",
     "output_type": "stream",
     "text": [
      "IN BATCH 0 JOB WITH ID 0 not arrived yet\n",
      "IN BATCH 0 JOB WITH ID 1 not arrived yet\n",
      "IN BATCH 0 JOB WITH ID 2 not arrived yet\n",
      "IN BATCH 0 JOB WITH ID 3 not arrived yet\n",
      "IN BATCH 0 JOB WITH ID 4 not arrived yet\n",
      "IN BATCH 1 JOB WITH ID 0 not arrived yet\n",
      "IN BATCH 1 JOB WITH ID 1 not arrived yet\n",
      "IN BATCH 1 JOB WITH ID 2 not arrived yet\n",
      "IN BATCH 1 JOB WITH ID 3 not arrived yet\n",
      "IN BATCH 1 JOB WITH ID 4 not arrived yet\n",
      "IN BATCH 2 JOB WITH ID 0 not arrived yet\n",
      "IN BATCH 2 JOB WITH ID 1 not arrived yet\n",
      "IN BATCH 2 JOB WITH ID 2 not arrived yet\n",
      "IN BATCH 2 JOB WITH ID 3 not arrived yet\n",
      "IN BATCH 2 JOB WITH ID 4 not arrived yet\n"
     ]
    }
   ],
   "source": [
    "td = env.reset(batch_size=[3])"
   ]
  },
  {
   "cell_type": "markdown",
   "id": "512c430e-dbb3-4aab-ad65-aad112c07dd7",
   "metadata": {},
   "source": [
    "## check when the machine breakdown happens and the busy until matrix"
   ]
  },
  {
   "cell_type": "code",
   "execution_count": 3,
   "id": "28b7e0b5-4b39-48a3-ab5a-ba5ea3a5e57b",
   "metadata": {},
   "outputs": [
    {
     "data": {
      "text/plain": [
       "{0: [{'TIME': 3.000108480453491, 'DURATION': 10.950005531311035},\n",
       "  {'TIME': 35.32599139213562, 'DURATION': 1.3882921934127808},\n",
       "  {'TIME': 62.19732415676117, 'DURATION': 10.096503257751465}],\n",
       " 1: [{'TIME': 29.66557502746582, 'DURATION': 1.5291308164596558},\n",
       "  {'TIME': 40.57259452342987, 'DURATION': 1.0042990446090698},\n",
       "  {'TIME': 80.03481256961823, 'DURATION': 2.711613416671753}],\n",
       " 2: [{'TIME': 12.460824966430664, 'DURATION': 0.07522933185100555},\n",
       "  {'TIME': 53.31210486590862, 'DURATION': 1.205381989479065},\n",
       "  {'TIME': 70.82343074679375, 'DURATION': 0.6587216854095459}],\n",
       " 3: [{'TIME': 6.723081111907959, 'DURATION': 2.6919376850128174},\n",
       "  {'TIME': 38.85593867301941, 'DURATION': 0.6645970344543457},\n",
       "  {'TIME': 57.83890724182129, 'DURATION': 3.2587645053863525}],\n",
       " 4: [{'TIME': 15.107711791992188, 'DURATION': 8.416229248046875},\n",
       "  {'TIME': 26.383179187774658, 'DURATION': 3.2661590576171875},\n",
       "  {'TIME': 89.99576234817505, 'DURATION': 1.8107106685638428}],\n",
       " 5: [{'TIME': 1.7039726972579956, 'DURATION': 0.353985995054245},\n",
       "  {'TIME': 19.8298417031765, 'DURATION': 0.1769818216562271},\n",
       "  {'TIME': 61.421883657574654, 'DURATION': 4.472452163696289},\n",
       "  {'TIME': 97.07498851418495, 'DURATION': 0.3713805675506592}]}"
      ]
     },
     "execution_count": 3,
     "metadata": {},
     "output_type": "execute_result"
    }
   ],
   "source": [
    "td[\"machine_breakdowns\"][0]"
   ]
  },
  {
   "cell_type": "code",
   "execution_count": 4,
   "id": "ae66e0d1-cc39-4f77-bec8-5c5c845e9069",
   "metadata": {},
   "outputs": [
    {
     "data": {
      "text/plain": [
       "tensor([0., 0., 0., 0., 0., 0.])"
      ]
     },
     "execution_count": 4,
     "metadata": {},
     "output_type": "execute_result"
    }
   ],
   "source": [
    "td[\"busy_until\"][0]"
   ]
  },
  {
   "cell_type": "markdown",
   "id": "d7288def-9d16-466c-8d71-e621b12e506e",
   "metadata": {},
   "source": [
    "### In batch 0 machine 0 has the breakdown in time 3.000108480453491 -> in order to test it out, i am manually setting time to 3.000108480453491"
   ]
  },
  {
   "cell_type": "code",
   "execution_count": 5,
   "id": "1b9c6b9a-38fc-46bd-97e0-19d71527416f",
   "metadata": {},
   "outputs": [],
   "source": [
    "after_td = env._check_machine_breakdowns(td)"
   ]
  },
  {
   "cell_type": "code",
   "execution_count": 7,
   "id": "0217ee8c-7a47-4733-8c5b-c33903e9547e",
   "metadata": {},
   "outputs": [
    {
     "data": {
      "text/plain": [
       "tensor([[13.9501,  0.0000,  0.0000,  0.0000,  0.0000,  0.0000],\n",
       "        [ 0.0000,  0.0000,  0.0000,  0.0000,  0.0000,  0.0000],\n",
       "        [ 0.0000,  0.0000,  0.0000,  0.0000,  0.0000,  0.0000]])"
      ]
     },
     "execution_count": 7,
     "metadata": {},
     "output_type": "execute_result"
    }
   ],
   "source": [
    "after_td[\"busy_until\"]"
   ]
  },
  {
   "cell_type": "code",
   "execution_count": null,
   "id": "8769cb00-900d-439b-a133-cbaca346f32b",
   "metadata": {},
   "outputs": [],
   "source": [
    "# it works:)"
   ]
  }
 ],
 "metadata": {
  "kernelspec": {
   "display_name": "Python 3 (ipykernel)",
   "language": "python",
   "name": "python3"
  },
  "language_info": {
   "codemirror_mode": {
    "name": "ipython",
    "version": 3
   },
   "file_extension": ".py",
   "mimetype": "text/x-python",
   "name": "python",
   "nbconvert_exporter": "python",
   "pygments_lexer": "ipython3",
   "version": "3.10.15"
  }
 },
 "nbformat": 4,
 "nbformat_minor": 5
}
