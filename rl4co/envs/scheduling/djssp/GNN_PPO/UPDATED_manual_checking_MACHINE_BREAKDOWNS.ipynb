{
 "cells": [
  {
   "cell_type": "markdown",
   "id": "3e8ae1241d1fed00",
   "metadata": {},
   "source": [
    "# Integrating machine breakdowns in the environment"
   ]
  },
  {
   "cell_type": "markdown",
   "id": "ea82bcc54f6382e0",
   "metadata": {},
   "source": [
    "- To manage the machine breakdowns within the environmnet, i have implemented the`` _check_machine_breakdowns(td)`` method in the environment."
   ]
  },
  {
   "cell_type": "markdown",
   "id": "6bd1a1411ac3fbf",
   "metadata": {},
   "source": [
    "- The new td[\"machine_breakdowns\"] is a tensor with the shape [batch_size, number of machines, number of maximum breakdowns].\n",
    "- The number of maximum breakdowns is currently set to 33 in the generator/environment.\n",
    "- Here, the times at which breakdowns occur correspond to entries where the number of maximum breakdowns is an even number, and the duration of that breakdown is given by the subsequent entry.\n",
    "- Occurence time of the first breakdown in batch x , machine y -> td[\"machine_breakdowns\"][ x , y , 0 ]\n",
    "- The duration of the  first breakdown in batch x , machine y -> td[\"machine_breakdowns\"][ x , y , 1 ]\n",
    "- Meaning\n",
    "    - Breakdown occurence times td[\"machine_breakdowns\"][batch_idx , machine_idx , x ] , where x= 0,2,4,6,8,....32\n",
    "    - Breakdown duration times td[\"machine_breakdowns\"][batch_idx , machine_idx , y ] , where x= 1,3,5,7,9,.....33\n",
    "\n",
    "\n"
   ]
  },
  {
   "cell_type": "markdown",
   "id": "1473f2f18d50651c",
   "metadata": {},
   "source": [
    "### Documentation of the ``_check_machine_breakdowns(td)`` method"
   ]
  },
  {
   "cell_type": "markdown",
   "id": "e77b1bf63f551c59",
   "metadata": {},
   "source": [
    "- INPUT: td\n",
    "    - this method takes a tensordict representing the state of the environment as an input and follows following process"
   ]
  },
  {
   "cell_type": "markdown",
   "id": "a5219ad27cecbfd3",
   "metadata": {},
   "source": [
    "- Our main logic in here is that, we iterate over each machine in each batch\n",
    "    - 1. we firstly get the breakdowns of the machine\n",
    "      2. then we check all the machine breakdowns if this machine has a breakdown at the current time\n",
    "      3. If machine has a breakdown\n",
    "            - Then we mark machine busy_until the from this time till machine is repaired, therefore machine can not process any operation\n",
    "            - Then we give the tensordict with the updated busy_until enties back"
   ]
  },
  {
   "cell_type": "markdown",
   "id": "aa3500f08f3813c1",
   "metadata": {},
   "source": [
    "- Since, according to our assomptions a job cannot be preempted or interrupted,\n",
    "- we need to check at each decision step whether a job has a machine breakdown or not"
   ]
  },
  {
   "cell_type": "markdown",
   "id": "d34c43c3b9819819",
   "metadata": {},
   "source": [
    "- In case a machine has a breakdown right at the beginning, we check machine breakdowns in _reset()"
   ]
  },
  {
   "cell_type": "markdown",
   "id": "72b2bcde0af5d682",
   "metadata": {},
   "source": [
    "# Manually chekcing if the ``_check_machine_breakdowns()`` method correct functions"
   ]
  },
  {
   "cell_type": "markdown",
   "id": "748e9779cd1cda85",
   "metadata": {},
   "source": [
    "## 1. Implementing the environment"
   ]
  },
  {
   "cell_type": "code",
   "execution_count": 1,
   "id": "ba74f85b72454976",
   "metadata": {},
   "outputs": [
    {
     "name": "stderr",
     "output_type": "stream",
     "text": [
      "C:\\Users\\soner\\anaconda3\\envs\\reinforce\\Lib\\site-packages\\tqdm\\auto.py:21: TqdmWarning: IProgress not found. Please update jupyter and ipywidgets. See https://ipywidgets.readthedocs.io/en/stable/user_install.html\n",
      "  from .autonotebook import tqdm as notebook_tqdm\n"
     ]
    }
   ],
   "source": [
    "from rl4co.envs.scheduling.djssp.env import DJSSPEnv\n",
    "from rl4co.models import L2DPolicy, L2DModel\n",
    "from rl4co.utils import RL4COTrainer\n",
    "import gc\n",
    "from rl4co.envs import JSSPEnv\n",
    "from rl4co.models.zoo.l2d.model import L2DPPOModel\n",
    "from rl4co.models.zoo.l2d.policy import L2DPolicy4PPO\n",
    "from torch.utils.data import DataLoader\n",
    "import json\n",
    "import os\n",
    "import torch\n",
    "import numpy as np\n",
    "import matplotlib.pyplot as plt\n",
    "import numpy as np\n",
    "from IPython.display import display, clear_output\n",
    "import time\n",
    "import networkx as nx\n",
    "import matplotlib.pyplot as plt\n",
    "from rl4co.envs import FJSPEnv\n",
    "from rl4co.models.zoo.l2d import L2DModel\n",
    "from rl4co.models.zoo.l2d.policy import L2DPolicy\n",
    "from rl4co.models.zoo.l2d.decoder import L2DDecoder\n",
    "from rl4co.models.nn.graph.hgnn import HetGNNEncoder\n",
    "from rl4co.utils.trainer import RL4COTrainer\n",
    "generator_params = {\n",
    "\"num_jobs\" : 6 ,\n",
    "\"num_machines\": 6 ,\n",
    "\"min_processing_time\": 1 ,\n",
    "\"max_processing_time\": 99 ,\n",
    "\"mtbf\" : 17 ,\n",
    "\"mttr\" : 4\n",
    "}\n",
    "env = DJSSPEnv(generator_params=generator_params,\n",
    "_torchrl_mode=True,\n",
    "stepwise_reward=True)"
   ]
  },
  {
   "cell_type": "markdown",
   "id": "9c5ee48403841123",
   "metadata": {},
   "source": [
    "# 2. Reset the environment and get the generated machine_breakdowns"
   ]
  },
  {
   "cell_type": "code",
   "execution_count": 2,
   "id": "e89b6a81bf2bc191",
   "metadata": {},
   "outputs": [
    {
     "data": {
      "text/plain": [
       "tensor([[4.6538e+01, 5.0296e+00, 6.3100e+01, 1.0097e+01, 1.3300e+02, 6.9801e+00,\n",
       "         2.7412e+02, 1.0043e+00, 5.5139e+02, 9.9975e+00, 1.1137e+03, 7.5229e-02,\n",
       "         2.2202e+03, 8.8703e-01, 4.4504e+03, 3.7722e+00, 0.0000e+00, 0.0000e+00,\n",
       "         0.0000e+00, 0.0000e+00, 0.0000e+00, 0.0000e+00, 0.0000e+00, 0.0000e+00,\n",
       "         0.0000e+00, 0.0000e+00, 0.0000e+00, 0.0000e+00, 0.0000e+00, 0.0000e+00,\n",
       "         0.0000e+00, 0.0000e+00, 0.0000e+00],\n",
       "        [8.9034e+00, 3.2588e+00, 1.3309e+01, 3.5548e+00, 3.1885e+01, 3.2662e+00,\n",
       "         7.1873e+01, 2.8204e+00, 1.4057e+02, 3.5399e-01, 2.8055e+02, 9.2605e+00,\n",
       "         5.7872e+02, 3.7138e-01, 1.1748e+03, 2.7541e+00, 2.3613e+03, 7.6855e+00,\n",
       "         4.7021e+03, 1.2679e+00, 0.0000e+00, 0.0000e+00, 0.0000e+00, 0.0000e+00,\n",
       "         0.0000e+00, 0.0000e+00, 0.0000e+00, 0.0000e+00, 0.0000e+00, 0.0000e+00,\n",
       "         0.0000e+00, 0.0000e+00, 0.0000e+00],\n",
       "        [1.8262e+01, 4.8151e-01, 6.3443e+01, 6.5475e+00, 1.5014e+02, 2.4163e+00,\n",
       "         2.5974e+02, 3.7382e+00, 5.0585e+02, 6.1469e+00, 1.0227e+03, 2.8787e-02,\n",
       "         2.0575e+03, 4.6114e-01, 4.0982e+03, 1.3811e+00, 0.0000e+00, 0.0000e+00,\n",
       "         0.0000e+00, 0.0000e+00, 0.0000e+00, 0.0000e+00, 0.0000e+00, 0.0000e+00,\n",
       "         0.0000e+00, 0.0000e+00, 0.0000e+00, 0.0000e+00, 0.0000e+00, 0.0000e+00,\n",
       "         0.0000e+00, 0.0000e+00, 0.0000e+00],\n",
       "        [4.0178e+00, 1.6121e+00, 1.1853e+01, 2.5850e+00, 2.8223e+01, 6.4411e+00,\n",
       "         5.7850e+01, 6.7679e-01, 1.1544e+02, 1.4593e+00, 2.9070e+02, 5.5912e-01,\n",
       "         5.2451e+02, 3.1139e+00, 1.0564e+03, 2.6969e+00, 2.1229e+03, 2.1493e+00,\n",
       "         4.2977e+03, 5.2449e+00, 0.0000e+00, 0.0000e+00, 0.0000e+00, 0.0000e+00,\n",
       "         0.0000e+00, 0.0000e+00, 0.0000e+00, 0.0000e+00, 0.0000e+00, 0.0000e+00,\n",
       "         0.0000e+00, 0.0000e+00, 0.0000e+00],\n",
       "        [1.9439e-01, 1.6998e+00, 2.2960e+01, 3.2594e+00, 3.5535e+01, 1.3425e+00,\n",
       "         8.1988e+01, 1.5442e+01, 1.8186e+02, 1.7920e+00, 3.4773e+02, 1.0751e+01,\n",
       "         7.0584e+02, 5.1343e+00, 1.4225e+03, 3.4162e+00, 2.8416e+03, 5.9729e+00,\n",
       "         0.0000e+00, 0.0000e+00, 0.0000e+00, 0.0000e+00, 0.0000e+00, 0.0000e+00,\n",
       "         0.0000e+00, 0.0000e+00, 0.0000e+00, 0.0000e+00, 0.0000e+00, 0.0000e+00,\n",
       "         0.0000e+00, 0.0000e+00, 0.0000e+00],\n",
       "        [2.4822e+01, 1.4033e+01, 8.9059e+01, 5.1630e-01, 1.4228e+02, 8.4861e-01,\n",
       "         2.7451e+02, 3.4987e+00, 5.5187e+02, 2.2279e+00, 1.1043e+03, 1.9767e+00,\n",
       "         2.2167e+03, 8.4997e+00, 4.4424e+03, 4.7630e+00, 0.0000e+00, 0.0000e+00,\n",
       "         0.0000e+00, 0.0000e+00, 0.0000e+00, 0.0000e+00, 0.0000e+00, 0.0000e+00,\n",
       "         0.0000e+00, 0.0000e+00, 0.0000e+00, 0.0000e+00, 0.0000e+00, 0.0000e+00,\n",
       "         0.0000e+00, 0.0000e+00, 0.0000e+00]])"
      ]
     },
     "execution_count": 2,
     "metadata": {},
     "output_type": "execute_result"
    }
   ],
   "source": [
    "td = env.reset(batch_size=[1])\n",
    "td[\"machine_breakdowns\"][0]"
   ]
  },
  {
   "cell_type": "code",
   "execution_count": 9,
   "id": "f7de3453-c9fa-4ac9-bf6f-842dcfd98889",
   "metadata": {},
   "outputs": [
    {
     "name": "stdout",
     "output_type": "stream",
     "text": [
      "tensor(46.5375)\n"
     ]
    }
   ],
   "source": [
    "print(td[\"machine_breakdowns\"][0,0,0])"
   ]
  },
  {
   "cell_type": "markdown",
   "id": "18523ec1-7f9b-4ea9-9b19-bc1819b05bd6",
   "metadata": {},
   "source": [
    "### Machine 0 has its first breakdown at time 46.5375. However since the we do not check the machine breakdowns yet, our tensordict entry which indicates if machines are busy (td[\"busy_until\"]) should be full with the 0's"
   ]
  },
  {
   "cell_type": "code",
   "execution_count": 10,
   "id": "74a2de2204887775",
   "metadata": {},
   "outputs": [
    {
     "data": {
      "text/plain": [
       "tensor([[0., 0., 0., 0., 0., 0.]])"
      ]
     },
     "execution_count": 10,
     "metadata": {},
     "output_type": "execute_result"
    }
   ],
   "source": [
    "td[\"busy_until\"]"
   ]
  },
  {
   "cell_type": "markdown",
   "id": "6e9c1d07-778b-4990-8ef9-dabb709102fd",
   "metadata": {},
   "source": [
    "## 3. After that to ensure our method works correctly\n",
    "    We manually advance the time to the first machine breakdown occurence time and overwrite the tensordict"
   ]
  },
  {
   "cell_type": "code",
   "execution_count": 11,
   "id": "9fd33eb45e0242bd",
   "metadata": {},
   "outputs": [],
   "source": [
    "# advance the time\n",
    "td[\"time\"] = torch.Tensor([46.53752517700195])\n",
    "\n",
    "# check the machine breakdowns and overwrite the tensordict\n",
    "td = env._check_machine_breakdowns(td)"
   ]
  },
  {
   "cell_type": "markdown",
   "id": "527e5202-f707-43e1-a40a-cc0011cb474e",
   "metadata": {},
   "source": [
    "### Now, in td[\"busy_until\"] entry -> machine 0 must be shown as busy until it is being repaired"
   ]
  },
  {
   "cell_type": "code",
   "execution_count": 12,
   "id": "9d6ba379ec5ecf1e",
   "metadata": {},
   "outputs": [
    {
     "name": "stdout",
     "output_type": "stream",
     "text": [
      "Machine 0 breakdown occurence time 46.53752517700195\n",
      "Machine 0 breakdown duration time 5.029618263244629\n"
     ]
    },
    {
     "data": {
      "text/plain": [
       "tensor([[51.5671,  0.0000,  0.0000,  0.0000,  0.0000,  0.0000]])"
      ]
     },
     "execution_count": 12,
     "metadata": {},
     "output_type": "execute_result"
    }
   ],
   "source": [
    "print(f\"Machine 0 breakdown occurence time { td[\"machine_breakdowns\"][0,0,0]}\")\n",
    "print(f\"Machine 0 breakdown duration time { td[\"machine_breakdowns\"][0,0,1]}\")\n",
    "td[\"busy_until\"]"
   ]
  }
 ],
 "metadata": {
  "kernelspec": {
   "display_name": "Python 3 (ipykernel)",
   "language": "python",
   "name": "python3"
  },
  "language_info": {
   "codemirror_mode": {
    "name": "ipython",
    "version": 3
   },
   "file_extension": ".py",
   "mimetype": "text/x-python",
   "name": "python",
   "nbconvert_exporter": "python",
   "pygments_lexer": "ipython3",
   "version": "3.12.8"
  }
 },
 "nbformat": 4,
 "nbformat_minor": 5
}
