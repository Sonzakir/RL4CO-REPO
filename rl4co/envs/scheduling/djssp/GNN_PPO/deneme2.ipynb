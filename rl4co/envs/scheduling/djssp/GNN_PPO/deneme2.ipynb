{
 "cells": [
  {
   "metadata": {
    "ExecuteTime": {
     "end_time": "2024-12-29T07:36:26.022212Z",
     "start_time": "2024-12-29T07:36:21.017615Z"
    }
   },
   "cell_type": "code",
   "source": [
    "import torch\n",
    "from torch.utils.data import DataLoader\n",
    "\n",
    "from rl4co.envs.scheduling.djssp.env import DJSSPEnv\n",
    "from rl4co.envs.scheduling.djssp.render import render\n",
    "\n",
    "if torch.cuda.is_available():\n",
    "    accelerator = \"gpu\"\n",
    "    batch_size = 256\n",
    "    train_data_size = 2_000\n",
    "    embed_dim = 128\n",
    "    num_encoder_layers = 4\n",
    "else:\n",
    "    accelerator = \"cpu\"\n",
    "    batch_size = 32\n",
    "    train_data_size = 1_000\n",
    "    embed_dim = 64\n",
    "    num_encoder_layers = 2"
   ],
   "id": "3caa44a5dbd72318",
   "outputs": [
    {
     "name": "stderr",
     "output_type": "stream",
     "text": [
      "C:\\Users\\soner\\anaconda3\\envs\\reinforce\\Lib\\site-packages\\tqdm\\auto.py:21: TqdmWarning: IProgress not found. Please update jupyter and ipywidgets. See https://ipywidgets.readthedocs.io/en/stable/user_install.html\n",
      "  from .autonotebook import tqdm as notebook_tqdm\n"
     ]
    }
   ],
   "execution_count": 2
  },
  {
   "metadata": {
    "ExecuteTime": {
     "end_time": "2024-12-29T07:36:26.117324Z",
     "start_time": "2024-12-29T07:36:26.091835Z"
    }
   },
   "cell_type": "code",
   "source": [
    "generator_params = {\n",
    "    \"num_jobs\":6 ,\n",
    "    \"num_machines\": 6 ,\n",
    "    \"min_processing_time\":1 ,\n",
    "    \"max_processing_time\": 99 ,\n",
    "    \"mtbf\" : 40 ,\n",
    "    \"mttr\" : 5\n",
    "  }\n",
    "\n",
    "\n",
    "from rl4co.envs import JSSPEnv\n",
    "\n",
    "\n",
    "\n",
    "env = DJSSPEnv(generator_params=generator_params,stepwise_reward=True)"
   ],
   "id": "c7c8b2bf37f9f8bb",
   "outputs": [],
   "execution_count": 3
  },
  {
   "metadata": {
    "ExecuteTime": {
     "end_time": "2024-12-29T07:36:26.207433Z",
     "start_time": "2024-12-29T07:36:26.139076Z"
    }
   },
   "cell_type": "code",
   "source": "td = env.reset(batch_size=[2])",
   "id": "391cd074d92b4a78",
   "outputs": [],
   "execution_count": 4
  },
  {
   "metadata": {
    "ExecuteTime": {
     "end_time": "2024-12-29T07:36:58.906270Z",
     "start_time": "2024-12-29T07:36:58.481850Z"
    }
   },
   "cell_type": "code",
   "source": "td[\"machine_breakdowns\"][2]",
   "id": "6a049d5d95790147",
   "outputs": [
    {
     "name": "stderr",
     "output_type": "stream",
     "text": [
      "C:\\Users\\soner\\anaconda3\\envs\\reinforce\\Lib\\site-packages\\executing\\executing.py:713: DeprecationWarning: ast.Str is deprecated and will be removed in Python 3.14; use ast.Constant instead\n",
      "  right=ast.Str(s=sentinel),\n",
      "C:\\Users\\soner\\anaconda3\\envs\\reinforce\\Lib\\ast.py:587: DeprecationWarning: Attribute s is deprecated and will be removed in Python 3.14; use value instead\n",
      "  return Constant(*args, **kwargs)\n"
     ]
    },
    {
     "ename": "IndexError",
     "evalue": "index 2 is out of bounds for axis 0 with size 2",
     "output_type": "error",
     "traceback": [
      "\u001B[1;31m---------------------------------------------------------------------------\u001B[0m",
      "\u001B[1;31mIndexError\u001B[0m                                Traceback (most recent call last)",
      "Cell \u001B[1;32mIn[8], line 1\u001B[0m\n\u001B[1;32m----> 1\u001B[0m td[\u001B[38;5;124m\"\u001B[39m\u001B[38;5;124mmachine_breakdowns\u001B[39m\u001B[38;5;124m\"\u001B[39m][\u001B[38;5;241m2\u001B[39m]\n",
      "\u001B[1;31mIndexError\u001B[0m: index 2 is out of bounds for axis 0 with size 2"
     ]
    }
   ],
   "execution_count": 8
  },
  {
   "metadata": {
    "ExecuteTime": {
     "end_time": "2024-12-29T07:37:07.437817Z",
     "start_time": "2024-12-29T07:37:07.419373Z"
    }
   },
   "cell_type": "code",
   "source": "td.size(0)",
   "id": "8409b64e18aaafe9",
   "outputs": [
    {
     "data": {
      "text/plain": [
       "2"
      ]
     },
     "execution_count": 9,
     "metadata": {},
     "output_type": "execute_result"
    }
   ],
   "execution_count": 9
  },
  {
   "metadata": {
    "ExecuteTime": {
     "end_time": "2024-12-29T07:38:47.909259Z",
     "start_time": "2024-12-29T07:38:47.889017Z"
    }
   },
   "cell_type": "code",
   "source": "len(td[\"machine_breakdowns\"])",
   "id": "df4327d3e7cb4ca1",
   "outputs": [
    {
     "data": {
      "text/plain": [
       "2"
      ]
     },
     "execution_count": 10,
     "metadata": {},
     "output_type": "execute_result"
    }
   ],
   "execution_count": 10
  }
 ],
 "metadata": {
  "kernelspec": {
   "display_name": "Python 3",
   "language": "python",
   "name": "python3"
  },
  "language_info": {
   "codemirror_mode": {
    "name": "ipython",
    "version": 2
   },
   "file_extension": ".py",
   "mimetype": "text/x-python",
   "name": "python",
   "nbconvert_exporter": "python",
   "pygments_lexer": "ipython2",
   "version": "2.7.6"
  }
 },
 "nbformat": 4,
 "nbformat_minor": 5
}
