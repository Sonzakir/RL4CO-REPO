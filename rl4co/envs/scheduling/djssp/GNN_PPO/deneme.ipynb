{
 "cells": [
  {
   "cell_type": "code",
   "id": "initial_id",
   "metadata": {
    "ExecuteTime": {
     "end_time": "2024-12-29T22:08:59.104408Z",
     "start_time": "2024-12-29T22:08:49.902215Z"
    }
   },
   "source": [
    "import torch\n",
    "from torch.utils.data import DataLoader\n",
    "\n",
    "from rl4co.envs.scheduling.djssp.env import DJSSPEnv\n",
    "from rl4co.envs.scheduling.djssp.render import render\n",
    "\n",
    "if torch.cuda.is_available():\n",
    "    accelerator = \"gpu\"\n",
    "    batch_size = 256\n",
    "    train_data_size = 2_000\n",
    "    embed_dim = 128\n",
    "    num_encoder_layers = 4\n",
    "else:\n",
    "    accelerator = \"cpu\"\n",
    "    batch_size = 32\n",
    "    train_data_size = 1_000\n",
    "    embed_dim = 64\n",
    "    num_encoder_layers = 2"
   ],
   "outputs": [
    {
     "name": "stderr",
     "output_type": "stream",
     "text": [
      "C:\\Users\\soner\\anaconda3\\envs\\reinforce\\Lib\\site-packages\\tqdm\\auto.py:21: TqdmWarning: IProgress not found. Please update jupyter and ipywidgets. See https://ipywidgets.readthedocs.io/en/stable/user_install.html\n",
      "  from .autonotebook import tqdm as notebook_tqdm\n"
     ]
    }
   ],
   "execution_count": 1
  },
  {
   "cell_type": "code",
   "id": "fd4415c1ff184ec6",
   "metadata": {
    "ExecuteTime": {
     "end_time": "2024-12-29T22:08:59.125353Z",
     "start_time": "2024-12-29T22:08:59.104408Z"
    }
   },
   "source": [
    "generator_params = {\n",
    "    \"num_jobs\":6 ,\n",
    "    \"num_machines\": 6 ,\n",
    "    \"min_processing_time\":1 ,\n",
    "    \"max_processing_time\": 99 ,\n",
    "    \"mtbf\" : 40 ,\n",
    "    \"mttr\" : 5\n",
    "  }\n",
    "\n",
    "\n",
    "from rl4co.envs import JSSPEnv\n",
    "\n",
    "\n",
    "\n",
    "env = DJSSPEnv(generator_params=generator_params,stepwise_reward=True)"
   ],
   "outputs": [],
   "execution_count": 2
  },
  {
   "cell_type": "code",
   "id": "9952722e82b266d4",
   "metadata": {
    "ExecuteTime": {
     "end_time": "2024-12-29T22:09:00.049903Z",
     "start_time": "2024-12-29T22:08:59.246479Z"
    }
   },
   "source": [
    "import gc\n",
    "from rl4co.models.zoo.l2d.model import L2DPPOModel\n",
    "from rl4co.models.zoo.l2d.policy import L2DPolicy4PPO\n",
    "from torch.utils.data import DataLoader\n",
    "import json\n",
    "import os\n",
    "from rl4co.utils.trainer import RL4COTrainer\n",
    "import torch\n",
    "\n",
    "# Policy: neural network, in this case with encoder-decoder architecture\n",
    "policy = L2DPolicy4PPO(\n",
    "    embed_dim=embed_dim,\n",
    "    num_encoder_layers=num_encoder_layers,\n",
    "    env_name=\"djsp\",\n",
    "    het_emb=False\n",
    ")\n",
    "\n",
    "model = L2DPPOModel(\n",
    "    env=env,\n",
    "    policy=policy,\n",
    "    batch_size=batch_size,\n",
    "    train_data_size=train_data_size,\n",
    "    val_data_size=1_000,\n",
    "    optimizer_kwargs={\"lr\": 1e-4}\n",
    ")"
   ],
   "outputs": [
    {
     "name": "stderr",
     "output_type": "stream",
     "text": [
      "C:\\Users\\soner\\anaconda3\\envs\\reinforce\\Lib\\site-packages\\lightning\\pytorch\\utilities\\parsing.py:209: Attribute 'env' is an instance of `nn.Module` and is already saved during checkpointing. It is recommended to ignore them using `self.save_hyperparameters(ignore=['env'])`.\n",
      "C:\\Users\\soner\\anaconda3\\envs\\reinforce\\Lib\\site-packages\\lightning\\pytorch\\utilities\\parsing.py:209: Attribute 'policy' is an instance of `nn.Module` and is already saved during checkpointing. It is recommended to ignore them using `self.save_hyperparameters(ignore=['policy'])`.\n"
     ]
    }
   ],
   "execution_count": 3
  },
  {
   "cell_type": "code",
   "id": "457387ded54b32c6",
   "metadata": {
    "ExecuteTime": {
     "end_time": "2024-12-29T22:09:00.137355Z",
     "start_time": "2024-12-29T22:09:00.062896Z"
    }
   },
   "source": "td = env.reset(batch_size=[1])\n",
   "outputs": [],
   "execution_count": 4
  },
  {
   "metadata": {
    "ExecuteTime": {
     "end_time": "2024-12-29T22:09:00.158368Z",
     "start_time": "2024-12-29T22:09:00.152347Z"
    }
   },
   "cell_type": "code",
   "source": "print(type(td[\"machine_breakdowns\"]))",
   "id": "e0c7f47d6e5988cd",
   "outputs": [
    {
     "name": "stdout",
     "output_type": "stream",
     "text": [
      "<class 'numpy.ndarray'>\n"
     ]
    }
   ],
   "execution_count": 5
  },
  {
   "metadata": {
    "ExecuteTime": {
     "end_time": "2024-12-29T22:09:00.188905Z",
     "start_time": "2024-12-29T22:09:00.172083Z"
    }
   },
   "cell_type": "code",
   "source": "td[\"proc_times\"][0]",
   "id": "92cfcc653afaaa11",
   "outputs": [
    {
     "data": {
      "text/plain": [
       "tensor([[  4.6339,   0.0000,   0.0000,   0.0000,   0.0000,   0.0000,   0.0000,\n",
       "          46.8547,   0.0000,   0.0000,   0.0000,   0.0000,   0.0000,   0.0000,\n",
       "          31.2250,   0.0000,   0.0000,   0.0000,   0.0000,   0.0000,   0.0000,\n",
       "          68.5653,   0.0000,   0.0000,   0.0000,   0.0000,   0.0000,   0.0000,\n",
       "           0.0000,  40.8541,   0.0000,  58.5555,   0.0000,   0.0000,   0.0000,\n",
       "           0.0000],\n",
       "        [  0.0000,   0.0000,   0.0000,  93.0789,   0.0000,   0.0000,   0.0000,\n",
       "           0.0000,  19.9172,   0.0000,   0.0000,   0.0000,   0.0000,   0.0000,\n",
       "           0.0000,   0.0000,  69.0006,   0.0000,   0.0000,   0.0000,   0.0000,\n",
       "           0.0000,   4.8663,   0.0000,   0.0000,   0.0000,   0.0000,  76.3113,\n",
       "           0.0000,   0.0000,   0.0000,   0.0000,   0.0000,   0.0000,  70.6087,\n",
       "           0.0000],\n",
       "        [  0.0000,   0.0000,   0.0000,   0.0000,   0.0000,  12.8533,   0.0000,\n",
       "           0.0000,   0.0000,   0.0000,   0.0000,  78.8986,   0.0000,   0.0000,\n",
       "           0.0000,   0.0000,   0.0000,  48.1615,   5.2648,   0.0000,   0.0000,\n",
       "           0.0000,   0.0000,   0.0000,  56.5013,   0.0000,   0.0000,   0.0000,\n",
       "           0.0000,   0.0000,  72.9201,   0.0000,   0.0000,   0.0000,   0.0000,\n",
       "           0.0000],\n",
       "        [  0.0000,   0.0000,  46.6820,   0.0000,   0.0000,   0.0000,   0.0000,\n",
       "           0.0000,   0.0000,   0.0000,   7.7686,   0.0000,   0.0000,   0.0000,\n",
       "           0.0000,  56.9557,   0.0000,   0.0000,   0.0000,   0.0000,  44.5855,\n",
       "           0.0000,   0.0000,   0.0000,   0.0000,  31.0801,   0.0000,   0.0000,\n",
       "           0.0000,   0.0000,   0.0000,   0.0000,  33.8385,   0.0000,   0.0000,\n",
       "           0.0000],\n",
       "        [  0.0000,  73.2959,   0.0000,   0.0000,   0.0000,   0.0000,  88.8332,\n",
       "           0.0000,   0.0000,   0.0000,   0.0000,   0.0000,   5.4283,   0.0000,\n",
       "           0.0000,   0.0000,   0.0000,   0.0000,   0.0000, 107.1100,   0.0000,\n",
       "           0.0000,   0.0000,   0.0000,   0.0000,   0.0000,  10.9007,   0.0000,\n",
       "           0.0000,   0.0000,   0.0000,   0.0000,   0.0000, 102.5491,   0.0000,\n",
       "           0.0000],\n",
       "        [  0.0000,   0.0000,   0.0000,   0.0000,  61.0700,   0.0000,   0.0000,\n",
       "           0.0000,   0.0000,  31.4144,   0.0000,   0.0000,   0.0000,  85.0747,\n",
       "           0.0000,   0.0000,   0.0000,   0.0000,   0.0000,   0.0000,   0.0000,\n",
       "           0.0000,   0.0000,  60.7642,   0.0000,   0.0000,   0.0000,   0.0000,\n",
       "          78.1391,   0.0000,   0.0000,   0.0000,   0.0000,   0.0000,   0.0000,\n",
       "          93.0384]])"
      ]
     },
     "execution_count": 6,
     "metadata": {},
     "output_type": "execute_result"
    }
   ],
   "execution_count": 6
  },
  {
   "metadata": {
    "ExecuteTime": {
     "end_time": "2024-12-29T22:09:00.276561Z",
     "start_time": "2024-12-29T22:09:00.264829Z"
    }
   },
   "cell_type": "code",
   "source": "td[\"machine_breakdowns\"][0]",
   "id": "e7b8208e4adb94da",
   "outputs": [
    {
     "data": {
      "text/plain": [
       "{0: [{'TIME': 54.75002670288086, 'DURATION': 3.7722136974334717},\n",
       "  {'TIME': 72.0903890132904, 'DURATION': 7.5723772048950195},\n",
       "  {'TIME': 147.87190294265747, 'DURATION': 5.235101222991943},\n",
       "  {'TIME': 302.3248209953308, 'DURATION': 0.75322425365448},\n",
       "  {'TIME': 607.9281233549118, 'DURATION': 7.498149394989014},\n",
       "  {'TIME': 1224.4561235904694, 'DURATION': 0.056421998888254166},\n",
       "  {'TIME': 2440.335784200579, 'DURATION': 0.6652746200561523},\n",
       "  {'TIME': 4892.171494014561, 'DURATION': 2.8291196823120117}],\n",
       " 1: [{'TIME': 10.474533081054688, 'DURATION': 2.44407320022583},\n",
       "  {'TIME': 14.267833352088928, 'DURATION': 2.6660666465759277},\n",
       "  {'TIME': 33.21631586551666, 'DURATION': 2.4496192932128906},\n",
       "  {'TIME': 74.57199501991272, 'DURATION': 2.1153275966644287},\n",
       "  {'TIME': 144.2104377746582, 'DURATION': 0.26548948884010315},\n",
       "  {'TIME': 287.56660041213036, 'DURATION': 6.945370674133301},\n",
       "  {'TIME': 591.9182164669037, 'DURATION': 0.2785354256629944},\n",
       "  {'TIME': 1204.1383238434792, 'DURATION': 2.0655956268310547},\n",
       "  {'TIME': 2420.7803612947464, 'DURATION': 5.764115810394287},\n",
       "  {'TIME': 4814.103858709335, 'DURATION': 0.9509421586990356}],\n",
       " 2: [{'TIME': 21.484827041625977, 'DURATION': 0.3611312806606293},\n",
       "  {'TIME': 74.43370398879051, 'DURATION': 4.910599708557129},\n",
       "  {'TIME': 173.4379045367241, 'DURATION': 1.8121942281723022},\n",
       "  {'TIME': 298.1362988948822, 'DURATION': 2.803629159927368},\n",
       "  {'TIME': 578.6511590480804, 'DURATION': 4.61020565032959},\n",
       "  {'TIME': 1167.590572834015, 'DURATION': 0.021589890122413635},\n",
       "  {'TIME': 2349.414884224534, 'DURATION': 0.3458562195301056},\n",
       "  {'TIME': 4678.954181075096, 'DURATION': 1.035829782485962}],\n",
       " 3: [{'TIME': 4.726842403411865, 'DURATION': 1.2091064453125},\n",
       "  {'TIME': 13.257711410522461, 'DURATION': 1.9387866258621216},\n",
       "  {'TIME': 30.72653353214264, 'DURATION': 4.830790042877197},\n",
       "  {'TIME': 60.357163190841675, 'DURATION': 0.5075904726982117},\n",
       "  {'TIME': 120.12187498807907, 'DURATION': 1.0944734811782837},\n",
       "  {'TIME': 309.9965500831604, 'DURATION': 0.4193386435508728},\n",
       "  {'TIME': 552.8127130866051, 'DURATION': 2.3354310989379883},\n",
       "  {'TIME': 1112.9565209150314, 'DURATION': 2.0227057933807373},\n",
       "  {'TIME': 2236.6923937797546, 'DURATION': 1.6120015382766724},\n",
       "  {'TIME': 4533.608471989632, 'DURATION': 3.9336957931518555}],\n",
       " 4: [{'TIME': 0.22868946194648743, 'DURATION': 1.274873971939087},\n",
       "  {'TIME': 26.286659747362137, 'DURATION': 2.4445250034332275},\n",
       "  {'TIME': 38.96588450670242, 'DURATION': 1.006872296333313},\n",
       "  {'TIME': 90.20380282402039, 'DURATION': 11.581567764282227},\n",
       "  {'TIME': 194.85811758041382, 'DURATION': 1.3439688682556152},\n",
       "  {'TIME': 370.15126597881317, 'DURATION': 8.063223838806152},\n",
       "  {'TIME': 747.9315919876099, 'DURATION': 3.8507330417633057},\n",
       "  {'TIME': 1506.387727379799, 'DURATION': 2.5621862411499023},\n",
       "  {'TIME': 3007.3731848299503, 'DURATION': 4.479666709899902}],\n",
       " 5: [{'TIME': 29.20258331298828, 'DURATION': 10.524824142456055},\n",
       "  {'TIME': 98.79023551940918, 'DURATION': 0.38722774386405945},\n",
       "  {'TIME': 155.19994327425957, 'DURATION': 0.636457622051239},\n",
       "  {'TIME': 298.2080169916153, 'DURATION': 2.6240057945251465},\n",
       "  {'TIME': 598.2855899333954, 'DURATION': 1.670910358428955},\n",
       "  {'TIME': 1196.2818837165833, 'DURATION': 1.4825226068496704},\n",
       "  {'TIME': 2401.2377244234085, 'DURATION': 6.374784469604492},\n",
       "  {'TIME': 4809.478246927261, 'DURATION': 3.5722575187683105}]}"
      ]
     },
     "execution_count": 7,
     "metadata": {},
     "output_type": "execute_result"
    }
   ],
   "execution_count": 7
  },
  {
   "cell_type": "code",
   "id": "1c03d4505158876e",
   "metadata": {
    "ExecuteTime": {
     "end_time": "2024-12-29T22:09:24.450729Z",
     "start_time": "2024-12-29T22:09:00.402044Z"
    }
   },
   "source": "out = model.policy.generate(td.clone(), env=env, phase=\"test\", decode_type=\"multistart_sampling\", num_starts=100,  select_best=True)\n",
   "outputs": [],
   "execution_count": 8
  },
  {
   "metadata": {
    "ExecuteTime": {
     "end_time": "2024-12-29T22:09:24.484476Z",
     "start_time": "2024-12-29T22:09:24.456634Z"
    }
   },
   "cell_type": "code",
   "source": "out",
   "id": "cf1ef05118185621",
   "outputs": [
    {
     "data": {
      "text/plain": [
       "{'reward': tensor([-652.6301]),\n",
       " 'log_likelihood': tensor([-8.3934]),\n",
       " 'actions': tensor([[1, 2, 4, 5, 4, 2, 5, 6, 2, 2, 6, 2, 3, 2, 4, 5, 3, 5, 1, 6, 4, 1, 6, 5,\n",
       "          3, 4, 1, 3, 4, 5, 6, 1, 1, 3, 6, 3]]),\n",
       " 'td': TensorDict(\n",
       "     fields={\n",
       "         action: Tensor(shape=torch.Size([1]), device=cpu, dtype=torch.int64, is_shared=False),\n",
       "         action_mask: Tensor(shape=torch.Size([1, 7]), device=cpu, dtype=torch.bool, is_shared=False),\n",
       "         actual_proc_times: Tensor(shape=torch.Size([1, 6, 36]), device=cpu, dtype=torch.float32, is_shared=False),\n",
       "         adjacency: Tensor(shape=torch.Size([1, 36, 36]), device=cpu, dtype=torch.float32, is_shared=False),\n",
       "         busy_until: Tensor(shape=torch.Size([1, 6]), device=cpu, dtype=torch.float32, is_shared=False),\n",
       "         done: Tensor(shape=torch.Size([1, 1]), device=cpu, dtype=torch.bool, is_shared=False),\n",
       "         end_op_per_job: Tensor(shape=torch.Size([1, 6]), device=cpu, dtype=torch.int64, is_shared=False),\n",
       "         finish_times: Tensor(shape=torch.Size([1, 36]), device=cpu, dtype=torch.float32, is_shared=False),\n",
       "         is_ready: Tensor(shape=torch.Size([1, 36]), device=cpu, dtype=torch.bool, is_shared=False),\n",
       "         job_arrival_times: Tensor(shape=torch.Size([1, 6]), device=cpu, dtype=torch.float32, is_shared=False),\n",
       "         job_done: Tensor(shape=torch.Size([1, 6]), device=cpu, dtype=torch.bool, is_shared=False),\n",
       "         job_in_process: Tensor(shape=torch.Size([1, 6]), device=cpu, dtype=torch.bool, is_shared=False),\n",
       "         job_ops_adj: Tensor(shape=torch.Size([1, 6, 36]), device=cpu, dtype=torch.int64, is_shared=False),\n",
       "         lbs: Tensor(shape=torch.Size([1, 36]), device=cpu, dtype=torch.float32, is_shared=False),\n",
       "         ma_assignment: Tensor(shape=torch.Size([1, 6, 36]), device=cpu, dtype=torch.float32, is_shared=False),\n",
       "         machine_breakdowns: NonTensorData(data=[{0: [{'TIME': 54.75  ...  5722575187683105}]}], batch_size=torch.Size([1]), device=None),\n",
       "         next_ma: Tensor(shape=torch.Size([1, 6]), device=cpu, dtype=torch.int64, is_shared=False),\n",
       "         next_op: Tensor(shape=torch.Size([1, 6]), device=cpu, dtype=torch.int64, is_shared=False),\n",
       "         num_eligible: Tensor(shape=torch.Size([1, 36]), device=cpu, dtype=torch.float32, is_shared=False),\n",
       "         op_scheduled: Tensor(shape=torch.Size([1, 36]), device=cpu, dtype=torch.bool, is_shared=False),\n",
       "         ops_adj: Tensor(shape=torch.Size([1, 36, 36, 2]), device=cpu, dtype=torch.float32, is_shared=False),\n",
       "         ops_job_map: Tensor(shape=torch.Size([1, 36]), device=cpu, dtype=torch.int64, is_shared=False),\n",
       "         ops_ma_adj: Tensor(shape=torch.Size([1, 6, 36]), device=cpu, dtype=torch.float32, is_shared=False),\n",
       "         ops_sequence_order: Tensor(shape=torch.Size([1, 36]), device=cpu, dtype=torch.int64, is_shared=False),\n",
       "         pad_mask: Tensor(shape=torch.Size([1, 36]), device=cpu, dtype=torch.bool, is_shared=False),\n",
       "         proc_times: Tensor(shape=torch.Size([1, 6, 36]), device=cpu, dtype=torch.float32, is_shared=False),\n",
       "         reward: Tensor(shape=torch.Size([1]), device=cpu, dtype=torch.float32, is_shared=False),\n",
       "         start_op_per_job: Tensor(shape=torch.Size([1, 6]), device=cpu, dtype=torch.int64, is_shared=False),\n",
       "         start_times: Tensor(shape=torch.Size([1, 36]), device=cpu, dtype=torch.float32, is_shared=False),\n",
       "         terminated: Tensor(shape=torch.Size([1, 1]), device=cpu, dtype=torch.bool, is_shared=False),\n",
       "         time: Tensor(shape=torch.Size([1]), device=cpu, dtype=torch.float32, is_shared=False)},\n",
       "     batch_size=torch.Size([1]),\n",
       "     device=None,\n",
       "     is_shared=False)}"
      ]
     },
     "execution_count": 9,
     "metadata": {},
     "output_type": "execute_result"
    }
   ],
   "execution_count": 9
  },
  {
   "metadata": {
    "ExecuteTime": {
     "end_time": "2024-12-29T22:09:24.923560Z",
     "start_time": "2024-12-29T22:09:24.512526Z"
    }
   },
   "cell_type": "code",
   "source": "env.render(out[\"td\"],0)",
   "id": "2279abdf532c5f31",
   "outputs": [
    {
     "name": "stdout",
     "output_type": "stream",
     "text": [
      "TRII 0 22.362260818481445 0\n",
      "TRII 3 68.71914672851562 18\n",
      "TRII 4 82.44647979736328 24\n",
      "TRII 5 109.6968002319336 30\n",
      "TRII 1 22.87482452392578 6\n",
      "TRII 2 58.82538986206055 12\n"
     ]
    },
    {
     "data": {
      "text/plain": [
       "<Figure size 640x480 with 1 Axes>"
      ],
      "image/png": "[encoded data removed]"
     },
     "metadata": {},
     "output_type": "display_data"
    }
   ],
   "execution_count": 10
  },
  {
   "metadata": {
    "ExecuteTime": {
     "end_time": "2024-12-29T22:09:24.956785Z",
     "start_time": "2024-12-29T22:09:24.949429Z"
    }
   },
   "cell_type": "code",
   "source": "out[\"reward\"]",
   "id": "1a39595d730b855",
   "outputs": [
    {
     "data": {
      "text/plain": [
       "tensor([-652.6301])"
      ]
     },
     "execution_count": 11,
     "metadata": {},
     "output_type": "execute_result"
    }
   ],
   "execution_count": 11
  },
  {
   "metadata": {
    "ExecuteTime": {
     "end_time": "2024-12-29T22:09:24.990357Z",
     "start_time": "2024-12-29T22:09:24.983041Z"
    }
   },
   "cell_type": "code",
   "source": [
    "td = out[\"td\"]\n",
    "td[\"job_arrival_times\"]"
   ],
   "id": "6c33c3b568e1f282",
   "outputs": [
    {
     "data": {
      "text/plain": [
       "tensor([[ 22.3623,  22.8748,  58.8254,  68.7191,  82.4465, 109.6968]])"
      ]
     },
     "execution_count": 12,
     "metadata": {},
     "output_type": "execute_result"
    }
   ],
   "execution_count": 12
  },
  {
   "metadata": {
    "ExecuteTime": {
     "end_time": "2024-12-29T22:09:25.252888Z",
     "start_time": "2024-12-29T22:09:25.242668Z"
    }
   },
   "cell_type": "code",
   "source": "td[\"start_times\"]",
   "id": "72308b523882f32",
   "outputs": [
    {
     "data": {
      "text/plain": [
       "tensor([[ 22.3623, 251.5239, 324.8198, 371.5018, 473.6839, 534.7538,  22.8748,\n",
       "         126.7410, 178.8308, 198.7480, 230.1624, 237.9310, 235.1949, 240.6232,\n",
       "         351.8350, 383.0601, 535.1895, 604.4686,  68.7191, 126.7410, 237.9310,\n",
       "         282.5165, 351.8350, 412.9197,  82.4465, 138.9478, 240.6232, 251.5239,\n",
       "         334.7806, 412.9197, 138.9478, 213.6801, 282.5165, 324.8198, 464.5808,\n",
       "         535.1895]])"
      ]
     },
     "execution_count": 13,
     "metadata": {},
     "output_type": "execute_result"
    }
   ],
   "execution_count": 13
  },
  {
   "metadata": {
    "ExecuteTime": {
     "end_time": "2024-12-29T22:09:25.330479Z",
     "start_time": "2024-12-29T22:09:25.321568Z"
    }
   },
   "cell_type": "code",
   "source": "td[\"machine_breakdowns\"][0]",
   "id": "c11a0d583c117ee3",
   "outputs": [
    {
     "data": {
      "text/plain": [
       "{0: [{'TIME': 54.75002670288086, 'DURATION': 3.7722136974334717},\n",
       "  {'TIME': 72.0903890132904, 'DURATION': 7.5723772048950195},\n",
       "  {'TIME': 147.87190294265747, 'DURATION': 5.235101222991943},\n",
       "  {'TIME': 302.3248209953308, 'DURATION': 0.75322425365448},\n",
       "  {'TIME': 607.9281233549118, 'DURATION': 7.498149394989014},\n",
       "  {'TIME': 1224.4561235904694, 'DURATION': 0.056421998888254166},\n",
       "  {'TIME': 2440.335784200579, 'DURATION': 0.6652746200561523},\n",
       "  {'TIME': 4892.171494014561, 'DURATION': 2.8291196823120117}],\n",
       " 1: [{'TIME': 10.474533081054688, 'DURATION': 2.44407320022583},\n",
       "  {'TIME': 14.267833352088928, 'DURATION': 2.6660666465759277},\n",
       "  {'TIME': 33.21631586551666, 'DURATION': 2.4496192932128906},\n",
       "  {'TIME': 74.57199501991272, 'DURATION': 2.1153275966644287},\n",
       "  {'TIME': 144.2104377746582, 'DURATION': 0.26548948884010315},\n",
       "  {'TIME': 287.56660041213036, 'DURATION': 6.945370674133301},\n",
       "  {'TIME': 591.9182164669037, 'DURATION': 0.2785354256629944},\n",
       "  {'TIME': 1204.1383238434792, 'DURATION': 2.0655956268310547},\n",
       "  {'TIME': 2420.7803612947464, 'DURATION': 5.764115810394287},\n",
       "  {'TIME': 4814.103858709335, 'DURATION': 0.9509421586990356}],\n",
       " 2: [{'TIME': 21.484827041625977, 'DURATION': 0.3611312806606293},\n",
       "  {'TIME': 74.43370398879051, 'DURATION': 4.910599708557129},\n",
       "  {'TIME': 173.4379045367241, 'DURATION': 1.8121942281723022},\n",
       "  {'TIME': 298.1362988948822, 'DURATION': 2.803629159927368},\n",
       "  {'TIME': 578.6511590480804, 'DURATION': 4.61020565032959},\n",
       "  {'TIME': 1167.590572834015, 'DURATION': 0.021589890122413635},\n",
       "  {'TIME': 2349.414884224534, 'DURATION': 0.3458562195301056},\n",
       "  {'TIME': 4678.954181075096, 'DURATION': 1.035829782485962}],\n",
       " 3: [{'TIME': 4.726842403411865, 'DURATION': 1.2091064453125},\n",
       "  {'TIME': 13.257711410522461, 'DURATION': 1.9387866258621216},\n",
       "  {'TIME': 30.72653353214264, 'DURATION': 4.830790042877197},\n",
       "  {'TIME': 60.357163190841675, 'DURATION': 0.5075904726982117},\n",
       "  {'TIME': 120.12187498807907, 'DURATION': 1.0944734811782837},\n",
       "  {'TIME': 309.9965500831604, 'DURATION': 0.4193386435508728},\n",
       "  {'TIME': 552.8127130866051, 'DURATION': 2.3354310989379883},\n",
       "  {'TIME': 1112.9565209150314, 'DURATION': 2.0227057933807373},\n",
       "  {'TIME': 2236.6923937797546, 'DURATION': 1.6120015382766724},\n",
       "  {'TIME': 4533.608471989632, 'DURATION': 3.9336957931518555}],\n",
       " 4: [{'TIME': 0.22868946194648743, 'DURATION': 1.274873971939087},\n",
       "  {'TIME': 26.286659747362137, 'DURATION': 2.4445250034332275},\n",
       "  {'TIME': 38.96588450670242, 'DURATION': 1.006872296333313},\n",
       "  {'TIME': 90.20380282402039, 'DURATION': 11.581567764282227},\n",
       "  {'TIME': 194.85811758041382, 'DURATION': 1.3439688682556152},\n",
       "  {'TIME': 370.15126597881317, 'DURATION': 8.063223838806152},\n",
       "  {'TIME': 747.9315919876099, 'DURATION': 3.8507330417633057},\n",
       "  {'TIME': 1506.387727379799, 'DURATION': 2.5621862411499023},\n",
       "  {'TIME': 3007.3731848299503, 'DURATION': 4.479666709899902}],\n",
       " 5: [{'TIME': 29.20258331298828, 'DURATION': 10.524824142456055},\n",
       "  {'TIME': 98.79023551940918, 'DURATION': 0.38722774386405945},\n",
       "  {'TIME': 155.19994327425957, 'DURATION': 0.636457622051239},\n",
       "  {'TIME': 298.2080169916153, 'DURATION': 2.6240057945251465},\n",
       "  {'TIME': 598.2855899333954, 'DURATION': 1.670910358428955},\n",
       "  {'TIME': 1196.2818837165833, 'DURATION': 1.4825226068496704},\n",
       "  {'TIME': 2401.2377244234085, 'DURATION': 6.374784469604492},\n",
       "  {'TIME': 4809.478246927261, 'DURATION': 3.5722575187683105}]}"
      ]
     },
     "execution_count": 14,
     "metadata": {},
     "output_type": "execute_result"
    }
   ],
   "execution_count": 14
  },
  {
   "metadata": {
    "ExecuteTime": {
     "end_time": "2024-12-29T22:09:25.499339Z",
     "start_time": "2024-12-29T22:09:25.492239Z"
    }
   },
   "cell_type": "code",
   "source": "td[\"finish_times\"]",
   "id": "25023bfbdb79d21a",
   "outputs": [
    {
     "data": {
      "text/plain": [
       "tensor([[ 26.9962, 324.8198, 371.5018, 464.5808, 534.7538, 547.6072, 126.7410,\n",
       "         178.8308, 198.7480, 230.1624, 237.9310, 319.6332, 240.6232, 328.3220,\n",
       "         383.0601, 440.0158, 604.4686, 652.6301,  73.9839, 235.1949, 282.5165,\n",
       "         351.8350, 356.7013, 473.6839, 138.9478, 170.0279, 251.5239, 334.7806,\n",
       "         412.9197, 453.7739, 213.6801, 272.2356, 316.7744, 435.4322, 535.1895,\n",
       "         629.8988]])"
      ]
     },
     "execution_count": 15,
     "metadata": {},
     "output_type": "execute_result"
    }
   ],
   "execution_count": 15
  },
  {
   "metadata": {
    "ExecuteTime": {
     "end_time": "2024-12-29T22:09:25.583396Z",
     "start_time": "2024-12-29T22:09:25.574520Z"
    }
   },
   "cell_type": "code",
   "source": "td[\"job_arrival_times\"]",
   "id": "91875cd482168e9d",
   "outputs": [
    {
     "data": {
      "text/plain": [
       "tensor([[ 22.3623,  22.8748,  58.8254,  68.7191,  82.4465, 109.6968]])"
      ]
     },
     "execution_count": 16,
     "metadata": {},
     "output_type": "execute_result"
    }
   ],
   "execution_count": 16
  },
  {
   "metadata": {
    "ExecuteTime": {
     "end_time": "2024-12-29T22:09:25.812793Z",
     "start_time": "2024-12-29T22:09:25.803071Z"
    }
   },
   "cell_type": "code",
   "source": "out[\"td\"][\"finish_times\"]",
   "id": "42f3480a1e37047d",
   "outputs": [
    {
     "data": {
      "text/plain": [
       "tensor([[ 26.9962, 324.8198, 371.5018, 464.5808, 534.7538, 547.6072, 126.7410,\n",
       "         178.8308, 198.7480, 230.1624, 237.9310, 319.6332, 240.6232, 328.3220,\n",
       "         383.0601, 440.0158, 604.4686, 652.6301,  73.9839, 235.1949, 282.5165,\n",
       "         351.8350, 356.7013, 473.6839, 138.9478, 170.0279, 251.5239, 334.7806,\n",
       "         412.9197, 453.7739, 213.6801, 272.2356, 316.7744, 435.4322, 535.1895,\n",
       "         629.8988]])"
      ]
     },
     "execution_count": 17,
     "metadata": {},
     "output_type": "execute_result"
    }
   ],
   "execution_count": 17
  },
  {
   "metadata": {
    "ExecuteTime": {
     "end_time": "2024-12-29T22:09:25.983061Z",
     "start_time": "2024-12-29T22:09:25.972268Z"
    }
   },
   "cell_type": "code",
   "source": "td[\"job_ops_adj\"][0]",
   "id": "25efa864d09d6e5b",
   "outputs": [
    {
     "data": {
      "text/plain": [
       "tensor([[1, 1, 1, 1, 1, 1, 0, 0, 0, 0, 0, 0, 0, 0, 0, 0, 0, 0, 0, 0, 0, 0, 0, 0,\n",
       "         0, 0, 0, 0, 0, 0, 0, 0, 0, 0, 0, 0],\n",
       "        [0, 0, 0, 0, 0, 0, 1, 1, 1, 1, 1, 1, 0, 0, 0, 0, 0, 0, 0, 0, 0, 0, 0, 0,\n",
       "         0, 0, 0, 0, 0, 0, 0, 0, 0, 0, 0, 0],\n",
       "        [0, 0, 0, 0, 0, 0, 0, 0, 0, 0, 0, 0, 1, 1, 1, 1, 1, 1, 0, 0, 0, 0, 0, 0,\n",
       "         0, 0, 0, 0, 0, 0, 0, 0, 0, 0, 0, 0],\n",
       "        [0, 0, 0, 0, 0, 0, 0, 0, 0, 0, 0, 0, 0, 0, 0, 0, 0, 0, 1, 1, 1, 1, 1, 1,\n",
       "         0, 0, 0, 0, 0, 0, 0, 0, 0, 0, 0, 0],\n",
       "        [0, 0, 0, 0, 0, 0, 0, 0, 0, 0, 0, 0, 0, 0, 0, 0, 0, 0, 0, 0, 0, 0, 0, 0,\n",
       "         1, 1, 1, 1, 1, 1, 0, 0, 0, 0, 0, 0],\n",
       "        [0, 0, 0, 0, 0, 0, 0, 0, 0, 0, 0, 0, 0, 0, 0, 0, 0, 0, 0, 0, 0, 0, 0, 0,\n",
       "         0, 0, 0, 0, 0, 0, 1, 1, 1, 1, 1, 1]])"
      ]
     },
     "execution_count": 18,
     "metadata": {},
     "output_type": "execute_result"
    }
   ],
   "execution_count": 18
  },
  {
   "metadata": {
    "ExecuteTime": {
     "end_time": "2024-12-29T22:09:26.215463Z",
     "start_time": "2024-12-29T22:09:26.206754Z"
    }
   },
   "cell_type": "code",
   "source": "td[\"ops_ma_adj\"]",
   "id": "22121108f9617f46",
   "outputs": [
    {
     "data": {
      "text/plain": [
       "tensor([[[0., 0., 0., 0., 0., 0., 0., 0., 0., 0., 0., 0., 0., 0., 0., 0., 0., 0., 0., 0., 0., 0., 0.,\n",
       "          0., 0., 0., 0., 0., 0., 0., 0., 0., 0., 0., 0., 0.],\n",
       "         [0., 0., 0., 0., 0., 0., 0., 0., 0., 0., 0., 0., 0., 0., 0., 0., 0., 0., 0., 0., 0., 0., 0.,\n",
       "          0., 0., 0., 0., 0., 0., 0., 0., 0., 0., 0., 0., 0.],\n",
       "         [0., 0., 0., 0., 0., 0., 0., 0., 0., 0., 0., 0., 0., 0., 0., 0., 0., 0., 0., 0., 0., 0., 0.,\n",
       "          0., 0., 0., 0., 0., 0., 0., 0., 0., 0., 0., 0., 0.],\n",
       "         [0., 0., 0., 0., 0., 0., 0., 0., 0., 0., 0., 0., 0., 0., 0., 0., 0., 0., 0., 0., 0., 0., 0.,\n",
       "          0., 0., 0., 0., 0., 0., 0., 0., 0., 0., 0., 0., 0.],\n",
       "         [0., 0., 0., 0., 0., 0., 0., 0., 0., 0., 0., 0., 0., 0., 0., 0., 0., 0., 0., 0., 0., 0., 0.,\n",
       "          0., 0., 0., 0., 0., 0., 0., 0., 0., 0., 0., 0., 0.],\n",
       "         [0., 0., 0., 0., 0., 0., 0., 0., 0., 0., 0., 0., 0., 0., 0., 0., 0., 0., 0., 0., 0., 0., 0.,\n",
       "          0., 0., 0., 0., 0., 0., 0., 0., 0., 0., 0., 0., 0.]]])"
      ]
     },
     "execution_count": 19,
     "metadata": {},
     "output_type": "execute_result"
    }
   ],
   "execution_count": 19
  },
  {
   "metadata": {
    "ExecuteTime": {
     "end_time": "2024-12-29T22:09:26.394015Z",
     "start_time": "2024-12-29T22:09:26.382302Z"
    }
   },
   "cell_type": "code",
   "source": "td[\"start_op_per_job\"]",
   "id": "81e85f470639ae9b",
   "outputs": [
    {
     "data": {
      "text/plain": [
       "tensor([[ 0,  6, 12, 18, 24, 30]])"
      ]
     },
     "execution_count": 20,
     "metadata": {},
     "output_type": "execute_result"
    }
   ],
   "execution_count": 20
  },
  {
   "metadata": {
    "ExecuteTime": {
     "end_time": "2024-12-29T22:09:26.583792Z",
     "start_time": "2024-12-29T22:09:26.573788Z"
    }
   },
   "cell_type": "code",
   "source": "td[\"ma_assignment\"]",
   "id": "4d10e0a983892839",
   "outputs": [
    {
     "data": {
      "text/plain": [
       "tensor([[[1., 0., 0., 0., 0., 0., 0., 1., 0., 0., 0., 0., 0., 0., 1., 0., 0.,\n",
       "          0., 0., 0., 0., 1., 0., 0., 0., 0., 0., 0., 0., 1., 0., 1., 0., 0.,\n",
       "          0., 0.],\n",
       "         [0., 0., 0., 1., 0., 0., 0., 0., 1., 0., 0., 0., 0., 0., 0., 0., 1.,\n",
       "          0., 0., 0., 0., 0., 1., 0., 0., 0., 0., 1., 0., 0., 0., 0., 0., 0.,\n",
       "          1., 0.],\n",
       "         [0., 0., 0., 0., 0., 1., 0., 0., 0., 0., 0., 1., 0., 0., 0., 0., 0.,\n",
       "          1., 1., 0., 0., 0., 0., 0., 1., 0., 0., 0., 0., 0., 1., 0., 0., 0.,\n",
       "          0., 0.],\n",
       "         [0., 0., 1., 0., 0., 0., 0., 0., 0., 0., 1., 0., 0., 0., 0., 1., 0.,\n",
       "          0., 0., 0., 1., 0., 0., 0., 0., 1., 0., 0., 0., 0., 0., 0., 1., 0.,\n",
       "          0., 0.],\n",
       "         [0., 1., 0., 0., 0., 0., 1., 0., 0., 0., 0., 0., 1., 0., 0., 0., 0.,\n",
       "          0., 0., 1., 0., 0., 0., 0., 0., 0., 1., 0., 0., 0., 0., 0., 0., 1.,\n",
       "          0., 0.],\n",
       "         [0., 0., 0., 0., 1., 0., 0., 0., 0., 1., 0., 0., 0., 1., 0., 0., 0.,\n",
       "          0., 0., 0., 0., 0., 0., 1., 0., 0., 0., 0., 1., 0., 0., 0., 0., 0.,\n",
       "          0., 1.]]])"
      ]
     },
     "execution_count": 21,
     "metadata": {},
     "output_type": "execute_result"
    }
   ],
   "execution_count": 21
  },
  {
   "metadata": {
    "ExecuteTime": {
     "end_time": "2024-12-29T22:09:26.743501Z",
     "start_time": "2024-12-29T22:09:26.736940Z"
    }
   },
   "cell_type": "code",
   "source": "",
   "id": "4e32fd303a99578e",
   "outputs": [],
   "execution_count": null
  },
  {
   "metadata": {
    "ExecuteTime": {
     "end_time": "2024-12-29T22:09:26.845251Z",
     "start_time": "2024-12-29T22:09:26.836341Z"
    }
   },
   "cell_type": "code",
   "source": [
    "for op_no in td[\"start_op_per_job\"].squeeze(0):\n",
    "    machine_no = td[\"ma_assignment\"][0,]\n",
    "    print(op_no)"
   ],
   "id": "79aa6029f5c83c04",
   "outputs": [
    {
     "name": "stdout",
     "output_type": "stream",
     "text": [
      "tensor(0)\n",
      "tensor(6)\n",
      "tensor(12)\n",
      "tensor(18)\n",
      "tensor(24)\n",
      "tensor(30)\n"
     ]
    }
   ],
   "execution_count": 22
  },
  {
   "metadata": {
    "ExecuteTime": {
     "end_time": "2024-12-29T22:09:26.882527Z",
     "start_time": "2024-12-29T22:09:26.872388Z"
    }
   },
   "cell_type": "code",
   "source": "td[\"ma_assignment\"][0][2,0]",
   "id": "9933022a11c9ba25",
   "outputs": [
    {
     "data": {
      "text/plain": [
       "tensor(0.)"
      ]
     },
     "execution_count": 23,
     "metadata": {},
     "output_type": "execute_result"
    }
   ],
   "execution_count": 23
  }
 ],
 "metadata": {
  "kernelspec": {
   "display_name": "Python 3 (ipykernel)",
   "language": "python",
   "name": "python3"
  },
  "language_info": {
   "codemirror_mode": {
    "name": "ipython",
    "version": 3
   },
   "file_extension": ".py",
   "mimetype": "text/x-python",
   "name": "python",
   "nbconvert_exporter": "python",
   "pygments_lexer": "ipython3",
   "version": "3.12.8"
  }
 },
 "nbformat": 4,
 "nbformat_minor": 5
}
