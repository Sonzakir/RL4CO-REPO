{
 "cells": [
  {
   "cell_type": "code",
   "id": "initial_id",
   "metadata": {},
   "source": [
    "import torch\n",
    "from torch.utils.data import DataLoader\n",
    "\n",
    "from rl4co.envs.scheduling.djssp.env import DJSSPEnv\n",
    "from rl4co.envs.scheduling.djssp.render import render\n",
    "\n",
    "if torch.cuda.is_available():\n",
    "    accelerator = \"gpu\"\n",
    "    batch_size = 256\n",
    "    train_data_size = 2_000\n",
    "    embed_dim = 128\n",
    "    num_encoder_layers = 4\n",
    "else:\n",
    "    accelerator = \"cpu\"\n",
    "    batch_size = 32\n",
    "    train_data_size = 1_000\n",
    "    embed_dim = 64\n",
    "    num_encoder_layers = 2"
   ],
   "outputs": [],
   "execution_count": null
  },
  {
   "cell_type": "code",
   "id": "fd4415c1ff184ec6",
   "metadata": {},
   "source": [
    "generator_params = {\n",
    "    \"num_jobs\":6 ,\n",
    "    \"num_machines\": 6 ,\n",
    "    \"min_processing_time\":20 ,\n",
    "    \"max_processing_time\": 99 ,\n",
    "    \"mtbf\" : 40 ,\n",
    "    \"mttr\" : 5\n",
    "  }\n",
    "\n",
    "\n",
    "from rl4co.envs import JSSPEnv\n",
    "\n",
    "\n",
    "\n",
    "env = DJSSPEnv(generator_params=generator_params,stepwise_reward=True)"
   ],
   "outputs": [],
   "execution_count": null
  },
  {
   "cell_type": "code",
   "id": "9952722e82b266d4",
   "metadata": {},
   "source": [
    "import gc\n",
    "from rl4co.models.zoo.l2d.model import L2DPPOModel\n",
    "from rl4co.models.zoo.l2d.policy import L2DPolicy4PPO\n",
    "from torch.utils.data import DataLoader\n",
    "import json\n",
    "import os\n",
    "from rl4co.utils.trainer import RL4COTrainer\n",
    "import torch\n",
    "\n",
    "# Policy: neural network, in this case with encoder-decoder architecture\n",
    "policy = L2DPolicy4PPO(\n",
    "    embed_dim=embed_dim,\n",
    "    num_encoder_layers=num_encoder_layers,\n",
    "    env_name=\"djsp\",\n",
    "    het_emb=False\n",
    ")\n",
    "\n",
    "model = L2DPPOModel(\n",
    "    env=env,\n",
    "    policy=policy,\n",
    "    batch_size=batch_size,\n",
    "    train_data_size=train_data_size,\n",
    "    val_data_size=1_000,\n",
    "    optimizer_kwargs={\"lr\": 1e-4}\n",
    ")"
   ],
   "outputs": [],
   "execution_count": null
  },
  {
   "cell_type": "code",
   "id": "457387ded54b32c6",
   "metadata": {},
   "source": [
    "td = env.reset(batch_size=[2])\n"
   ],
   "outputs": [],
   "execution_count": null
  },
  {
   "cell_type": "code",
   "id": "b46fed578dfec6cf",
   "metadata": {},
   "source": [
    "td[\"machine_breakdowns\"]"
   ],
   "outputs": [],
   "execution_count": null
  },
  {
   "cell_type": "code",
   "id": "eebc67a68ccb3604",
   "metadata": {},
   "source": [
    "# td[\"try\"][1]"
   ],
   "outputs": [],
   "execution_count": null
  },
  {
   "cell_type": "code",
   "id": "e0c7f47d6e5988cd",
   "metadata": {},
   "source": [
    "print(td[\"machine_breakdowns\"])"
   ],
   "outputs": [],
   "execution_count": null
  },
  {
   "cell_type": "code",
   "id": "9855eb7017ac3bcf",
   "metadata": {},
   "source": [
    "td[\"machine_breakdowns\"][1]"
   ],
   "outputs": [],
   "execution_count": null
  },
  {
   "cell_type": "code",
   "id": "92cfcc653afaaa11",
   "metadata": {},
   "source": [
    "td[\"proc_times\"][0]"
   ],
   "outputs": [],
   "execution_count": null
  },
  {
   "cell_type": "code",
   "id": "e7b8208e4adb94da",
   "metadata": {},
   "source": [
    "td[\"machine_breakdowns\"][0]"
   ],
   "outputs": [],
   "execution_count": null
  },
  {
   "metadata": {},
   "cell_type": "code",
   "source": "out = model.policy.generate(td.clone(), env=env, phase=\"test\", decode_type=\"multistart_sampling\", num_starts=100,  select_best=True)\n",
   "id": "16cf3fbf2bd13a13",
   "outputs": [],
   "execution_count": null
  },
  {
   "metadata": {},
   "cell_type": "code",
   "source": "output = out[\"td\"]",
   "id": "db16ed1249885fa1",
   "outputs": [],
   "execution_count": null
  },
  {
   "metadata": {},
   "cell_type": "code",
   "source": "output[\"start_times\"]",
   "id": "b6fe40928798b1e3",
   "outputs": [],
   "execution_count": null
  },
  {
   "metadata": {},
   "cell_type": "code",
   "source": "output[\"finish_times\"]",
   "id": "6cad51ad5167aa43",
   "outputs": [],
   "execution_count": null
  }
 ],
 "metadata": {
  "kernelspec": {
   "display_name": "Python 3 (ipykernel)",
   "language": "python",
   "name": "python3"
  },
  "language_info": {
   "codemirror_mode": {
    "name": "ipython",
    "version": 3
   },
   "file_extension": ".py",
   "mimetype": "text/x-python",
   "name": "python",
   "nbconvert_exporter": "python",
   "pygments_lexer": "ipython3",
   "version": "3.12.8"
  }
 },
 "nbformat": 4,
 "nbformat_minor": 5
}
