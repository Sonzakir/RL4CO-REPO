{
 "cells": [
  {
   "cell_type": "code",
   "id": "initial_id",
   "metadata": {
    "collapsed": true,
    "ExecuteTime": {
     "end_time": "2025-01-03T19:08:16.924810Z",
     "start_time": "2025-01-03T19:08:09.056770Z"
    }
   },
   "source": [
    "from torch.utils.data import DataLoader\n",
    "\n",
    "from rl4co.models.zoo.l2d.decoder import L2DDecoder\n",
    "from rl4co.models.zoo.matnet.matnet_w_sa import Encoder\n",
    "from rl4co.models.nn.env_embeddings.init import FJSPMatNetInitEmbedding\n",
    "import torch\n",
    "from rl4co.envs.scheduling.djssp.env import DJSSPEnv\n",
    "from rl4co.models import L2DPPOModel, L2DPolicy4PPO\n",
    "from rl4co.utils import RL4COTrainer\n",
    "from rl4co.models import StepwisePPO\n",
    "\n",
    "generator_params = {\n",
    "\"num_jobs\" : 8 ,\n",
    "\"num_machines\": 8 ,\n",
    "\"min_processing_time\": 20 ,\n",
    "\"max_processing_time\": 99 ,\n",
    "\"mtbf\": 30,\n",
    "\"mttr\": 10\n",
    "}\n",
    "env = DJSSPEnv(generator_params=generator_params,\n",
    "_torchrl_mode=True,\n",
    "stepwise_reward=True\n",
    ")\n"
   ],
   "outputs": [
    {
     "name": "stderr",
     "output_type": "stream",
     "text": [
      "<frozen importlib._bootstrap>:488: DeprecationWarning: Type google._upb._message.MessageMapContainer uses PyType_Spec with a metaclass that has custom tp_new. This is deprecated and will no longer be allowed in Python 3.14.\n",
      "<frozen importlib._bootstrap>:488: DeprecationWarning: Type google._upb._message.ScalarMapContainer uses PyType_Spec with a metaclass that has custom tp_new. This is deprecated and will no longer be allowed in Python 3.14.\n"
     ]
    }
   ],
   "execution_count": 1
  },
  {
   "metadata": {
    "ExecuteTime": {
     "end_time": "2025-01-03T19:08:16.941884Z",
     "start_time": "2025-01-03T19:08:16.930615Z"
    }
   },
   "cell_type": "code",
   "source": "torch.cuda.is_available()",
   "id": "5bea84ce740bc936",
   "outputs": [
    {
     "data": {
      "text/plain": [
       "True"
      ]
     },
     "execution_count": 2,
     "metadata": {},
     "output_type": "execute_result"
    }
   ],
   "execution_count": 2
  },
  {
   "metadata": {},
   "cell_type": "markdown",
   "source": "# Device Related Details",
   "id": "23ef7ff32677779d"
  },
  {
   "metadata": {
    "ExecuteTime": {
     "end_time": "2025-01-03T19:08:17.054577Z",
     "start_time": "2025-01-03T19:08:17.047013Z"
    }
   },
   "cell_type": "code",
   "source": [
    "device = \"cuda\" if torch.cuda.is_available() else \"cpu\"\n",
    "\n",
    "if torch.cuda.is_available():\n",
    "    accelerator = \"gpu\"\n",
    "    batch_size = 256\n",
    "    train_data_size = 2_000\n",
    "    embed_dim = 128\n",
    "    num_encoder_layers = 4\n",
    "else:\n",
    "    accelerator = \"cpu\"\n",
    "    batch_size = 32\n",
    "    train_data_size = 1_000\n",
    "    embed_dim = 64\n",
    "    num_encoder_layers = 2"
   ],
   "id": "57201b8c1f6c8fd",
   "outputs": [],
   "execution_count": 3
  },
  {
   "metadata": {
    "ExecuteTime": {
     "end_time": "2025-01-03T19:08:17.066722Z",
     "start_time": "2025-01-03T19:08:17.063214Z"
    }
   },
   "cell_type": "code",
   "source": "### WandB\n",
   "id": "bbd30ced22d2ced1",
   "outputs": [],
   "execution_count": 4
  },
  {
   "metadata": {
    "ExecuteTime": {
     "end_time": "2025-01-03T19:08:20.003437Z",
     "start_time": "2025-01-03T19:08:17.074998Z"
    }
   },
   "cell_type": "code",
   "source": [
    "import wandb\n",
    "from lightning.pytorch.loggers import WandbLogger\n",
    "\n",
    "run = wandb.init(\n",
    "    project = \"rl4co\",\n",
    "    notes = \"MatNet-PPO-Training\"\n",
    ")\n",
    "\n",
    "\n",
    "logger = WandbLogger(project=\"rl4co\", name=\"MatNet-PPO-Training\")"
   ],
   "id": "5f6700510cbfd396",
   "outputs": [
    {
     "name": "stderr",
     "output_type": "stream",
     "text": [
      "wandb: Using wandb-core as the SDK backend.  Please refer to https://wandb.me/wandb-core for more information.\n",
      "C:\\Users\\soner\\anaconda3\\envs\\reinforce\\Lib\\site-packages\\wandb\\sdk\\wandb_init.py:202: PydanticDeprecatedSince20: The `copy` method is deprecated; use `model_copy` instead. See the docstring of `BaseModel.copy` for details about how to handle `include` and `exclude`. Deprecated in Pydantic V2.0 to be removed in V3.0. See Pydantic V2 Migration Guide at https://errors.pydantic.dev/2.10/migration/\n",
      "  settings = self._wl.settings.copy()\n",
      "wandb: Currently logged in as: fazli-kiraz (fazli-kiraz-ruhr-university-bochum). Use `wandb login --relogin` to force relogin\n"
     ]
    },
    {
     "data": {
      "text/plain": [
       "<IPython.core.display.HTML object>"
      ],
      "text/html": [
       "Tracking run with wandb version 0.19.1"
      ]
     },
     "metadata": {},
     "output_type": "display_data"
    },
    {
     "data": {
      "text/plain": [
       "<IPython.core.display.HTML object>"
      ],
      "text/html": [
       "Run data is saved locally in <code>C:\\Users\\soner\\Desktop\\rl4co\\rl4co\\envs\\scheduling\\djssp\\GNN_PPO\\wandb\\run-20250103_200819-lsfa9l1a</code>"
      ]
     },
     "metadata": {},
     "output_type": "display_data"
    },
    {
     "data": {
      "text/plain": [
       "<IPython.core.display.HTML object>"
      ],
      "text/html": [
       "Syncing run <strong><a href='https://wandb.ai/fazli-kiraz-ruhr-university-bochum/rl4co/runs/lsfa9l1a' target=\"_blank\">clean-gorge-11</a></strong> to <a href='https://wandb.ai/fazli-kiraz-ruhr-university-bochum/rl4co' target=\"_blank\">Weights & Biases</a> (<a href='https://wandb.me/developer-guide' target=\"_blank\">docs</a>)<br>"
      ]
     },
     "metadata": {},
     "output_type": "display_data"
    },
    {
     "data": {
      "text/plain": [
       "<IPython.core.display.HTML object>"
      ],
      "text/html": [
       " View project at <a href='https://wandb.ai/fazli-kiraz-ruhr-university-bochum/rl4co' target=\"_blank\">https://wandb.ai/fazli-kiraz-ruhr-university-bochum/rl4co</a>"
      ]
     },
     "metadata": {},
     "output_type": "display_data"
    },
    {
     "data": {
      "text/plain": [
       "<IPython.core.display.HTML object>"
      ],
      "text/html": [
       " View run at <a href='https://wandb.ai/fazli-kiraz-ruhr-university-bochum/rl4co/runs/lsfa9l1a' target=\"_blank\">https://wandb.ai/fazli-kiraz-ruhr-university-bochum/rl4co/runs/lsfa9l1a</a>"
      ]
     },
     "metadata": {},
     "output_type": "display_data"
    }
   ],
   "execution_count": 5
  },
  {
   "metadata": {},
   "cell_type": "markdown",
   "source": "## Policy = L2DPolicy4PPO",
   "id": "394363e0bf631c3f"
  },
  {
   "metadata": {
    "ExecuteTime": {
     "end_time": "2025-01-03T19:08:20.110545Z",
     "start_time": "2025-01-03T19:08:20.017041Z"
    }
   },
   "cell_type": "code",
   "source": [
    "init_embedding=FJSPMatNetInitEmbedding(embed_dim=256,scaling_factor=1000)\n",
    "feature_extractor =Encoder(embed_dim=256,init_embedding=init_embedding,num_heads=8,num_layers=4,normalization=\"batch\")\n",
    "decoder=L2DDecoder(env_name = env.name,embed_dim=256 ,het_emb=True,feature_extractor=feature_extractor)\n",
    "\n",
    "policy=L2DPolicy4PPO( env_name=env.name,decoder=decoder,embed_dim=256,scaling_factor=1000,het_emb=True)"
   ],
   "id": "74b63073f38249d5",
   "outputs": [],
   "execution_count": 6
  },
  {
   "metadata": {},
   "cell_type": "markdown",
   "source": "## Model = StepwisePPO",
   "id": "6e3b2777e3418cff"
  },
  {
   "metadata": {
    "ExecuteTime": {
     "end_time": "2025-01-03T19:08:20.267923Z",
     "start_time": "2025-01-03T19:08:20.132295Z"
    }
   },
   "cell_type": "code",
   "source": "model = StepwisePPO(env=env,policy=policy,  batch_size=128,val_batch_size=512,test_batch_size=64,mini_batch_size=512)\n",
   "id": "f51ece41e61289ea",
   "outputs": [
    {
     "name": "stderr",
     "output_type": "stream",
     "text": [
      "C:\\Users\\soner\\anaconda3\\envs\\reinforce\\Lib\\site-packages\\lightning\\pytorch\\utilities\\parsing.py:209: Attribute 'env' is an instance of `nn.Module` and is already saved during checkpointing. It is recommended to ignore them using `self.save_hyperparameters(ignore=['env'])`.\n",
      "C:\\Users\\soner\\anaconda3\\envs\\reinforce\\Lib\\site-packages\\lightning\\pytorch\\utilities\\parsing.py:209: Attribute 'policy' is an instance of `nn.Module` and is already saved during checkpointing. It is recommended to ignore them using `self.save_hyperparameters(ignore=['policy'])`.\n"
     ]
    }
   ],
   "execution_count": 7
  },
  {
   "metadata": {},
   "cell_type": "markdown",
   "source": "# Scheduling of the untrained Model",
   "id": "40b419b8c1efc801"
  },
  {
   "metadata": {
    "ExecuteTime": {
     "end_time": "2025-01-03T19:08:20.720361Z",
     "start_time": "2025-01-03T19:08:20.294039Z"
    }
   },
   "cell_type": "code",
   "source": [
    "td_init = env.reset(batch_size=[1])\n",
    "# we must send td to device otherwise it throws an error\n",
    "td_init = td_init.to(device)"
   ],
   "id": "386e19a712e72443",
   "outputs": [],
   "execution_count": 8
  },
  {
   "metadata": {
    "ExecuteTime": {
     "end_time": "2025-01-03T19:08:20.765746Z",
     "start_time": "2025-01-03T19:08:20.736744Z"
    }
   },
   "cell_type": "code",
   "source": [
    "# same for the policy\n",
    "policy = model.policy.to(device=device)"
   ],
   "id": "b99fca4e641dc93c",
   "outputs": [],
   "execution_count": 9
  },
  {
   "metadata": {},
   "cell_type": "markdown",
   "source": "### Greedy",
   "id": "b573c669f0a0562"
  },
  {
   "metadata": {
    "ExecuteTime": {
     "end_time": "2025-01-03T19:08:25.267465Z",
     "start_time": "2025-01-03T19:08:20.780659Z"
    }
   },
   "cell_type": "code",
   "source": [
    "out_untrained_greedy = policy(td_init.clone(), env, phase=\"test\", decode_type=\"greedy\")\n",
    "\n",
    "print(\"Untrained greedy output with the makespan \", out_untrained_greedy[\"reward\"][0])\n",
    "\n",
    "# for multiple batches use this:\n",
    "# print(f\"Greedy - Rewards: {[f'{-r.item():.2f}' for r in out_untrained_greedy['reward']]}\")"
   ],
   "id": "e2ca21486e1a8163",
   "outputs": [
    {
     "name": "stdout",
     "output_type": "stream",
     "text": [
      "Untrained greedy output with the makespan  tensor(-1233.0835, device='cuda:0')\n"
     ]
    }
   ],
   "execution_count": 10
  },
  {
   "metadata": {
    "ExecuteTime": {
     "end_time": "2025-01-03T19:08:26.030890Z",
     "start_time": "2025-01-03T19:08:25.306879Z"
    }
   },
   "cell_type": "code",
   "source": [
    "# render the output of the untrained greedy\n",
    "env.render(out_untrained_greedy[\"td\"] , 0)"
   ],
   "id": "f3af7f52412a2865",
   "outputs": [
    {
     "data": {
      "text/plain": [
       "<Figure size 640x480 with 1 Axes>"
      ],
      "image/png": "[encoded data removed]"
     },
     "metadata": {},
     "output_type": "display_data"
    }
   ],
   "execution_count": 11
  },
  {
   "metadata": {},
   "cell_type": "markdown",
   "source": "### MultistartSampling\n",
   "id": "cd8dde869f882d33"
  },
  {
   "metadata": {
    "ExecuteTime": {
     "end_time": "2025-01-03T19:08:55.507146Z",
     "start_time": "2025-01-03T19:08:26.053929Z"
    }
   },
   "cell_type": "code",
   "source": [
    "out_untrained_multistart = policy.generate(td_init.clone(), env=env, phase=\"test\", decode_type=\"multistart_sampling\", num_starts=100, select_best=True)\n",
    "print(f\"Untrained Multistart - Makespan: {[f'{-r.item():.2f}' for r in out_untrained_multistart['reward']]}\")"
   ],
   "id": "52d770d254edc095",
   "outputs": [
    {
     "name": "stderr",
     "output_type": "stream",
     "text": [
      "C:\\Users\\soner\\anaconda3\\envs\\reinforce\\Lib\\site-packages\\executing\\executing.py:713: DeprecationWarning: ast.Str is deprecated and will be removed in Python 3.14; use ast.Constant instead\n",
      "  right=ast.Str(s=sentinel),\n",
      "C:\\Users\\soner\\anaconda3\\envs\\reinforce\\Lib\\ast.py:587: DeprecationWarning: Attribute s is deprecated and will be removed in Python 3.14; use value instead\n",
      "  return Constant(*args, **kwargs)\n"
     ]
    },
    {
     "ename": "KeyboardInterrupt",
     "evalue": "",
     "output_type": "error",
     "traceback": [
      "\u001B[1;31m---------------------------------------------------------------------------\u001B[0m",
      "\u001B[1;31mKeyboardInterrupt\u001B[0m                         Traceback (most recent call last)",
      "Cell \u001B[1;32mIn[12], line 1\u001B[0m\n\u001B[1;32m----> 1\u001B[0m out_untrained_multistart \u001B[38;5;241m=\u001B[39m policy\u001B[38;5;241m.\u001B[39mgenerate(td_init\u001B[38;5;241m.\u001B[39mclone(), env\u001B[38;5;241m=\u001B[39menv, phase\u001B[38;5;241m=\u001B[39m\u001B[38;5;124m\"\u001B[39m\u001B[38;5;124mtest\u001B[39m\u001B[38;5;124m\"\u001B[39m, decode_type\u001B[38;5;241m=\u001B[39m\u001B[38;5;124m\"\u001B[39m\u001B[38;5;124mmultistart_sampling\u001B[39m\u001B[38;5;124m\"\u001B[39m, num_starts\u001B[38;5;241m=\u001B[39m\u001B[38;5;241m100\u001B[39m, select_best\u001B[38;5;241m=\u001B[39m\u001B[38;5;28;01mTrue\u001B[39;00m)\n\u001B[0;32m      2\u001B[0m \u001B[38;5;28mprint\u001B[39m(\u001B[38;5;124mf\u001B[39m\u001B[38;5;124m\"\u001B[39m\u001B[38;5;124mUntrained Multistart - Makespan: \u001B[39m\u001B[38;5;132;01m{\u001B[39;00m[\u001B[38;5;124mf\u001B[39m\u001B[38;5;124m'\u001B[39m\u001B[38;5;132;01m{\u001B[39;00m\u001B[38;5;241m-\u001B[39mr\u001B[38;5;241m.\u001B[39mitem()\u001B[38;5;132;01m:\u001B[39;00m\u001B[38;5;124m.2f\u001B[39m\u001B[38;5;132;01m}\u001B[39;00m\u001B[38;5;124m'\u001B[39m\u001B[38;5;250m \u001B[39m\u001B[38;5;28;01mfor\u001B[39;00m\u001B[38;5;250m \u001B[39mr\u001B[38;5;250m \u001B[39m\u001B[38;5;129;01min\u001B[39;00m\u001B[38;5;250m \u001B[39mout_untrained_multistart[\u001B[38;5;124m'\u001B[39m\u001B[38;5;124mreward\u001B[39m\u001B[38;5;124m'\u001B[39m]]\u001B[38;5;132;01m}\u001B[39;00m\u001B[38;5;124m\"\u001B[39m)\n",
      "File \u001B[1;32m~\\anaconda3\\envs\\reinforce\\Lib\\site-packages\\torch\\utils\\_contextlib.py:116\u001B[0m, in \u001B[0;36mcontext_decorator.<locals>.decorate_context\u001B[1;34m(*args, **kwargs)\u001B[0m\n\u001B[0;32m    113\u001B[0m \u001B[38;5;129m@functools\u001B[39m\u001B[38;5;241m.\u001B[39mwraps(func)\n\u001B[0;32m    114\u001B[0m \u001B[38;5;28;01mdef\u001B[39;00m \u001B[38;5;21mdecorate_context\u001B[39m(\u001B[38;5;241m*\u001B[39margs, \u001B[38;5;241m*\u001B[39m\u001B[38;5;241m*\u001B[39mkwargs):\n\u001B[0;32m    115\u001B[0m     \u001B[38;5;28;01mwith\u001B[39;00m ctx_factory():\n\u001B[1;32m--> 116\u001B[0m         \u001B[38;5;28;01mreturn\u001B[39;00m func(\u001B[38;5;241m*\u001B[39margs, \u001B[38;5;241m*\u001B[39m\u001B[38;5;241m*\u001B[39mkwargs)\n",
      "File \u001B[1;32m~\\Desktop\\rl4co\\rl4co\\models\\zoo\\l2d\\policy.py:250\u001B[0m, in \u001B[0;36mL2DPolicy4PPO.generate\u001B[1;34m(self, td, env, phase, **kwargs)\u001B[0m\n\u001B[0;32m    248\u001B[0m \u001B[38;5;28;01massert\u001B[39;00m phase \u001B[38;5;241m!=\u001B[39m \u001B[38;5;124m\"\u001B[39m\u001B[38;5;124mtrain\u001B[39m\u001B[38;5;124m\"\u001B[39m, \u001B[38;5;124m\"\u001B[39m\u001B[38;5;124mdont use generate() in training mode\u001B[39m\u001B[38;5;124m\"\u001B[39m\n\u001B[0;32m    249\u001B[0m \u001B[38;5;28;01mwith\u001B[39;00m torch\u001B[38;5;241m.\u001B[39mno_grad():\n\u001B[1;32m--> 250\u001B[0m     out \u001B[38;5;241m=\u001B[39m \u001B[38;5;28msuper\u001B[39m()\u001B[38;5;241m.\u001B[39m\u001B[38;5;21m__call__\u001B[39m(td, env, phase\u001B[38;5;241m=\u001B[39mphase, \u001B[38;5;241m*\u001B[39m\u001B[38;5;241m*\u001B[39mkwargs)\n\u001B[0;32m    251\u001B[0m \u001B[38;5;28;01mreturn\u001B[39;00m out\n",
      "File \u001B[1;32m~\\anaconda3\\envs\\reinforce\\Lib\\site-packages\\torch\\nn\\modules\\module.py:1736\u001B[0m, in \u001B[0;36mModule._wrapped_call_impl\u001B[1;34m(self, *args, **kwargs)\u001B[0m\n\u001B[0;32m   1734\u001B[0m     \u001B[38;5;28;01mreturn\u001B[39;00m \u001B[38;5;28mself\u001B[39m\u001B[38;5;241m.\u001B[39m_compiled_call_impl(\u001B[38;5;241m*\u001B[39margs, \u001B[38;5;241m*\u001B[39m\u001B[38;5;241m*\u001B[39mkwargs)  \u001B[38;5;66;03m# type: ignore[misc]\u001B[39;00m\n\u001B[0;32m   1735\u001B[0m \u001B[38;5;28;01melse\u001B[39;00m:\n\u001B[1;32m-> 1736\u001B[0m     \u001B[38;5;28;01mreturn\u001B[39;00m \u001B[38;5;28mself\u001B[39m\u001B[38;5;241m.\u001B[39m_call_impl(\u001B[38;5;241m*\u001B[39margs, \u001B[38;5;241m*\u001B[39m\u001B[38;5;241m*\u001B[39mkwargs)\n",
      "File \u001B[1;32m~\\anaconda3\\envs\\reinforce\\Lib\\site-packages\\torch\\nn\\modules\\module.py:1747\u001B[0m, in \u001B[0;36mModule._call_impl\u001B[1;34m(self, *args, **kwargs)\u001B[0m\n\u001B[0;32m   1742\u001B[0m \u001B[38;5;66;03m# If we don't have any hooks, we want to skip the rest of the logic in\u001B[39;00m\n\u001B[0;32m   1743\u001B[0m \u001B[38;5;66;03m# this function, and just call forward.\u001B[39;00m\n\u001B[0;32m   1744\u001B[0m \u001B[38;5;28;01mif\u001B[39;00m \u001B[38;5;129;01mnot\u001B[39;00m (\u001B[38;5;28mself\u001B[39m\u001B[38;5;241m.\u001B[39m_backward_hooks \u001B[38;5;129;01mor\u001B[39;00m \u001B[38;5;28mself\u001B[39m\u001B[38;5;241m.\u001B[39m_backward_pre_hooks \u001B[38;5;129;01mor\u001B[39;00m \u001B[38;5;28mself\u001B[39m\u001B[38;5;241m.\u001B[39m_forward_hooks \u001B[38;5;129;01mor\u001B[39;00m \u001B[38;5;28mself\u001B[39m\u001B[38;5;241m.\u001B[39m_forward_pre_hooks\n\u001B[0;32m   1745\u001B[0m         \u001B[38;5;129;01mor\u001B[39;00m _global_backward_pre_hooks \u001B[38;5;129;01mor\u001B[39;00m _global_backward_hooks\n\u001B[0;32m   1746\u001B[0m         \u001B[38;5;129;01mor\u001B[39;00m _global_forward_hooks \u001B[38;5;129;01mor\u001B[39;00m _global_forward_pre_hooks):\n\u001B[1;32m-> 1747\u001B[0m     \u001B[38;5;28;01mreturn\u001B[39;00m forward_call(\u001B[38;5;241m*\u001B[39margs, \u001B[38;5;241m*\u001B[39m\u001B[38;5;241m*\u001B[39mkwargs)\n\u001B[0;32m   1749\u001B[0m result \u001B[38;5;241m=\u001B[39m \u001B[38;5;28;01mNone\u001B[39;00m\n\u001B[0;32m   1750\u001B[0m called_always_called_hooks \u001B[38;5;241m=\u001B[39m \u001B[38;5;28mset\u001B[39m()\n",
      "File \u001B[1;32m~\\Desktop\\rl4co\\rl4co\\models\\common\\constructive\\base.py:240\u001B[0m, in \u001B[0;36mConstructivePolicy.forward\u001B[1;34m(self, td, env, phase, calc_reward, return_actions, return_entropy, return_hidden, return_init_embeds, return_sum_log_likelihood, actions, max_steps, **decoding_kwargs)\u001B[0m\n\u001B[0;32m    231\u001B[0m logits, mask \u001B[38;5;241m=\u001B[39m \u001B[38;5;28mself\u001B[39m\u001B[38;5;241m.\u001B[39mdecoder(td, hidden, num_starts)\n\u001B[0;32m    234\u001B[0m td \u001B[38;5;241m=\u001B[39m decode_strategy\u001B[38;5;241m.\u001B[39mstep(\n\u001B[0;32m    235\u001B[0m     logits,\n\u001B[0;32m    236\u001B[0m     mask,\n\u001B[0;32m    237\u001B[0m     td,\n\u001B[0;32m    238\u001B[0m     action\u001B[38;5;241m=\u001B[39mactions[\u001B[38;5;241m.\u001B[39m\u001B[38;5;241m.\u001B[39m\u001B[38;5;241m.\u001B[39m, step] \u001B[38;5;28;01mif\u001B[39;00m actions \u001B[38;5;129;01mis\u001B[39;00m \u001B[38;5;129;01mnot\u001B[39;00m \u001B[38;5;28;01mNone\u001B[39;00m \u001B[38;5;28;01melse\u001B[39;00m \u001B[38;5;28;01mNone\u001B[39;00m,\n\u001B[0;32m    239\u001B[0m )\n\u001B[1;32m--> 240\u001B[0m td \u001B[38;5;241m=\u001B[39m env\u001B[38;5;241m.\u001B[39mstep(td)[\u001B[38;5;124m\"\u001B[39m\u001B[38;5;124mnext\u001B[39m\u001B[38;5;124m\"\u001B[39m]\n\u001B[0;32m    241\u001B[0m step \u001B[38;5;241m+\u001B[39m\u001B[38;5;241m=\u001B[39m \u001B[38;5;241m1\u001B[39m\n\u001B[0;32m    242\u001B[0m \u001B[38;5;28;01mif\u001B[39;00m step \u001B[38;5;241m>\u001B[39m max_steps:\n",
      "File \u001B[1;32m~\\Desktop\\rl4co\\rl4co\\envs\\common\\base.py:133\u001B[0m, in \u001B[0;36mRL4COEnvBase.step\u001B[1;34m(self, td)\u001B[0m\n\u001B[0;32m    130\u001B[0m     \u001B[38;5;28;01mreturn\u001B[39;00m {\u001B[38;5;124m\"\u001B[39m\u001B[38;5;124mnext\u001B[39m\u001B[38;5;124m\"\u001B[39m: td}\n\u001B[0;32m    131\u001B[0m \u001B[38;5;28;01melse\u001B[39;00m:\n\u001B[0;32m    132\u001B[0m     \u001B[38;5;66;03m# Since we simplify the syntax\u001B[39;00m\n\u001B[1;32m--> 133\u001B[0m     \u001B[38;5;28;01mreturn\u001B[39;00m \u001B[38;5;28mself\u001B[39m\u001B[38;5;241m.\u001B[39m_torchrl_step(td)\n",
      "File \u001B[1;32m~\\Desktop\\rl4co\\rl4co\\envs\\common\\base.py:157\u001B[0m, in \u001B[0;36mRL4COEnvBase._torchrl_step\u001B[1;34m(self, td)\u001B[0m\n\u001B[0;32m    154\u001B[0m \u001B[38;5;28mself\u001B[39m\u001B[38;5;241m.\u001B[39m_assert_tensordict_shape(td)\n\u001B[0;32m    155\u001B[0m next_preset \u001B[38;5;241m=\u001B[39m td\u001B[38;5;241m.\u001B[39mget(\u001B[38;5;124m\"\u001B[39m\u001B[38;5;124mnext\u001B[39m\u001B[38;5;124m\"\u001B[39m, \u001B[38;5;28;01mNone\u001B[39;00m)\n\u001B[1;32m--> 157\u001B[0m next_tensordict \u001B[38;5;241m=\u001B[39m \u001B[38;5;28mself\u001B[39m\u001B[38;5;241m.\u001B[39m_step(\n\u001B[0;32m    158\u001B[0m     td\u001B[38;5;241m.\u001B[39mclone()\n\u001B[0;32m    159\u001B[0m )  \u001B[38;5;66;03m# NOTE: we clone to avoid recursion error\u001B[39;00m\n\u001B[0;32m    160\u001B[0m next_tensordict \u001B[38;5;241m=\u001B[39m \u001B[38;5;28mself\u001B[39m\u001B[38;5;241m.\u001B[39m_step_proc_data(next_tensordict)\n\u001B[0;32m    161\u001B[0m \u001B[38;5;28;01mif\u001B[39;00m next_preset \u001B[38;5;129;01mis\u001B[39;00m \u001B[38;5;129;01mnot\u001B[39;00m \u001B[38;5;28;01mNone\u001B[39;00m:\n",
      "File \u001B[1;32m~\\Desktop\\rl4co\\rl4co\\envs\\scheduling\\djssp\\env.py:313\u001B[0m, in \u001B[0;36mDJSSPEnv._step\u001B[1;34m(self, td)\u001B[0m\n\u001B[0;32m    311\u001B[0m \u001B[38;5;28;01mwhile\u001B[39;00m step_complete\u001B[38;5;241m.\u001B[39many():\n\u001B[0;32m    312\u001B[0m     td, dones \u001B[38;5;241m=\u001B[39m \u001B[38;5;28mself\u001B[39m\u001B[38;5;241m.\u001B[39m_transit_to_next_time(step_complete, td)\n\u001B[1;32m--> 313\u001B[0m     td\u001B[38;5;241m.\u001B[39mset(\u001B[38;5;124m\"\u001B[39m\u001B[38;5;124maction_mask\u001B[39m\u001B[38;5;124m\"\u001B[39m, \u001B[38;5;28mself\u001B[39m\u001B[38;5;241m.\u001B[39mget_action_mask(td))\n\u001B[0;32m    314\u001B[0m     step_complete \u001B[38;5;241m=\u001B[39m \u001B[38;5;28mself\u001B[39m\u001B[38;5;241m.\u001B[39m_check_step_complete(td, dones)\n\u001B[0;32m    315\u001B[0m \u001B[38;5;28;01mif\u001B[39;00m \u001B[38;5;28mself\u001B[39m\u001B[38;5;241m.\u001B[39mcheck_mask:\n",
      "File \u001B[1;32m~\\Desktop\\rl4co\\rl4co\\envs\\scheduling\\djssp\\env.py:244\u001B[0m, in \u001B[0;36mDJSSPEnv.get_action_mask\u001B[1;34m(self, td)\u001B[0m\n\u001B[0;32m    243\u001B[0m \u001B[38;5;28;01mdef\u001B[39;00m \u001B[38;5;21mget_action_mask\u001B[39m(\u001B[38;5;28mself\u001B[39m, td: TensorDict) \u001B[38;5;241m-\u001B[39m\u001B[38;5;241m>\u001B[39m Tensor:\n\u001B[1;32m--> 244\u001B[0m     action_mask \u001B[38;5;241m=\u001B[39m \u001B[38;5;28mself\u001B[39m\u001B[38;5;241m.\u001B[39m_get_job_machine_availability(td)\n\u001B[0;32m    245\u001B[0m     \u001B[38;5;28;01mif\u001B[39;00m \u001B[38;5;28mself\u001B[39m\u001B[38;5;241m.\u001B[39mmask_no_ops:\n\u001B[0;32m    246\u001B[0m         \u001B[38;5;66;03m# masking is only allowed if instance is finished\u001B[39;00m\n\u001B[0;32m    247\u001B[0m         no_op_mask \u001B[38;5;241m=\u001B[39m td[\u001B[38;5;124m\"\u001B[39m\u001B[38;5;124mdone\u001B[39m\u001B[38;5;124m\"\u001B[39m]\n",
      "File \u001B[1;32m~\\Desktop\\rl4co\\rl4co\\envs\\scheduling\\djssp\\env.py:609\u001B[0m, in \u001B[0;36mDJSSPEnv._get_job_machine_availability\u001B[1;34m(self, td)\u001B[0m\n\u001B[0;32m    607\u001B[0m batch_size \u001B[38;5;241m=\u001B[39m td\u001B[38;5;241m.\u001B[39msize(\u001B[38;5;241m0\u001B[39m)\n\u001B[0;32m    608\u001B[0m \u001B[38;5;66;03m# TODO: CHECK_MACHINE_BREAKDOWNS_GET_JOB_MACHINE_AVAILABILITY\u001B[39;00m\n\u001B[1;32m--> 609\u001B[0m td \u001B[38;5;241m=\u001B[39m \u001B[38;5;28mself\u001B[39m\u001B[38;5;241m.\u001B[39m_check_machine_breakdowns(td)\n\u001B[0;32m    611\u001B[0m \u001B[38;5;66;03m# (bs, jobs, machines)\u001B[39;00m\n\u001B[0;32m    612\u001B[0m action_mask \u001B[38;5;241m=\u001B[39m torch\u001B[38;5;241m.\u001B[39mfull((batch_size, \u001B[38;5;28mself\u001B[39m\u001B[38;5;241m.\u001B[39mnum_jobs, \u001B[38;5;28mself\u001B[39m\u001B[38;5;241m.\u001B[39mnum_mas), \u001B[38;5;28;01mFalse\u001B[39;00m)\u001B[38;5;241m.\u001B[39mto(\n\u001B[0;32m    613\u001B[0m     td\u001B[38;5;241m.\u001B[39mdevice\n\u001B[0;32m    614\u001B[0m )\n",
      "File \u001B[1;32m~\\Desktop\\rl4co\\rl4co\\envs\\scheduling\\djssp\\env.py:210\u001B[0m, in \u001B[0;36mDJSSPEnv._check_machine_breakdowns\u001B[1;34m(self, td)\u001B[0m\n\u001B[0;32m    204\u001B[0m machine_idx_breakdowns \u001B[38;5;241m=\u001B[39m machine_breakdowns[batch_id,machine_idx]\n\u001B[0;32m    205\u001B[0m \u001B[38;5;28;01mfor\u001B[39;00m breakdown_no \u001B[38;5;129;01min\u001B[39;00m \u001B[38;5;28mrange\u001B[39m(\u001B[38;5;28mint\u001B[39m(machine_breakdowns\u001B[38;5;241m.\u001B[39msize(\u001B[38;5;241m2\u001B[39m)\u001B[38;5;241m/\u001B[39m\u001B[38;5;241m2\u001B[39m)):\n\u001B[0;32m    206\u001B[0m     \u001B[38;5;66;03m# 0-2-4-6-8...-> breakdown occurence time\u001B[39;00m\n\u001B[0;32m    207\u001B[0m     \u001B[38;5;66;03m# 1-3-5-7-9...-> breakdown duration\u001B[39;00m\n\u001B[0;32m    208\u001B[0m     \u001B[38;5;66;03m# if current time == machine breakdown time\u001B[39;00m\n\u001B[0;32m    209\u001B[0m     \u001B[38;5;66;03m# if machine_idx_breakdowns[breakdown_no][\"TIME\"] == td[\"time\"][batch_id]:\u001B[39;00m\n\u001B[1;32m--> 210\u001B[0m     \u001B[38;5;28;01mif\u001B[39;00m machine_idx_breakdowns[(breakdown_no)\u001B[38;5;241m*\u001B[39m\u001B[38;5;241m2\u001B[39m] \u001B[38;5;241m==\u001B[39m td[\u001B[38;5;124m\"\u001B[39m\u001B[38;5;124mtime\u001B[39m\u001B[38;5;124m\"\u001B[39m][batch_id]:\n\u001B[0;32m    211\u001B[0m         \u001B[38;5;66;03m# duration of the breakdown\u001B[39;00m\n\u001B[0;32m    212\u001B[0m         duration \u001B[38;5;241m=\u001B[39m machine_idx_breakdowns[(breakdown_no)\u001B[38;5;241m*\u001B[39m\u001B[38;5;241m2\u001B[39m \u001B[38;5;241m+\u001B[39m\u001B[38;5;241m1\u001B[39m ]\n\u001B[0;32m    213\u001B[0m         \u001B[38;5;66;03m# machine is busy(not available) until -> \" current_time + duration of the breakdown\"\u001B[39;00m\n",
      "\u001B[1;31mKeyboardInterrupt\u001B[0m: "
     ]
    }
   ],
   "execution_count": 12
  },
  {
   "metadata": {},
   "cell_type": "code",
   "outputs": [],
   "execution_count": null,
   "source": "env.render(out_untrained_multistart[\"td\"] , 0)",
   "id": "afba6fe817069810"
  },
  {
   "metadata": {},
   "cell_type": "markdown",
   "source": "# Training the Model",
   "id": "872d9892bd9bca51"
  },
  {
   "metadata": {},
   "cell_type": "markdown",
   "source": "### Checkpoint - Callback Setup",
   "id": "7c4853ad68325f02"
  },
  {
   "metadata": {},
   "cell_type": "code",
   "outputs": [],
   "execution_count": null,
   "source": [
    "from lightning.pytorch.callbacks import ModelCheckpoint, RichModelSummary\n",
    "\n",
    "# Checkpointing callback: save models when validation reward improves\n",
    "checkpoint_callback = ModelCheckpoint(  dirpath=\"checkpoints\", # save to checkpoints/\n",
    "                                        filename=\"epoch_{epoch:03d}\",  # save as epoch_XXX.ckpt\n",
    "                                        save_top_k=1, # save only the best model\n",
    "                                        save_last=True, # save the last model\n",
    "                                        monitor=\"val/reward\", # monitor validation reward\n",
    "                                        mode=\"max\") # maximize validation reward\n",
    "# Print model summary\n",
    "rich_model_summary = RichModelSummary(max_depth=3)\n",
    "\n",
    "# Callbacks list\n",
    "callbacks = [checkpoint_callback, rich_model_summary]\n",
    "\n"
   ],
   "id": "8c4d852ea3946349"
  },
  {
   "metadata": {},
   "cell_type": "markdown",
   "source": "### Training",
   "id": "4888bc286a88f84f"
  },
  {
   "metadata": {
    "jupyter": {
     "is_executing": true
    },
    "ExecuteTime": {
     "end_time": "2025-01-03T19:08:55.687596400Z",
     "start_time": "2024-12-24T23:17:40.054173Z"
    }
   },
   "cell_type": "code",
   "source": [
    "#CHECKPOINT_PATH = \"last.ckpt\"\n",
    "CHECKPOINT_PATH = \"checkpoints/last.ckpt\"\n",
    "try:\n",
    "    model = L2DPPOModel.load_from_checkpoint(CHECKPOINT_PATH)\n",
    "except FileNotFoundError:\n",
    "\n",
    "    # max_epochs = 10\n",
    "    trainer = RL4COTrainer(\n",
    "    max_epochs=10,\n",
    "    accelerator=accelerator,\n",
    "    devices=1,\n",
    "    logger=logger,\n",
    "    callbacks=callbacks\n",
    "    )\n",
    "\n",
    "    trainer.fit(model)\n",
    "finally:\n",
    "    model = model.to(device)\n"
   ],
   "id": "5f809ef293206646",
   "outputs": [
    {
     "name": "stderr",
     "output_type": "stream",
     "text": [
      "Using 16bit Automatic Mixed Precision (AMP)\n",
      "GPU available: True (cuda), used: True\n",
      "TPU available: False, using: 0 TPU cores\n",
      "HPU available: False, using: 0 HPUs\n",
      "C:\\Users\\soner\\anaconda3\\envs\\reinforce\\Lib\\site-packages\\lightning\\pytorch\\trainer\\connectors\\logger_connector\\logger_connector.py:76: Starting from v1.9.0, `tensorboardX` has been removed as a dependency of the `lightning.pytorch` package, due to potential conflicts with other packages in the ML ecosystem. For this reason, `logger=True` will use `CSVLogger` as the default logger, unless the `tensorboard` or `tensorboardX` packages are found. Please `pip install lightning[extra]` or one of them to enable TensorBoard support by default\n",
      "Overriding gradient_clip_val to None for 'automatic_optimization=False' models\n"
     ]
    }
   ],
   "execution_count": null
  },
  {
   "metadata": {},
   "cell_type": "markdown",
   "source": "# Scheduling of the Trained Model",
   "id": "c745caec590b783"
  },
  {
   "metadata": {},
   "cell_type": "code",
   "outputs": [],
   "execution_count": null,
   "source": [
    "td_init = td_init.to(device)\n",
    "# same for the policy\n",
    "policy = model.policy.to(device=device)"
   ],
   "id": "58d4d689288e4d03"
  },
  {
   "metadata": {},
   "cell_type": "markdown",
   "source": "### Greedy",
   "id": "75367397cc1cf390"
  },
  {
   "metadata": {},
   "cell_type": "code",
   "outputs": [],
   "execution_count": null,
   "source": [
    "out_trained_greedy = policy(td_init.clone(), env, phase=\"test\", decode_type=\"greedy\")\n",
    "\n",
    "print(\"Trained greedy output with the makespan \", out_trained_greedy[\"reward\"][0])"
   ],
   "id": "de2d2b0c8f1d9255"
  },
  {
   "metadata": {},
   "cell_type": "code",
   "outputs": [],
   "execution_count": null,
   "source": "env.render(out_trained_greedy[\"td\"] , 0)",
   "id": "c3ab75ed94beb945"
  },
  {
   "metadata": {},
   "cell_type": "markdown",
   "source": "### Multistart",
   "id": "1600ad47253bd1df"
  },
  {
   "metadata": {},
   "cell_type": "code",
   "outputs": [],
   "execution_count": null,
   "source": [
    "out_trained_multistart = policy.generate(td_init.clone(), env=env, phase=\"test\", decode_type=\"multistart_sampling\", num_starts=100, select_best=True)\n",
    "print(f\"Trained Multistart - Rewards: {[f'{-r.item():.2f}' for r in out_trained_multistart['reward']]}\")\n"
   ],
   "id": "3c22c67e1a4336d"
  },
  {
   "metadata": {},
   "cell_type": "code",
   "outputs": [],
   "execution_count": null,
   "source": "env.render(out_trained_multistart[\"td\"] , 0)",
   "id": "94249620e69141e8"
  },
  {
   "metadata": {},
   "cell_type": "markdown",
   "source": "# Test on Taillard Benchmark",
   "id": "bc9fe9068db0cbf2"
  },
  {
   "metadata": {},
   "cell_type": "code",
   "outputs": [],
   "execution_count": null,
   "source": "! git clone https://github.com/tamy0612/JSPLIB.git",
   "id": "61530f0d11e37fcf"
  },
  {
   "metadata": {},
   "cell_type": "code",
   "outputs": [],
   "execution_count": null,
   "source": [
    "import json\n",
    "import os\n",
    "\n",
    "\n",
    "def prepare_taillard_data(nj, nm):\n",
    "    # Target folder for Taillard instances\n",
    "    fp = f\"taillard/{nj}x{nm}\"\n",
    "\n",
    "    if not os.path.exists(fp):\n",
    "        os.makedirs(fp)\n",
    "\n",
    "    # Load the JSON file\n",
    "    with open('JSPLIB/instances.json', 'r') as file:\n",
    "        data = json.load(file)\n",
    "\n",
    "    # Filter Taillard instances with matching jobs and machines\n",
    "    instances = [x for x in data if \"ta\" in x[\"name\"] and x[\"jobs\"] == nj and x[\"machines\"] == nm]\n",
    "    print(f\"Found {len(instances)} instances for {nj} jobs and {nm} machines\")\n",
    "\n",
    "    if not instances:\n",
    "        raise FileNotFoundError(f\"No matching Taillard instances found for {nj}x{nm}\")\n",
    "\n",
    "    # Copy files and validate\n",
    "    for instance in instances:\n",
    "        source_path = os.path.join(\"JSPLIB\", instance['path'])\n",
    "        target_path = os.path.join(fp, f\"{instance['name']}.txt\")\n",
    "\n",
    "        # Check if the source file exists\n",
    "        if os.path.exists(source_path):\n",
    "            print(f\"Copying {source_path} to {target_path}\")\n",
    "            os.system(f\"cp {source_path} {target_path}\")\n",
    "        else:\n",
    "            print(f\"Warning: Source file {source_path} does not exist\")\n",
    "\n",
    "    # Verify if files were copied\n",
    "    files_in_target = os.listdir(fp)\n",
    "    assert len(files_in_target) > 0, f\"No files copied to {fp}. Check source paths.\"\n",
    "    print(f\"Successfully prepared {len(files_in_target)} files in {fp}\")"
   ],
   "id": "75f3432bba5b1aa7"
  },
  {
   "metadata": {},
   "cell_type": "code",
   "outputs": [],
   "execution_count": null,
   "source": [
    "import gc\n",
    "\n",
    "device = \"cuda\" if torch.cuda.is_available() else \"cpu\"\n",
    "\n",
    "# path to taillard instances\n",
    "FILE_PATH = \"taillard/{nj}x{nm}\"\n",
    "\n",
    "results = {}\n",
    "instance_types = [(15, 15), (20, 15), (20, 20), (30, 15), (30, 20)]\n",
    "\n",
    "for instance_type in instance_types:\n",
    "    print(\"------------\")\n",
    "    nj, nm = instance_type\n",
    "    prepare_taillard_data(nj, nm)\n",
    "    dataset = env.dataset(batch_size=[10], phase=\"test\", filename=FILE_PATH.format(nj=nj, nm=nm))\n",
    "    dl = DataLoader(dataset, batch_size=5, collate_fn=dataset.collate_fn)\n",
    "    rewards = []\n",
    "\n",
    "    for batch in dl:\n",
    "        td = env.reset(batch).to(device)\n",
    "        # use policy.generate to avoid grad calculations which can lead to oom\n",
    "        out = model.policy.generate(td, env=env, phase=\"test\", decode_type=\"multistart_sampling\", num_starts=100, select_best=True)\n",
    "        rewards.append(out[\"reward\"])\n",
    "\n",
    "    reward = torch.cat(rewards, dim=0).mean().item()\n",
    "    results[instance_type] = reward\n",
    "\n",
    "    print(\"Done evaluating instance type %s with reward %s\" % (instance_type, reward))\n",
    "\n",
    "    # avoid ooms due to cache not being cleared\n",
    "    model.rb.empty()\n",
    "    gc.collect()\n",
    "    torch.cuda.empty_cache()"
   ],
   "id": "c9c155cb24a9360d"
  },
  {
   "metadata": {},
   "cell_type": "code",
   "outputs": [],
   "execution_count": null,
   "source": "wandb.finish()",
   "id": "8b48dccb2f897743"
  }
 ],
 "metadata": {
  "kernelspec": {
   "display_name": "Python 3",
   "language": "python",
   "name": "python3"
  },
  "language_info": {
   "codemirror_mode": {
    "name": "ipython",
    "version": 2
   },
   "file_extension": ".py",
   "mimetype": "text/x-python",
   "name": "python",
   "nbconvert_exporter": "python",
   "pygments_lexer": "ipython2",
   "version": "2.7.6"
  }
 },
 "nbformat": 4,
 "nbformat_minor": 5
}
