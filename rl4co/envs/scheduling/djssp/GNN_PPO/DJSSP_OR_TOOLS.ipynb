{
 "cells": [
  {
   "cell_type": "code",
   "id": "initial_id",
   "metadata": {
    "ExecuteTime": {
     "end_time": "2025-01-01T23:24:40.825434Z",
     "start_time": "2025-01-01T23:24:40.531608Z"
    }
   },
   "source": [
    "from time import process_time\n",
    "\n",
    "import torch\n",
    "from rl4co.envs.scheduling.djssp.env import DJSSPEnv\n",
    "from rl4co.models import L2DPolicy, L2DModel\n",
    "from rl4co.utils import RL4COTrainer\n",
    "import gc\n",
    "from rl4co.envs import JSSPEnv\n",
    "from rl4co.models.zoo.l2d.model import L2DPPOModel\n",
    "from rl4co.models.zoo.l2d.policy import L2DPolicy4PPO\n",
    "from torch.utils.data import DataLoader\n",
    "import json\n",
    "import os\n",
    "%load_ext autoreload\n",
    "%autoreload 2\n",
    "generator_params = {\n",
    "    \"num_jobs\" : 6 ,\n",
    "    \"num_machines\":  6 ,\n",
    "    \"min_processing_time\": 1 ,\n",
    "    \"max_processing_time\": 99 ,\n",
    "    \"mtbf\" : 17 ,\n",
    "    \"mttr\" : 4\n",
    "}\n",
    "env = DJSSPEnv(generator_params=generator_params,\n",
    "               _torchrl_mode=True,\n",
    "            stepwise_reward=True)"
   ],
   "outputs": [
    {
     "name": "stdout",
     "output_type": "stream",
     "text": [
      "The autoreload extension is already loaded. To reload it, use:\n",
      "  %reload_ext autoreload\n"
     ]
    }
   ],
   "execution_count": 477
  },
  {
   "cell_type": "code",
   "id": "1b15ac74531b553f",
   "metadata": {
    "ExecuteTime": {
     "end_time": "2025-01-01T23:24:41.161237Z",
     "start_time": "2025-01-01T23:24:40.859372Z"
    }
   },
   "source": [
    "td = env.reset(batch_size=[1]) "
   ],
   "outputs": [],
   "execution_count": 478
  },
  {
   "cell_type": "code",
   "id": "c04a9dc03ecaf00b",
   "metadata": {
    "ExecuteTime": {
     "end_time": "2025-01-01T23:24:41.364548Z",
     "start_time": "2025-01-01T23:24:41.161237Z"
    }
   },
   "source": [
    "td[\"start_op_per_job\"].size(1)"
   ],
   "outputs": [
    {
     "data": {
      "text/plain": [
       "6"
      ]
     },
     "execution_count": 479,
     "metadata": {},
     "output_type": "execute_result"
    }
   ],
   "execution_count": 479
  },
  {
   "cell_type": "code",
   "id": "36732673fa62c3d1",
   "metadata": {
    "ExecuteTime": {
     "end_time": "2025-01-01T23:24:41.698682Z",
     "start_time": "2025-01-01T23:24:41.414263Z"
    }
   },
   "source": [
    "\n",
    "import collections\n",
    "from ortools.sat.python import cp_model\n",
    "\n",
    "# job arrival times\n",
    "arrival_times = td[\"job_arrival_times\"][0]\n",
    "\n",
    "# [[operation_id, machine_id, proc_time]]\n",
    "fin = env.get_op_ma_proctime(td)\n",
    "\n",
    "# create the jobs_data array\n",
    "# [ job [machine_no , proc_time]]\n",
    "jobs_data = []\n",
    "num_jobs = td[\"start_op_per_job\"].size(1)\n",
    "\n",
    "# add empty array for each job in jobs_data\n",
    "for i in range(num_jobs):\n",
    "    jobs_data.append([])\n",
    "\n",
    "for x in range ((num_jobs*num_jobs+1)-1):\n",
    "    # her job esit sayida operation'a sahip\n",
    "    job_no = x // num_jobs\n",
    "    # task (machine_id , processing_time)\n",
    "    task = (fin[x][1] , fin[x][2])\n",
    "    jobs_data[job_no].append(task)\n",
    "\n",
    "\n",
    "#horizon = torch.sum(td[\"proc_times\"][0]).item()\n",
    "horizon = sum(op[2] for op in fin)\n",
    "\n",
    "\n",
    "\n",
    "# declare the model\n",
    "model = cp_model.CpModel()\n",
    "\n",
    "\n",
    "                            # define the variables\n",
    "# create a named tuple to store information about created varibles\n",
    "task_type = collections.namedtuple(\"task_type\" , \"start end interval\")\n",
    "\n",
    "# create a named tuple to manipulate solution information\n",
    "assigned_task_type = collections.namedtuple(\"assigned_task_type\" , \"start job index duration\")\n",
    "\n",
    "# create job intervals and add to the corresponding MACHINE LIST\n",
    "all_task = {}\n",
    "machine_to_intervals = collections.defaultdict(list)\n",
    "\n",
    "all_machines = range(env.num_mas)\n",
    "\n",
    "# OR-Tools does not support float type numbers therefore we reound all of them\n",
    "\n",
    "for job_id , job in enumerate(jobs_data):\n",
    "    for task_id, task in enumerate(job):\n",
    "        # get the machine id and the duration from the task\n",
    "        machine , duration = task\n",
    "        # AttributeError: 'float' object has no attribute 'get_integer_var_value_map'\n",
    "        duration = int(duration) +1\n",
    "        suffix = f\"_{job_id}_{task_id}\"\n",
    "        #Create an integer variable with domain [lb, ub]. [0,horizon] \"start time of the specific task\"\n",
    "        # TypeError: __init__(): incompatible constructor arguments. The following argument types are supported:\n",
    "        # 1. ortools.util.python.sorted_interval_list.Domain(arg0: int, arg1: int)\n",
    "        # Invoked with: 0, 1929.2211356163025\n",
    "        horizon = int(horizon) +1\n",
    "        # start time of the task is created here\n",
    "        job_arrival_time= int(arrival_times[job_id].item())+1\n",
    "\n",
    "        # start_var = model.new_int_var(0 , horizon , \"start\"+ suffix)\n",
    "        start_var = model.new_int_var(job_arrival_time , horizon , \"start\"+ suffix)\n",
    "\n",
    "        # create ending time of the specific task using constraint programming model (end_0_0...)\n",
    "        # final/end time of the specific task is created here\n",
    "        # end_var = model.new_int_var(0, horizon , \"end\"+ suffix)\n",
    "        end_var = model.new_int_var(job_arrival_time, horizon , \"end\"+ suffix)\n",
    "        #  create interval variable from start_var duration end_var (interval_0_2.....)\n",
    "        interval_var = model.new_interval_var(\n",
    "            start_var, duration , end_var , \"interval\" + suffix\n",
    "        )\n",
    "\n",
    "        #TODO: machine breakdowns\n",
    "        # create updated_end variable to use if there is a machine breakdown\n",
    "        updated_end = model.new_int_var(0, horizon, \"adjusted_end\" + suffix)\n",
    "        # extract the breakdowns of the machine\n",
    "        breakdowns = td[\"machine_breakdowns\"][0,machine]\n",
    "        # extract the breakdown occurrence times\n",
    "        occurrences = breakdowns[::2]  # to get the only even indices (occurrence times)\n",
    "        # extract the breakdown durations\n",
    "        durations = breakdowns[1::2]  # to get the only odd indices (durations)\n",
    "\n",
    "        # we need to add constraint on breakdown\n",
    "        for breakdwn_no in range(occurrences.size(0)-1):\n",
    "            # occurence time\n",
    "            occ_time = int(occurrences[breakdwn_no].item())\n",
    "            # duration\n",
    "            duration = int(durations[breakdwn_no].item())+1\n",
    "            # i have padded the tensor with values 0 if there is no breakdown, therefore ignore these\n",
    "            if occ_time==0 and duration==0:\n",
    "                continue\n",
    "            #todo: burayi comment out yaptim\n",
    "            # check if breakdown happens when an operation is being processed on machine\n",
    "            # create condition variable\n",
    "            breakdown_condition = model.new_bool_var(f\"breakdown_{suffix}_{breakdwn_no}\")\n",
    "            # same logic as in makestep\n",
    "            # operation starts before breakdown ends\n",
    "            model.add( start_var < (occ_time + duration)).only_enforce_if(breakdown_condition)\n",
    "            # operation ends after breakdowns starts\n",
    "            model.add( (start_var + duration)>occ_time ).only_enforce_if(breakdown_condition)\n",
    "\n",
    "            # if there is breakdown add duration to the updated end\n",
    "            model.add(updated_end == end_var + duration).only_enforce_if(breakdown_condition)\n",
    "\n",
    "        # if there is no breakdown during operaion then updated_end  = end_var\n",
    "        no_breakdown = model.new_bool_var(f\"no_breakdown_{suffix}\")\n",
    "        model.add(updated_end == end_var).only_enforce_if(no_breakdown)\n",
    "        model.add_bool_or([no_breakdown] + [model.new_bool_var(f\"breakdown_{suffix}_{idx}\") for idx in range(occurrences.size(0))])\n",
    "\n",
    "        # add all the task's with start,interval,end informations in all_task dict\n",
    "        all_task [ job_id , task_id ] = task_type(\n",
    "            start = start_var,\n",
    "            end = end_var,\n",
    "            interval = interval_var\n",
    "        )\n",
    "        #            end = updated_end,\n",
    "\n",
    "        # add at each machine index the operations/tasks interval where it containes start, end, duration\n",
    "        machine_to_intervals[machine].append(interval_var)\n",
    "\n"
   ],
   "outputs": [
    {
     "name": "stderr",
     "output_type": "stream",
     "text": [
      "C:\\Users\\soner\\Desktop\\rl4co\\rl4co\\envs\\scheduling\\djssp\\env.py:848: UserWarning: To copy construct from a tensor, it is recommended to use sourceTensor.clone().detach() or sourceTensor.clone().detach().requires_grad_(True), rather than torch.tensor(sourceTensor).\n",
      "  data = torch.tensor(td[\"proc_times\"][0])\n"
     ]
    }
   ],
   "execution_count": 480
  },
  {
   "cell_type": "code",
   "id": "4bbd1348d67cf2ae",
   "metadata": {
    "ExecuteTime": {
     "end_time": "2025-01-01T23:24:41.902627Z",
     "start_time": "2025-01-01T23:24:41.704236Z"
    }
   },
   "source": [
    "# DEFINE THE CONSTRAINTS\n",
    "\n",
    "# create and add disjunctive constraints\n",
    "for machine in all_machines:\n",
    "    # use add_no_overlap method to create no overlap constrains\n",
    "    # to prevent tasks for the same machine from overlapping time\n",
    "    model.add_no_overlap(machine_to_intervals[machine])\n",
    "\n",
    "\n",
    "# precedences inside a job\n",
    "for job_id , job in enumerate(jobs_data):\n",
    "    for task_id in range(len(job) -1 ):\n",
    "        model.add(\n",
    "            all_task[ job_id , task_id +1 ].start >= all_task[ job_id , task_id].end\n",
    "        )\n"
   ],
   "outputs": [],
   "execution_count": 481
  },
  {
   "cell_type": "markdown",
   "id": "978c0c45ff7039c",
   "metadata": {},
   "source": [
    "## Define the objective\n",
    "    - This code creates an objective variable and constrains it to be the max of the end of all jobs."
   ]
  },
  {
   "cell_type": "code",
   "id": "daad51573c7040e1",
   "metadata": {
    "ExecuteTime": {
     "end_time": "2025-01-01T23:24:42.122129Z",
     "start_time": "2025-01-01T23:24:41.927249Z"
    }
   },
   "source": [
    "# Makespan objective\n",
    "#create a new integer variable for the makespan (obj_var is the makespan)\n",
    "obj_var = model.new_int_var(0 , horizon , \"makespan\") #makespan(0..21)\n",
    "\n",
    "# add constraint to make sthe makespan to the last task of all jobs\n",
    "# obj_var(makespan) is equal to latest end time of all task\n",
    "# obj_var == max (ebd times of all tasks)\n",
    "model.add_max_equality(\n",
    "    obj_var , [all_task[ job_id , len(job) -1 ].end for job_id , job in enumerate(jobs_data)],\n",
    "                       )\n",
    "\n",
    "# set objective to minimize the makespan\n",
    "model.minimize(obj_var)"
   ],
   "outputs": [],
   "execution_count": 482
  },
  {
   "cell_type": "markdown",
   "id": "e087e9aa98ac5bb4",
   "metadata": {},
   "source": [
    "# Invoke the solver\n"
   ]
  },
  {
   "cell_type": "code",
   "id": "d437a856e53ade46",
   "metadata": {
    "ExecuteTime": {
     "end_time": "2025-01-01T23:24:42.374258Z",
     "start_time": "2025-01-01T23:24:42.146371Z"
    }
   },
   "source": [
    "solver = cp_model.CpSolver()\n",
    "status = solver.solve(model)"
   ],
   "outputs": [],
   "execution_count": 483
  },
  {
   "cell_type": "code",
   "id": "94c1d84edf88302e",
   "metadata": {
    "ExecuteTime": {
     "end_time": "2025-01-01T23:24:42.592473Z",
     "start_time": "2025-01-01T23:24:42.396551Z"
    }
   },
   "source": [
    "# Check if solution was found\n",
    "if status == cp_model.OPTIMAL or status == cp_model.FEASIBLE:\n",
    "    print(\"Solution:\")\n",
    "    # Create one list of assigned tasks per machine\n",
    "    # keys = mcahine IDs (0,1,2.---)\n",
    "    # values = list of tasks assigned to each machine\n",
    "    assigned_jobs = collections.defaultdict(list)\n",
    "    # iterate through all jobs\n",
    "    for job_id, job in enumerate(jobs_data):\n",
    "        # job_id = ID of the job 0,1,2..\n",
    "        # job = list of tasks for that job [(0, 3), (1, 2), (2, 2)]\n",
    "\n",
    "        # iterate over tasks for that job\n",
    "        for task_id, task in enumerate(job):\n",
    "            #task_id = index of the task in job  0,1,2..\n",
    "            # task tuple (0, 3) : (machine_id, proc_time)\n",
    "\n",
    "            machine = task[0]\n",
    "            # add tasks details to the machines list\n",
    "            assigned_jobs[machine].append(\n",
    "                assigned_task_type(\n",
    "                    start=solver.value(all_task[job_id, task_id].start),\n",
    "                    job=job_id,\n",
    "                    index=task_id,\n",
    "                    duration=task[1],\n",
    "                )\n",
    "            )\n",
    "    # Create per machine output lines.\n",
    "    output = \"\"\n",
    "    for machine in all_machines:\n",
    "        # Sort by starting time.\n",
    "        assigned_jobs[machine].sort()\n",
    "        sol_line_tasks = \"Machine \" + str(machine) + \": \"\n",
    "        sol_line = \"              \"\n",
    "\n",
    "        for assigned_task in assigned_jobs[machine]:\n",
    "            name = f\"job_{assigned_task.job}_task_{assigned_task.index}       \"\n",
    "            # add spaces to output to align columns.\n",
    "            sol_line_tasks += f\"{name:15}\"\n",
    "            # TODO: !!!!!!!!\n",
    "            start = assigned_task.start\n",
    "            duration = assigned_task.duration\n",
    "            sol_tmp = f\"[{start},{start + duration}]\"\n",
    "            # add spaces to output to align columns.\n",
    "            sol_line += f\"{sol_tmp:15}\"\n",
    "\n",
    "        sol_line += \"\\n\"\n",
    "        sol_line_tasks += \"\\n\"\n",
    "        output += sol_line_tasks\n",
    "        output += sol_line\n",
    "\n",
    "    # Finally print the solution found.\n",
    "    print(f\"Optimal Schedule Length: {solver.objective_value}\")\n",
    "    print(output)\n",
    "else:\n",
    "    print(\"No solution found.\")"
   ],
   "outputs": [
    {
     "name": "stdout",
     "output_type": "stream",
     "text": [
      "Solution:\n",
      "Optimal Schedule Length: 818.0\n",
      "Machine 0: job_1_task_3       job_2_task_2       job_0_task_4       job_5_task_4       job_3_task_5       job_4_task_5       \n",
      "              [319,352.6509323120117][353,428.61541748046875][429,430.0350989103317][518,532.4734506607056][623,716.3310546875][731,817.1169738769531]\n",
      "Machine 1: job_2_task_0       job_0_task_3       job_3_task_1       job_1_task_4       job_5_task_3       job_4_task_4       \n",
      "              [189,259.2629623413086][260,323.9852867126465][348,365.30669593811035][366,421.922119140625][509,517.9966859817505][659,730.3690643310547]\n",
      "Machine 2: job_0_task_2       job_1_task_1       job_4_task_0       job_5_task_5       job_3_task_4       job_2_task_5       \n",
      "              [122,222.28093719482422][223,285.85128021240234][319,388.4849090576172][533,562.8181495666504][593,622.12917137146][680,707.0809097290039]\n",
      "Machine 3: job_0_task_0       job_1_task_2       job_4_task_1       job_5_task_2       job_3_task_3       job_2_task_4       \n",
      "              [48,57.76816940307617][286,318.8943901062012][389,405.9701385498047][449,508.00450897216797][509,592.9979248046875][593,679.5526733398438]\n",
      "Machine 4: job_0_task_1       job_3_task_0       job_5_task_1       job_2_task_3       job_1_task_5       job_4_task_3       \n",
      "              [58,121.10747146606445][252,347.69615173339844][382,448.7684783935547][449,457.2188367843628][458,463.3274760246277][567,658.5322341918945]\n",
      "Machine 5: job_1_task_0       job_2_task_1       job_5_task_0       job_3_task_2       job_4_task_2       job_0_task_5       \n",
      "              [57,140.2041778564453][260,320.08183670043945][335,381.273983001709][382,489.76426696777344][490,566.7877426147461][567,571.2435083389282]\n",
      "\n"
     ]
    }
   ],
   "execution_count": 484
  },
  {
   "cell_type": "markdown",
   "id": "addeeec14a0d57c0",
   "metadata": {},
   "source": [
    "- machine breakdown'lari bir sekilde eklemek gerekiyor"
   ]
  },
  {
   "cell_type": "code",
   "id": "3576269c9f4ee6ff",
   "metadata": {
    "ExecuteTime": {
     "end_time": "2025-01-01T23:24:42.824807Z",
     "start_time": "2025-01-01T23:24:42.617772Z"
    }
   },
   "source": [
    "td[\"job_arrival_times\"]"
   ],
   "outputs": [
    {
     "data": {
      "text/plain": [
       "tensor([[ 47.4129,  56.5622, 188.9430, 251.7938, 318.0958, 334.0412]])"
      ]
     },
     "execution_count": 485,
     "metadata": {},
     "output_type": "execute_result"
    }
   ],
   "execution_count": 485
  },
  {
   "cell_type": "code",
   "id": "94e4a05a4b9cad54",
   "metadata": {
    "ExecuteTime": {
     "end_time": "2025-01-01T23:24:43.126237Z",
     "start_time": "2025-01-01T23:24:42.883878Z"
    }
   },
   "source": [
    "td[\"proc_times\"][0]"
   ],
   "outputs": [
    {
     "data": {
      "text/plain": [
       "tensor([[  0.0000,   0.0000,   0.0000,   0.0000,   1.0351,   0.0000,   0.0000,\n",
       "           0.0000,   0.0000,  33.6509,   0.0000,   0.0000,   0.0000,   0.0000,\n",
       "          75.6154,   0.0000,   0.0000,   0.0000,   0.0000,   0.0000,   0.0000,\n",
       "           0.0000,   0.0000,  93.3311,   0.0000,   0.0000,   0.0000,   0.0000,\n",
       "           0.0000,  86.1170,   0.0000,   0.0000,   0.0000,   0.0000,  14.4735,\n",
       "           0.0000],\n",
       "        [  0.0000,   0.0000,   0.0000,  63.9853,   0.0000,   0.0000,   0.0000,\n",
       "           0.0000,   0.0000,   0.0000,  55.9221,   0.0000,  70.2630,   0.0000,\n",
       "           0.0000,   0.0000,   0.0000,   0.0000,   0.0000,  17.3067,   0.0000,\n",
       "           0.0000,   0.0000,   0.0000,   0.0000,   0.0000,   0.0000,   0.0000,\n",
       "          71.3691,   0.0000,   0.0000,   0.0000,   0.0000,   8.9967,   0.0000,\n",
       "           0.0000],\n",
       "        [  0.0000,   0.0000, 100.2809,   0.0000,   0.0000,   0.0000,   0.0000,\n",
       "          62.8513,   0.0000,   0.0000,   0.0000,   0.0000,   0.0000,   0.0000,\n",
       "           0.0000,   0.0000,   0.0000,  27.0809,   0.0000,   0.0000,   0.0000,\n",
       "           0.0000,  29.1292,   0.0000,  69.4849,   0.0000,   0.0000,   0.0000,\n",
       "           0.0000,   0.0000,   0.0000,   0.0000,   0.0000,   0.0000,   0.0000,\n",
       "          29.8181],\n",
       "        [  9.7682,   0.0000,   0.0000,   0.0000,   0.0000,   0.0000,   0.0000,\n",
       "           0.0000,  32.8944,   0.0000,   0.0000,   0.0000,   0.0000,   0.0000,\n",
       "           0.0000,   0.0000,  86.5527,   0.0000,   0.0000,   0.0000,   0.0000,\n",
       "          83.9979,   0.0000,   0.0000,   0.0000,  16.9701,   0.0000,   0.0000,\n",
       "           0.0000,   0.0000,   0.0000,   0.0000,  59.0045,   0.0000,   0.0000,\n",
       "           0.0000],\n",
       "        [  0.0000,  63.1075,   0.0000,   0.0000,   0.0000,   0.0000,   0.0000,\n",
       "           0.0000,   0.0000,   0.0000,   0.0000,   5.3275,   0.0000,   0.0000,\n",
       "           0.0000,   8.2188,   0.0000,   0.0000,  95.6962,   0.0000,   0.0000,\n",
       "           0.0000,   0.0000,   0.0000,   0.0000,   0.0000,   0.0000,  91.5322,\n",
       "           0.0000,   0.0000,   0.0000,  66.7685,   0.0000,   0.0000,   0.0000,\n",
       "           0.0000],\n",
       "        [  0.0000,   0.0000,   0.0000,   0.0000,   0.0000,   4.2435,  83.2042,\n",
       "           0.0000,   0.0000,   0.0000,   0.0000,   0.0000,   0.0000,  60.0818,\n",
       "           0.0000,   0.0000,   0.0000,   0.0000,   0.0000,   0.0000, 107.7643,\n",
       "           0.0000,   0.0000,   0.0000,   0.0000,   0.0000,  76.7877,   0.0000,\n",
       "           0.0000,   0.0000,  46.2740,   0.0000,   0.0000,   0.0000,   0.0000,\n",
       "           0.0000]])"
      ]
     },
     "execution_count": 486,
     "metadata": {},
     "output_type": "execute_result"
    }
   ],
   "execution_count": 486
  },
  {
   "cell_type": "code",
   "id": "f66717e31e467e36",
   "metadata": {
    "ExecuteTime": {
     "end_time": "2025-01-01T23:24:43.517814Z",
     "start_time": "2025-01-01T23:24:43.216318Z"
    }
   },
   "source": [
    "252 + 9.167562"
   ],
   "outputs": [
    {
     "data": {
      "text/plain": [
       "261.167562"
      ]
     },
     "execution_count": 487,
     "metadata": {},
     "output_type": "execute_result"
    }
   ],
   "execution_count": 487
  },
  {
   "cell_type": "code",
   "id": "6ff814715dfa6485",
   "metadata": {
    "ExecuteTime": {
     "end_time": "2025-01-01T23:24:43.768142Z",
     "start_time": "2025-01-01T23:24:43.568578Z"
    }
   },
   "source": [
    "print(td[\"machine_breakdowns\"][0])"
   ],
   "outputs": [
    {
     "name": "stdout",
     "output_type": "stream",
     "text": [
      "tensor([[4.6538e+01, 5.0296e+00, 6.3100e+01, 1.0097e+01, 1.3300e+02, 6.9801e+00,\n",
      "         2.7412e+02, 1.0043e+00, 5.5139e+02, 9.9975e+00, 1.1137e+03, 7.5229e-02,\n",
      "         2.2202e+03, 8.8703e-01, 4.4504e+03, 3.7722e+00, 0.0000e+00, 0.0000e+00,\n",
      "         0.0000e+00, 0.0000e+00, 0.0000e+00, 0.0000e+00, 0.0000e+00, 0.0000e+00,\n",
      "         0.0000e+00, 0.0000e+00, 0.0000e+00, 0.0000e+00, 0.0000e+00, 0.0000e+00,\n",
      "         0.0000e+00, 0.0000e+00, 0.0000e+00],\n",
      "        [8.9034e+00, 3.2588e+00, 1.3309e+01, 3.5548e+00, 3.1885e+01, 3.2662e+00,\n",
      "         7.1873e+01, 2.8204e+00, 1.4057e+02, 3.5399e-01, 2.8055e+02, 9.2605e+00,\n",
      "         5.7872e+02, 3.7138e-01, 1.1748e+03, 2.7541e+00, 2.3613e+03, 7.6855e+00,\n",
      "         4.7021e+03, 1.2679e+00, 0.0000e+00, 0.0000e+00, 0.0000e+00, 0.0000e+00,\n",
      "         0.0000e+00, 0.0000e+00, 0.0000e+00, 0.0000e+00, 0.0000e+00, 0.0000e+00,\n",
      "         0.0000e+00, 0.0000e+00, 0.0000e+00],\n",
      "        [1.8262e+01, 4.8151e-01, 6.3443e+01, 6.5475e+00, 1.5014e+02, 2.4163e+00,\n",
      "         2.5974e+02, 3.7382e+00, 5.0585e+02, 6.1469e+00, 1.0227e+03, 2.8787e-02,\n",
      "         2.0575e+03, 4.6114e-01, 4.0982e+03, 1.3811e+00, 0.0000e+00, 0.0000e+00,\n",
      "         0.0000e+00, 0.0000e+00, 0.0000e+00, 0.0000e+00, 0.0000e+00, 0.0000e+00,\n",
      "         0.0000e+00, 0.0000e+00, 0.0000e+00, 0.0000e+00, 0.0000e+00, 0.0000e+00,\n",
      "         0.0000e+00, 0.0000e+00, 0.0000e+00],\n",
      "        [4.0178e+00, 1.6121e+00, 1.1853e+01, 2.5850e+00, 2.8223e+01, 6.4411e+00,\n",
      "         5.7850e+01, 6.7679e-01, 1.1544e+02, 1.4593e+00, 2.9070e+02, 5.5912e-01,\n",
      "         5.2451e+02, 3.1139e+00, 1.0564e+03, 2.6969e+00, 2.1229e+03, 2.1493e+00,\n",
      "         4.2977e+03, 5.2449e+00, 0.0000e+00, 0.0000e+00, 0.0000e+00, 0.0000e+00,\n",
      "         0.0000e+00, 0.0000e+00, 0.0000e+00, 0.0000e+00, 0.0000e+00, 0.0000e+00,\n",
      "         0.0000e+00, 0.0000e+00, 0.0000e+00],\n",
      "        [1.9439e-01, 1.6998e+00, 2.2960e+01, 3.2594e+00, 3.5535e+01, 1.3425e+00,\n",
      "         8.1988e+01, 1.5442e+01, 1.8186e+02, 1.7920e+00, 3.4773e+02, 1.0751e+01,\n",
      "         7.0584e+02, 5.1343e+00, 1.4225e+03, 3.4162e+00, 2.8416e+03, 5.9729e+00,\n",
      "         0.0000e+00, 0.0000e+00, 0.0000e+00, 0.0000e+00, 0.0000e+00, 0.0000e+00,\n",
      "         0.0000e+00, 0.0000e+00, 0.0000e+00, 0.0000e+00, 0.0000e+00, 0.0000e+00,\n",
      "         0.0000e+00, 0.0000e+00, 0.0000e+00],\n",
      "        [2.4822e+01, 1.4033e+01, 8.9059e+01, 5.1630e-01, 1.4228e+02, 8.4861e-01,\n",
      "         2.7451e+02, 3.4987e+00, 5.5187e+02, 2.2279e+00, 1.1043e+03, 1.9767e+00,\n",
      "         2.2167e+03, 8.4997e+00, 4.4424e+03, 4.7630e+00, 0.0000e+00, 0.0000e+00,\n",
      "         0.0000e+00, 0.0000e+00, 0.0000e+00, 0.0000e+00, 0.0000e+00, 0.0000e+00,\n",
      "         0.0000e+00, 0.0000e+00, 0.0000e+00, 0.0000e+00, 0.0000e+00, 0.0000e+00,\n",
      "         0.0000e+00, 0.0000e+00, 0.0000e+00]])\n"
     ]
    }
   ],
   "execution_count": 488
  },
  {
   "cell_type": "code",
   "id": "4ab69a96d72ac015",
   "metadata": {
    "ExecuteTime": {
     "end_time": "2025-01-01T23:24:44.043257Z",
     "start_time": "2025-01-01T23:24:43.782070Z"
    }
   },
   "source": [
    "td[\"machine_breakdowns\"][0]"
   ],
   "outputs": [
    {
     "data": {
      "text/plain": [
       "tensor([[4.6538e+01, 5.0296e+00, 6.3100e+01, 1.0097e+01, 1.3300e+02, 6.9801e+00,\n",
       "         2.7412e+02, 1.0043e+00, 5.5139e+02, 9.9975e+00, 1.1137e+03, 7.5229e-02,\n",
       "         2.2202e+03, 8.8703e-01, 4.4504e+03, 3.7722e+00, 0.0000e+00, 0.0000e+00,\n",
       "         0.0000e+00, 0.0000e+00, 0.0000e+00, 0.0000e+00, 0.0000e+00, 0.0000e+00,\n",
       "         0.0000e+00, 0.0000e+00, 0.0000e+00, 0.0000e+00, 0.0000e+00, 0.0000e+00,\n",
       "         0.0000e+00, 0.0000e+00, 0.0000e+00],\n",
       "        [8.9034e+00, 3.2588e+00, 1.3309e+01, 3.5548e+00, 3.1885e+01, 3.2662e+00,\n",
       "         7.1873e+01, 2.8204e+00, 1.4057e+02, 3.5399e-01, 2.8055e+02, 9.2605e+00,\n",
       "         5.7872e+02, 3.7138e-01, 1.1748e+03, 2.7541e+00, 2.3613e+03, 7.6855e+00,\n",
       "         4.7021e+03, 1.2679e+00, 0.0000e+00, 0.0000e+00, 0.0000e+00, 0.0000e+00,\n",
       "         0.0000e+00, 0.0000e+00, 0.0000e+00, 0.0000e+00, 0.0000e+00, 0.0000e+00,\n",
       "         0.0000e+00, 0.0000e+00, 0.0000e+00],\n",
       "        [1.8262e+01, 4.8151e-01, 6.3443e+01, 6.5475e+00, 1.5014e+02, 2.4163e+00,\n",
       "         2.5974e+02, 3.7382e+00, 5.0585e+02, 6.1469e+00, 1.0227e+03, 2.8787e-02,\n",
       "         2.0575e+03, 4.6114e-01, 4.0982e+03, 1.3811e+00, 0.0000e+00, 0.0000e+00,\n",
       "         0.0000e+00, 0.0000e+00, 0.0000e+00, 0.0000e+00, 0.0000e+00, 0.0000e+00,\n",
       "         0.0000e+00, 0.0000e+00, 0.0000e+00, 0.0000e+00, 0.0000e+00, 0.0000e+00,\n",
       "         0.0000e+00, 0.0000e+00, 0.0000e+00],\n",
       "        [4.0178e+00, 1.6121e+00, 1.1853e+01, 2.5850e+00, 2.8223e+01, 6.4411e+00,\n",
       "         5.7850e+01, 6.7679e-01, 1.1544e+02, 1.4593e+00, 2.9070e+02, 5.5912e-01,\n",
       "         5.2451e+02, 3.1139e+00, 1.0564e+03, 2.6969e+00, 2.1229e+03, 2.1493e+00,\n",
       "         4.2977e+03, 5.2449e+00, 0.0000e+00, 0.0000e+00, 0.0000e+00, 0.0000e+00,\n",
       "         0.0000e+00, 0.0000e+00, 0.0000e+00, 0.0000e+00, 0.0000e+00, 0.0000e+00,\n",
       "         0.0000e+00, 0.0000e+00, 0.0000e+00],\n",
       "        [1.9439e-01, 1.6998e+00, 2.2960e+01, 3.2594e+00, 3.5535e+01, 1.3425e+00,\n",
       "         8.1988e+01, 1.5442e+01, 1.8186e+02, 1.7920e+00, 3.4773e+02, 1.0751e+01,\n",
       "         7.0584e+02, 5.1343e+00, 1.4225e+03, 3.4162e+00, 2.8416e+03, 5.9729e+00,\n",
       "         0.0000e+00, 0.0000e+00, 0.0000e+00, 0.0000e+00, 0.0000e+00, 0.0000e+00,\n",
       "         0.0000e+00, 0.0000e+00, 0.0000e+00, 0.0000e+00, 0.0000e+00, 0.0000e+00,\n",
       "         0.0000e+00, 0.0000e+00, 0.0000e+00],\n",
       "        [2.4822e+01, 1.4033e+01, 8.9059e+01, 5.1630e-01, 1.4228e+02, 8.4861e-01,\n",
       "         2.7451e+02, 3.4987e+00, 5.5187e+02, 2.2279e+00, 1.1043e+03, 1.9767e+00,\n",
       "         2.2167e+03, 8.4997e+00, 4.4424e+03, 4.7630e+00, 0.0000e+00, 0.0000e+00,\n",
       "         0.0000e+00, 0.0000e+00, 0.0000e+00, 0.0000e+00, 0.0000e+00, 0.0000e+00,\n",
       "         0.0000e+00, 0.0000e+00, 0.0000e+00, 0.0000e+00, 0.0000e+00, 0.0000e+00,\n",
       "         0.0000e+00, 0.0000e+00, 0.0000e+00]])"
      ]
     },
     "execution_count": 489,
     "metadata": {},
     "output_type": "execute_result"
    }
   ],
   "execution_count": 489
  },
  {
   "cell_type": "code",
   "id": "ebeff7928c6568e2",
   "metadata": {
    "ExecuteTime": {
     "end_time": "2025-01-01T23:24:44.327452Z",
     "start_time": "2025-01-01T23:24:44.111309Z"
    }
   },
   "source": [
    "  # Retrieve machine breakdown times and durations\n",
    "machine = 0\n",
    "breakdowns = td[\"machine_breakdowns\"][0,machine]\n",
    "breakdowns"
   ],
   "outputs": [
    {
     "data": {
      "text/plain": [
       "tensor([4.6538e+01, 5.0296e+00, 6.3100e+01, 1.0097e+01, 1.3300e+02, 6.9801e+00,\n",
       "        2.7412e+02, 1.0043e+00, 5.5139e+02, 9.9975e+00, 1.1137e+03, 7.5229e-02,\n",
       "        2.2202e+03, 8.8703e-01, 4.4504e+03, 3.7722e+00, 0.0000e+00, 0.0000e+00,\n",
       "        0.0000e+00, 0.0000e+00, 0.0000e+00, 0.0000e+00, 0.0000e+00, 0.0000e+00,\n",
       "        0.0000e+00, 0.0000e+00, 0.0000e+00, 0.0000e+00, 0.0000e+00, 0.0000e+00,\n",
       "        0.0000e+00, 0.0000e+00, 0.0000e+00])"
      ]
     },
     "execution_count": 490,
     "metadata": {},
     "output_type": "execute_result"
    }
   ],
   "execution_count": 490
  },
  {
   "cell_type": "code",
   "id": "5a965dbd5fd5137b",
   "metadata": {
    "ExecuteTime": {
     "end_time": "2025-01-01T23:24:44.611267Z",
     "start_time": "2025-01-01T23:24:44.382193Z"
    }
   },
   "source": [
    "breakdown_occurrences = breakdowns[::2]  # to get the only even indices (occurence times)\n",
    "breakdown_occurrences"
   ],
   "outputs": [
    {
     "data": {
      "text/plain": [
       "tensor([  46.5375,   63.1001,  132.9976,  274.1193,  551.3894, 1113.7128,\n",
       "        2220.1628, 4450.4224,    0.0000,    0.0000,    0.0000,    0.0000,\n",
       "           0.0000,    0.0000,    0.0000,    0.0000,    0.0000])"
      ]
     },
     "execution_count": 491,
     "metadata": {},
     "output_type": "execute_result"
    }
   ],
   "execution_count": 491
  },
  {
   "cell_type": "code",
   "id": "145dc69e963d2c29",
   "metadata": {
    "ExecuteTime": {
     "end_time": "2025-01-01T23:24:44.849102Z",
     "start_time": "2025-01-01T23:24:44.611267Z"
    }
   },
   "source": [
    "breakdown_durations = breakdowns[1::2]  # to get the only odd indices (durations)\n",
    "breakdown_durations"
   ],
   "outputs": [
    {
     "data": {
      "text/plain": [
       "tensor([ 5.0296, 10.0965,  6.9801,  1.0043,  9.9975,  0.0752,  0.8870,  3.7722,\n",
       "         0.0000,  0.0000,  0.0000,  0.0000,  0.0000,  0.0000,  0.0000,  0.0000])"
      ]
     },
     "execution_count": 492,
     "metadata": {},
     "output_type": "execute_result"
    }
   ],
   "execution_count": 492
  }
 ],
 "metadata": {
  "kernelspec": {
   "display_name": "Python 3 (ipykernel)",
   "language": "python",
   "name": "python3"
  },
  "language_info": {
   "codemirror_mode": {
    "name": "ipython",
    "version": 3
   },
   "file_extension": ".py",
   "mimetype": "text/x-python",
   "name": "python",
   "nbconvert_exporter": "python",
   "pygments_lexer": "ipython3",
   "version": "3.12.8"
  }
 },
 "nbformat": 4,
 "nbformat_minor": 5
}
