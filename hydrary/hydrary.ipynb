{
 "cells": [
  {
   "cell_type": "code",
   "id": "initial_id",
   "metadata": {
    "collapsed": true,
    "ExecuteTime": {
     "end_time": "2024-12-22T16:29:54.059383Z",
     "start_time": "2024-12-22T16:29:54.047834Z"
    }
   },
   "source": [
    "from hydra import compose, initialize\n",
    "from omegaconf import OmegaConf\n",
    "\n",
    "ROOT_DIR = \"\" # relative to this file"
   ],
   "outputs": [],
   "execution_count": 5
  },
  {
   "metadata": {
    "ExecuteTime": {
     "end_time": "2024-12-22T16:29:55.203202Z",
     "start_time": "2024-12-22T16:29:54.958568Z"
    }
   },
   "cell_type": "code",
   "source": [
    "# context initialization\n",
    "with initialize(version_base=None, config_path=ROOT_DIR+\"configs\"):\n",
    "    cfg = compose(config_name=\"main\")"
   ],
   "id": "a7934cae005bcb79",
   "outputs": [],
   "execution_count": 6
  },
  {
   "metadata": {
    "ExecuteTime": {
     "end_time": "2024-12-22T16:30:19.381551Z",
     "start_time": "2024-12-22T16:30:19.369485Z"
    }
   },
   "cell_type": "code",
   "source": "type(cfg)",
   "id": "ca3b17d88658ef17",
   "outputs": [
    {
     "data": {
      "text/plain": [
       "omegaconf.dictconfig.DictConfig"
      ]
     },
     "execution_count": 10,
     "metadata": {},
     "output_type": "execute_result"
    }
   ],
   "execution_count": 10
  },
  {
   "metadata": {
    "ExecuteTime": {
     "end_time": "2024-12-22T16:31:11.598083Z",
     "start_time": "2024-12-22T16:31:11.585690Z"
    }
   },
   "cell_type": "code",
   "source": "list(cfg.keys())",
   "id": "9aadb5fe506ff9d",
   "outputs": [
    {
     "data": {
      "text/plain": [
       "['mode',\n",
       " 'tags',\n",
       " 'train',\n",
       " 'test',\n",
       " 'compile',\n",
       " 'ckpt_path',\n",
       " 'seed',\n",
       " 'matmul_precision',\n",
       " 'model',\n",
       " 'callbacks',\n",
       " 'logger',\n",
       " 'trainer',\n",
       " 'paths',\n",
       " 'extras',\n",
       " 'env']"
      ]
     },
     "execution_count": 12,
     "metadata": {},
     "output_type": "execute_result"
    }
   ],
   "execution_count": 12
  },
  {
   "metadata": {
    "ExecuteTime": {
     "end_time": "2024-12-22T16:33:25.346075Z",
     "start_time": "2024-12-22T16:33:25.328358Z"
    }
   },
   "cell_type": "code",
   "source": "cfg['env']",
   "id": "710d2d21123cf514",
   "outputs": [
    {
     "data": {
      "text/plain": [
       "{'_target_': 'rl4co.envs.TSPEnv', 'name': 'tsp', 'generator_params': {'num_loc': 50, 'loc_distribution': 'uniform'}, 'data_dir': '${paths.root_dir}/data/tsp', 'val_file': 'tsp${env.generator_params.num_loc}_val_seed4321.npz', 'test_file': 'tsp${env.generator_params.num_loc}_test_seed1234.npz', 'check_solution': False}"
      ]
     },
     "execution_count": 15,
     "metadata": {},
     "output_type": "execute_result"
    }
   ],
   "execution_count": 15
  },
  {
   "metadata": {
    "ExecuteTime": {
     "end_time": "2024-12-22T16:36:57.191474Z",
     "start_time": "2024-12-22T16:36:57.178515Z"
    }
   },
   "cell_type": "code",
   "source": "cfg.env",
   "id": "c497dfa28394ec90",
   "outputs": [
    {
     "data": {
      "text/plain": [
       "{'_target_': 'rl4co.envs.TSPEnv', 'name': 'tsp', 'generator_params': {'num_loc': 50, 'loc_distribution': 'uniform'}, 'data_dir': '${paths.root_dir}/data/tsp', 'val_file': 'tsp${env.generator_params.num_loc}_val_seed4321.npz', 'test_file': 'tsp${env.generator_params.num_loc}_test_seed1234.npz', 'check_solution': False}"
      ]
     },
     "execution_count": 16,
     "metadata": {},
     "output_type": "execute_result"
    }
   ],
   "execution_count": 16
  },
  {
   "metadata": {
    "ExecuteTime": {
     "end_time": "2024-12-22T16:40:33.570151Z",
     "start_time": "2024-12-22T16:40:33.559860Z"
    }
   },
   "cell_type": "code",
   "source": "cfg.model",
   "id": "72b9e9f9b9ea308a",
   "outputs": [
    {
     "data": {
      "text/plain": [
       "{'generate_default_data': True, 'metrics': {'train': ['loss', 'reward'], 'val': ['reward'], 'test': ['reward'], 'log_on_step': True}, '_target_': 'rl4co.models.AttentionModel', 'baseline': 'rollout', 'batch_size': 512, 'val_batch_size': 1024, 'test_batch_size': 1024, 'train_data_size': 1280000, 'val_data_size': 10000, 'test_data_size': 10000, 'optimizer_kwargs': {'lr': 0.0001}}"
      ]
     },
     "execution_count": 17,
     "metadata": {},
     "output_type": "execute_result"
    }
   ],
   "execution_count": 17
  },
  {
   "metadata": {
    "ExecuteTime": {
     "end_time": "2024-12-22T16:43:07.781423Z",
     "start_time": "2024-12-22T16:43:07.771282Z"
    }
   },
   "cell_type": "code",
   "source": "print(OmegaConf.to_yaml(cfg.model))",
   "id": "e402c5f6b47b30c4",
   "outputs": [
    {
     "name": "stdout",
     "output_type": "stream",
     "text": [
      "generate_default_data: true\n",
      "metrics:\n",
      "  train:\n",
      "  - loss\n",
      "  - reward\n",
      "  val:\n",
      "  - reward\n",
      "  test:\n",
      "  - reward\n",
      "  log_on_step: true\n",
      "_target_: rl4co.models.AttentionModel\n",
      "baseline: rollout\n",
      "batch_size: 512\n",
      "val_batch_size: 1024\n",
      "test_batch_size: 1024\n",
      "train_data_size: 1280000\n",
      "val_data_size: 10000\n",
      "test_data_size: 10000\n",
      "optimizer_kwargs:\n",
      "  lr: 0.0001\n",
      "\n"
     ]
    }
   ],
   "execution_count": 20
  }
 ],
 "metadata": {
  "kernelspec": {
   "display_name": "Python 3",
   "language": "python",
   "name": "python3"
  },
  "language_info": {
   "codemirror_mode": {
    "name": "ipython",
    "version": 2
   },
   "file_extension": ".py",
   "mimetype": "text/x-python",
   "name": "python",
   "nbconvert_exporter": "python",
   "pygments_lexer": "ipython2",
   "version": "2.7.6"
  }
 },
 "nbformat": 4,
 "nbformat_minor": 5
}
